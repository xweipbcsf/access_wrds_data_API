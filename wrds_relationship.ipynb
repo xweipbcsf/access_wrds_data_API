{
 "cells": [
  {
   "cell_type": "code",
   "execution_count": 1,
   "metadata": {},
   "outputs": [],
   "source": [
    "import pandas as pd\n",
    "import numpy as np\n",
    "import pylab\n",
    "import datetime as dt\n",
    "import networkx as nx\n",
    "import matplotlib.pyplot as plt\n",
    "import seaborn as sns; sns.set(color_codes=True)"
   ]
  },
  {
   "cell_type": "code",
   "execution_count": 2,
   "metadata": {},
   "outputs": [],
   "source": [
    "raw = pd.read_pickle('wrds_relationship')\n",
    "#raw.info()"
   ]
  },
  {
   "cell_type": "code",
   "execution_count": 3,
   "metadata": {},
   "outputs": [
    {
     "name": "stdout",
     "output_type": "stream",
     "text": [
      "<class 'pandas.core.frame.DataFrame'>\n",
      "RangeIndex: 2090566 entries, 0 to 2090565\n",
      "Data columns (total 35 columns):\n",
      "start                          datetime64[ns]\n",
      "end                            datetime64[ns]\n",
      "rev_                           float64\n",
      "id                             object\n",
      "rel_type                       object\n",
      "source_company_id              object\n",
      "target_company_id              object\n",
      "subsidiaries                   object\n",
      "revenue_percent                float64\n",
      "percent_estimated              object\n",
      "source_company_subsidiaries    object\n",
      "target_company_subsidiaries    object\n",
      "source_name                    object\n",
      "source_ticker                  object\n",
      "source_cusip                   object\n",
      "source_isin                    object\n",
      "source_sedol                   object\n",
      "target_name                    object\n",
      "target_ticker                  object\n",
      "target_cusip                   object\n",
      "target_isin                    object\n",
      "target_sedol                   object\n",
      "relationship_id                object\n",
      "source_company_keyword         object\n",
      "target_company_keyword         object\n",
      "keyword1                       object\n",
      "keyword2                       object\n",
      "keyword3                       object\n",
      "keyword4                       object\n",
      "keyword5                       object\n",
      "keyword6                       object\n",
      "keyword7                       object\n",
      "keyword8                       object\n",
      "keyword9                       object\n",
      "keyword10                      object\n",
      "dtypes: datetime64[ns](2), float64(2), object(31)\n",
      "memory usage: 558.2+ MB\n"
     ]
    }
   ],
   "source": [
    "raw.info()"
   ]
  },
  {
   "cell_type": "code",
   "execution_count": 7,
   "metadata": {},
   "outputs": [],
   "source": [
    "raw_compid = raw[['source_company_id','target_company_id', 'source_ticker','target_ticker']]"
   ]
  },
  {
   "cell_type": "code",
   "execution_count": 8,
   "metadata": {},
   "outputs": [
    {
     "data": {
      "text/html": [
       "<div>\n",
       "<style scoped>\n",
       "    .dataframe tbody tr th:only-of-type {\n",
       "        vertical-align: middle;\n",
       "    }\n",
       "\n",
       "    .dataframe tbody tr th {\n",
       "        vertical-align: top;\n",
       "    }\n",
       "\n",
       "    .dataframe thead th {\n",
       "        text-align: right;\n",
       "    }\n",
       "</style>\n",
       "<table border=\"1\" class=\"dataframe\">\n",
       "  <thead>\n",
       "    <tr style=\"text-align: right;\">\n",
       "      <th></th>\n",
       "      <th>source_company_id</th>\n",
       "      <th>target_company_id</th>\n",
       "      <th>source_ticker</th>\n",
       "      <th>target_ticker</th>\n",
       "    </tr>\n",
       "  </thead>\n",
       "  <tbody>\n",
       "    <tr>\n",
       "      <th>0</th>\n",
       "      <td>194517865</td>\n",
       "      <td>194526071</td>\n",
       "      <td>OMI-CA</td>\n",
       "      <td>PBR-CA</td>\n",
       "    </tr>\n",
       "    <tr>\n",
       "      <th>1</th>\n",
       "      <td>1919323</td>\n",
       "      <td>1503347</td>\n",
       "      <td>None</td>\n",
       "      <td>HO-FR</td>\n",
       "    </tr>\n",
       "    <tr>\n",
       "      <th>2</th>\n",
       "      <td>1919323</td>\n",
       "      <td>1881542</td>\n",
       "      <td>None</td>\n",
       "      <td>3898-HK</td>\n",
       "    </tr>\n",
       "    <tr>\n",
       "      <th>3</th>\n",
       "      <td>1919323</td>\n",
       "      <td>6059160</td>\n",
       "      <td>None</td>\n",
       "      <td>None</td>\n",
       "    </tr>\n",
       "    <tr>\n",
       "      <th>4</th>\n",
       "      <td>1919323</td>\n",
       "      <td>6059160</td>\n",
       "      <td>None</td>\n",
       "      <td>None</td>\n",
       "    </tr>\n",
       "  </tbody>\n",
       "</table>\n",
       "</div>"
      ],
      "text/plain": [
       "  source_company_id target_company_id source_ticker target_ticker\n",
       "0         194517865         194526071        OMI-CA        PBR-CA\n",
       "1           1919323           1503347          None         HO-FR\n",
       "2           1919323           1881542          None       3898-HK\n",
       "3           1919323           6059160          None          None\n",
       "4           1919323           6059160          None          None"
      ]
     },
     "execution_count": 8,
     "metadata": {},
     "output_type": "execute_result"
    }
   ],
   "source": [
    "raw_compid.head()"
   ]
  },
  {
   "cell_type": "code",
   "execution_count": 10,
   "metadata": {},
   "outputs": [
    {
     "data": {
      "text/plain": [
       "(32276, 197652)"
      ]
     },
     "execution_count": 10,
     "metadata": {},
     "output_type": "execute_result"
    }
   ],
   "source": [
    "len(raw_compid['source_company_id'].unique()),len(raw_compid['target_company_id'].unique())"
   ]
  },
  {
   "cell_type": "code",
   "execution_count": 5,
   "metadata": {},
   "outputs": [],
   "source": [
    "raw_compin0 = raw_compid.dropna()"
   ]
  },
  {
   "cell_type": "code",
   "execution_count": 6,
   "metadata": {},
   "outputs": [
    {
     "name": "stdout",
     "output_type": "stream",
     "text": [
      "<class 'pandas.core.frame.DataFrame'>\n",
      "Int64Index: 920724 entries, 0 to 2090565\n",
      "Data columns (total 4 columns):\n",
      "source_company_id    920724 non-null object\n",
      "target_company_id    920724 non-null object\n",
      "source_ticker        920724 non-null object\n",
      "target_ticker        920724 non-null object\n",
      "dtypes: object(4)\n",
      "memory usage: 35.1+ MB\n"
     ]
    }
   ],
   "source": [
    "raw_compin0.info()"
   ]
  },
  {
   "cell_type": "code",
   "execution_count": 11,
   "metadata": {},
   "outputs": [
    {
     "data": {
      "text/plain": [
       "array(['194517865', '1919323', '7954', ..., '9953', '8382393', '6583204'],\n",
       "      dtype=object)"
      ]
     },
     "execution_count": 11,
     "metadata": {},
     "output_type": "execute_result"
    }
   ],
   "source": [
    "raw_compid['source_company_id'].unique()"
   ]
  },
  {
   "cell_type": "code",
   "execution_count": 5,
   "metadata": {},
   "outputs": [
    {
     "name": "stdout",
     "output_type": "stream",
     "text": [
      "<class 'pandas.core.frame.DataFrame'>\n",
      "RangeIndex: 2090566 entries, 0 to 2090565\n",
      "Data columns (total 4 columns):\n",
      "source_company_id    object\n",
      "target_company_id    object\n",
      "source_ticker        object\n",
      "target_ticker        object\n",
      "dtypes: object(4)\n",
      "memory usage: 63.8+ MB\n"
     ]
    }
   ],
   "source": [
    "raw_compid.info()"
   ]
  },
  {
   "cell_type": "code",
   "execution_count": 4,
   "metadata": {},
   "outputs": [
    {
     "data": {
      "text/html": [
       "<div>\n",
       "<style scoped>\n",
       "    .dataframe tbody tr th:only-of-type {\n",
       "        vertical-align: middle;\n",
       "    }\n",
       "\n",
       "    .dataframe tbody tr th {\n",
       "        vertical-align: top;\n",
       "    }\n",
       "\n",
       "    .dataframe thead th {\n",
       "        text-align: right;\n",
       "    }\n",
       "</style>\n",
       "<table border=\"1\" class=\"dataframe\">\n",
       "  <thead>\n",
       "    <tr style=\"text-align: right;\">\n",
       "      <th></th>\n",
       "      <th>source_company_id</th>\n",
       "      <th>target_company_id</th>\n",
       "      <th>source_ticker</th>\n",
       "      <th>target_ticker</th>\n",
       "    </tr>\n",
       "  </thead>\n",
       "  <tbody>\n",
       "    <tr>\n",
       "      <th>0</th>\n",
       "      <td>194517865</td>\n",
       "      <td>194526071</td>\n",
       "      <td>OMI-CA</td>\n",
       "      <td>PBR-CA</td>\n",
       "    </tr>\n",
       "    <tr>\n",
       "      <th>1</th>\n",
       "      <td>1919323</td>\n",
       "      <td>1503347</td>\n",
       "      <td>None</td>\n",
       "      <td>HO-FR</td>\n",
       "    </tr>\n",
       "    <tr>\n",
       "      <th>2</th>\n",
       "      <td>1919323</td>\n",
       "      <td>1881542</td>\n",
       "      <td>None</td>\n",
       "      <td>3898-HK</td>\n",
       "    </tr>\n",
       "    <tr>\n",
       "      <th>3</th>\n",
       "      <td>1919323</td>\n",
       "      <td>6059160</td>\n",
       "      <td>None</td>\n",
       "      <td>None</td>\n",
       "    </tr>\n",
       "    <tr>\n",
       "      <th>4</th>\n",
       "      <td>1919323</td>\n",
       "      <td>6059160</td>\n",
       "      <td>None</td>\n",
       "      <td>None</td>\n",
       "    </tr>\n",
       "  </tbody>\n",
       "</table>\n",
       "</div>"
      ],
      "text/plain": [
       "  source_company_id target_company_id source_ticker target_ticker\n",
       "0         194517865         194526071        OMI-CA        PBR-CA\n",
       "1           1919323           1503347          None         HO-FR\n",
       "2           1919323           1881542          None       3898-HK\n",
       "3           1919323           6059160          None          None\n",
       "4           1919323           6059160          None          None"
      ]
     },
     "execution_count": 4,
     "metadata": {},
     "output_type": "execute_result"
    }
   ],
   "source": [
    "raw_compid.head()"
   ]
  },
  {
   "cell_type": "code",
   "execution_count": 29,
   "metadata": {},
   "outputs": [],
   "source": [
    "# raw['end_'] = pd.to_datetime(raw['end_'], errors = 'coerce').dt.date\n",
    "# raw['start_'] = pd.to_datetime(raw['start_']).dt.date\n",
    "# raw['end_'] = raw['end_'].fillna('2017-08-10')\n",
    "# raw = raw.rename(columns={\"start_\": \"start\", \"end_\": \"end\"})\n",
    "# raw['start'] = pd.to_datetime(raw[\"start\"])\n",
    "# raw['end'] = pd.to_datetime(raw[\"end\"])"
   ]
  },
  {
   "cell_type": "code",
   "execution_count": 3,
   "metadata": {},
   "outputs": [
    {
     "name": "stdout",
     "output_type": "stream",
     "text": [
      "<class 'pandas.core.frame.DataFrame'>\n",
      "RangeIndex: 2090566 entries, 0 to 2090565\n",
      "Data columns (total 35 columns):\n",
      "start                          datetime64[ns]\n",
      "end                            datetime64[ns]\n",
      "rev_                           float64\n",
      "id                             object\n",
      "rel_type                       object\n",
      "source_company_id              object\n",
      "target_company_id              object\n",
      "subsidiaries                   object\n",
      "revenue_percent                float64\n",
      "percent_estimated              object\n",
      "source_company_subsidiaries    object\n",
      "target_company_subsidiaries    object\n",
      "source_name                    object\n",
      "source_ticker                  object\n",
      "source_cusip                   object\n",
      "source_isin                    object\n",
      "source_sedol                   object\n",
      "target_name                    object\n",
      "target_ticker                  object\n",
      "target_cusip                   object\n",
      "target_isin                    object\n",
      "target_sedol                   object\n",
      "relationship_id                object\n",
      "source_company_keyword         object\n",
      "target_company_keyword         object\n",
      "keyword1                       object\n",
      "keyword2                       object\n",
      "keyword3                       object\n",
      "keyword4                       object\n",
      "keyword5                       object\n",
      "keyword6                       object\n",
      "keyword7                       object\n",
      "keyword8                       object\n",
      "keyword9                       object\n",
      "keyword10                      object\n",
      "dtypes: datetime64[ns](2), float64(2), object(31)\n",
      "memory usage: 558.2+ MB\n"
     ]
    }
   ],
   "source": [
    "raw.info()"
   ]
  },
  {
   "cell_type": "code",
   "execution_count": 6,
   "metadata": {},
   "outputs": [],
   "source": [
    "cus = pd.read_pickle('customers_clean.pkl')"
   ]
  },
  {
   "cell_type": "code",
   "execution_count": 10,
   "metadata": {},
   "outputs": [],
   "source": [
    "sup = pd.read_pickle('suppliers_clean.pkl')"
   ]
  },
  {
   "cell_type": "code",
   "execution_count": 11,
   "metadata": {},
   "outputs": [
    {
     "name": "stdout",
     "output_type": "stream",
     "text": [
      "<class 'pandas.core.frame.DataFrame'>\n",
      "RangeIndex: 63236 entries, 0 to 63235\n",
      "Data columns (total 8 columns):\n",
      "id               63236 non-null object\n",
      "start            63236 non-null datetime64[ns]\n",
      "end              63236 non-null datetime64[ns]\n",
      "rel_type         63236 non-null object\n",
      "source_ticker    63236 non-null object\n",
      "target_ticker    63236 non-null object\n",
      "source_cusip     63236 non-null object\n",
      "target_cusip     63236 non-null object\n",
      "dtypes: datetime64[ns](2), object(6)\n",
      "memory usage: 3.9+ MB\n"
     ]
    }
   ],
   "source": [
    "sup.info()"
   ]
  },
  {
   "cell_type": "code",
   "execution_count": 12,
   "metadata": {},
   "outputs": [],
   "source": [
    "G = nx.from_pandas_edgelist(sup, 'source_ticker', 'target_ticker', create_using = nx.DiGraph())"
   ]
  },
  {
   "cell_type": "code",
   "execution_count": 13,
   "metadata": {},
   "outputs": [
    {
     "data": {
      "text/plain": [
       "15925"
      ]
     },
     "execution_count": 13,
     "metadata": {},
     "output_type": "execute_result"
    }
   ],
   "source": [
    "len(G.nodes())"
   ]
  },
  {
   "cell_type": "code",
   "execution_count": 14,
   "metadata": {},
   "outputs": [],
   "source": [
    "raw_0 = raw[['id','start','end','rel_type','source_ticker','source_cusip','target_ticker','target_cusip']]\n",
    "#raw_0.info()"
   ]
  },
  {
   "cell_type": "code",
   "execution_count": 15,
   "metadata": {},
   "outputs": [
    {
     "data": {
      "text/html": [
       "<div>\n",
       "<style scoped>\n",
       "    .dataframe tbody tr th:only-of-type {\n",
       "        vertical-align: middle;\n",
       "    }\n",
       "\n",
       "    .dataframe tbody tr th {\n",
       "        vertical-align: top;\n",
       "    }\n",
       "\n",
       "    .dataframe thead th {\n",
       "        text-align: right;\n",
       "    }\n",
       "</style>\n",
       "<table border=\"1\" class=\"dataframe\">\n",
       "  <thead>\n",
       "    <tr style=\"text-align: right;\">\n",
       "      <th></th>\n",
       "      <th>id</th>\n",
       "      <th>start</th>\n",
       "      <th>end</th>\n",
       "      <th>rel_type</th>\n",
       "      <th>source_ticker</th>\n",
       "      <th>source_cusip</th>\n",
       "      <th>target_ticker</th>\n",
       "      <th>target_cusip</th>\n",
       "    </tr>\n",
       "  </thead>\n",
       "  <tbody>\n",
       "    <tr>\n",
       "      <th>0</th>\n",
       "      <td>COMP-100000146</td>\n",
       "      <td>2016-11-03</td>\n",
       "      <td>2017-08-10</td>\n",
       "      <td>COMPETITOR</td>\n",
       "      <td>OMI-CA</td>\n",
       "      <td>687196105</td>\n",
       "      <td>PBR-CA</td>\n",
       "      <td>69889L104</td>\n",
       "    </tr>\n",
       "    <tr>\n",
       "      <th>1</th>\n",
       "      <td>COMP-100003419</td>\n",
       "      <td>2016-11-03</td>\n",
       "      <td>2017-08-10</td>\n",
       "      <td>COMPETITOR</td>\n",
       "      <td>None</td>\n",
       "      <td>None</td>\n",
       "      <td>HO-FR</td>\n",
       "      <td>F9156M108</td>\n",
       "    </tr>\n",
       "    <tr>\n",
       "      <th>2</th>\n",
       "      <td>COMP-100005033</td>\n",
       "      <td>2016-11-03</td>\n",
       "      <td>2017-08-10</td>\n",
       "      <td>COMPETITOR</td>\n",
       "      <td>None</td>\n",
       "      <td>None</td>\n",
       "      <td>3898-HK</td>\n",
       "      <td>Y9892N104</td>\n",
       "    </tr>\n",
       "    <tr>\n",
       "      <th>3</th>\n",
       "      <td>COMP-100005156</td>\n",
       "      <td>2016-11-03</td>\n",
       "      <td>2016-11-03</td>\n",
       "      <td>COMPETITOR</td>\n",
       "      <td>None</td>\n",
       "      <td>None</td>\n",
       "      <td>None</td>\n",
       "      <td>None</td>\n",
       "    </tr>\n",
       "    <tr>\n",
       "      <th>4</th>\n",
       "      <td>COMP-100005156</td>\n",
       "      <td>2016-11-03</td>\n",
       "      <td>2016-11-03</td>\n",
       "      <td>COMPETITOR</td>\n",
       "      <td>None</td>\n",
       "      <td>None</td>\n",
       "      <td>None</td>\n",
       "      <td>None</td>\n",
       "    </tr>\n",
       "  </tbody>\n",
       "</table>\n",
       "</div>"
      ],
      "text/plain": [
       "               id      start        end    rel_type source_ticker  \\\n",
       "0  COMP-100000146 2016-11-03 2017-08-10  COMPETITOR        OMI-CA   \n",
       "1  COMP-100003419 2016-11-03 2017-08-10  COMPETITOR          None   \n",
       "2  COMP-100005033 2016-11-03 2017-08-10  COMPETITOR          None   \n",
       "3  COMP-100005156 2016-11-03 2016-11-03  COMPETITOR          None   \n",
       "4  COMP-100005156 2016-11-03 2016-11-03  COMPETITOR          None   \n",
       "\n",
       "  source_cusip target_ticker target_cusip  \n",
       "0    687196105        PBR-CA    69889L104  \n",
       "1         None         HO-FR    F9156M108  \n",
       "2         None       3898-HK    Y9892N104  \n",
       "3         None          None         None  \n",
       "4         None          None         None  "
      ]
     },
     "execution_count": 15,
     "metadata": {},
     "output_type": "execute_result"
    }
   ],
   "source": [
    "raw_0.head()"
   ]
  },
  {
   "cell_type": "code",
   "execution_count": 18,
   "metadata": {},
   "outputs": [
    {
     "name": "stdout",
     "output_type": "stream",
     "text": [
      "<class 'pandas.core.frame.DataFrame'>\n",
      "Int64Index: 920673 entries, 0 to 2090565\n",
      "Data columns (total 8 columns):\n",
      "id               920673 non-null object\n",
      "start            920673 non-null datetime64[ns]\n",
      "end              920673 non-null datetime64[ns]\n",
      "rel_type         920673 non-null object\n",
      "source_ticker    920673 non-null object\n",
      "source_cusip     920673 non-null object\n",
      "target_ticker    920673 non-null object\n",
      "target_cusip     920673 non-null object\n",
      "dtypes: datetime64[ns](2), object(6)\n",
      "memory usage: 63.2+ MB\n"
     ]
    }
   ],
   "source": [
    "raw_0 = raw_0.dropna()\n",
    "raw_0.info()"
   ]
  },
  {
   "cell_type": "code",
   "execution_count": 61,
   "metadata": {},
   "outputs": [
    {
     "data": {
      "text/plain": [
       "array(['COMPETITOR', 'CUSTOMER', 'PARTNER-INVESTO', 'PARTNER-EINVEST',\n",
       "       'PARTNER-LICENOT', 'PARTNER-JVENTUR', 'PARTNER-LICENIN',\n",
       "       'PARTNER-DISTRIB', 'PARTNER-RESCOLB', 'PARTNER-MANUFAC',\n",
       "       'PARTNER-INTPROD', 'PARTNER-MARKTNG', 'PARTNER-TECHNGY',\n",
       "       'PARTNER-NA', 'PARTNER-PLICENS', 'SUPPLIER'], dtype=object)"
      ]
     },
     "execution_count": 61,
     "metadata": {},
     "output_type": "execute_result"
    }
   ],
   "source": [
    "raw_0['rel_type'].unique()"
   ]
  },
  {
   "cell_type": "code",
   "execution_count": 75,
   "metadata": {},
   "outputs": [],
   "source": [
    "raw_customers = raw_0.loc[raw_0['rel_type'] == 'CUSTOMER']"
   ]
  },
  {
   "cell_type": "code",
   "execution_count": 19,
   "metadata": {},
   "outputs": [],
   "source": [
    "raw_suppliers = raw_0.loc[raw_0['rel_type'] == 'SUPPLIER']"
   ]
  },
  {
   "cell_type": "code",
   "execution_count": 91,
   "metadata": {},
   "outputs": [],
   "source": [
    "raw_suppliers = raw_suppliers.rename(columns={\"source_ticker\": \"target_ticker\", \"source_cusip\": \"target_cusip\", \n",
    "                                              \"target_ticker\": \"source_ticker\", \"target_cusip\": \"source_cusip\"})"
   ]
  },
  {
   "cell_type": "code",
   "execution_count": 95,
   "metadata": {},
   "outputs": [],
   "source": [
    "raw_suppliers = raw_suppliers[['id', 'start','end','rel_type','source_ticker', 'target_ticker','source_cusip','target_cusip']]"
   ]
  },
  {
   "cell_type": "code",
   "execution_count": 97,
   "metadata": {},
   "outputs": [],
   "source": [
    "raw_suppliers['rel_type'] = 'CUSTOMER'"
   ]
  },
  {
   "cell_type": "code",
   "execution_count": 20,
   "metadata": {},
   "outputs": [
    {
     "data": {
      "text/html": [
       "<div>\n",
       "<style scoped>\n",
       "    .dataframe tbody tr th:only-of-type {\n",
       "        vertical-align: middle;\n",
       "    }\n",
       "\n",
       "    .dataframe tbody tr th {\n",
       "        vertical-align: top;\n",
       "    }\n",
       "\n",
       "    .dataframe thead th {\n",
       "        text-align: right;\n",
       "    }\n",
       "</style>\n",
       "<table border=\"1\" class=\"dataframe\">\n",
       "  <thead>\n",
       "    <tr style=\"text-align: right;\">\n",
       "      <th></th>\n",
       "      <th>id</th>\n",
       "      <th>start</th>\n",
       "      <th>end</th>\n",
       "      <th>rel_type</th>\n",
       "      <th>source_ticker</th>\n",
       "      <th>source_cusip</th>\n",
       "      <th>target_ticker</th>\n",
       "      <th>target_cusip</th>\n",
       "    </tr>\n",
       "  </thead>\n",
       "  <tbody>\n",
       "    <tr>\n",
       "      <th>1834567</th>\n",
       "      <td>SUPPL-100001674</td>\n",
       "      <td>2016-11-03</td>\n",
       "      <td>2017-08-10</td>\n",
       "      <td>SUPPLIER</td>\n",
       "      <td>4924-JP</td>\n",
       "      <td>J12459103</td>\n",
       "      <td>JNJ</td>\n",
       "      <td>478160104</td>\n",
       "    </tr>\n",
       "    <tr>\n",
       "      <th>1834568</th>\n",
       "      <td>SUPPL-100001696</td>\n",
       "      <td>2016-11-03</td>\n",
       "      <td>2017-08-10</td>\n",
       "      <td>SUPPLIER</td>\n",
       "      <td>OANDO-NG</td>\n",
       "      <td>V6796A108</td>\n",
       "      <td>SEPL-GB</td>\n",
       "      <td>V78799109</td>\n",
       "    </tr>\n",
       "    <tr>\n",
       "      <th>1834569</th>\n",
       "      <td>SUPPL-100002304</td>\n",
       "      <td>2016-11-03</td>\n",
       "      <td>2017-08-10</td>\n",
       "      <td>SUPPLIER</td>\n",
       "      <td>GGBL-GH</td>\n",
       "      <td>V4162X109</td>\n",
       "      <td>GUINNESS-NG</td>\n",
       "      <td>V4164L103</td>\n",
       "    </tr>\n",
       "    <tr>\n",
       "      <th>1834570</th>\n",
       "      <td>SUPPL-100002463</td>\n",
       "      <td>2016-11-03</td>\n",
       "      <td>2017-08-10</td>\n",
       "      <td>SUPPLIER</td>\n",
       "      <td>GGBL-GH</td>\n",
       "      <td>V4162X109</td>\n",
       "      <td>DGE-GB</td>\n",
       "      <td>G42089113</td>\n",
       "    </tr>\n",
       "    <tr>\n",
       "      <th>1834571</th>\n",
       "      <td>SUPPL-100004507</td>\n",
       "      <td>2016-11-03</td>\n",
       "      <td>2016-11-03</td>\n",
       "      <td>SUPPLIER</td>\n",
       "      <td>ELECMETAL-CL</td>\n",
       "      <td>P2577D103</td>\n",
       "      <td>COPEC-CL</td>\n",
       "      <td>P7847L108</td>\n",
       "    </tr>\n",
       "  </tbody>\n",
       "</table>\n",
       "</div>"
      ],
      "text/plain": [
       "                      id      start        end  rel_type source_ticker  \\\n",
       "1834567  SUPPL-100001674 2016-11-03 2017-08-10  SUPPLIER       4924-JP   \n",
       "1834568  SUPPL-100001696 2016-11-03 2017-08-10  SUPPLIER      OANDO-NG   \n",
       "1834569  SUPPL-100002304 2016-11-03 2017-08-10  SUPPLIER       GGBL-GH   \n",
       "1834570  SUPPL-100002463 2016-11-03 2017-08-10  SUPPLIER       GGBL-GH   \n",
       "1834571  SUPPL-100004507 2016-11-03 2016-11-03  SUPPLIER  ELECMETAL-CL   \n",
       "\n",
       "        source_cusip target_ticker target_cusip  \n",
       "1834567    J12459103           JNJ    478160104  \n",
       "1834568    V6796A108       SEPL-GB    V78799109  \n",
       "1834569    V4162X109   GUINNESS-NG    V4164L103  \n",
       "1834570    V4162X109        DGE-GB    G42089113  \n",
       "1834571    P2577D103      COPEC-CL    P7847L108  "
      ]
     },
     "execution_count": 20,
     "metadata": {},
     "output_type": "execute_result"
    }
   ],
   "source": [
    "raw_suppliers.head()"
   ]
  },
  {
   "cell_type": "code",
   "execution_count": 98,
   "metadata": {},
   "outputs": [
    {
     "data": {
      "text/html": [
       "<div>\n",
       "<style scoped>\n",
       "    .dataframe tbody tr th:only-of-type {\n",
       "        vertical-align: middle;\n",
       "    }\n",
       "\n",
       "    .dataframe tbody tr th {\n",
       "        vertical-align: top;\n",
       "    }\n",
       "\n",
       "    .dataframe thead th {\n",
       "        text-align: right;\n",
       "    }\n",
       "</style>\n",
       "<table border=\"1\" class=\"dataframe\">\n",
       "  <thead>\n",
       "    <tr style=\"text-align: right;\">\n",
       "      <th></th>\n",
       "      <th>id</th>\n",
       "      <th>start</th>\n",
       "      <th>end</th>\n",
       "      <th>rel_type</th>\n",
       "      <th>source_ticker</th>\n",
       "      <th>target_ticker</th>\n",
       "      <th>source_cusip</th>\n",
       "      <th>target_cusip</th>\n",
       "    </tr>\n",
       "  </thead>\n",
       "  <tbody>\n",
       "    <tr>\n",
       "      <th>1834567</th>\n",
       "      <td>SUPPL-100001674</td>\n",
       "      <td>2016-11-03</td>\n",
       "      <td>2017-08-10</td>\n",
       "      <td>CUSTOMER</td>\n",
       "      <td>JNJ</td>\n",
       "      <td>4924-JP</td>\n",
       "      <td>478160104</td>\n",
       "      <td>J12459103</td>\n",
       "    </tr>\n",
       "    <tr>\n",
       "      <th>1834568</th>\n",
       "      <td>SUPPL-100001696</td>\n",
       "      <td>2016-11-03</td>\n",
       "      <td>2017-08-10</td>\n",
       "      <td>CUSTOMER</td>\n",
       "      <td>SEPL-GB</td>\n",
       "      <td>OANDO-NG</td>\n",
       "      <td>V78799109</td>\n",
       "      <td>V6796A108</td>\n",
       "    </tr>\n",
       "    <tr>\n",
       "      <th>1834569</th>\n",
       "      <td>SUPPL-100002304</td>\n",
       "      <td>2016-11-03</td>\n",
       "      <td>2017-08-10</td>\n",
       "      <td>CUSTOMER</td>\n",
       "      <td>GUINNESS-NG</td>\n",
       "      <td>GGBL-GH</td>\n",
       "      <td>V4164L103</td>\n",
       "      <td>V4162X109</td>\n",
       "    </tr>\n",
       "    <tr>\n",
       "      <th>1834570</th>\n",
       "      <td>SUPPL-100002463</td>\n",
       "      <td>2016-11-03</td>\n",
       "      <td>2017-08-10</td>\n",
       "      <td>CUSTOMER</td>\n",
       "      <td>DGE-GB</td>\n",
       "      <td>GGBL-GH</td>\n",
       "      <td>G42089113</td>\n",
       "      <td>V4162X109</td>\n",
       "    </tr>\n",
       "    <tr>\n",
       "      <th>1834571</th>\n",
       "      <td>SUPPL-100004507</td>\n",
       "      <td>2016-11-03</td>\n",
       "      <td>2016-11-03</td>\n",
       "      <td>CUSTOMER</td>\n",
       "      <td>COPEC-CL</td>\n",
       "      <td>ELECMETAL-CL</td>\n",
       "      <td>P7847L108</td>\n",
       "      <td>P2577D103</td>\n",
       "    </tr>\n",
       "  </tbody>\n",
       "</table>\n",
       "</div>"
      ],
      "text/plain": [
       "                      id      start        end  rel_type source_ticker  \\\n",
       "1834567  SUPPL-100001674 2016-11-03 2017-08-10  CUSTOMER           JNJ   \n",
       "1834568  SUPPL-100001696 2016-11-03 2017-08-10  CUSTOMER       SEPL-GB   \n",
       "1834569  SUPPL-100002304 2016-11-03 2017-08-10  CUSTOMER   GUINNESS-NG   \n",
       "1834570  SUPPL-100002463 2016-11-03 2017-08-10  CUSTOMER        DGE-GB   \n",
       "1834571  SUPPL-100004507 2016-11-03 2016-11-03  CUSTOMER      COPEC-CL   \n",
       "\n",
       "        target_ticker source_cusip target_cusip  \n",
       "1834567       4924-JP    478160104    J12459103  \n",
       "1834568      OANDO-NG    V78799109    V6796A108  \n",
       "1834569       GGBL-GH    V4164L103    V4162X109  \n",
       "1834570       GGBL-GH    G42089113    V4162X109  \n",
       "1834571  ELECMETAL-CL    P7847L108    P2577D103  "
      ]
     },
     "execution_count": 98,
     "metadata": {},
     "output_type": "execute_result"
    }
   ],
   "source": [
    "raw_suppliers.head()"
   ]
  },
  {
   "cell_type": "code",
   "execution_count": 99,
   "metadata": {},
   "outputs": [],
   "source": [
    "raw_suppliers.to_pickle('suppliers.pkl')"
   ]
  },
  {
   "cell_type": "code",
   "execution_count": 76,
   "metadata": {},
   "outputs": [],
   "source": [
    "raw_customers.to_pickle('customers.pkl')"
   ]
  },
  {
   "cell_type": "code",
   "execution_count": 77,
   "metadata": {},
   "outputs": [],
   "source": [
    "raw_customers = pd.read_pickle('customers.pkl')"
   ]
  },
  {
   "cell_type": "code",
   "execution_count": 100,
   "metadata": {},
   "outputs": [
    {
     "data": {
      "text/plain": [
       "pandas.core.series.Series"
      ]
     },
     "execution_count": 100,
     "metadata": {},
     "output_type": "execute_result"
    }
   ],
   "source": [
    "type(raw_suppliers['end'])"
   ]
  },
  {
   "cell_type": "code",
   "execution_count": 101,
   "metadata": {},
   "outputs": [
    {
     "name": "stdout",
     "output_type": "stream",
     "text": [
      "<class 'pandas.core.frame.DataFrame'>\n",
      "Int64Index: 111139 entries, 1834567 to 2090565\n",
      "Data columns (total 8 columns):\n",
      "id               111139 non-null object\n",
      "start            111139 non-null datetime64[ns]\n",
      "end              111139 non-null datetime64[ns]\n",
      "rel_type         111139 non-null object\n",
      "source_ticker    111139 non-null object\n",
      "target_ticker    111139 non-null object\n",
      "source_cusip     111139 non-null object\n",
      "target_cusip     111139 non-null object\n",
      "dtypes: datetime64[ns](2), object(6)\n",
      "memory usage: 7.6+ MB\n"
     ]
    }
   ],
   "source": [
    "raw_suppliers.info()"
   ]
  },
  {
   "cell_type": "code",
   "execution_count": null,
   "metadata": {},
   "outputs": [],
   "source": []
  }
 ],
 "metadata": {
  "kernelspec": {
   "display_name": "Python 3",
   "language": "python",
   "name": "python3"
  },
  "language_info": {
   "codemirror_mode": {
    "name": "ipython",
    "version": 3
   },
   "file_extension": ".py",
   "mimetype": "text/x-python",
   "name": "python",
   "nbconvert_exporter": "python",
   "pygments_lexer": "ipython3",
   "version": "3.6.6"
  }
 },
 "nbformat": 4,
 "nbformat_minor": 2
}
