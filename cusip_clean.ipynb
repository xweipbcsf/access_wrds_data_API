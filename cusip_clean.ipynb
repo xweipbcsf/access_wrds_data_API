{
 "cells": [
  {
   "cell_type": "code",
   "execution_count": 1,
   "metadata": {},
   "outputs": [],
   "source": [
    "import pandas as pd\n",
    "import numpy as np\n",
    "import pylab\n",
    "import datetime as dt\n",
    "import networkx as nx\n",
    "import matplotlib.pyplot as plt\n",
    "import seaborn as sns; sns.set(color_codes=True)"
   ]
  },
  {
   "cell_type": "code",
   "execution_count": 2,
   "metadata": {},
   "outputs": [],
   "source": [
    "sup_cus = pd.read_pickle('raw_sup_cus_clean.pkl')"
   ]
  },
  {
   "cell_type": "code",
   "execution_count": 4,
   "metadata": {},
   "outputs": [
    {
     "name": "stdout",
     "output_type": "stream",
     "text": [
      "<class 'pandas.core.frame.DataFrame'>\n",
      "RangeIndex: 521962 entries, 0 to 521961\n",
      "Data columns (total 8 columns):\n",
      "id               521962 non-null object\n",
      "start            521962 non-null datetime64[ns]\n",
      "end              521962 non-null datetime64[ns]\n",
      "rel_type         521962 non-null object\n",
      "source_ticker    383420 non-null object\n",
      "target_ticker    321642 non-null object\n",
      "source_cusip     383980 non-null object\n",
      "target_cusip     322669 non-null object\n",
      "dtypes: datetime64[ns](2), object(6)\n",
      "memory usage: 31.9+ MB\n"
     ]
    }
   ],
   "source": [
    "sup_cus.info()"
   ]
  },
  {
   "cell_type": "code",
   "execution_count": 3,
   "metadata": {},
   "outputs": [
    {
     "data": {
      "text/html": [
       "<div>\n",
       "<style scoped>\n",
       "    .dataframe tbody tr th:only-of-type {\n",
       "        vertical-align: middle;\n",
       "    }\n",
       "\n",
       "    .dataframe tbody tr th {\n",
       "        vertical-align: top;\n",
       "    }\n",
       "\n",
       "    .dataframe thead th {\n",
       "        text-align: right;\n",
       "    }\n",
       "</style>\n",
       "<table border=\"1\" class=\"dataframe\">\n",
       "  <thead>\n",
       "    <tr style=\"text-align: right;\">\n",
       "      <th></th>\n",
       "      <th>id</th>\n",
       "      <th>start</th>\n",
       "      <th>end</th>\n",
       "      <th>rel_type</th>\n",
       "      <th>source_ticker</th>\n",
       "      <th>target_ticker</th>\n",
       "      <th>source_cusip</th>\n",
       "      <th>target_cusip</th>\n",
       "    </tr>\n",
       "  </thead>\n",
       "  <tbody>\n",
       "    <tr>\n",
       "      <th>0</th>\n",
       "      <td>CUST-10394-6477</td>\n",
       "      <td>2003-04-27</td>\n",
       "      <td>2005-06-15</td>\n",
       "      <td>CUSTOMER</td>\n",
       "      <td>None</td>\n",
       "      <td>None</td>\n",
       "      <td>None</td>\n",
       "      <td>None</td>\n",
       "    </tr>\n",
       "    <tr>\n",
       "      <th>1</th>\n",
       "      <td>CUST-10408-1145</td>\n",
       "      <td>2003-04-03</td>\n",
       "      <td>2003-07-13</td>\n",
       "      <td>CUSTOMER</td>\n",
       "      <td>None</td>\n",
       "      <td>None</td>\n",
       "      <td>None</td>\n",
       "      <td>None</td>\n",
       "    </tr>\n",
       "    <tr>\n",
       "      <th>2</th>\n",
       "      <td>CUST-10435-313</td>\n",
       "      <td>2003-04-27</td>\n",
       "      <td>2005-06-15</td>\n",
       "      <td>CUSTOMER</td>\n",
       "      <td>None</td>\n",
       "      <td>None</td>\n",
       "      <td>None</td>\n",
       "      <td>None</td>\n",
       "    </tr>\n",
       "    <tr>\n",
       "      <th>3</th>\n",
       "      <td>CUST-11159-7280</td>\n",
       "      <td>2003-07-13</td>\n",
       "      <td>2004-06-23</td>\n",
       "      <td>CUSTOMER</td>\n",
       "      <td>None</td>\n",
       "      <td>None</td>\n",
       "      <td>None</td>\n",
       "      <td>None</td>\n",
       "    </tr>\n",
       "    <tr>\n",
       "      <th>4</th>\n",
       "      <td>CUST-11232-11627</td>\n",
       "      <td>2007-06-27</td>\n",
       "      <td>2008-08-02</td>\n",
       "      <td>CUSTOMER</td>\n",
       "      <td>None</td>\n",
       "      <td>None</td>\n",
       "      <td>None</td>\n",
       "      <td>None</td>\n",
       "    </tr>\n",
       "  </tbody>\n",
       "</table>\n",
       "</div>"
      ],
      "text/plain": [
       "                 id      start        end  rel_type source_ticker  \\\n",
       "0   CUST-10394-6477 2003-04-27 2005-06-15  CUSTOMER          None   \n",
       "1   CUST-10408-1145 2003-04-03 2003-07-13  CUSTOMER          None   \n",
       "2    CUST-10435-313 2003-04-27 2005-06-15  CUSTOMER          None   \n",
       "3   CUST-11159-7280 2003-07-13 2004-06-23  CUSTOMER          None   \n",
       "4  CUST-11232-11627 2007-06-27 2008-08-02  CUSTOMER          None   \n",
       "\n",
       "  target_ticker source_cusip target_cusip  \n",
       "0          None         None         None  \n",
       "1          None         None         None  \n",
       "2          None         None         None  \n",
       "3          None         None         None  \n",
       "4          None         None         None  "
      ]
     },
     "execution_count": 3,
     "metadata": {},
     "output_type": "execute_result"
    }
   ],
   "source": [
    "sup_cus.head()"
   ]
  },
  {
   "cell_type": "code",
   "execution_count": 5,
   "metadata": {},
   "outputs": [],
   "source": [
    "cusip_clean = sup_cus.dropna(subset = ['source_cusip','target_cusip'])"
   ]
  },
  {
   "cell_type": "code",
   "execution_count": 7,
   "metadata": {},
   "outputs": [],
   "source": [
    "cusip_clean.to_pickle('cusip_clean.pkl')"
   ]
  },
  {
   "cell_type": "code",
   "execution_count": 6,
   "metadata": {},
   "outputs": [
    {
     "name": "stdout",
     "output_type": "stream",
     "text": [
      "<class 'pandas.core.frame.DataFrame'>\n",
      "Int64Index: 228521 entries, 25 to 521961\n",
      "Data columns (total 8 columns):\n",
      "id               228521 non-null object\n",
      "start            228521 non-null datetime64[ns]\n",
      "end              228521 non-null datetime64[ns]\n",
      "rel_type         228521 non-null object\n",
      "source_ticker    228150 non-null object\n",
      "target_ticker    227840 non-null object\n",
      "source_cusip     228521 non-null object\n",
      "target_cusip     228521 non-null object\n",
      "dtypes: datetime64[ns](2), object(6)\n",
      "memory usage: 15.7+ MB\n"
     ]
    }
   ],
   "source": [
    "cusip_clean.info()"
   ]
  },
  {
   "cell_type": "code",
   "execution_count": null,
   "metadata": {},
   "outputs": [],
   "source": []
  }
 ],
 "metadata": {
  "kernelspec": {
   "display_name": "Python 3",
   "language": "python",
   "name": "python3"
  },
  "language_info": {
   "codemirror_mode": {
    "name": "ipython",
    "version": 3
   },
   "file_extension": ".py",
   "mimetype": "text/x-python",
   "name": "python",
   "nbconvert_exporter": "python",
   "pygments_lexer": "ipython3",
   "version": "3.6.6"
  }
 },
 "nbformat": 4,
 "nbformat_minor": 2
}
