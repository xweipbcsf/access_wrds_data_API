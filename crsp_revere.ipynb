{
 "cells": [
  {
   "cell_type": "markdown",
   "metadata": {},
   "source": [
    "# revere"
   ]
  },
  {
   "cell_type": "code",
   "execution_count": 1,
   "metadata": {},
   "outputs": [],
   "source": [
    "import pandas as pd\n",
    "import numpy as np\n",
    "import pylab\n",
    "import datetime as dt\n",
    "import networkx as nx\n",
    "import matplotlib.pyplot as plt\n",
    "import seaborn as sns; sns.set(color_codes=True)"
   ]
  },
  {
   "cell_type": "code",
   "execution_count": 205,
   "metadata": {},
   "outputs": [],
   "source": [
    "df_customers = pd.read_pickle('customers_clean.pkl')\n",
    "df_suppliers = pd.read_pickle('suppliers_clean.pkl')\n",
    "df = pd.concat([df_customers, df_suppliers])\n",
    "#df = df[df['start'] != df['end']]"
   ]
  },
  {
   "cell_type": "code",
   "execution_count": 206,
   "metadata": {},
   "outputs": [
    {
     "data": {
      "text/html": [
       "<div>\n",
       "<style scoped>\n",
       "    .dataframe tbody tr th:only-of-type {\n",
       "        vertical-align: middle;\n",
       "    }\n",
       "\n",
       "    .dataframe tbody tr th {\n",
       "        vertical-align: top;\n",
       "    }\n",
       "\n",
       "    .dataframe thead th {\n",
       "        text-align: right;\n",
       "    }\n",
       "</style>\n",
       "<table border=\"1\" class=\"dataframe\">\n",
       "  <thead>\n",
       "    <tr style=\"text-align: right;\">\n",
       "      <th></th>\n",
       "      <th>id</th>\n",
       "      <th>start</th>\n",
       "      <th>end</th>\n",
       "      <th>rel_type</th>\n",
       "      <th>source_ticker</th>\n",
       "      <th>target_ticker</th>\n",
       "      <th>source_cusip</th>\n",
       "      <th>target_cusip</th>\n",
       "    </tr>\n",
       "  </thead>\n",
       "  <tbody>\n",
       "    <tr>\n",
       "      <th>0</th>\n",
       "      <td>CUST-100000247</td>\n",
       "      <td>2016-11-03</td>\n",
       "      <td>2017-08-10</td>\n",
       "      <td>CUSTOMER</td>\n",
       "      <td>IW5-SG</td>\n",
       "      <td>ADRO-ID</td>\n",
       "      <td>Y7693G104</td>\n",
       "      <td>Y7087B109</td>\n",
       "    </tr>\n",
       "    <tr>\n",
       "      <th>1</th>\n",
       "      <td>CUST-100000500</td>\n",
       "      <td>2016-11-03</td>\n",
       "      <td>2017-08-10</td>\n",
       "      <td>CUSTOMER</td>\n",
       "      <td>IW5-SG</td>\n",
       "      <td>INTP-ID</td>\n",
       "      <td>Y7693G104</td>\n",
       "      <td>Y7127B135</td>\n",
       "    </tr>\n",
       "    <tr>\n",
       "      <th>2</th>\n",
       "      <td>CUST-100001093</td>\n",
       "      <td>2016-11-03</td>\n",
       "      <td>2017-08-10</td>\n",
       "      <td>CUSTOMER</td>\n",
       "      <td>OANDO-NG</td>\n",
       "      <td>XOM</td>\n",
       "      <td>V6796A108</td>\n",
       "      <td>30231G102</td>\n",
       "    </tr>\n",
       "    <tr>\n",
       "      <th>3</th>\n",
       "      <td>CUST-100001232</td>\n",
       "      <td>2016-11-03</td>\n",
       "      <td>2017-08-10</td>\n",
       "      <td>CUSTOMER</td>\n",
       "      <td>533278-IN</td>\n",
       "      <td>500470-IN</td>\n",
       "      <td>Y1668L107</td>\n",
       "      <td>Y8547N139</td>\n",
       "    </tr>\n",
       "    <tr>\n",
       "      <th>4</th>\n",
       "      <td>CUST-100001451</td>\n",
       "      <td>2016-11-03</td>\n",
       "      <td>2017-08-10</td>\n",
       "      <td>CUSTOMER</td>\n",
       "      <td>533278-IN</td>\n",
       "      <td>526371-IN</td>\n",
       "      <td>Y1668L107</td>\n",
       "      <td>Y6223W100</td>\n",
       "    </tr>\n",
       "  </tbody>\n",
       "</table>\n",
       "</div>"
      ],
      "text/plain": [
       "               id      start        end  rel_type source_ticker target_ticker  \\\n",
       "0  CUST-100000247 2016-11-03 2017-08-10  CUSTOMER        IW5-SG       ADRO-ID   \n",
       "1  CUST-100000500 2016-11-03 2017-08-10  CUSTOMER        IW5-SG       INTP-ID   \n",
       "2  CUST-100001093 2016-11-03 2017-08-10  CUSTOMER      OANDO-NG           XOM   \n",
       "3  CUST-100001232 2016-11-03 2017-08-10  CUSTOMER     533278-IN     500470-IN   \n",
       "4  CUST-100001451 2016-11-03 2017-08-10  CUSTOMER     533278-IN     526371-IN   \n",
       "\n",
       "  source_cusip target_cusip  \n",
       "0    Y7693G104    Y7087B109  \n",
       "1    Y7693G104    Y7127B135  \n",
       "2    V6796A108    30231G102  \n",
       "3    Y1668L107    Y8547N139  \n",
       "4    Y1668L107    Y6223W100  "
      ]
     },
     "execution_count": 206,
     "metadata": {},
     "output_type": "execute_result"
    }
   ],
   "source": [
    "df.head()"
   ]
  },
  {
   "cell_type": "code",
   "execution_count": 207,
   "metadata": {},
   "outputs": [
    {
     "name": "stdout",
     "output_type": "stream",
     "text": [
      "<class 'pandas.core.frame.DataFrame'>\n",
      "Int64Index: 227499 entries, 0 to 63235\n",
      "Data columns (total 8 columns):\n",
      "id               227499 non-null object\n",
      "start            227499 non-null datetime64[ns]\n",
      "end              227499 non-null datetime64[ns]\n",
      "rel_type         227499 non-null object\n",
      "source_ticker    227499 non-null object\n",
      "target_ticker    227499 non-null object\n",
      "source_cusip     227499 non-null object\n",
      "target_cusip     227499 non-null object\n",
      "dtypes: datetime64[ns](2), object(6)\n",
      "memory usage: 15.6+ MB\n"
     ]
    }
   ],
   "source": [
    "df.info()"
   ]
  },
  {
   "cell_type": "code",
   "execution_count": 208,
   "metadata": {},
   "outputs": [
    {
     "data": {
      "text/html": [
       "<div>\n",
       "<style scoped>\n",
       "    .dataframe tbody tr th:only-of-type {\n",
       "        vertical-align: middle;\n",
       "    }\n",
       "\n",
       "    .dataframe tbody tr th {\n",
       "        vertical-align: top;\n",
       "    }\n",
       "\n",
       "    .dataframe thead th {\n",
       "        text-align: right;\n",
       "    }\n",
       "</style>\n",
       "<table border=\"1\" class=\"dataframe\">\n",
       "  <thead>\n",
       "    <tr style=\"text-align: right;\">\n",
       "      <th></th>\n",
       "      <th>source_ticker</th>\n",
       "    </tr>\n",
       "    <tr>\n",
       "      <th>source_cusip</th>\n",
       "      <th></th>\n",
       "    </tr>\n",
       "  </thead>\n",
       "  <tbody>\n",
       "    <tr>\n",
       "      <th>Y7693G104</th>\n",
       "      <td>IW5-SG</td>\n",
       "    </tr>\n",
       "    <tr>\n",
       "      <th>V6796A108</th>\n",
       "      <td>OANDO-NG</td>\n",
       "    </tr>\n",
       "    <tr>\n",
       "      <th>Y1668L107</th>\n",
       "      <td>533278-IN</td>\n",
       "    </tr>\n",
       "    <tr>\n",
       "      <th>J12459103</th>\n",
       "      <td>4924-JP</td>\n",
       "    </tr>\n",
       "    <tr>\n",
       "      <th>K07774126</th>\n",
       "      <td>BO-DK</td>\n",
       "    </tr>\n",
       "  </tbody>\n",
       "</table>\n",
       "</div>"
      ],
      "text/plain": [
       "             source_ticker\n",
       "source_cusip              \n",
       "Y7693G104           IW5-SG\n",
       "V6796A108         OANDO-NG\n",
       "Y1668L107        533278-IN\n",
       "J12459103          4924-JP\n",
       "K07774126            BO-DK"
      ]
     },
     "execution_count": 208,
     "metadata": {},
     "output_type": "execute_result"
    }
   ],
   "source": [
    "source = df[['source_cusip','source_ticker']]\n",
    "#source['cusip_8'] = source['source_cusip'].str[:8]\n",
    "#source = source.rename(columns = {'cusip_8':'cusip'})\n",
    "source = source.drop_duplicates(subset = 'source_cusip')\n",
    "source = source.set_index('source_cusip')\n",
    "source.head()"
   ]
  },
  {
   "cell_type": "code",
   "execution_count": 69,
   "metadata": {},
   "outputs": [
    {
     "name": "stdout",
     "output_type": "stream",
     "text": [
      "<class 'pandas.core.frame.DataFrame'>\n",
      "Index: 17100 entries, Y7693G10 to Q6630H10\n",
      "Data columns (total 1 columns):\n",
      "source_cusip    17100 non-null object\n",
      "dtypes: object(1)\n",
      "memory usage: 267.2+ KB\n"
     ]
    }
   ],
   "source": [
    "source.info()"
   ]
  },
  {
   "cell_type": "code",
   "execution_count": 209,
   "metadata": {},
   "outputs": [
    {
     "data": {
      "text/html": [
       "<div>\n",
       "<style scoped>\n",
       "    .dataframe tbody tr th:only-of-type {\n",
       "        vertical-align: middle;\n",
       "    }\n",
       "\n",
       "    .dataframe tbody tr th {\n",
       "        vertical-align: top;\n",
       "    }\n",
       "\n",
       "    .dataframe thead th {\n",
       "        text-align: right;\n",
       "    }\n",
       "</style>\n",
       "<table border=\"1\" class=\"dataframe\">\n",
       "  <thead>\n",
       "    <tr style=\"text-align: right;\">\n",
       "      <th></th>\n",
       "      <th>target_ticker</th>\n",
       "    </tr>\n",
       "    <tr>\n",
       "      <th>target_cusip</th>\n",
       "      <th></th>\n",
       "    </tr>\n",
       "  </thead>\n",
       "  <tbody>\n",
       "    <tr>\n",
       "      <th>Y7087B109</th>\n",
       "      <td>ADRO-ID</td>\n",
       "    </tr>\n",
       "    <tr>\n",
       "      <th>Y7127B135</th>\n",
       "      <td>INTP-ID</td>\n",
       "    </tr>\n",
       "    <tr>\n",
       "      <th>30231G102</th>\n",
       "      <td>XOM</td>\n",
       "    </tr>\n",
       "    <tr>\n",
       "      <th>Y8547N139</th>\n",
       "      <td>500470-IN</td>\n",
       "    </tr>\n",
       "    <tr>\n",
       "      <th>Y6223W100</th>\n",
       "      <td>526371-IN</td>\n",
       "    </tr>\n",
       "  </tbody>\n",
       "</table>\n",
       "</div>"
      ],
      "text/plain": [
       "             target_ticker\n",
       "target_cusip              \n",
       "Y7087B109          ADRO-ID\n",
       "Y7127B135          INTP-ID\n",
       "30231G102              XOM\n",
       "Y8547N139        500470-IN\n",
       "Y6223W100        526371-IN"
      ]
     },
     "execution_count": 209,
     "metadata": {},
     "output_type": "execute_result"
    }
   ],
   "source": [
    "target = df[['target_cusip','target_ticker']]\n",
    "# target['cusip'] = target['target_cusip'].str[:8]\n",
    "#target = target.rename(columns = {'target_cusip':'cusip'})\n",
    "target = target.drop_duplicates(subset = 'target_cusip')\n",
    "target = target.set_index('target_cusip')\n",
    "target.head()"
   ]
  },
  {
   "cell_type": "code",
   "execution_count": 71,
   "metadata": {},
   "outputs": [
    {
     "name": "stdout",
     "output_type": "stream",
     "text": [
      "<class 'pandas.core.frame.DataFrame'>\n",
      "Index: 19050 entries, Y7087B10 to N3070G10\n",
      "Data columns (total 1 columns):\n",
      "target_cusip    19050 non-null object\n",
      "dtypes: object(1)\n",
      "memory usage: 297.7+ KB\n"
     ]
    }
   ],
   "source": [
    "target.info()"
   ]
  },
  {
   "cell_type": "code",
   "execution_count": 210,
   "metadata": {},
   "outputs": [],
   "source": [
    "cusip_all = pd.concat([source, target], axis =1, sort=False)\n",
    "cusip_all = cusip_all.reset_index()\n",
    "cusip_all = cusip_all.drop_duplicates(subset = 'index')"
   ]
  },
  {
   "cell_type": "code",
   "execution_count": 211,
   "metadata": {},
   "outputs": [],
   "source": [
    "cusip_all = cusip_all.set_index('index')"
   ]
  },
  {
   "cell_type": "code",
   "execution_count": 212,
   "metadata": {},
   "outputs": [
    {
     "data": {
      "text/plain": [
       "23718"
      ]
     },
     "execution_count": 212,
     "metadata": {},
     "output_type": "execute_result"
    }
   ],
   "source": [
    "len(cusip_all.index.unique())"
   ]
  },
  {
   "cell_type": "code",
   "execution_count": 213,
   "metadata": {},
   "outputs": [
    {
     "name": "stdout",
     "output_type": "stream",
     "text": [
      "<class 'pandas.core.frame.DataFrame'>\n",
      "Index: 23718 entries, Y7693G104 to N3070G108\n",
      "Data columns (total 2 columns):\n",
      "source_ticker    17128 non-null object\n",
      "target_ticker    19088 non-null object\n",
      "dtypes: object(2)\n",
      "memory usage: 555.9+ KB\n"
     ]
    }
   ],
   "source": [
    "cusip_all.info()"
   ]
  },
  {
   "cell_type": "code",
   "execution_count": 214,
   "metadata": {},
   "outputs": [
    {
     "data": {
      "text/html": [
       "<div>\n",
       "<style scoped>\n",
       "    .dataframe tbody tr th:only-of-type {\n",
       "        vertical-align: middle;\n",
       "    }\n",
       "\n",
       "    .dataframe tbody tr th {\n",
       "        vertical-align: top;\n",
       "    }\n",
       "\n",
       "    .dataframe thead th {\n",
       "        text-align: right;\n",
       "    }\n",
       "</style>\n",
       "<table border=\"1\" class=\"dataframe\">\n",
       "  <thead>\n",
       "    <tr style=\"text-align: right;\">\n",
       "      <th></th>\n",
       "      <th>source_ticker</th>\n",
       "      <th>target_ticker</th>\n",
       "    </tr>\n",
       "    <tr>\n",
       "      <th>index</th>\n",
       "      <th></th>\n",
       "      <th></th>\n",
       "    </tr>\n",
       "  </thead>\n",
       "  <tbody>\n",
       "    <tr>\n",
       "      <th>Y7693G104</th>\n",
       "      <td>IW5-SG</td>\n",
       "      <td>NaN</td>\n",
       "    </tr>\n",
       "    <tr>\n",
       "      <th>V6796A108</th>\n",
       "      <td>OANDO-NG</td>\n",
       "      <td>OANDO-NG</td>\n",
       "    </tr>\n",
       "    <tr>\n",
       "      <th>Y1668L107</th>\n",
       "      <td>533278-IN</td>\n",
       "      <td>533278-IN</td>\n",
       "    </tr>\n",
       "    <tr>\n",
       "      <th>J12459103</th>\n",
       "      <td>4924-JP</td>\n",
       "      <td>4924-JP</td>\n",
       "    </tr>\n",
       "    <tr>\n",
       "      <th>K07774126</th>\n",
       "      <td>BO-DK</td>\n",
       "      <td>BO-DK</td>\n",
       "    </tr>\n",
       "  </tbody>\n",
       "</table>\n",
       "</div>"
      ],
      "text/plain": [
       "          source_ticker target_ticker\n",
       "index                                \n",
       "Y7693G104        IW5-SG           NaN\n",
       "V6796A108      OANDO-NG      OANDO-NG\n",
       "Y1668L107     533278-IN     533278-IN\n",
       "J12459103       4924-JP       4924-JP\n",
       "K07774126         BO-DK         BO-DK"
      ]
     },
     "execution_count": 214,
     "metadata": {},
     "output_type": "execute_result"
    }
   ],
   "source": [
    "cusip_all.head()"
   ]
  },
  {
   "cell_type": "markdown",
   "metadata": {},
   "source": [
    "# crsp"
   ]
  },
  {
   "cell_type": "code",
   "execution_count": 83,
   "metadata": {},
   "outputs": [],
   "source": [
    "ncusip = pd.read_sas('ncusip.sas7bdat', encoding='iso-8859-1')\n",
    "#ncusip['ncusip'] = sic['CUSIP']\n",
    "#sic['ticker'] = sic['TICKER']"
   ]
  },
  {
   "cell_type": "code",
   "execution_count": 84,
   "metadata": {},
   "outputs": [],
   "source": [
    "ncusip['ncusip'] = ncusip['NCUSIP']\n",
    "ncusip['ticker'] = ncusip['TICKER']\n",
    "ncusip = ncusip.drop_duplicates(subset='ncusip', keep='first')"
   ]
  },
  {
   "cell_type": "code",
   "execution_count": 85,
   "metadata": {},
   "outputs": [],
   "source": [
    "ncusip = ncusip.set_index('ncusip')"
   ]
  },
  {
   "cell_type": "code",
   "execution_count": 86,
   "metadata": {},
   "outputs": [
    {
     "name": "stdout",
     "output_type": "stream",
     "text": [
      "<class 'pandas.core.frame.DataFrame'>\n",
      "Index: 18819 entries, 29274A10 to 88160R10\n",
      "Data columns (total 7 columns):\n",
      "PERMNO    18819 non-null float64\n",
      "DATE      18819 non-null datetime64[ns]\n",
      "CUSIP     18819 non-null object\n",
      "NCUSIP    18818 non-null object\n",
      "TICKER    18394 non-null object\n",
      "SICCD     18810 non-null float64\n",
      "ticker    18394 non-null object\n",
      "dtypes: datetime64[ns](1), float64(2), object(4)\n",
      "memory usage: 1.1+ MB\n"
     ]
    }
   ],
   "source": [
    "ncusip.info()"
   ]
  },
  {
   "cell_type": "code",
   "execution_count": 87,
   "metadata": {},
   "outputs": [
    {
     "data": {
      "text/html": [
       "<div>\n",
       "<style scoped>\n",
       "    .dataframe tbody tr th:only-of-type {\n",
       "        vertical-align: middle;\n",
       "    }\n",
       "\n",
       "    .dataframe tbody tr th {\n",
       "        vertical-align: top;\n",
       "    }\n",
       "\n",
       "    .dataframe thead th {\n",
       "        text-align: right;\n",
       "    }\n",
       "</style>\n",
       "<table border=\"1\" class=\"dataframe\">\n",
       "  <thead>\n",
       "    <tr style=\"text-align: right;\">\n",
       "      <th></th>\n",
       "      <th>PERMNO</th>\n",
       "      <th>DATE</th>\n",
       "      <th>CUSIP</th>\n",
       "      <th>NCUSIP</th>\n",
       "      <th>TICKER</th>\n",
       "      <th>SICCD</th>\n",
       "      <th>ticker</th>\n",
       "    </tr>\n",
       "    <tr>\n",
       "      <th>ncusip</th>\n",
       "      <th></th>\n",
       "      <th></th>\n",
       "      <th></th>\n",
       "      <th></th>\n",
       "      <th></th>\n",
       "      <th></th>\n",
       "      <th></th>\n",
       "    </tr>\n",
       "  </thead>\n",
       "  <tbody>\n",
       "    <tr>\n",
       "      <th>29274A10</th>\n",
       "      <td>10001.0</td>\n",
       "      <td>2003-01-31</td>\n",
       "      <td>36720410</td>\n",
       "      <td>29274A10</td>\n",
       "      <td>EWST</td>\n",
       "      <td>4920.0</td>\n",
       "      <td>EWST</td>\n",
       "    </tr>\n",
       "    <tr>\n",
       "      <th>29274A20</th>\n",
       "      <td>10001.0</td>\n",
       "      <td>2008-02-29</td>\n",
       "      <td>36720410</td>\n",
       "      <td>29274A20</td>\n",
       "      <td>EWST</td>\n",
       "      <td>4920.0</td>\n",
       "      <td>EWST</td>\n",
       "    </tr>\n",
       "    <tr>\n",
       "      <th>29269V10</th>\n",
       "      <td>10001.0</td>\n",
       "      <td>2009-08-31</td>\n",
       "      <td>36720410</td>\n",
       "      <td>29269V10</td>\n",
       "      <td>EGAS</td>\n",
       "      <td>4920.0</td>\n",
       "      <td>EGAS</td>\n",
       "    </tr>\n",
       "    <tr>\n",
       "      <th>36720410</th>\n",
       "      <td>10001.0</td>\n",
       "      <td>2010-07-30</td>\n",
       "      <td>36720410</td>\n",
       "      <td>36720410</td>\n",
       "      <td>EGAS</td>\n",
       "      <td>4925.0</td>\n",
       "      <td>EGAS</td>\n",
       "    </tr>\n",
       "    <tr>\n",
       "      <th>05978R10</th>\n",
       "      <td>10002.0</td>\n",
       "      <td>2003-01-31</td>\n",
       "      <td>05978R10</td>\n",
       "      <td>05978R10</td>\n",
       "      <td>BTFG</td>\n",
       "      <td>6020.0</td>\n",
       "      <td>BTFG</td>\n",
       "    </tr>\n",
       "  </tbody>\n",
       "</table>\n",
       "</div>"
      ],
      "text/plain": [
       "           PERMNO       DATE     CUSIP    NCUSIP TICKER   SICCD ticker\n",
       "ncusip                                                                \n",
       "29274A10  10001.0 2003-01-31  36720410  29274A10   EWST  4920.0   EWST\n",
       "29274A20  10001.0 2008-02-29  36720410  29274A20   EWST  4920.0   EWST\n",
       "29269V10  10001.0 2009-08-31  36720410  29269V10   EGAS  4920.0   EGAS\n",
       "36720410  10001.0 2010-07-30  36720410  36720410   EGAS  4925.0   EGAS\n",
       "05978R10  10002.0 2003-01-31  05978R10  05978R10   BTFG  6020.0   BTFG"
      ]
     },
     "execution_count": 87,
     "metadata": {},
     "output_type": "execute_result"
    }
   ],
   "source": [
    "ncusip.head()"
   ]
  },
  {
   "cell_type": "markdown",
   "metadata": {},
   "source": [
    "# ncusip"
   ]
  },
  {
   "cell_type": "code",
   "execution_count": 88,
   "metadata": {},
   "outputs": [],
   "source": [
    "df_ncusip = pd.concat([cusip_all, ncusip], axis =1, join='inner')"
   ]
  },
  {
   "cell_type": "code",
   "execution_count": 89,
   "metadata": {},
   "outputs": [
    {
     "data": {
      "text/html": [
       "<div>\n",
       "<style scoped>\n",
       "    .dataframe tbody tr th:only-of-type {\n",
       "        vertical-align: middle;\n",
       "    }\n",
       "\n",
       "    .dataframe tbody tr th {\n",
       "        vertical-align: top;\n",
       "    }\n",
       "\n",
       "    .dataframe thead th {\n",
       "        text-align: right;\n",
       "    }\n",
       "</style>\n",
       "<table border=\"1\" class=\"dataframe\">\n",
       "  <thead>\n",
       "    <tr style=\"text-align: right;\">\n",
       "      <th></th>\n",
       "      <th>source_cusip</th>\n",
       "      <th>target_cusip</th>\n",
       "      <th>PERMNO</th>\n",
       "      <th>DATE</th>\n",
       "      <th>CUSIP</th>\n",
       "      <th>NCUSIP</th>\n",
       "      <th>TICKER</th>\n",
       "      <th>SICCD</th>\n",
       "      <th>ticker</th>\n",
       "    </tr>\n",
       "  </thead>\n",
       "  <tbody>\n",
       "    <tr>\n",
       "      <th>63040210</th>\n",
       "      <td>630402105</td>\n",
       "      <td>630402105</td>\n",
       "      <td>55993.0</td>\n",
       "      <td>2003-01-31</td>\n",
       "      <td>63040210</td>\n",
       "      <td>63040210</td>\n",
       "      <td>NSSC</td>\n",
       "      <td>3662.0</td>\n",
       "      <td>NSSC</td>\n",
       "    </tr>\n",
       "    <tr>\n",
       "      <th>71361F10</th>\n",
       "      <td>71361F100</td>\n",
       "      <td>71361F100</td>\n",
       "      <td>77868.0</td>\n",
       "      <td>2003-01-31</td>\n",
       "      <td>71361F10</td>\n",
       "      <td>71361F10</td>\n",
       "      <td>PRCP</td>\n",
       "      <td>3820.0</td>\n",
       "      <td>PRCP</td>\n",
       "    </tr>\n",
       "    <tr>\n",
       "      <th>03783310</th>\n",
       "      <td>037833100</td>\n",
       "      <td>037833100</td>\n",
       "      <td>14593.0</td>\n",
       "      <td>2003-01-31</td>\n",
       "      <td>03783310</td>\n",
       "      <td>03783310</td>\n",
       "      <td>AAPL</td>\n",
       "      <td>3573.0</td>\n",
       "      <td>AAPL</td>\n",
       "    </tr>\n",
       "    <tr>\n",
       "      <th>87891920</th>\n",
       "      <td>878919208</td>\n",
       "      <td>878919208</td>\n",
       "      <td>86787.0</td>\n",
       "      <td>2003-01-31</td>\n",
       "      <td>87891920</td>\n",
       "      <td>87891920</td>\n",
       "      <td>TEKC</td>\n",
       "      <td>7370.0</td>\n",
       "      <td>TEKC</td>\n",
       "    </tr>\n",
       "    <tr>\n",
       "      <th>87238210</th>\n",
       "      <td>872382106</td>\n",
       "      <td>NaN</td>\n",
       "      <td>74246.0</td>\n",
       "      <td>2003-01-31</td>\n",
       "      <td>87238210</td>\n",
       "      <td>87238210</td>\n",
       "      <td>TELOZ</td>\n",
       "      <td>6792.0</td>\n",
       "      <td>TELOZ</td>\n",
       "    </tr>\n",
       "  </tbody>\n",
       "</table>\n",
       "</div>"
      ],
      "text/plain": [
       "         source_cusip target_cusip   PERMNO       DATE     CUSIP    NCUSIP  \\\n",
       "63040210    630402105    630402105  55993.0 2003-01-31  63040210  63040210   \n",
       "71361F10    71361F100    71361F100  77868.0 2003-01-31  71361F10  71361F10   \n",
       "03783310    037833100    037833100  14593.0 2003-01-31  03783310  03783310   \n",
       "87891920    878919208    878919208  86787.0 2003-01-31  87891920  87891920   \n",
       "87238210    872382106          NaN  74246.0 2003-01-31  87238210  87238210   \n",
       "\n",
       "         TICKER   SICCD ticker  \n",
       "63040210   NSSC  3662.0   NSSC  \n",
       "71361F10   PRCP  3820.0   PRCP  \n",
       "03783310   AAPL  3573.0   AAPL  \n",
       "87891920   TEKC  7370.0   TEKC  \n",
       "87238210  TELOZ  6792.0  TELOZ  "
      ]
     },
     "execution_count": 89,
     "metadata": {},
     "output_type": "execute_result"
    }
   ],
   "source": [
    "df_ncusip.head()"
   ]
  },
  {
   "cell_type": "code",
   "execution_count": 90,
   "metadata": {},
   "outputs": [
    {
     "name": "stdout",
     "output_type": "stream",
     "text": [
      "<class 'pandas.core.frame.DataFrame'>\n",
      "Index: 5137 entries, 63040210 to 75025X10\n",
      "Data columns (total 9 columns):\n",
      "source_cusip    4207 non-null object\n",
      "target_cusip    4555 non-null object\n",
      "PERMNO          5137 non-null float64\n",
      "DATE            5137 non-null datetime64[ns]\n",
      "CUSIP           5137 non-null object\n",
      "NCUSIP          5137 non-null object\n",
      "TICKER          5029 non-null object\n",
      "SICCD           5136 non-null float64\n",
      "ticker          5029 non-null object\n",
      "dtypes: datetime64[ns](1), float64(2), object(6)\n",
      "memory usage: 401.3+ KB\n"
     ]
    }
   ],
   "source": [
    "df_ncusip.info()"
   ]
  },
  {
   "cell_type": "markdown",
   "metadata": {},
   "source": [
    "# ticker"
   ]
  },
  {
   "cell_type": "code",
   "execution_count": 116,
   "metadata": {},
   "outputs": [],
   "source": [
    "source_tickers = source.reset_index()"
   ]
  },
  {
   "cell_type": "code",
   "execution_count": 117,
   "metadata": {},
   "outputs": [],
   "source": [
    "source_tickers = source_tickers.drop_duplicates(subset='source_ticker', keep='first')"
   ]
  },
  {
   "cell_type": "code",
   "execution_count": 118,
   "metadata": {},
   "outputs": [],
   "source": [
    "source_tickers = source_tickers.set_index('source_ticker')"
   ]
  },
  {
   "cell_type": "code",
   "execution_count": 119,
   "metadata": {},
   "outputs": [
    {
     "data": {
      "text/html": [
       "<div>\n",
       "<style scoped>\n",
       "    .dataframe tbody tr th:only-of-type {\n",
       "        vertical-align: middle;\n",
       "    }\n",
       "\n",
       "    .dataframe tbody tr th {\n",
       "        vertical-align: top;\n",
       "    }\n",
       "\n",
       "    .dataframe thead th {\n",
       "        text-align: right;\n",
       "    }\n",
       "</style>\n",
       "<table border=\"1\" class=\"dataframe\">\n",
       "  <thead>\n",
       "    <tr style=\"text-align: right;\">\n",
       "      <th></th>\n",
       "      <th>cusip</th>\n",
       "      <th>source_cusip</th>\n",
       "    </tr>\n",
       "    <tr>\n",
       "      <th>source_ticker</th>\n",
       "      <th></th>\n",
       "      <th></th>\n",
       "    </tr>\n",
       "  </thead>\n",
       "  <tbody>\n",
       "    <tr>\n",
       "      <th>IW5-SG</th>\n",
       "      <td>Y7693G10</td>\n",
       "      <td>Y7693G104</td>\n",
       "    </tr>\n",
       "    <tr>\n",
       "      <th>OANDO-NG</th>\n",
       "      <td>V6796A10</td>\n",
       "      <td>V6796A108</td>\n",
       "    </tr>\n",
       "    <tr>\n",
       "      <th>533278-IN</th>\n",
       "      <td>Y1668L10</td>\n",
       "      <td>Y1668L107</td>\n",
       "    </tr>\n",
       "    <tr>\n",
       "      <th>4924-JP</th>\n",
       "      <td>J1245910</td>\n",
       "      <td>J12459103</td>\n",
       "    </tr>\n",
       "    <tr>\n",
       "      <th>BO-DK</th>\n",
       "      <td>K0777412</td>\n",
       "      <td>K07774126</td>\n",
       "    </tr>\n",
       "  </tbody>\n",
       "</table>\n",
       "</div>"
      ],
      "text/plain": [
       "                  cusip source_cusip\n",
       "source_ticker                       \n",
       "IW5-SG         Y7693G10    Y7693G104\n",
       "OANDO-NG       V6796A10    V6796A108\n",
       "533278-IN      Y1668L10    Y1668L107\n",
       "4924-JP        J1245910    J12459103\n",
       "BO-DK          K0777412    K07774126"
      ]
     },
     "execution_count": 119,
     "metadata": {},
     "output_type": "execute_result"
    }
   ],
   "source": [
    "source_tickers.head()"
   ]
  },
  {
   "cell_type": "code",
   "execution_count": 121,
   "metadata": {},
   "outputs": [],
   "source": [
    "target_tickers = target.reset_index()\n",
    "target_tickers = target_tickers.drop_duplicates(subset='target_ticker', keep='first')\n",
    "target_tickers = target_tickers.set_index('target_ticker')"
   ]
  },
  {
   "cell_type": "code",
   "execution_count": 122,
   "metadata": {},
   "outputs": [
    {
     "data": {
      "text/html": [
       "<div>\n",
       "<style scoped>\n",
       "    .dataframe tbody tr th:only-of-type {\n",
       "        vertical-align: middle;\n",
       "    }\n",
       "\n",
       "    .dataframe tbody tr th {\n",
       "        vertical-align: top;\n",
       "    }\n",
       "\n",
       "    .dataframe thead th {\n",
       "        text-align: right;\n",
       "    }\n",
       "</style>\n",
       "<table border=\"1\" class=\"dataframe\">\n",
       "  <thead>\n",
       "    <tr style=\"text-align: right;\">\n",
       "      <th></th>\n",
       "      <th>cusip</th>\n",
       "      <th>target_cusip</th>\n",
       "    </tr>\n",
       "    <tr>\n",
       "      <th>target_ticker</th>\n",
       "      <th></th>\n",
       "      <th></th>\n",
       "    </tr>\n",
       "  </thead>\n",
       "  <tbody>\n",
       "    <tr>\n",
       "      <th>ADRO-ID</th>\n",
       "      <td>Y7087B10</td>\n",
       "      <td>Y7087B109</td>\n",
       "    </tr>\n",
       "    <tr>\n",
       "      <th>INTP-ID</th>\n",
       "      <td>Y7127B13</td>\n",
       "      <td>Y7127B135</td>\n",
       "    </tr>\n",
       "    <tr>\n",
       "      <th>XOM</th>\n",
       "      <td>30231G10</td>\n",
       "      <td>30231G102</td>\n",
       "    </tr>\n",
       "    <tr>\n",
       "      <th>500470-IN</th>\n",
       "      <td>Y8547N13</td>\n",
       "      <td>Y8547N139</td>\n",
       "    </tr>\n",
       "    <tr>\n",
       "      <th>526371-IN</th>\n",
       "      <td>Y6223W10</td>\n",
       "      <td>Y6223W100</td>\n",
       "    </tr>\n",
       "  </tbody>\n",
       "</table>\n",
       "</div>"
      ],
      "text/plain": [
       "                  cusip target_cusip\n",
       "target_ticker                       \n",
       "ADRO-ID        Y7087B10    Y7087B109\n",
       "INTP-ID        Y7127B13    Y7127B135\n",
       "XOM            30231G10    30231G102\n",
       "500470-IN      Y8547N13    Y8547N139\n",
       "526371-IN      Y6223W10    Y6223W100"
      ]
     },
     "execution_count": 122,
     "metadata": {},
     "output_type": "execute_result"
    }
   ],
   "source": [
    "target_tickers.head()"
   ]
  },
  {
   "cell_type": "code",
   "execution_count": 123,
   "metadata": {},
   "outputs": [
    {
     "name": "stderr",
     "output_type": "stream",
     "text": [
      "/Users/xingkong/anaconda3/lib/python3.6/site-packages/ipykernel_launcher.py:1: FutureWarning: Sorting because non-concatenation axis is not aligned. A future version\n",
      "of pandas will change to not sort by default.\n",
      "\n",
      "To accept the future behavior, pass 'sort=False'.\n",
      "\n",
      "To retain the current behavior and silence the warning, pass 'sort=True'.\n",
      "\n",
      "  \"\"\"Entry point for launching an IPython kernel.\n"
     ]
    }
   ],
   "source": [
    "revere_ticker = pd.concat([source_tickers,target_tickers])"
   ]
  },
  {
   "cell_type": "code",
   "execution_count": 124,
   "metadata": {},
   "outputs": [
    {
     "name": "stdout",
     "output_type": "stream",
     "text": [
      "<class 'pandas.core.frame.DataFrame'>\n",
      "Index: 23686 entries, IW5-SG to ESP-NL\n",
      "Data columns (total 3 columns):\n",
      "cusip           23686 non-null object\n",
      "source_cusip    17100 non-null object\n",
      "target_cusip    6586 non-null object\n",
      "dtypes: object(3)\n",
      "memory usage: 740.2+ KB\n"
     ]
    }
   ],
   "source": [
    "revere_ticker = revere_ticker.drop_duplicates(subset='cusip', keep='first')\n",
    "revere_ticker.info()"
   ]
  },
  {
   "cell_type": "code",
   "execution_count": 127,
   "metadata": {},
   "outputs": [],
   "source": [
    "crsp_ticker = ncusip.reset_index()\n",
    "crsp_ticker = crsp_ticker.drop_duplicates(subset='ticker', keep='first')\n",
    "crsp_ticker = crsp_ticker.set_index('ticker')"
   ]
  },
  {
   "cell_type": "code",
   "execution_count": 128,
   "metadata": {},
   "outputs": [
    {
     "name": "stdout",
     "output_type": "stream",
     "text": [
      "<class 'pandas.core.frame.DataFrame'>\n",
      "Index: 14585 entries, EWST to TSLA\n",
      "Data columns (total 7 columns):\n",
      "ncusip    14584 non-null object\n",
      "PERMNO    14585 non-null float64\n",
      "DATE      14585 non-null datetime64[ns]\n",
      "CUSIP     14585 non-null object\n",
      "NCUSIP    14584 non-null object\n",
      "TICKER    14584 non-null object\n",
      "SICCD     14578 non-null float64\n",
      "dtypes: datetime64[ns](1), float64(2), object(4)\n",
      "memory usage: 911.6+ KB\n"
     ]
    }
   ],
   "source": [
    "#crsp_ticker = crsp_ticker.drop_duplicates(subset='CUSIP', keep='first')\n",
    "crsp_ticker.info()"
   ]
  },
  {
   "cell_type": "code",
   "execution_count": 129,
   "metadata": {},
   "outputs": [],
   "source": [
    "df_ticker = pd.concat([revere_ticker, crsp_ticker], axis =1, join='inner')"
   ]
  },
  {
   "cell_type": "code",
   "execution_count": 130,
   "metadata": {},
   "outputs": [
    {
     "name": "stdout",
     "output_type": "stream",
     "text": [
      "<class 'pandas.core.frame.DataFrame'>\n",
      "Index: 4349 entries, NSSC to RLGT\n",
      "Data columns (total 10 columns):\n",
      "cusip           4349 non-null object\n",
      "source_cusip    3583 non-null object\n",
      "target_cusip    766 non-null object\n",
      "ncusip          4349 non-null object\n",
      "PERMNO          4349 non-null float64\n",
      "DATE            4349 non-null datetime64[ns]\n",
      "CUSIP           4349 non-null object\n",
      "NCUSIP          4349 non-null object\n",
      "TICKER          4349 non-null object\n",
      "SICCD           4349 non-null float64\n",
      "dtypes: datetime64[ns](1), float64(2), object(7)\n",
      "memory usage: 373.7+ KB\n"
     ]
    }
   ],
   "source": [
    "df_ticker.info()"
   ]
  },
  {
   "cell_type": "code",
   "execution_count": 131,
   "metadata": {},
   "outputs": [
    {
     "name": "stdout",
     "output_type": "stream",
     "text": [
      "<class 'pandas.core.frame.DataFrame'>\n",
      "RangeIndex: 73930 entries, 0 to 73929\n",
      "Data columns (total 9 columns):\n",
      "gvkey        73930 non-null object\n",
      "linkprim     73930 non-null object\n",
      "liid         73930 non-null object\n",
      "linktype     73930 non-null object\n",
      "lpermno      32525 non-null float64\n",
      "lpermco      32525 non-null float64\n",
      "USEDFLAG     73930 non-null float64\n",
      "linkdt       73930 non-null datetime64[ns]\n",
      "linkenddt    63859 non-null datetime64[ns]\n",
      "dtypes: datetime64[ns](2), float64(3), object(4)\n",
      "memory usage: 5.1+ MB\n"
     ]
    }
   ],
   "source": [
    "ccm = pd.read_sas('ccmxpf_linktable.sas7bdat', encoding='iso-8859-1')\n",
    "ccm.info()"
   ]
  },
  {
   "cell_type": "code",
   "execution_count": 134,
   "metadata": {},
   "outputs": [
    {
     "data": {
      "text/html": [
       "<div>\n",
       "<style scoped>\n",
       "    .dataframe tbody tr th:only-of-type {\n",
       "        vertical-align: middle;\n",
       "    }\n",
       "\n",
       "    .dataframe tbody tr th {\n",
       "        vertical-align: top;\n",
       "    }\n",
       "\n",
       "    .dataframe thead th {\n",
       "        text-align: right;\n",
       "    }\n",
       "</style>\n",
       "<table border=\"1\" class=\"dataframe\">\n",
       "  <thead>\n",
       "    <tr style=\"text-align: right;\">\n",
       "      <th></th>\n",
       "      <th>gvkey</th>\n",
       "      <th>linkprim</th>\n",
       "      <th>liid</th>\n",
       "      <th>linktype</th>\n",
       "      <th>lpermno</th>\n",
       "      <th>lpermco</th>\n",
       "      <th>USEDFLAG</th>\n",
       "      <th>linkdt</th>\n",
       "      <th>linkenddt</th>\n",
       "    </tr>\n",
       "  </thead>\n",
       "  <tbody>\n",
       "    <tr>\n",
       "      <th>0</th>\n",
       "      <td>001000</td>\n",
       "      <td>C</td>\n",
       "      <td>00X</td>\n",
       "      <td>NU</td>\n",
       "      <td>NaN</td>\n",
       "      <td>NaN</td>\n",
       "      <td>-1.0</td>\n",
       "      <td>1961-01-01</td>\n",
       "      <td>1970-09-29</td>\n",
       "    </tr>\n",
       "    <tr>\n",
       "      <th>3</th>\n",
       "      <td>001001</td>\n",
       "      <td>C</td>\n",
       "      <td>00X</td>\n",
       "      <td>NU</td>\n",
       "      <td>NaN</td>\n",
       "      <td>NaN</td>\n",
       "      <td>-1.0</td>\n",
       "      <td>1978-01-01</td>\n",
       "      <td>1983-09-19</td>\n",
       "    </tr>\n",
       "    <tr>\n",
       "      <th>5</th>\n",
       "      <td>001002</td>\n",
       "      <td>C</td>\n",
       "      <td>00X</td>\n",
       "      <td>NR</td>\n",
       "      <td>NaN</td>\n",
       "      <td>NaN</td>\n",
       "      <td>-1.0</td>\n",
       "      <td>1960-01-01</td>\n",
       "      <td>1970-09-29</td>\n",
       "    </tr>\n",
       "    <tr>\n",
       "      <th>9</th>\n",
       "      <td>001003</td>\n",
       "      <td>C</td>\n",
       "      <td>00X</td>\n",
       "      <td>NU</td>\n",
       "      <td>NaN</td>\n",
       "      <td>NaN</td>\n",
       "      <td>-1.0</td>\n",
       "      <td>1980-01-01</td>\n",
       "      <td>1983-12-06</td>\n",
       "    </tr>\n",
       "    <tr>\n",
       "      <th>12</th>\n",
       "      <td>001004</td>\n",
       "      <td>C</td>\n",
       "      <td>00X</td>\n",
       "      <td>NU</td>\n",
       "      <td>NaN</td>\n",
       "      <td>NaN</td>\n",
       "      <td>-1.0</td>\n",
       "      <td>1965-06-01</td>\n",
       "      <td>1968-04-29</td>\n",
       "    </tr>\n",
       "  </tbody>\n",
       "</table>\n",
       "</div>"
      ],
      "text/plain": [
       "     gvkey linkprim liid linktype  lpermno  lpermco  USEDFLAG     linkdt  \\\n",
       "0   001000        C  00X       NU      NaN      NaN      -1.0 1961-01-01   \n",
       "3   001001        C  00X       NU      NaN      NaN      -1.0 1978-01-01   \n",
       "5   001002        C  00X       NR      NaN      NaN      -1.0 1960-01-01   \n",
       "9   001003        C  00X       NU      NaN      NaN      -1.0 1980-01-01   \n",
       "12  001004        C  00X       NU      NaN      NaN      -1.0 1965-06-01   \n",
       "\n",
       "    linkenddt  \n",
       "0  1970-09-29  \n",
       "3  1983-09-19  \n",
       "5  1970-09-29  \n",
       "9  1983-12-06  \n",
       "12 1968-04-29  "
      ]
     },
     "execution_count": 134,
     "metadata": {},
     "output_type": "execute_result"
    }
   ],
   "source": [
    "ccm = ccm.drop_duplicates(subset='gvkey', keep='first')\n",
    "ccm.head()"
   ]
  },
  {
   "cell_type": "code",
   "execution_count": 135,
   "metadata": {},
   "outputs": [
    {
     "name": "stdout",
     "output_type": "stream",
     "text": [
      "<class 'pandas.core.frame.DataFrame'>\n",
      "Int64Index: 27424 entries, 0 to 73927\n",
      "Data columns (total 9 columns):\n",
      "gvkey        27424 non-null object\n",
      "linkprim     27424 non-null object\n",
      "liid         27424 non-null object\n",
      "linktype     27424 non-null object\n",
      "lpermno      3904 non-null float64\n",
      "lpermco      3904 non-null float64\n",
      "USEDFLAG     27424 non-null float64\n",
      "linkdt       27424 non-null datetime64[ns]\n",
      "linkenddt    25966 non-null datetime64[ns]\n",
      "dtypes: datetime64[ns](2), float64(3), object(4)\n",
      "memory usage: 2.1+ MB\n"
     ]
    }
   ],
   "source": [
    "ccm.info()"
   ]
  },
  {
   "cell_type": "code",
   "execution_count": 179,
   "metadata": {},
   "outputs": [],
   "source": [
    "comp_cusip = pd.read_sas('comp_cusip.sas7bdat', encoding='iso-8859-1')"
   ]
  },
  {
   "cell_type": "code",
   "execution_count": 180,
   "metadata": {},
   "outputs": [],
   "source": [
    "comp_cusip = comp_cusip.drop_duplicates(subset='cusip', keep='first')"
   ]
  },
  {
   "cell_type": "code",
   "execution_count": 181,
   "metadata": {},
   "outputs": [],
   "source": [
    "comp_cusip = comp_cusip.set_index('tic')"
   ]
  },
  {
   "cell_type": "code",
   "execution_count": 182,
   "metadata": {},
   "outputs": [
    {
     "data": {
      "text/plain": [
       "21604"
      ]
     },
     "execution_count": 182,
     "metadata": {},
     "output_type": "execute_result"
    }
   ],
   "source": [
    "len(comp_cusip.index.unique())"
   ]
  },
  {
   "cell_type": "code",
   "execution_count": 183,
   "metadata": {},
   "outputs": [
    {
     "name": "stdout",
     "output_type": "stream",
     "text": [
      "<class 'pandas.core.frame.DataFrame'>\n",
      "Index: 21608 entries, AIR to GRIN\n",
      "Data columns (total 12 columns):\n",
      "gvkey       21608 non-null object\n",
      "datadate    21608 non-null datetime64[ns]\n",
      "fyear       21054 non-null float64\n",
      "indfmt      21608 non-null object\n",
      "consol      21608 non-null object\n",
      "popsrc      21608 non-null object\n",
      "datafmt     21608 non-null object\n",
      "cusip       21607 non-null object\n",
      "curcd       21054 non-null object\n",
      "costat      21608 non-null object\n",
      "gind        17137 non-null object\n",
      "gsector     17137 non-null object\n",
      "dtypes: datetime64[ns](1), float64(1), object(10)\n",
      "memory usage: 2.1+ MB\n"
     ]
    }
   ],
   "source": [
    "comp_cusip.info()"
   ]
  },
  {
   "cell_type": "code",
   "execution_count": 184,
   "metadata": {},
   "outputs": [
    {
     "data": {
      "text/html": [
       "<div>\n",
       "<style scoped>\n",
       "    .dataframe tbody tr th:only-of-type {\n",
       "        vertical-align: middle;\n",
       "    }\n",
       "\n",
       "    .dataframe tbody tr th {\n",
       "        vertical-align: top;\n",
       "    }\n",
       "\n",
       "    .dataframe thead th {\n",
       "        text-align: right;\n",
       "    }\n",
       "</style>\n",
       "<table border=\"1\" class=\"dataframe\">\n",
       "  <thead>\n",
       "    <tr style=\"text-align: right;\">\n",
       "      <th></th>\n",
       "      <th>gvkey</th>\n",
       "      <th>datadate</th>\n",
       "      <th>fyear</th>\n",
       "      <th>indfmt</th>\n",
       "      <th>consol</th>\n",
       "      <th>popsrc</th>\n",
       "      <th>datafmt</th>\n",
       "      <th>cusip</th>\n",
       "      <th>curcd</th>\n",
       "      <th>costat</th>\n",
       "      <th>gind</th>\n",
       "      <th>gsector</th>\n",
       "    </tr>\n",
       "    <tr>\n",
       "      <th>tic</th>\n",
       "      <th></th>\n",
       "      <th></th>\n",
       "      <th></th>\n",
       "      <th></th>\n",
       "      <th></th>\n",
       "      <th></th>\n",
       "      <th></th>\n",
       "      <th></th>\n",
       "      <th></th>\n",
       "      <th></th>\n",
       "      <th></th>\n",
       "      <th></th>\n",
       "    </tr>\n",
       "  </thead>\n",
       "  <tbody>\n",
       "    <tr>\n",
       "      <th>AIR</th>\n",
       "      <td>001004</td>\n",
       "      <td>2003-05-31</td>\n",
       "      <td>2002.0</td>\n",
       "      <td>INDL</td>\n",
       "      <td>C</td>\n",
       "      <td>D</td>\n",
       "      <td>STD</td>\n",
       "      <td>000361105</td>\n",
       "      <td>USD</td>\n",
       "      <td>A</td>\n",
       "      <td>201010</td>\n",
       "      <td>20</td>\n",
       "    </tr>\n",
       "    <tr>\n",
       "      <th>4165A</th>\n",
       "      <td>001010</td>\n",
       "      <td>2003-12-31</td>\n",
       "      <td>2003.0</td>\n",
       "      <td>INDL</td>\n",
       "      <td>C</td>\n",
       "      <td>D</td>\n",
       "      <td>STD</td>\n",
       "      <td>00099V004</td>\n",
       "      <td>USD</td>\n",
       "      <td>I</td>\n",
       "      <td>203040</td>\n",
       "      <td>20</td>\n",
       "    </tr>\n",
       "    <tr>\n",
       "      <th>ADCT</th>\n",
       "      <td>001013</td>\n",
       "      <td>2003-10-31</td>\n",
       "      <td>2003.0</td>\n",
       "      <td>INDL</td>\n",
       "      <td>C</td>\n",
       "      <td>D</td>\n",
       "      <td>STD</td>\n",
       "      <td>000886309</td>\n",
       "      <td>USD</td>\n",
       "      <td>I</td>\n",
       "      <td>452010</td>\n",
       "      <td>45</td>\n",
       "    </tr>\n",
       "    <tr>\n",
       "      <th>IWKS</th>\n",
       "      <td>001021</td>\n",
       "      <td>2003-06-30</td>\n",
       "      <td>2003.0</td>\n",
       "      <td>INDL</td>\n",
       "      <td>C</td>\n",
       "      <td>D</td>\n",
       "      <td>STD</td>\n",
       "      <td>001058205</td>\n",
       "      <td>USD</td>\n",
       "      <td>I</td>\n",
       "      <td>351010</td>\n",
       "      <td>35</td>\n",
       "    </tr>\n",
       "    <tr>\n",
       "      <th>ALO.2</th>\n",
       "      <td>001034</td>\n",
       "      <td>2003-12-31</td>\n",
       "      <td>2003.0</td>\n",
       "      <td>INDL</td>\n",
       "      <td>C</td>\n",
       "      <td>D</td>\n",
       "      <td>STD</td>\n",
       "      <td>020813101</td>\n",
       "      <td>USD</td>\n",
       "      <td>I</td>\n",
       "      <td>352020</td>\n",
       "      <td>35</td>\n",
       "    </tr>\n",
       "  </tbody>\n",
       "</table>\n",
       "</div>"
      ],
      "text/plain": [
       "        gvkey   datadate   fyear indfmt consol popsrc datafmt      cusip  \\\n",
       "tic                                                                        \n",
       "AIR    001004 2003-05-31  2002.0   INDL      C      D     STD  000361105   \n",
       "4165A  001010 2003-12-31  2003.0   INDL      C      D     STD  00099V004   \n",
       "ADCT   001013 2003-10-31  2003.0   INDL      C      D     STD  000886309   \n",
       "IWKS   001021 2003-06-30  2003.0   INDL      C      D     STD  001058205   \n",
       "ALO.2  001034 2003-12-31  2003.0   INDL      C      D     STD  020813101   \n",
       "\n",
       "      curcd costat    gind gsector  \n",
       "tic                                 \n",
       "AIR     USD      A  201010      20  \n",
       "4165A   USD      I  203040      20  \n",
       "ADCT    USD      I  452010      45  \n",
       "IWKS    USD      I  351010      35  \n",
       "ALO.2   USD      I  352020      35  "
      ]
     },
     "execution_count": 184,
     "metadata": {},
     "output_type": "execute_result"
    }
   ],
   "source": [
    "comp_cusip.head()"
   ]
  },
  {
   "cell_type": "code",
   "execution_count": 159,
   "metadata": {},
   "outputs": [],
   "source": [
    "comp_revere = pd.concat([cusip_all, comp_cusip], axis =1, join='inner')"
   ]
  },
  {
   "cell_type": "code",
   "execution_count": 160,
   "metadata": {},
   "outputs": [
    {
     "name": "stdout",
     "output_type": "stream",
     "text": [
      "<class 'pandas.core.frame.DataFrame'>\n",
      "Index: 5584 entries, 630402105 to 75025X100\n",
      "Data columns (total 14 columns):\n",
      "source_ticker    4363 non-null object\n",
      "target_ticker    4809 non-null object\n",
      "gvkey            5584 non-null object\n",
      "datadate         5584 non-null datetime64[ns]\n",
      "fyear            5431 non-null float64\n",
      "indfmt           5584 non-null object\n",
      "consol           5584 non-null object\n",
      "popsrc           5584 non-null object\n",
      "datafmt          5584 non-null object\n",
      "tic              5584 non-null object\n",
      "curcd            5431 non-null object\n",
      "costat           5584 non-null object\n",
      "gind             5568 non-null object\n",
      "gsector          5568 non-null object\n",
      "dtypes: datetime64[ns](1), float64(1), object(12)\n",
      "memory usage: 654.4+ KB\n"
     ]
    }
   ],
   "source": [
    "comp_revere.info()"
   ]
  },
  {
   "cell_type": "code",
   "execution_count": 185,
   "metadata": {},
   "outputs": [],
   "source": [
    "merge_revere = cusip_all.reset_index()\n",
    "merge_comp = comp_cusip.reset_index()"
   ]
  },
  {
   "cell_type": "code",
   "execution_count": 190,
   "metadata": {},
   "outputs": [
    {
     "data": {
      "text/html": [
       "<div>\n",
       "<style scoped>\n",
       "    .dataframe tbody tr th:only-of-type {\n",
       "        vertical-align: middle;\n",
       "    }\n",
       "\n",
       "    .dataframe tbody tr th {\n",
       "        vertical-align: top;\n",
       "    }\n",
       "\n",
       "    .dataframe thead th {\n",
       "        text-align: right;\n",
       "    }\n",
       "</style>\n",
       "<table border=\"1\" class=\"dataframe\">\n",
       "  <thead>\n",
       "    <tr style=\"text-align: right;\">\n",
       "      <th></th>\n",
       "      <th>tic</th>\n",
       "      <th>gvkey</th>\n",
       "      <th>datadate</th>\n",
       "      <th>fyear</th>\n",
       "      <th>indfmt</th>\n",
       "      <th>consol</th>\n",
       "      <th>popsrc</th>\n",
       "      <th>datafmt</th>\n",
       "      <th>cusip</th>\n",
       "      <th>curcd</th>\n",
       "      <th>costat</th>\n",
       "      <th>gind</th>\n",
       "      <th>gsector</th>\n",
       "      <th>ticker</th>\n",
       "    </tr>\n",
       "  </thead>\n",
       "  <tbody>\n",
       "    <tr>\n",
       "      <th>0</th>\n",
       "      <td>AIR</td>\n",
       "      <td>001004</td>\n",
       "      <td>2003-05-31</td>\n",
       "      <td>2002.0</td>\n",
       "      <td>INDL</td>\n",
       "      <td>C</td>\n",
       "      <td>D</td>\n",
       "      <td>STD</td>\n",
       "      <td>000361105</td>\n",
       "      <td>USD</td>\n",
       "      <td>A</td>\n",
       "      <td>201010</td>\n",
       "      <td>20</td>\n",
       "      <td>AIR</td>\n",
       "    </tr>\n",
       "    <tr>\n",
       "      <th>1</th>\n",
       "      <td>4165A</td>\n",
       "      <td>001010</td>\n",
       "      <td>2003-12-31</td>\n",
       "      <td>2003.0</td>\n",
       "      <td>INDL</td>\n",
       "      <td>C</td>\n",
       "      <td>D</td>\n",
       "      <td>STD</td>\n",
       "      <td>00099V004</td>\n",
       "      <td>USD</td>\n",
       "      <td>I</td>\n",
       "      <td>203040</td>\n",
       "      <td>20</td>\n",
       "      <td>4165A</td>\n",
       "    </tr>\n",
       "    <tr>\n",
       "      <th>2</th>\n",
       "      <td>ADCT</td>\n",
       "      <td>001013</td>\n",
       "      <td>2003-10-31</td>\n",
       "      <td>2003.0</td>\n",
       "      <td>INDL</td>\n",
       "      <td>C</td>\n",
       "      <td>D</td>\n",
       "      <td>STD</td>\n",
       "      <td>000886309</td>\n",
       "      <td>USD</td>\n",
       "      <td>I</td>\n",
       "      <td>452010</td>\n",
       "      <td>45</td>\n",
       "      <td>ADCT</td>\n",
       "    </tr>\n",
       "    <tr>\n",
       "      <th>3</th>\n",
       "      <td>IWKS</td>\n",
       "      <td>001021</td>\n",
       "      <td>2003-06-30</td>\n",
       "      <td>2003.0</td>\n",
       "      <td>INDL</td>\n",
       "      <td>C</td>\n",
       "      <td>D</td>\n",
       "      <td>STD</td>\n",
       "      <td>001058205</td>\n",
       "      <td>USD</td>\n",
       "      <td>I</td>\n",
       "      <td>351010</td>\n",
       "      <td>35</td>\n",
       "      <td>IWKS</td>\n",
       "    </tr>\n",
       "    <tr>\n",
       "      <th>4</th>\n",
       "      <td>ALO.2</td>\n",
       "      <td>001034</td>\n",
       "      <td>2003-12-31</td>\n",
       "      <td>2003.0</td>\n",
       "      <td>INDL</td>\n",
       "      <td>C</td>\n",
       "      <td>D</td>\n",
       "      <td>STD</td>\n",
       "      <td>020813101</td>\n",
       "      <td>USD</td>\n",
       "      <td>I</td>\n",
       "      <td>352020</td>\n",
       "      <td>35</td>\n",
       "      <td>ALO.2</td>\n",
       "    </tr>\n",
       "  </tbody>\n",
       "</table>\n",
       "</div>"
      ],
      "text/plain": [
       "     tic   gvkey   datadate   fyear indfmt consol popsrc datafmt      cusip  \\\n",
       "0    AIR  001004 2003-05-31  2002.0   INDL      C      D     STD  000361105   \n",
       "1  4165A  001010 2003-12-31  2003.0   INDL      C      D     STD  00099V004   \n",
       "2   ADCT  001013 2003-10-31  2003.0   INDL      C      D     STD  000886309   \n",
       "3   IWKS  001021 2003-06-30  2003.0   INDL      C      D     STD  001058205   \n",
       "4  ALO.2  001034 2003-12-31  2003.0   INDL      C      D     STD  020813101   \n",
       "\n",
       "  curcd costat    gind gsector ticker  \n",
       "0   USD      A  201010      20    AIR  \n",
       "1   USD      I  203040      20  4165A  \n",
       "2   USD      I  452010      45   ADCT  \n",
       "3   USD      I  351010      35   IWKS  \n",
       "4   USD      I  352020      35  ALO.2  "
      ]
     },
     "execution_count": 190,
     "metadata": {},
     "output_type": "execute_result"
    }
   ],
   "source": [
    "merge_comp['ticker'] = merge_comp['tic']\n",
    "merge_comp.head()"
   ]
  },
  {
   "cell_type": "code",
   "execution_count": 200,
   "metadata": {},
   "outputs": [
    {
     "data": {
      "text/html": [
       "<div>\n",
       "<style scoped>\n",
       "    .dataframe tbody tr th:only-of-type {\n",
       "        vertical-align: middle;\n",
       "    }\n",
       "\n",
       "    .dataframe tbody tr th {\n",
       "        vertical-align: top;\n",
       "    }\n",
       "\n",
       "    .dataframe thead th {\n",
       "        text-align: right;\n",
       "    }\n",
       "</style>\n",
       "<table border=\"1\" class=\"dataframe\">\n",
       "  <thead>\n",
       "    <tr style=\"text-align: right;\">\n",
       "      <th></th>\n",
       "      <th>level_0</th>\n",
       "      <th>index</th>\n",
       "      <th>cusip</th>\n",
       "      <th>source_cusip</th>\n",
       "      <th>target_cusip</th>\n",
       "      <th>ticker</th>\n",
       "    </tr>\n",
       "  </thead>\n",
       "  <tbody>\n",
       "    <tr>\n",
       "      <th>0</th>\n",
       "      <td>0</td>\n",
       "      <td>IW5-SG</td>\n",
       "      <td>Y7693G10</td>\n",
       "      <td>Y7693G104</td>\n",
       "      <td>NaN</td>\n",
       "      <td>IW5-SG</td>\n",
       "    </tr>\n",
       "    <tr>\n",
       "      <th>1</th>\n",
       "      <td>1</td>\n",
       "      <td>OANDO-NG</td>\n",
       "      <td>V6796A10</td>\n",
       "      <td>V6796A108</td>\n",
       "      <td>NaN</td>\n",
       "      <td>OANDO-NG</td>\n",
       "    </tr>\n",
       "    <tr>\n",
       "      <th>2</th>\n",
       "      <td>2</td>\n",
       "      <td>533278-IN</td>\n",
       "      <td>Y1668L10</td>\n",
       "      <td>Y1668L107</td>\n",
       "      <td>NaN</td>\n",
       "      <td>533278-IN</td>\n",
       "    </tr>\n",
       "    <tr>\n",
       "      <th>3</th>\n",
       "      <td>3</td>\n",
       "      <td>4924-JP</td>\n",
       "      <td>J1245910</td>\n",
       "      <td>J12459103</td>\n",
       "      <td>NaN</td>\n",
       "      <td>4924-JP</td>\n",
       "    </tr>\n",
       "    <tr>\n",
       "      <th>4</th>\n",
       "      <td>4</td>\n",
       "      <td>BO-DK</td>\n",
       "      <td>K0777412</td>\n",
       "      <td>K07774126</td>\n",
       "      <td>NaN</td>\n",
       "      <td>BO-DK</td>\n",
       "    </tr>\n",
       "  </tbody>\n",
       "</table>\n",
       "</div>"
      ],
      "text/plain": [
       "   level_0      index     cusip source_cusip target_cusip     ticker\n",
       "0        0     IW5-SG  Y7693G10    Y7693G104          NaN     IW5-SG\n",
       "1        1   OANDO-NG  V6796A10    V6796A108          NaN   OANDO-NG\n",
       "2        2  533278-IN  Y1668L10    Y1668L107          NaN  533278-IN\n",
       "3        3    4924-JP  J1245910    J12459103          NaN    4924-JP\n",
       "4        4      BO-DK  K0777412    K07774126          NaN      BO-DK"
      ]
     },
     "execution_count": 200,
     "metadata": {},
     "output_type": "execute_result"
    }
   ],
   "source": [
    "#revere_ticker = revere_ticker.reset_index()\n",
    "revere_ticker['ticker'] = revere_ticker['index']\n",
    "revere_ticker.head()"
   ]
  },
  {
   "cell_type": "code",
   "execution_count": 192,
   "metadata": {},
   "outputs": [
    {
     "data": {
      "text/html": [
       "<div>\n",
       "<style scoped>\n",
       "    .dataframe tbody tr th:only-of-type {\n",
       "        vertical-align: middle;\n",
       "    }\n",
       "\n",
       "    .dataframe tbody tr th {\n",
       "        vertical-align: top;\n",
       "    }\n",
       "\n",
       "    .dataframe thead th {\n",
       "        text-align: right;\n",
       "    }\n",
       "</style>\n",
       "<table border=\"1\" class=\"dataframe\">\n",
       "  <thead>\n",
       "    <tr style=\"text-align: right;\">\n",
       "      <th></th>\n",
       "      <th>tic</th>\n",
       "      <th>gvkey</th>\n",
       "      <th>datadate</th>\n",
       "      <th>fyear</th>\n",
       "      <th>indfmt</th>\n",
       "      <th>consol</th>\n",
       "      <th>popsrc</th>\n",
       "      <th>datafmt</th>\n",
       "      <th>cusip</th>\n",
       "      <th>curcd</th>\n",
       "      <th>costat</th>\n",
       "      <th>gind</th>\n",
       "      <th>gsector</th>\n",
       "      <th>ticker</th>\n",
       "    </tr>\n",
       "  </thead>\n",
       "  <tbody>\n",
       "    <tr>\n",
       "      <th>0</th>\n",
       "      <td>AIR</td>\n",
       "      <td>001004</td>\n",
       "      <td>2003-05-31</td>\n",
       "      <td>2002.0</td>\n",
       "      <td>INDL</td>\n",
       "      <td>C</td>\n",
       "      <td>D</td>\n",
       "      <td>STD</td>\n",
       "      <td>000361105</td>\n",
       "      <td>USD</td>\n",
       "      <td>A</td>\n",
       "      <td>201010</td>\n",
       "      <td>20</td>\n",
       "      <td>AIR</td>\n",
       "    </tr>\n",
       "    <tr>\n",
       "      <th>1</th>\n",
       "      <td>4165A</td>\n",
       "      <td>001010</td>\n",
       "      <td>2003-12-31</td>\n",
       "      <td>2003.0</td>\n",
       "      <td>INDL</td>\n",
       "      <td>C</td>\n",
       "      <td>D</td>\n",
       "      <td>STD</td>\n",
       "      <td>00099V004</td>\n",
       "      <td>USD</td>\n",
       "      <td>I</td>\n",
       "      <td>203040</td>\n",
       "      <td>20</td>\n",
       "      <td>4165A</td>\n",
       "    </tr>\n",
       "    <tr>\n",
       "      <th>2</th>\n",
       "      <td>ADCT</td>\n",
       "      <td>001013</td>\n",
       "      <td>2003-10-31</td>\n",
       "      <td>2003.0</td>\n",
       "      <td>INDL</td>\n",
       "      <td>C</td>\n",
       "      <td>D</td>\n",
       "      <td>STD</td>\n",
       "      <td>000886309</td>\n",
       "      <td>USD</td>\n",
       "      <td>I</td>\n",
       "      <td>452010</td>\n",
       "      <td>45</td>\n",
       "      <td>ADCT</td>\n",
       "    </tr>\n",
       "    <tr>\n",
       "      <th>3</th>\n",
       "      <td>IWKS</td>\n",
       "      <td>001021</td>\n",
       "      <td>2003-06-30</td>\n",
       "      <td>2003.0</td>\n",
       "      <td>INDL</td>\n",
       "      <td>C</td>\n",
       "      <td>D</td>\n",
       "      <td>STD</td>\n",
       "      <td>001058205</td>\n",
       "      <td>USD</td>\n",
       "      <td>I</td>\n",
       "      <td>351010</td>\n",
       "      <td>35</td>\n",
       "      <td>IWKS</td>\n",
       "    </tr>\n",
       "    <tr>\n",
       "      <th>4</th>\n",
       "      <td>ALO.2</td>\n",
       "      <td>001034</td>\n",
       "      <td>2003-12-31</td>\n",
       "      <td>2003.0</td>\n",
       "      <td>INDL</td>\n",
       "      <td>C</td>\n",
       "      <td>D</td>\n",
       "      <td>STD</td>\n",
       "      <td>020813101</td>\n",
       "      <td>USD</td>\n",
       "      <td>I</td>\n",
       "      <td>352020</td>\n",
       "      <td>35</td>\n",
       "      <td>ALO.2</td>\n",
       "    </tr>\n",
       "  </tbody>\n",
       "</table>\n",
       "</div>"
      ],
      "text/plain": [
       "     tic   gvkey   datadate   fyear indfmt consol popsrc datafmt      cusip  \\\n",
       "0    AIR  001004 2003-05-31  2002.0   INDL      C      D     STD  000361105   \n",
       "1  4165A  001010 2003-12-31  2003.0   INDL      C      D     STD  00099V004   \n",
       "2   ADCT  001013 2003-10-31  2003.0   INDL      C      D     STD  000886309   \n",
       "3   IWKS  001021 2003-06-30  2003.0   INDL      C      D     STD  001058205   \n",
       "4  ALO.2  001034 2003-12-31  2003.0   INDL      C      D     STD  020813101   \n",
       "\n",
       "  curcd costat    gind gsector ticker  \n",
       "0   USD      A  201010      20    AIR  \n",
       "1   USD      I  203040      20  4165A  \n",
       "2   USD      I  452010      45   ADCT  \n",
       "3   USD      I  351010      35   IWKS  \n",
       "4   USD      I  352020      35  ALO.2  "
      ]
     },
     "execution_count": 192,
     "metadata": {},
     "output_type": "execute_result"
    }
   ],
   "source": [
    "merge_comp.head()"
   ]
  },
  {
   "cell_type": "code",
   "execution_count": 202,
   "metadata": {},
   "outputs": [
    {
     "data": {
      "text/html": [
       "<div>\n",
       "<style scoped>\n",
       "    .dataframe tbody tr th:only-of-type {\n",
       "        vertical-align: middle;\n",
       "    }\n",
       "\n",
       "    .dataframe tbody tr th {\n",
       "        vertical-align: top;\n",
       "    }\n",
       "\n",
       "    .dataframe thead th {\n",
       "        text-align: right;\n",
       "    }\n",
       "</style>\n",
       "<table border=\"1\" class=\"dataframe\">\n",
       "  <thead>\n",
       "    <tr style=\"text-align: right;\">\n",
       "      <th></th>\n",
       "      <th>level_0</th>\n",
       "      <th>index</th>\n",
       "      <th>cusip</th>\n",
       "      <th>source_cusip</th>\n",
       "      <th>target_cusip</th>\n",
       "      <th>ticker</th>\n",
       "    </tr>\n",
       "  </thead>\n",
       "  <tbody>\n",
       "    <tr>\n",
       "      <th>0</th>\n",
       "      <td>0</td>\n",
       "      <td>IW5-SG</td>\n",
       "      <td>Y7693G10</td>\n",
       "      <td>Y7693G104</td>\n",
       "      <td>NaN</td>\n",
       "      <td>IW5-SG</td>\n",
       "    </tr>\n",
       "    <tr>\n",
       "      <th>1</th>\n",
       "      <td>1</td>\n",
       "      <td>OANDO-NG</td>\n",
       "      <td>V6796A10</td>\n",
       "      <td>V6796A108</td>\n",
       "      <td>NaN</td>\n",
       "      <td>OANDO-NG</td>\n",
       "    </tr>\n",
       "    <tr>\n",
       "      <th>2</th>\n",
       "      <td>2</td>\n",
       "      <td>533278-IN</td>\n",
       "      <td>Y1668L10</td>\n",
       "      <td>Y1668L107</td>\n",
       "      <td>NaN</td>\n",
       "      <td>533278-IN</td>\n",
       "    </tr>\n",
       "    <tr>\n",
       "      <th>3</th>\n",
       "      <td>3</td>\n",
       "      <td>4924-JP</td>\n",
       "      <td>J1245910</td>\n",
       "      <td>J12459103</td>\n",
       "      <td>NaN</td>\n",
       "      <td>4924-JP</td>\n",
       "    </tr>\n",
       "    <tr>\n",
       "      <th>4</th>\n",
       "      <td>4</td>\n",
       "      <td>BO-DK</td>\n",
       "      <td>K0777412</td>\n",
       "      <td>K07774126</td>\n",
       "      <td>NaN</td>\n",
       "      <td>BO-DK</td>\n",
       "    </tr>\n",
       "  </tbody>\n",
       "</table>\n",
       "</div>"
      ],
      "text/plain": [
       "   level_0      index     cusip source_cusip target_cusip     ticker\n",
       "0        0     IW5-SG  Y7693G10    Y7693G104          NaN     IW5-SG\n",
       "1        1   OANDO-NG  V6796A10    V6796A108          NaN   OANDO-NG\n",
       "2        2  533278-IN  Y1668L10    Y1668L107          NaN  533278-IN\n",
       "3        3    4924-JP  J1245910    J12459103          NaN    4924-JP\n",
       "4        4      BO-DK  K0777412    K07774126          NaN      BO-DK"
      ]
     },
     "execution_count": 202,
     "metadata": {},
     "output_type": "execute_result"
    }
   ],
   "source": [
    "revere_ticker.head()"
   ]
  },
  {
   "cell_type": "code",
   "execution_count": 203,
   "metadata": {},
   "outputs": [],
   "source": [
    "revere_comp = pd.merge(revere_ticker,merge_comp, on = 'ticker')"
   ]
  },
  {
   "cell_type": "code",
   "execution_count": 204,
   "metadata": {},
   "outputs": [
    {
     "name": "stdout",
     "output_type": "stream",
     "text": [
      "<class 'pandas.core.frame.DataFrame'>\n",
      "Int64Index: 4877 entries, 0 to 4876\n",
      "Data columns (total 19 columns):\n",
      "level_0         4877 non-null int64\n",
      "index           4877 non-null object\n",
      "cusip_x         4877 non-null object\n",
      "source_cusip    3902 non-null object\n",
      "target_cusip    975 non-null object\n",
      "ticker          4877 non-null object\n",
      "tic             4877 non-null object\n",
      "gvkey           4877 non-null object\n",
      "datadate        4877 non-null datetime64[ns]\n",
      "fyear           4739 non-null float64\n",
      "indfmt          4877 non-null object\n",
      "consol          4877 non-null object\n",
      "popsrc          4877 non-null object\n",
      "datafmt         4877 non-null object\n",
      "cusip_y         4877 non-null object\n",
      "curcd           4739 non-null object\n",
      "costat          4877 non-null object\n",
      "gind            4855 non-null object\n",
      "gsector         4855 non-null object\n",
      "dtypes: datetime64[ns](1), float64(1), int64(1), object(16)\n",
      "memory usage: 762.0+ KB\n"
     ]
    }
   ],
   "source": [
    "revere_comp.info()"
   ]
  },
  {
   "cell_type": "code",
   "execution_count": null,
   "metadata": {},
   "outputs": [],
   "source": []
  }
 ],
 "metadata": {
  "kernelspec": {
   "display_name": "Python 3",
   "language": "python",
   "name": "python3"
  },
  "language_info": {
   "codemirror_mode": {
    "name": "ipython",
    "version": 3
   },
   "file_extension": ".py",
   "mimetype": "text/x-python",
   "name": "python",
   "nbconvert_exporter": "python",
   "pygments_lexer": "ipython3",
   "version": "3.6.6"
  }
 },
 "nbformat": 4,
 "nbformat_minor": 2
}
