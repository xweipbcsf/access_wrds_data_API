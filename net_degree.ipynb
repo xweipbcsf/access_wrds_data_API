{
 "cells": [
  {
   "cell_type": "code",
   "execution_count": 20,
   "metadata": {},
   "outputs": [],
   "source": [
    "# data clean packages\n",
    "import pandas as pd\n",
    "import numpy as np\n",
    "import datetime as dt\n",
    "\n",
    "# plot packages\n",
    "import seaborn as sns; sns.set(color_codes=True)\n",
    "import matplotlib.pyplot as plt\n",
    "\n",
    "# network packages\n",
    "import networkx as nx"
   ]
  },
  {
   "cell_type": "code",
   "execution_count": 21,
   "metadata": {},
   "outputs": [],
   "source": [
    "df2003 = pd.read_pickle('df2003')\n",
    "df2004 = pd.read_pickle('df2004')\n",
    "df2005 = pd.read_pickle('df2005')\n",
    "df2006 = pd.read_pickle('df2006')\n",
    "df2007 = pd.read_pickle('df2007')\n",
    "df2008 = pd.read_pickle('df2008')\n",
    "df2009 = pd.read_pickle('df2009')\n",
    "df2010 = pd.read_pickle('df2010')\n",
    "df2011 = pd.read_pickle('df2011')\n",
    "df2012 = pd.read_pickle('df2012')\n",
    "df2013 = pd.read_pickle('df2013')\n",
    "df2014 = pd.read_pickle('df2014')\n",
    "df2015 = pd.read_pickle('df2015')\n",
    "df2016 = pd.read_pickle('df2016')"
   ]
  },
  {
   "cell_type": "code",
   "execution_count": 22,
   "metadata": {},
   "outputs": [],
   "source": [
    "net_centrality = pd.read_pickle('network_features_all.pkl')"
   ]
  },
  {
   "cell_type": "code",
   "execution_count": 23,
   "metadata": {},
   "outputs": [],
   "source": [
    "net_centrality_2003 = net_centrality.loc[net_centrality['year'] == '2003-06-30']\n",
    "net_centrality_2004 = net_centrality.loc[net_centrality['year'] == '2004-06-30']\n",
    "net_centrality_2005 = net_centrality.loc[net_centrality['year'] == '2005-06-30']\n",
    "net_centrality_2006 = net_centrality.loc[net_centrality['year'] == '2006-06-30']\n",
    "net_centrality_2007 = net_centrality.loc[net_centrality['year'] == '2007-06-30']\n",
    "net_centrality_2008 = net_centrality.loc[net_centrality['year'] == '2008-06-30']\n",
    "net_centrality_2009 = net_centrality.loc[net_centrality['year'] == '2009-06-30']\n",
    "net_centrality_2010 = net_centrality.loc[net_centrality['year'] == '2010-06-30']\n",
    "net_centrality_2011 = net_centrality.loc[net_centrality['year'] == '2011-06-30']\n",
    "net_centrality_2012 = net_centrality.loc[net_centrality['year'] == '2012-06-30']\n",
    "net_centrality_2013 = net_centrality.loc[net_centrality['year'] == '2013-06-30']\n",
    "net_centrality_2014 = net_centrality.loc[net_centrality['year'] == '2014-06-30']\n",
    "net_centrality_2015 = net_centrality.loc[net_centrality['year'] == '2015-06-30']\n",
    "net_centrality_2016 = net_centrality.loc[net_centrality['year'] == '2016-06-30']"
   ]
  },
  {
   "cell_type": "code",
   "execution_count": 24,
   "metadata": {},
   "outputs": [],
   "source": [
    "degree_03 = pd.read_pickle('net2003.pkl')\n",
    "degree_04 = pd.read_pickle('net2004.pkl')\n",
    "degree_05 = pd.read_pickle('net2005.pkl')\n",
    "degree_06 = pd.read_pickle('net2006.pkl')\n",
    "degree_07 = pd.read_pickle('net2007.pkl')\n",
    "degree_08 = pd.read_pickle('net2008.pkl')\n",
    "degree_09 = pd.read_pickle('net2009.pkl')\n",
    "degree_10 = pd.read_pickle('net2010.pkl')\n",
    "degree_11 = pd.read_pickle('net2011.pkl')\n",
    "degree_12 = pd.read_pickle('net2012.pkl')\n",
    "degree_13 = pd.read_pickle('net2013.pkl')\n",
    "degree_14 = pd.read_pickle('net2014.pkl')\n",
    "degree_15 = pd.read_pickle('net2015.pkl')\n",
    "degree_16 = pd.read_pickle('net2016.pkl')"
   ]
  },
  {
   "cell_type": "code",
   "execution_count": 25,
   "metadata": {},
   "outputs": [
    {
     "name": "stderr",
     "output_type": "stream",
     "text": [
      "I:\\anaconda3\\lib\\site-packages\\ipykernel_launcher.py:8: FutureWarning: Sorting because non-concatenation axis is not aligned. A future version\n",
      "of pandas will change to not sort by default.\n",
      "\n",
      "To accept the future behavior, pass 'sort=False'.\n",
      "\n",
      "To retain the current behavior and silence the warning, pass 'sort=True'.\n",
      "\n",
      "  \n"
     ]
    }
   ],
   "source": [
    "net = [net_centrality_2003,net_centrality_2004,net_centrality_2005,net_centrality_2006,net_centrality_2007,net_centrality_2008,net_centrality_2009,net_centrality_2010,\n",
    "      net_centrality_2011,net_centrality_2012,net_centrality_2013,net_centrality_2014,net_centrality_2015]\n",
    "deg_0 = [degree_03,degree_04,degree_05,degree_06,degree_07,degree_08,degree_09,degree_10,degree_11,degree_12,degree_13,degree_14,degree_15]\n",
    "deg_1 = [degree_04,degree_05,degree_06,degree_07,degree_08,degree_09,degree_10,degree_11,degree_12,degree_13,degree_14,degree_15,degree_16]\n",
    "\n",
    "net_degree_3 = pd.DataFrame()\n",
    "for i in range(len(net)):\n",
    "    net_deg = pd.concat([net[i], deg_0[i], deg_1[i]], axis = 1)\n",
    "    net_deg = net_deg.dropna()\n",
    "    net_deg.columns = ['out_degree_centrality', 'in_degree_centrality', 'closeness_centrality',\n",
    "       'betweenness_centrality', 'eigenvector_centrality',\n",
    "       'harmonic_centrality', 'average_neighbor_degree', 'square_clustering',\n",
    "       'core_number', 'pagerank', 'hubs', 'authorities', 'year_0', 'year_00',\n",
    "       'in_degree_0', 'out_degree_0', 'year_1', 'in_degree_1', 'out_degree_1']\n",
    "    net_deg = net_deg.drop(columns = ['year_00', 'year_1'])\n",
    "    net_deg['in_diff'] = net_deg['in_degree_1'] - net_deg['in_degree_0']\n",
    "    net_deg['out_diff'] = net_deg['out_degree_1'] - net_deg['out_degree_0']\n",
    "    net_deg['out_diff_ratio'] = net_deg['out_diff']/net_deg['out_degree_0']\n",
    "    net_deg['in_diff_ratio'] = net_deg['in_diff']/net_deg['in_degree_0']\n",
    "    \n",
    "    def group_trans(num):\n",
    "        if num > 0: return 1\n",
    "        elif num == 0: return 0\n",
    "        else: return -1\n",
    "    \n",
    "    #net_deg['in_group'] = net_deg['in_diff'].map(group_trans)\n",
    "    net_deg['out_group'] = net_deg['out_diff_ratio'].map(group_trans)\n",
    "    net_deg['out_group'] = net_deg['out_group'].replace(np.inf, np.nan)\n",
    "    net_deg = net_deg.dropna(subset = ['out_group'])\n",
    "    net_deg = net_deg.reset_index()\n",
    "    net_deg = net_deg.rename(columns = {'index':'cusip_9'})\n",
    "    net_degree_3 = net_degree_3.append(net_deg)\n",
    "    net_degree_3.to_pickle('net_degree_3.pkl')"
   ]
  },
  {
   "cell_type": "code",
   "execution_count": 26,
   "metadata": {},
   "outputs": [
    {
     "data": {
      "text/plain": [
       "13"
      ]
     },
     "execution_count": 26,
     "metadata": {},
     "output_type": "execute_result"
    }
   ],
   "source": [
    "len(net_degree_3['year_0'].unique())"
   ]
  },
  {
   "cell_type": "code",
   "execution_count": 29,
   "metadata": {},
   "outputs": [
    {
     "name": "stdout",
     "output_type": "stream",
     "text": [
      "<class 'pandas.core.frame.DataFrame'>\n",
      "Int64Index: 91835 entries, 0 to 16014\n",
      "Data columns (total 23 columns):\n",
      "cusip_9                    91835 non-null object\n",
      "out_degree_centrality      91835 non-null float64\n",
      "in_degree_centrality       91835 non-null float64\n",
      "closeness_centrality       91835 non-null float64\n",
      "betweenness_centrality     91835 non-null float64\n",
      "eigenvector_centrality     91835 non-null float64\n",
      "harmonic_centrality        91835 non-null float64\n",
      "average_neighbor_degree    91835 non-null float64\n",
      "square_clustering          91835 non-null float64\n",
      "core_number                91835 non-null float64\n",
      "pagerank                   91835 non-null float64\n",
      "hubs                       91835 non-null float64\n",
      "authorities                91835 non-null float64\n",
      "year_0                     91835 non-null object\n",
      "in_degree_0                91835 non-null float64\n",
      "out_degree_0               91835 non-null float64\n",
      "in_degree_1                91835 non-null float64\n",
      "out_degree_1               91835 non-null float64\n",
      "in_diff                    91835 non-null float64\n",
      "out_diff                   91835 non-null float64\n",
      "out_diff_ratio             67701 non-null float64\n",
      "in_diff_ratio              74166 non-null float64\n",
      "out_group                  91835 non-null int64\n",
      "dtypes: float64(20), int64(1), object(2)\n",
      "memory usage: 16.8+ MB\n"
     ]
    }
   ],
   "source": [
    "net_degree_3.info()"
   ]
  },
  {
   "cell_type": "code",
   "execution_count": 28,
   "metadata": {},
   "outputs": [
    {
     "name": "stderr",
     "output_type": "stream",
     "text": [
      "I:\\anaconda3\\lib\\site-packages\\pandas\\core\\frame.py:6211: FutureWarning: Sorting because non-concatenation axis is not aligned. A future version\n",
      "of pandas will change to not sort by default.\n",
      "\n",
      "To accept the future behavior, pass 'sort=False'.\n",
      "\n",
      "To retain the current behavior and silence the warning, pass 'sort=True'.\n",
      "\n",
      "  sort=sort)\n",
      "I:\\anaconda3\\lib\\site-packages\\ipykernel_launcher.py:8: FutureWarning: Sorting because non-concatenation axis is not aligned. A future version\n",
      "of pandas will change to not sort by default.\n",
      "\n",
      "To accept the future behavior, pass 'sort=False'.\n",
      "\n",
      "To retain the current behavior and silence the warning, pass 'sort=True'.\n",
      "\n",
      "  \n"
     ]
    }
   ],
   "source": [
    "net = [net_centrality_2003,net_centrality_2004,net_centrality_2005,net_centrality_2006,net_centrality_2007,net_centrality_2008,net_centrality_2009,net_centrality_2010,\n",
    "      net_centrality_2011,net_centrality_2012,net_centrality_2013,net_centrality_2014,net_centrality_2015]\n",
    "deg_0 = [degree_03,degree_04,degree_05,degree_06,degree_07,degree_08,degree_09,degree_10,degree_11,degree_12,degree_13,degree_14,degree_15]\n",
    "deg_1 = [degree_03,degree_05,degree_06,degree_07,degree_08,degree_09,degree_10,degree_11,degree_12,degree_13,degree_14,degree_15,degree_16]\n",
    "\n",
    "net_degree_5 = pd.DataFrame()\n",
    "for i in range(len(net)):\n",
    "    net_deg = pd.concat([net[i], deg_0[i], deg_1[i]], axis = 1)\n",
    "    net_deg = net_deg.dropna()\n",
    "    net_deg.columns = ['out_degree_centrality', 'in_degree_centrality', 'closeness_centrality',\n",
    "       'betweenness_centrality', 'eigenvector_centrality',\n",
    "       'harmonic_centrality', 'average_neighbor_degree', 'square_clustering',\n",
    "       'core_number', 'pagerank', 'hubs', 'authorities', 'year_0', 'year_00',\n",
    "       'in_degree_0', 'out_degree_0', 'year_1', 'in_degree_1', 'out_degree_1']\n",
    "    net_deg = net_deg.drop(columns = ['year_00', 'year_1'])\n",
    "    net_deg['in_diff'] = net_deg['in_degree_1'] - net_deg['in_degree_0']\n",
    "    net_deg['out_diff'] = net_deg['out_degree_1'] - net_deg['out_degree_0']\n",
    "    net_deg['out_diff_ratio'] = net_deg['out_diff']/net_deg['out_degree_0']\n",
    "    net_deg['in_diff_ratio'] = net_deg['in_diff']/net_deg['in_degree_0']\n",
    "    \n",
    "    net_deg['higher_0'] = net_deg['out_diff_ratio'].loc[net_deg['out_diff_ratio'] > 0]\n",
    "    #net_deg['higher_0'] = net_deg['higher_0'].replace([np.inf, -np.inf], np.nan)\n",
    "    #net_deg['higher_0'] = net_deg['higher_0'].fillna(0)\n",
    "    \n",
    "    net_deg['lower_0'] = net_deg['out_diff_ratio'].loc[net_deg['out_diff_ratio'] < 0]\n",
    "    #net_deg['lower_0'] = net_deg['lower_0'].replace([np.inf, -np.inf], np.nan)\n",
    "    #net_deg['lower_0'] = net_deg['lower_0'].fillna(0)\n",
    "    \n",
    "    def group_trans(num):\n",
    "        if num > net_deg['higher_0'].quantile(.5) : return 1\n",
    "        elif num < net_deg['higher_0'].quantile(.5) and num>0 : return 2\n",
    "        elif num == 0 : return 3\n",
    "        elif num <0 and num > net_deg['lower_0'].quantile(.5) : return 4\n",
    "        elif num < net_deg['lower_0'].quantile(.5) : return 5\n",
    "    \n",
    "    #net_deg['in_group'] = net_deg['in_diff'].map(group_trans)\n",
    "    net_deg['out_group'] = net_deg['out_diff_ratio'].map(group_trans)\n",
    "    net_deg['out_group'] = net_deg['out_group'].replace(np.inf, np.nan)\n",
    "    net_deg = net_deg.dropna(subset = ['out_group'])\n",
    "    net_deg = net_deg.reset_index()\n",
    "    net_deg = net_deg.rename(columns = {'index':'cusip_9'})\n",
    "    net_degree_5 = net_degree_3.append(net_deg)\n",
    "    net_degree_5.to_pickle('net_degree_5.pkl')"
   ]
  },
  {
   "cell_type": "code",
   "execution_count": null,
   "metadata": {},
   "outputs": [],
   "source": []
  }
 ],
 "metadata": {
  "kernelspec": {
   "display_name": "Python 3",
   "language": "python",
   "name": "python3"
  },
  "language_info": {
   "codemirror_mode": {
    "name": "ipython",
    "version": 3
   },
   "file_extension": ".py",
   "mimetype": "text/x-python",
   "name": "python",
   "nbconvert_exporter": "python",
   "pygments_lexer": "ipython3",
   "version": "3.6.6"
  }
 },
 "nbformat": 4,
 "nbformat_minor": 2
}
