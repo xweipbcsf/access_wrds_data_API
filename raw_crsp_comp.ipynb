{
 "cells": [
  {
   "cell_type": "code",
   "execution_count": 2,
   "metadata": {},
   "outputs": [],
   "source": [
    "import pandas as pd\n",
    "import numpy as np\n",
    "import pylab\n",
    "import datetime as dt\n",
    "import networkx as nx\n",
    "import matplotlib.pyplot as plt\n",
    "import seaborn as sns; sns.set(color_codes=True)"
   ]
  },
  {
   "cell_type": "code",
   "execution_count": 2,
   "metadata": {},
   "outputs": [],
   "source": [
    "raw = pd.read_pickle('wrds_relationship')\n",
    "#raw.head().T"
   ]
  },
  {
   "cell_type": "code",
   "execution_count": 44,
   "metadata": {},
   "outputs": [
    {
     "data": {
      "text/html": [
       "<div>\n",
       "<style scoped>\n",
       "    .dataframe tbody tr th:only-of-type {\n",
       "        vertical-align: middle;\n",
       "    }\n",
       "\n",
       "    .dataframe tbody tr th {\n",
       "        vertical-align: top;\n",
       "    }\n",
       "\n",
       "    .dataframe thead th {\n",
       "        text-align: right;\n",
       "    }\n",
       "</style>\n",
       "<table border=\"1\" class=\"dataframe\">\n",
       "  <thead>\n",
       "    <tr style=\"text-align: right;\">\n",
       "      <th></th>\n",
       "      <th>0</th>\n",
       "      <th>1</th>\n",
       "      <th>2</th>\n",
       "      <th>3</th>\n",
       "      <th>4</th>\n",
       "    </tr>\n",
       "  </thead>\n",
       "  <tbody>\n",
       "    <tr>\n",
       "      <th>start</th>\n",
       "      <td>2016-11-03 00:00:00</td>\n",
       "      <td>2016-11-03 00:00:00</td>\n",
       "      <td>2016-11-03 00:00:00</td>\n",
       "      <td>2016-11-03 00:00:00</td>\n",
       "      <td>2016-11-03 00:00:00</td>\n",
       "    </tr>\n",
       "    <tr>\n",
       "      <th>end</th>\n",
       "      <td>2017-08-10 00:00:00</td>\n",
       "      <td>2017-08-10 00:00:00</td>\n",
       "      <td>2017-08-10 00:00:00</td>\n",
       "      <td>2016-11-03 00:00:00</td>\n",
       "      <td>2016-11-03 00:00:00</td>\n",
       "    </tr>\n",
       "    <tr>\n",
       "      <th>rev_</th>\n",
       "      <td>1.86334e+09</td>\n",
       "      <td>1.86334e+09</td>\n",
       "      <td>1.86334e+09</td>\n",
       "      <td>1.86334e+09</td>\n",
       "      <td>1.86336e+09</td>\n",
       "    </tr>\n",
       "    <tr>\n",
       "      <th>id</th>\n",
       "      <td>COMP-100000146</td>\n",
       "      <td>COMP-100003419</td>\n",
       "      <td>COMP-100005033</td>\n",
       "      <td>COMP-100005156</td>\n",
       "      <td>COMP-100005156</td>\n",
       "    </tr>\n",
       "    <tr>\n",
       "      <th>rel_type</th>\n",
       "      <td>COMPETITOR</td>\n",
       "      <td>COMPETITOR</td>\n",
       "      <td>COMPETITOR</td>\n",
       "      <td>COMPETITOR</td>\n",
       "      <td>COMPETITOR</td>\n",
       "    </tr>\n",
       "    <tr>\n",
       "      <th>source_company_id</th>\n",
       "      <td>194517865</td>\n",
       "      <td>1919323</td>\n",
       "      <td>1919323</td>\n",
       "      <td>1919323</td>\n",
       "      <td>1919323</td>\n",
       "    </tr>\n",
       "    <tr>\n",
       "      <th>target_company_id</th>\n",
       "      <td>194526071</td>\n",
       "      <td>1503347</td>\n",
       "      <td>1881542</td>\n",
       "      <td>6059160</td>\n",
       "      <td>6059160</td>\n",
       "    </tr>\n",
       "    <tr>\n",
       "      <th>subsidiaries</th>\n",
       "      <td>None</td>\n",
       "      <td>None</td>\n",
       "      <td>None</td>\n",
       "      <td>None</td>\n",
       "      <td>None</td>\n",
       "    </tr>\n",
       "    <tr>\n",
       "      <th>revenue_percent</th>\n",
       "      <td>NaN</td>\n",
       "      <td>NaN</td>\n",
       "      <td>NaN</td>\n",
       "      <td>NaN</td>\n",
       "      <td>NaN</td>\n",
       "    </tr>\n",
       "    <tr>\n",
       "      <th>percent_estimated</th>\n",
       "      <td>Y</td>\n",
       "      <td>Y</td>\n",
       "      <td>Y</td>\n",
       "      <td>Y</td>\n",
       "      <td>Y</td>\n",
       "    </tr>\n",
       "    <tr>\n",
       "      <th>source_company_subsidiaries</th>\n",
       "      <td>None</td>\n",
       "      <td>None</td>\n",
       "      <td>None</td>\n",
       "      <td>None</td>\n",
       "      <td>None</td>\n",
       "    </tr>\n",
       "    <tr>\n",
       "      <th>target_company_subsidiaries</th>\n",
       "      <td>None</td>\n",
       "      <td>Thales Rail Signalling Solutions</td>\n",
       "      <td>None</td>\n",
       "      <td>None</td>\n",
       "      <td>None</td>\n",
       "    </tr>\n",
       "    <tr>\n",
       "      <th>source_name</th>\n",
       "      <td>Orosur Mining Inc</td>\n",
       "      <td>None</td>\n",
       "      <td>None</td>\n",
       "      <td>None</td>\n",
       "      <td>None</td>\n",
       "    </tr>\n",
       "    <tr>\n",
       "      <th>source_ticker</th>\n",
       "      <td>OMI-CA</td>\n",
       "      <td>None</td>\n",
       "      <td>None</td>\n",
       "      <td>None</td>\n",
       "      <td>None</td>\n",
       "    </tr>\n",
       "    <tr>\n",
       "      <th>source_cusip</th>\n",
       "      <td>687196105</td>\n",
       "      <td>None</td>\n",
       "      <td>None</td>\n",
       "      <td>None</td>\n",
       "      <td>None</td>\n",
       "    </tr>\n",
       "    <tr>\n",
       "      <th>source_isin</th>\n",
       "      <td>CA6871961059</td>\n",
       "      <td>None</td>\n",
       "      <td>None</td>\n",
       "      <td>None</td>\n",
       "      <td>None</td>\n",
       "    </tr>\n",
       "    <tr>\n",
       "      <th>source_sedol</th>\n",
       "      <td>2200091</td>\n",
       "      <td>None</td>\n",
       "      <td>None</td>\n",
       "      <td>None</td>\n",
       "      <td>None</td>\n",
       "    </tr>\n",
       "    <tr>\n",
       "      <th>target_name</th>\n",
       "      <td>Kensington Court Ventures Inc</td>\n",
       "      <td>Thales SA</td>\n",
       "      <td>Zhuzhou CSR Times Electric Co Ltd</td>\n",
       "      <td>Nanjing Automation Research Institute</td>\n",
       "      <td>Nanjing Automation Research Institute</td>\n",
       "    </tr>\n",
       "    <tr>\n",
       "      <th>target_ticker</th>\n",
       "      <td>PBR-CA</td>\n",
       "      <td>HO-FR</td>\n",
       "      <td>3898-HK</td>\n",
       "      <td>None</td>\n",
       "      <td>None</td>\n",
       "    </tr>\n",
       "    <tr>\n",
       "      <th>target_cusip</th>\n",
       "      <td>69889L104</td>\n",
       "      <td>F9156M108</td>\n",
       "      <td>Y9892N104</td>\n",
       "      <td>None</td>\n",
       "      <td>None</td>\n",
       "    </tr>\n",
       "    <tr>\n",
       "      <th>target_isin</th>\n",
       "      <td>CA69889L1040</td>\n",
       "      <td>FR0000121329</td>\n",
       "      <td>CNE1000004X4</td>\n",
       "      <td>None</td>\n",
       "      <td>None</td>\n",
       "    </tr>\n",
       "    <tr>\n",
       "      <th>target_sedol</th>\n",
       "      <td>BKMDKR3</td>\n",
       "      <td>4162791</td>\n",
       "      <td>B1L3XL6</td>\n",
       "      <td>None</td>\n",
       "      <td>None</td>\n",
       "    </tr>\n",
       "    <tr>\n",
       "      <th>relationship_id</th>\n",
       "      <td>COMP-100000146</td>\n",
       "      <td>COMP-100003419</td>\n",
       "      <td>COMP-100005033</td>\n",
       "      <td>COMP-100005156</td>\n",
       "      <td>COMP-100005156</td>\n",
       "    </tr>\n",
       "    <tr>\n",
       "      <th>source_company_keyword</th>\n",
       "      <td>Orosur</td>\n",
       "      <td>HollySys Automation Technologies</td>\n",
       "      <td>HollySys Automation Technologies</td>\n",
       "      <td>HollySys Automation Technologies</td>\n",
       "      <td>HollySys Automation Technologies</td>\n",
       "    </tr>\n",
       "    <tr>\n",
       "      <th>target_company_keyword</th>\n",
       "      <td>Kensington Court Ventures</td>\n",
       "      <td>Thales</td>\n",
       "      <td>Zhuzhou CSR</td>\n",
       "      <td>Nanjing Automation Research Institute</td>\n",
       "      <td>Nanjing Automation Research Institute</td>\n",
       "    </tr>\n",
       "    <tr>\n",
       "      <th>keyword1</th>\n",
       "      <td>Para Resources</td>\n",
       "      <td>Rail Transportation</td>\n",
       "      <td>PRC high-speed rail business</td>\n",
       "      <td>subway business</td>\n",
       "      <td>subway business</td>\n",
       "    </tr>\n",
       "    <tr>\n",
       "      <th>keyword2</th>\n",
       "      <td>gold mining</td>\n",
       "      <td>subway signaling market</td>\n",
       "      <td>Chinas 200-250km/h segment</td>\n",
       "      <td>SCADA market</td>\n",
       "      <td>SCADA market</td>\n",
       "    </tr>\n",
       "    <tr>\n",
       "      <th>keyword3</th>\n",
       "      <td>production</td>\n",
       "      <td>None</td>\n",
       "      <td>high-speed rail market</td>\n",
       "      <td>None</td>\n",
       "      <td>None</td>\n",
       "    </tr>\n",
       "    <tr>\n",
       "      <th>keyword4</th>\n",
       "      <td>None</td>\n",
       "      <td>None</td>\n",
       "      <td>None</td>\n",
       "      <td>None</td>\n",
       "      <td>None</td>\n",
       "    </tr>\n",
       "    <tr>\n",
       "      <th>keyword5</th>\n",
       "      <td>None</td>\n",
       "      <td>None</td>\n",
       "      <td>None</td>\n",
       "      <td>None</td>\n",
       "      <td>None</td>\n",
       "    </tr>\n",
       "    <tr>\n",
       "      <th>keyword6</th>\n",
       "      <td>None</td>\n",
       "      <td>None</td>\n",
       "      <td>None</td>\n",
       "      <td>None</td>\n",
       "      <td>None</td>\n",
       "    </tr>\n",
       "    <tr>\n",
       "      <th>keyword7</th>\n",
       "      <td>None</td>\n",
       "      <td>None</td>\n",
       "      <td>None</td>\n",
       "      <td>None</td>\n",
       "      <td>None</td>\n",
       "    </tr>\n",
       "    <tr>\n",
       "      <th>keyword8</th>\n",
       "      <td>None</td>\n",
       "      <td>None</td>\n",
       "      <td>None</td>\n",
       "      <td>None</td>\n",
       "      <td>None</td>\n",
       "    </tr>\n",
       "    <tr>\n",
       "      <th>keyword9</th>\n",
       "      <td>None</td>\n",
       "      <td>None</td>\n",
       "      <td>None</td>\n",
       "      <td>None</td>\n",
       "      <td>None</td>\n",
       "    </tr>\n",
       "    <tr>\n",
       "      <th>keyword10</th>\n",
       "      <td>None</td>\n",
       "      <td>None</td>\n",
       "      <td>None</td>\n",
       "      <td>None</td>\n",
       "      <td>None</td>\n",
       "    </tr>\n",
       "  </tbody>\n",
       "</table>\n",
       "</div>"
      ],
      "text/plain": [
       "                                                         0  \\\n",
       "start                                  2016-11-03 00:00:00   \n",
       "end                                    2017-08-10 00:00:00   \n",
       "rev_                                           1.86334e+09   \n",
       "id                                          COMP-100000146   \n",
       "rel_type                                        COMPETITOR   \n",
       "source_company_id                                194517865   \n",
       "target_company_id                                194526071   \n",
       "subsidiaries                                          None   \n",
       "revenue_percent                                        NaN   \n",
       "percent_estimated                                        Y   \n",
       "source_company_subsidiaries                           None   \n",
       "target_company_subsidiaries                           None   \n",
       "source_name                              Orosur Mining Inc   \n",
       "source_ticker                                       OMI-CA   \n",
       "source_cusip                                     687196105   \n",
       "source_isin                                   CA6871961059   \n",
       "source_sedol                                       2200091   \n",
       "target_name                  Kensington Court Ventures Inc   \n",
       "target_ticker                                       PBR-CA   \n",
       "target_cusip                                     69889L104   \n",
       "target_isin                                   CA69889L1040   \n",
       "target_sedol                                       BKMDKR3   \n",
       "relationship_id                             COMP-100000146   \n",
       "source_company_keyword                              Orosur   \n",
       "target_company_keyword           Kensington Court Ventures   \n",
       "keyword1                                    Para Resources   \n",
       "keyword2                                       gold mining   \n",
       "keyword3                                        production   \n",
       "keyword4                                              None   \n",
       "keyword5                                              None   \n",
       "keyword6                                              None   \n",
       "keyword7                                              None   \n",
       "keyword8                                              None   \n",
       "keyword9                                              None   \n",
       "keyword10                                             None   \n",
       "\n",
       "                                                            1  \\\n",
       "start                                     2016-11-03 00:00:00   \n",
       "end                                       2017-08-10 00:00:00   \n",
       "rev_                                              1.86334e+09   \n",
       "id                                             COMP-100003419   \n",
       "rel_type                                           COMPETITOR   \n",
       "source_company_id                                     1919323   \n",
       "target_company_id                                     1503347   \n",
       "subsidiaries                                             None   \n",
       "revenue_percent                                           NaN   \n",
       "percent_estimated                                           Y   \n",
       "source_company_subsidiaries                              None   \n",
       "target_company_subsidiaries  Thales Rail Signalling Solutions   \n",
       "source_name                                              None   \n",
       "source_ticker                                            None   \n",
       "source_cusip                                             None   \n",
       "source_isin                                              None   \n",
       "source_sedol                                             None   \n",
       "target_name                                         Thales SA   \n",
       "target_ticker                                           HO-FR   \n",
       "target_cusip                                        F9156M108   \n",
       "target_isin                                      FR0000121329   \n",
       "target_sedol                                          4162791   \n",
       "relationship_id                                COMP-100003419   \n",
       "source_company_keyword       HollySys Automation Technologies   \n",
       "target_company_keyword                                 Thales   \n",
       "keyword1                                  Rail Transportation   \n",
       "keyword2                              subway signaling market   \n",
       "keyword3                                                 None   \n",
       "keyword4                                                 None   \n",
       "keyword5                                                 None   \n",
       "keyword6                                                 None   \n",
       "keyword7                                                 None   \n",
       "keyword8                                                 None   \n",
       "keyword9                                                 None   \n",
       "keyword10                                                None   \n",
       "\n",
       "                                                             2  \\\n",
       "start                                      2016-11-03 00:00:00   \n",
       "end                                        2017-08-10 00:00:00   \n",
       "rev_                                               1.86334e+09   \n",
       "id                                              COMP-100005033   \n",
       "rel_type                                            COMPETITOR   \n",
       "source_company_id                                      1919323   \n",
       "target_company_id                                      1881542   \n",
       "subsidiaries                                              None   \n",
       "revenue_percent                                            NaN   \n",
       "percent_estimated                                            Y   \n",
       "source_company_subsidiaries                               None   \n",
       "target_company_subsidiaries                               None   \n",
       "source_name                                               None   \n",
       "source_ticker                                             None   \n",
       "source_cusip                                              None   \n",
       "source_isin                                               None   \n",
       "source_sedol                                              None   \n",
       "target_name                  Zhuzhou CSR Times Electric Co Ltd   \n",
       "target_ticker                                          3898-HK   \n",
       "target_cusip                                         Y9892N104   \n",
       "target_isin                                       CNE1000004X4   \n",
       "target_sedol                                           B1L3XL6   \n",
       "relationship_id                                 COMP-100005033   \n",
       "source_company_keyword        HollySys Automation Technologies   \n",
       "target_company_keyword                             Zhuzhou CSR   \n",
       "keyword1                          PRC high-speed rail business   \n",
       "keyword2                            Chinas 200-250km/h segment   \n",
       "keyword3                                high-speed rail market   \n",
       "keyword4                                                  None   \n",
       "keyword5                                                  None   \n",
       "keyword6                                                  None   \n",
       "keyword7                                                  None   \n",
       "keyword8                                                  None   \n",
       "keyword9                                                  None   \n",
       "keyword10                                                 None   \n",
       "\n",
       "                                                                 3  \\\n",
       "start                                          2016-11-03 00:00:00   \n",
       "end                                            2016-11-03 00:00:00   \n",
       "rev_                                                   1.86334e+09   \n",
       "id                                                  COMP-100005156   \n",
       "rel_type                                                COMPETITOR   \n",
       "source_company_id                                          1919323   \n",
       "target_company_id                                          6059160   \n",
       "subsidiaries                                                  None   \n",
       "revenue_percent                                                NaN   \n",
       "percent_estimated                                                Y   \n",
       "source_company_subsidiaries                                   None   \n",
       "target_company_subsidiaries                                   None   \n",
       "source_name                                                   None   \n",
       "source_ticker                                                 None   \n",
       "source_cusip                                                  None   \n",
       "source_isin                                                   None   \n",
       "source_sedol                                                  None   \n",
       "target_name                  Nanjing Automation Research Institute   \n",
       "target_ticker                                                 None   \n",
       "target_cusip                                                  None   \n",
       "target_isin                                                   None   \n",
       "target_sedol                                                  None   \n",
       "relationship_id                                     COMP-100005156   \n",
       "source_company_keyword            HollySys Automation Technologies   \n",
       "target_company_keyword       Nanjing Automation Research Institute   \n",
       "keyword1                                           subway business   \n",
       "keyword2                                              SCADA market   \n",
       "keyword3                                                      None   \n",
       "keyword4                                                      None   \n",
       "keyword5                                                      None   \n",
       "keyword6                                                      None   \n",
       "keyword7                                                      None   \n",
       "keyword8                                                      None   \n",
       "keyword9                                                      None   \n",
       "keyword10                                                     None   \n",
       "\n",
       "                                                                 4  \n",
       "start                                          2016-11-03 00:00:00  \n",
       "end                                            2016-11-03 00:00:00  \n",
       "rev_                                                   1.86336e+09  \n",
       "id                                                  COMP-100005156  \n",
       "rel_type                                                COMPETITOR  \n",
       "source_company_id                                          1919323  \n",
       "target_company_id                                          6059160  \n",
       "subsidiaries                                                  None  \n",
       "revenue_percent                                                NaN  \n",
       "percent_estimated                                                Y  \n",
       "source_company_subsidiaries                                   None  \n",
       "target_company_subsidiaries                                   None  \n",
       "source_name                                                   None  \n",
       "source_ticker                                                 None  \n",
       "source_cusip                                                  None  \n",
       "source_isin                                                   None  \n",
       "source_sedol                                                  None  \n",
       "target_name                  Nanjing Automation Research Institute  \n",
       "target_ticker                                                 None  \n",
       "target_cusip                                                  None  \n",
       "target_isin                                                   None  \n",
       "target_sedol                                                  None  \n",
       "relationship_id                                     COMP-100005156  \n",
       "source_company_keyword            HollySys Automation Technologies  \n",
       "target_company_keyword       Nanjing Automation Research Institute  \n",
       "keyword1                                           subway business  \n",
       "keyword2                                              SCADA market  \n",
       "keyword3                                                      None  \n",
       "keyword4                                                      None  \n",
       "keyword5                                                      None  \n",
       "keyword6                                                      None  \n",
       "keyword7                                                      None  \n",
       "keyword8                                                      None  \n",
       "keyword9                                                      None  \n",
       "keyword10                                                     None  "
      ]
     },
     "execution_count": 44,
     "metadata": {},
     "output_type": "execute_result"
    }
   ],
   "source": [
    "raw.head().T"
   ]
  },
  {
   "cell_type": "markdown",
   "metadata": {},
   "source": [
    "# Customers and Suppliers"
   ]
  },
  {
   "cell_type": "code",
   "execution_count": 66,
   "metadata": {},
   "outputs": [],
   "source": [
    "raw_customers = raw.loc[raw['rel_type'] == 'CUSTOMER']\n",
    "raw_suppliers = raw.loc[raw['rel_type'] == 'SUPPLIER']"
   ]
  },
  {
   "cell_type": "code",
   "execution_count": 67,
   "metadata": {},
   "outputs": [],
   "source": [
    "raw_customers = raw_customers[['id','start','end','rel_type','source_company_id','target_company_id', \n",
    "                               'source_ticker','source_cusip','source_isin','source_sedol',\n",
    "                              'target_ticker','target_cusip','target_isin','target_sedol']]"
   ]
  },
  {
   "cell_type": "code",
   "execution_count": 68,
   "metadata": {},
   "outputs": [],
   "source": [
    "raw_suppliers = raw_suppliers[['id','start','end','rel_type','source_company_id','target_company_id', \n",
    "                               'source_ticker','source_cusip','source_isin','source_sedol',\n",
    "                              'target_ticker','target_cusip','target_isin','target_sedol']]"
   ]
  },
  {
   "cell_type": "code",
   "execution_count": 69,
   "metadata": {},
   "outputs": [],
   "source": [
    "raw_suppliers = raw_suppliers.rename(columns={\"source_ticker\": \"target_ticker\", \n",
    "                                              \"source_cusip\": \"target_cusip\", \n",
    "                                              \"source_company_id\": \"target_company_id\",\n",
    "                                              \"source_isin\":\"target_isin\",\n",
    "                                              \"source_sedol\":\"target_sedol\",\n",
    "                                              \"target_ticker\": \"source_ticker\", \n",
    "                                              \"target_cusip\": \"source_cusip\",\n",
    "                                             \"target_company_id\": \"source_company_id\",\n",
    "                                             \"target_isin\":\"source_isin\",\n",
    "                                             \"target_sedol\":\"source_sedol\"})"
   ]
  },
  {
   "cell_type": "code",
   "execution_count": 70,
   "metadata": {},
   "outputs": [],
   "source": [
    "raw_suppliers['rel_type'] = 'CUSTOMER'"
   ]
  },
  {
   "cell_type": "code",
   "execution_count": 71,
   "metadata": {},
   "outputs": [],
   "source": [
    "raw_suppliers = raw_suppliers[['id','start','end','rel_type','source_company_id','target_company_id', \n",
    "                               'source_ticker','source_cusip','source_isin','source_sedol',\n",
    "                              'target_ticker','target_cusip','target_isin','target_sedol']]"
   ]
  },
  {
   "cell_type": "code",
   "execution_count": 72,
   "metadata": {},
   "outputs": [
    {
     "name": "stdout",
     "output_type": "stream",
     "text": [
      "<class 'pandas.core.frame.DataFrame'>\n",
      "Int64Index: 731283 entries, 419967 to 1186828\n",
      "Data columns (total 14 columns):\n",
      "id                   731283 non-null object\n",
      "start                731283 non-null datetime64[ns]\n",
      "end                  731283 non-null datetime64[ns]\n",
      "rel_type             731283 non-null object\n",
      "source_company_id    731283 non-null object\n",
      "target_company_id    731283 non-null object\n",
      "source_ticker        589308 non-null object\n",
      "source_cusip         589809 non-null object\n",
      "source_isin          589755 non-null object\n",
      "source_sedol         589809 non-null object\n",
      "target_ticker        399359 non-null object\n",
      "target_cusip         401351 non-null object\n",
      "target_isin          401233 non-null object\n",
      "target_sedol         401386 non-null object\n",
      "dtypes: datetime64[ns](2), object(12)\n",
      "memory usage: 83.7+ MB\n"
     ]
    }
   ],
   "source": [
    "raw_customers.info()"
   ]
  },
  {
   "cell_type": "code",
   "execution_count": 73,
   "metadata": {},
   "outputs": [
    {
     "name": "stdout",
     "output_type": "stream",
     "text": [
      "<class 'pandas.core.frame.DataFrame'>\n",
      "Int64Index: 256019 entries, 1732002 to 2090565\n",
      "Data columns (total 14 columns):\n",
      "id                   256019 non-null object\n",
      "start                256019 non-null datetime64[ns]\n",
      "end                  256019 non-null datetime64[ns]\n",
      "rel_type             256019 non-null object\n",
      "source_company_id    256019 non-null object\n",
      "target_company_id    256019 non-null object\n",
      "source_ticker        137061 non-null object\n",
      "source_cusip         137750 non-null object\n",
      "source_isin          137703 non-null object\n",
      "source_sedol         137762 non-null object\n",
      "target_ticker        206722 non-null object\n",
      "target_cusip         207038 non-null object\n",
      "target_isin          207038 non-null object\n",
      "target_sedol         207039 non-null object\n",
      "dtypes: datetime64[ns](2), object(12)\n",
      "memory usage: 29.3+ MB\n"
     ]
    }
   ],
   "source": [
    "raw_suppliers.info()"
   ]
  },
  {
   "cell_type": "code",
   "execution_count": 74,
   "metadata": {},
   "outputs": [],
   "source": [
    "raw_sup_cus = pd.concat([raw_customers,raw_suppliers])"
   ]
  },
  {
   "cell_type": "code",
   "execution_count": 75,
   "metadata": {},
   "outputs": [],
   "source": [
    "raw_sup_cus.to_pickle('raw_sup_cus.pkl')"
   ]
  },
  {
   "cell_type": "code",
   "execution_count": 76,
   "metadata": {},
   "outputs": [
    {
     "data": {
      "text/html": [
       "<div>\n",
       "<style scoped>\n",
       "    .dataframe tbody tr th:only-of-type {\n",
       "        vertical-align: middle;\n",
       "    }\n",
       "\n",
       "    .dataframe tbody tr th {\n",
       "        vertical-align: top;\n",
       "    }\n",
       "\n",
       "    .dataframe thead th {\n",
       "        text-align: right;\n",
       "    }\n",
       "</style>\n",
       "<table border=\"1\" class=\"dataframe\">\n",
       "  <thead>\n",
       "    <tr style=\"text-align: right;\">\n",
       "      <th></th>\n",
       "      <th>id</th>\n",
       "      <th>start</th>\n",
       "      <th>end</th>\n",
       "      <th>rel_type</th>\n",
       "      <th>source_company_id</th>\n",
       "      <th>target_company_id</th>\n",
       "      <th>source_ticker</th>\n",
       "      <th>source_cusip</th>\n",
       "      <th>source_isin</th>\n",
       "      <th>source_sedol</th>\n",
       "      <th>target_ticker</th>\n",
       "      <th>target_cusip</th>\n",
       "      <th>target_isin</th>\n",
       "      <th>target_sedol</th>\n",
       "    </tr>\n",
       "  </thead>\n",
       "  <tbody>\n",
       "    <tr>\n",
       "      <th>419967</th>\n",
       "      <td>CUST-10394-6477</td>\n",
       "      <td>2005-06-15</td>\n",
       "      <td>2005-06-15</td>\n",
       "      <td>CUSTOMER</td>\n",
       "      <td>10394</td>\n",
       "      <td>6477</td>\n",
       "      <td>None</td>\n",
       "      <td>None</td>\n",
       "      <td>None</td>\n",
       "      <td>None</td>\n",
       "      <td>None</td>\n",
       "      <td>None</td>\n",
       "      <td>None</td>\n",
       "      <td>None</td>\n",
       "    </tr>\n",
       "    <tr>\n",
       "      <th>420260</th>\n",
       "      <td>CUST-10408-1145</td>\n",
       "      <td>2003-04-03</td>\n",
       "      <td>2003-07-13</td>\n",
       "      <td>CUSTOMER</td>\n",
       "      <td>10408</td>\n",
       "      <td>1145</td>\n",
       "      <td>None</td>\n",
       "      <td>None</td>\n",
       "      <td>None</td>\n",
       "      <td>None</td>\n",
       "      <td>None</td>\n",
       "      <td>None</td>\n",
       "      <td>None</td>\n",
       "      <td>None</td>\n",
       "    </tr>\n",
       "    <tr>\n",
       "      <th>420738</th>\n",
       "      <td>CUST-10408-1145</td>\n",
       "      <td>2003-07-13</td>\n",
       "      <td>2003-07-13</td>\n",
       "      <td>CUSTOMER</td>\n",
       "      <td>10408</td>\n",
       "      <td>1145</td>\n",
       "      <td>None</td>\n",
       "      <td>None</td>\n",
       "      <td>None</td>\n",
       "      <td>None</td>\n",
       "      <td>None</td>\n",
       "      <td>None</td>\n",
       "      <td>None</td>\n",
       "      <td>None</td>\n",
       "    </tr>\n",
       "    <tr>\n",
       "      <th>420892</th>\n",
       "      <td>CUST-10435-313</td>\n",
       "      <td>2003-04-27</td>\n",
       "      <td>2005-06-15</td>\n",
       "      <td>CUSTOMER</td>\n",
       "      <td>10435</td>\n",
       "      <td>313</td>\n",
       "      <td>None</td>\n",
       "      <td>None</td>\n",
       "      <td>None</td>\n",
       "      <td>None</td>\n",
       "      <td>None</td>\n",
       "      <td>None</td>\n",
       "      <td>None</td>\n",
       "      <td>None</td>\n",
       "    </tr>\n",
       "    <tr>\n",
       "      <th>421128</th>\n",
       "      <td>CUST-10435-313</td>\n",
       "      <td>2005-06-15</td>\n",
       "      <td>2005-06-15</td>\n",
       "      <td>CUSTOMER</td>\n",
       "      <td>10435</td>\n",
       "      <td>313</td>\n",
       "      <td>None</td>\n",
       "      <td>None</td>\n",
       "      <td>None</td>\n",
       "      <td>None</td>\n",
       "      <td>None</td>\n",
       "      <td>None</td>\n",
       "      <td>None</td>\n",
       "      <td>None</td>\n",
       "    </tr>\n",
       "  </tbody>\n",
       "</table>\n",
       "</div>"
      ],
      "text/plain": [
       "                     id      start        end  rel_type source_company_id  \\\n",
       "419967  CUST-10394-6477 2005-06-15 2005-06-15  CUSTOMER             10394   \n",
       "420260  CUST-10408-1145 2003-04-03 2003-07-13  CUSTOMER             10408   \n",
       "420738  CUST-10408-1145 2003-07-13 2003-07-13  CUSTOMER             10408   \n",
       "420892   CUST-10435-313 2003-04-27 2005-06-15  CUSTOMER             10435   \n",
       "421128   CUST-10435-313 2005-06-15 2005-06-15  CUSTOMER             10435   \n",
       "\n",
       "       target_company_id source_ticker source_cusip source_isin source_sedol  \\\n",
       "419967              6477          None         None        None         None   \n",
       "420260              1145          None         None        None         None   \n",
       "420738              1145          None         None        None         None   \n",
       "420892               313          None         None        None         None   \n",
       "421128               313          None         None        None         None   \n",
       "\n",
       "       target_ticker target_cusip target_isin target_sedol  \n",
       "419967          None         None        None         None  \n",
       "420260          None         None        None         None  \n",
       "420738          None         None        None         None  \n",
       "420892          None         None        None         None  \n",
       "421128          None         None        None         None  "
      ]
     },
     "execution_count": 76,
     "metadata": {},
     "output_type": "execute_result"
    }
   ],
   "source": [
    "raw_sup_cus.head()"
   ]
  },
  {
   "cell_type": "code",
   "execution_count": 77,
   "metadata": {},
   "outputs": [
    {
     "name": "stdout",
     "output_type": "stream",
     "text": [
      "<class 'pandas.core.frame.DataFrame'>\n",
      "Int64Index: 987302 entries, 419967 to 2090565\n",
      "Data columns (total 14 columns):\n",
      "id                   987302 non-null object\n",
      "start                987302 non-null datetime64[ns]\n",
      "end                  987302 non-null datetime64[ns]\n",
      "rel_type             987302 non-null object\n",
      "source_company_id    987302 non-null object\n",
      "target_company_id    987302 non-null object\n",
      "source_ticker        726369 non-null object\n",
      "source_cusip         727559 non-null object\n",
      "source_isin          727458 non-null object\n",
      "source_sedol         727571 non-null object\n",
      "target_ticker        606081 non-null object\n",
      "target_cusip         608389 non-null object\n",
      "target_isin          608271 non-null object\n",
      "target_sedol         608425 non-null object\n",
      "dtypes: datetime64[ns](2), object(12)\n",
      "memory usage: 113.0+ MB\n"
     ]
    }
   ],
   "source": [
    "raw_sup_cus.info()"
   ]
  },
  {
   "cell_type": "code",
   "execution_count": 1,
   "metadata": {},
   "outputs": [
    {
     "ename": "NameError",
     "evalue": "name 'pd' is not defined",
     "output_type": "error",
     "traceback": [
      "\u001b[0;31m---------------------------------------------------------------------------\u001b[0m",
      "\u001b[0;31mNameError\u001b[0m                                 Traceback (most recent call last)",
      "\u001b[0;32m<ipython-input-1-e5ca6ef122b3>\u001b[0m in \u001b[0;36m<module>\u001b[0;34m()\u001b[0m\n\u001b[0;32m----> 1\u001b[0;31m \u001b[0msup_cus\u001b[0m \u001b[0;34m=\u001b[0m \u001b[0mpd\u001b[0m\u001b[0;34m.\u001b[0m\u001b[0mread_pickle\u001b[0m\u001b[0;34m(\u001b[0m\u001b[0;34m'raw_sup_cus_clean.pkl'\u001b[0m\u001b[0;34m)\u001b[0m\u001b[0;34m\u001b[0m\u001b[0m\n\u001b[0m",
      "\u001b[0;31mNameError\u001b[0m: name 'pd' is not defined"
     ]
    }
   ],
   "source": [
    "sup_cus = pd.read_pickle('raw_sup_cus_clean.pkl')"
   ]
  },
  {
   "cell_type": "code",
   "execution_count": 3,
   "metadata": {},
   "outputs": [],
   "source": [
    "raw_source = raw[['source_company_id']]\n",
    "raw_target = raw[['target_company_id']]"
   ]
  },
  {
   "cell_type": "code",
   "execution_count": 4,
   "metadata": {},
   "outputs": [],
   "source": [
    "raw_source_cusip = raw[['source_cusip']]\n",
    "raw_target_cusip = raw[['target_cusip']]"
   ]
  },
  {
   "cell_type": "code",
   "execution_count": 5,
   "metadata": {},
   "outputs": [
    {
     "name": "stderr",
     "output_type": "stream",
     "text": [
      "/Users/xingkong/anaconda3/lib/python3.6/site-packages/ipykernel_launcher.py:1: SettingWithCopyWarning: \n",
      "A value is trying to be set on a copy of a slice from a DataFrame.\n",
      "Try using .loc[row_indexer,col_indexer] = value instead\n",
      "\n",
      "See the caveats in the documentation: http://pandas.pydata.org/pandas-docs/stable/indexing.html#indexing-view-versus-copy\n",
      "  \"\"\"Entry point for launching an IPython kernel.\n",
      "/Users/xingkong/anaconda3/lib/python3.6/site-packages/ipykernel_launcher.py:2: SettingWithCopyWarning: \n",
      "A value is trying to be set on a copy of a slice from a DataFrame.\n",
      "Try using .loc[row_indexer,col_indexer] = value instead\n",
      "\n",
      "See the caveats in the documentation: http://pandas.pydata.org/pandas-docs/stable/indexing.html#indexing-view-versus-copy\n",
      "  \n"
     ]
    }
   ],
   "source": [
    "raw_source['id'] = raw_source['source_company_id']\n",
    "raw_target['id'] = raw_target['target_company_id']"
   ]
  },
  {
   "cell_type": "code",
   "execution_count": 5,
   "metadata": {},
   "outputs": [
    {
     "name": "stderr",
     "output_type": "stream",
     "text": [
      "/Users/xingkong/anaconda3/lib/python3.6/site-packages/ipykernel_launcher.py:1: SettingWithCopyWarning: \n",
      "A value is trying to be set on a copy of a slice from a DataFrame.\n",
      "Try using .loc[row_indexer,col_indexer] = value instead\n",
      "\n",
      "See the caveats in the documentation: http://pandas.pydata.org/pandas-docs/stable/indexing.html#indexing-view-versus-copy\n",
      "  \"\"\"Entry point for launching an IPython kernel.\n",
      "/Users/xingkong/anaconda3/lib/python3.6/site-packages/ipykernel_launcher.py:2: SettingWithCopyWarning: \n",
      "A value is trying to be set on a copy of a slice from a DataFrame.\n",
      "Try using .loc[row_indexer,col_indexer] = value instead\n",
      "\n",
      "See the caveats in the documentation: http://pandas.pydata.org/pandas-docs/stable/indexing.html#indexing-view-versus-copy\n",
      "  \n"
     ]
    }
   ],
   "source": [
    "raw_source_cusip['cusip'] = raw_source_cusip['source_cusip']\n",
    "raw_target_cusip['cusip'] = raw_target_cusip['target_cusip']"
   ]
  },
  {
   "cell_type": "code",
   "execution_count": 7,
   "metadata": {},
   "outputs": [],
   "source": [
    "raw_source_cusip = raw_source_cusip.drop_duplicates(subset='cusip', keep='first')\n",
    "raw_target_cusip = raw_target_cusip.drop_duplicates(subset='cusip', keep='first')"
   ]
  },
  {
   "cell_type": "code",
   "execution_count": 17,
   "metadata": {},
   "outputs": [],
   "source": [
    "raw_firm = pd.merge(raw_source, raw_target, how='outer', on=['id'])"
   ]
  },
  {
   "cell_type": "code",
   "execution_count": 8,
   "metadata": {},
   "outputs": [],
   "source": [
    "raw_cusip = pd.merge(raw_source_cusip, raw_target_cusip, how='outer', on=['cusip'])"
   ]
  },
  {
   "cell_type": "code",
   "execution_count": 9,
   "metadata": {},
   "outputs": [
    {
     "data": {
      "text/html": [
       "<div>\n",
       "<style scoped>\n",
       "    .dataframe tbody tr th:only-of-type {\n",
       "        vertical-align: middle;\n",
       "    }\n",
       "\n",
       "    .dataframe tbody tr th {\n",
       "        vertical-align: top;\n",
       "    }\n",
       "\n",
       "    .dataframe thead th {\n",
       "        text-align: right;\n",
       "    }\n",
       "</style>\n",
       "<table border=\"1\" class=\"dataframe\">\n",
       "  <thead>\n",
       "    <tr style=\"text-align: right;\">\n",
       "      <th></th>\n",
       "      <th>source_cusip</th>\n",
       "      <th>cusip</th>\n",
       "      <th>target_cusip</th>\n",
       "    </tr>\n",
       "  </thead>\n",
       "  <tbody>\n",
       "    <tr>\n",
       "      <th>33312</th>\n",
       "      <td>NaN</td>\n",
       "      <td>S8029K105</td>\n",
       "      <td>S8029K105</td>\n",
       "    </tr>\n",
       "    <tr>\n",
       "      <th>33313</th>\n",
       "      <td>NaN</td>\n",
       "      <td>Q4481P106</td>\n",
       "      <td>Q4481P106</td>\n",
       "    </tr>\n",
       "    <tr>\n",
       "      <th>33314</th>\n",
       "      <td>NaN</td>\n",
       "      <td>947621207</td>\n",
       "      <td>947621207</td>\n",
       "    </tr>\n",
       "    <tr>\n",
       "      <th>33315</th>\n",
       "      <td>NaN</td>\n",
       "      <td>Y7368L115</td>\n",
       "      <td>Y7368L115</td>\n",
       "    </tr>\n",
       "    <tr>\n",
       "      <th>33316</th>\n",
       "      <td>NaN</td>\n",
       "      <td>X7832X100</td>\n",
       "      <td>X7832X100</td>\n",
       "    </tr>\n",
       "  </tbody>\n",
       "</table>\n",
       "</div>"
      ],
      "text/plain": [
       "      source_cusip      cusip target_cusip\n",
       "33312          NaN  S8029K105    S8029K105\n",
       "33313          NaN  Q4481P106    Q4481P106\n",
       "33314          NaN  947621207    947621207\n",
       "33315          NaN  Y7368L115    Y7368L115\n",
       "33316          NaN  X7832X100    X7832X100"
      ]
     },
     "execution_count": 9,
     "metadata": {},
     "output_type": "execute_result"
    }
   ],
   "source": [
    "raw_cusip.tail()"
   ]
  },
  {
   "cell_type": "code",
   "execution_count": 10,
   "metadata": {},
   "outputs": [
    {
     "name": "stdout",
     "output_type": "stream",
     "text": [
      "<class 'pandas.core.frame.DataFrame'>\n",
      "Int64Index: 33317 entries, 0 to 33316\n",
      "Data columns (total 3 columns):\n",
      "source_cusip    25187 non-null object\n",
      "cusip           33316 non-null object\n",
      "target_cusip    28298 non-null object\n",
      "dtypes: object(3)\n",
      "memory usage: 1.0+ MB\n"
     ]
    }
   ],
   "source": [
    "raw_cusip.info()"
   ]
  },
  {
   "cell_type": "code",
   "execution_count": 21,
   "metadata": {},
   "outputs": [],
   "source": [
    "raw_firm = raw_firm.drop_duplicates(subset='id', keep='first')"
   ]
  },
  {
   "cell_type": "code",
   "execution_count": 24,
   "metadata": {},
   "outputs": [],
   "source": [
    "raw_firm = raw_firm[['id']]"
   ]
  },
  {
   "cell_type": "code",
   "execution_count": 25,
   "metadata": {},
   "outputs": [
    {
     "name": "stdout",
     "output_type": "stream",
     "text": [
      "<class 'pandas.core.frame.DataFrame'>\n",
      "Int64Index: 204494 entries, 0 to 405752863\n",
      "Data columns (total 1 columns):\n",
      "id    204494 non-null object\n",
      "dtypes: object(1)\n",
      "memory usage: 3.1+ MB\n"
     ]
    }
   ],
   "source": [
    "raw_firm.info()"
   ]
  },
  {
   "cell_type": "code",
   "execution_count": 26,
   "metadata": {},
   "outputs": [
    {
     "data": {
      "text/html": [
       "<div>\n",
       "<style scoped>\n",
       "    .dataframe tbody tr th:only-of-type {\n",
       "        vertical-align: middle;\n",
       "    }\n",
       "\n",
       "    .dataframe tbody tr th {\n",
       "        vertical-align: top;\n",
       "    }\n",
       "\n",
       "    .dataframe thead th {\n",
       "        text-align: right;\n",
       "    }\n",
       "</style>\n",
       "<table border=\"1\" class=\"dataframe\">\n",
       "  <thead>\n",
       "    <tr style=\"text-align: right;\">\n",
       "      <th></th>\n",
       "      <th>id</th>\n",
       "    </tr>\n",
       "  </thead>\n",
       "  <tbody>\n",
       "    <tr>\n",
       "      <th>0</th>\n",
       "      <td>194517865</td>\n",
       "    </tr>\n",
       "    <tr>\n",
       "      <th>24</th>\n",
       "      <td>1919323</td>\n",
       "    </tr>\n",
       "    <tr>\n",
       "      <th>1554</th>\n",
       "      <td>7954</td>\n",
       "    </tr>\n",
       "    <tr>\n",
       "      <th>5908</th>\n",
       "      <td>10001</td>\n",
       "    </tr>\n",
       "    <tr>\n",
       "      <th>6524</th>\n",
       "      <td>1863401</td>\n",
       "    </tr>\n",
       "  </tbody>\n",
       "</table>\n",
       "</div>"
      ],
      "text/plain": [
       "             id\n",
       "0     194517865\n",
       "24      1919323\n",
       "1554       7954\n",
       "5908      10001\n",
       "6524    1863401"
      ]
     },
     "execution_count": 26,
     "metadata": {},
     "output_type": "execute_result"
    }
   ],
   "source": [
    "raw_firm.head()"
   ]
  },
  {
   "cell_type": "code",
   "execution_count": 7,
   "metadata": {},
   "outputs": [],
   "source": [
    "raw_region = pd.read_pickle('company_raw.pkl')"
   ]
  },
  {
   "cell_type": "code",
   "execution_count": 27,
   "metadata": {},
   "outputs": [],
   "source": [
    "raw_firm_region = pd.merge(raw_firm, raw_region, how='inner', on=['id'])"
   ]
  },
  {
   "cell_type": "code",
   "execution_count": 28,
   "metadata": {},
   "outputs": [
    {
     "data": {
      "text/html": [
       "<div>\n",
       "<style scoped>\n",
       "    .dataframe tbody tr th:only-of-type {\n",
       "        vertical-align: middle;\n",
       "    }\n",
       "\n",
       "    .dataframe tbody tr th {\n",
       "        vertical-align: top;\n",
       "    }\n",
       "\n",
       "    .dataframe thead th {\n",
       "        text-align: right;\n",
       "    }\n",
       "</style>\n",
       "<table border=\"1\" class=\"dataframe\">\n",
       "  <thead>\n",
       "    <tr style=\"text-align: right;\">\n",
       "      <th></th>\n",
       "      <th>id</th>\n",
       "      <th>ticker</th>\n",
       "      <th>cusip</th>\n",
       "      <th>home_region</th>\n",
       "    </tr>\n",
       "  </thead>\n",
       "  <tbody>\n",
       "    <tr>\n",
       "      <th>0</th>\n",
       "      <td>194517865</td>\n",
       "      <td>OROXF</td>\n",
       "      <td>68719610</td>\n",
       "      <td>CA</td>\n",
       "    </tr>\n",
       "    <tr>\n",
       "      <th>1</th>\n",
       "      <td>194517865</td>\n",
       "      <td>OROXF</td>\n",
       "      <td>68719610</td>\n",
       "      <td>CA</td>\n",
       "    </tr>\n",
       "    <tr>\n",
       "      <th>2</th>\n",
       "      <td>194517865</td>\n",
       "      <td>OROXF</td>\n",
       "      <td>68719610</td>\n",
       "      <td>CA</td>\n",
       "    </tr>\n",
       "    <tr>\n",
       "      <th>3</th>\n",
       "      <td>194517865</td>\n",
       "      <td>OROXF</td>\n",
       "      <td>68719610</td>\n",
       "      <td>CA</td>\n",
       "    </tr>\n",
       "    <tr>\n",
       "      <th>4</th>\n",
       "      <td>194517865</td>\n",
       "      <td>OROXF</td>\n",
       "      <td>68719610</td>\n",
       "      <td>CA</td>\n",
       "    </tr>\n",
       "  </tbody>\n",
       "</table>\n",
       "</div>"
      ],
      "text/plain": [
       "          id ticker     cusip home_region\n",
       "0  194517865  OROXF  68719610          CA\n",
       "1  194517865  OROXF  68719610          CA\n",
       "2  194517865  OROXF  68719610          CA\n",
       "3  194517865  OROXF  68719610          CA\n",
       "4  194517865  OROXF  68719610          CA"
      ]
     },
     "execution_count": 28,
     "metadata": {},
     "output_type": "execute_result"
    }
   ],
   "source": [
    "raw_firm_region.head()"
   ]
  },
  {
   "cell_type": "code",
   "execution_count": 29,
   "metadata": {},
   "outputs": [
    {
     "name": "stdout",
     "output_type": "stream",
     "text": [
      "<class 'pandas.core.frame.DataFrame'>\n",
      "Int64Index: 1217259 entries, 0 to 1217258\n",
      "Data columns (total 4 columns):\n",
      "id             1217259 non-null object\n",
      "ticker         755354 non-null object\n",
      "cusip          733726 non-null object\n",
      "home_region    1063244 non-null object\n",
      "dtypes: object(4)\n",
      "memory usage: 46.4+ MB\n"
     ]
    }
   ],
   "source": [
    "raw_firm_region.info()"
   ]
  },
  {
   "cell_type": "code",
   "execution_count": 30,
   "metadata": {},
   "outputs": [],
   "source": [
    "region_hist = pd.DataFrame(raw_firm_region.groupby('home_region').size(), columns = ['numbers'])"
   ]
  },
  {
   "cell_type": "code",
   "execution_count": 35,
   "metadata": {},
   "outputs": [],
   "source": [
    "region_hist = region_hist.sort_values(['numbers'], ascending = False)[: 20]"
   ]
  },
  {
   "cell_type": "code",
   "execution_count": 37,
   "metadata": {},
   "outputs": [
    {
     "data": {
      "text/html": [
       "<div>\n",
       "<style scoped>\n",
       "    .dataframe tbody tr th:only-of-type {\n",
       "        vertical-align: middle;\n",
       "    }\n",
       "\n",
       "    .dataframe tbody tr th {\n",
       "        vertical-align: top;\n",
       "    }\n",
       "\n",
       "    .dataframe thead th {\n",
       "        text-align: right;\n",
       "    }\n",
       "</style>\n",
       "<table border=\"1\" class=\"dataframe\">\n",
       "  <thead>\n",
       "    <tr style=\"text-align: right;\">\n",
       "      <th></th>\n",
       "      <th>numbers</th>\n",
       "    </tr>\n",
       "    <tr>\n",
       "      <th>home_region</th>\n",
       "      <th></th>\n",
       "    </tr>\n",
       "  </thead>\n",
       "  <tbody>\n",
       "    <tr>\n",
       "      <th>US</th>\n",
       "      <td>228668</td>\n",
       "    </tr>\n",
       "    <tr>\n",
       "      <th>CN</th>\n",
       "      <td>134824</td>\n",
       "    </tr>\n",
       "    <tr>\n",
       "      <th>JP</th>\n",
       "      <td>87019</td>\n",
       "    </tr>\n",
       "    <tr>\n",
       "      <th>GB</th>\n",
       "      <td>50655</td>\n",
       "    </tr>\n",
       "    <tr>\n",
       "      <th>CA</th>\n",
       "      <td>44356</td>\n",
       "    </tr>\n",
       "    <tr>\n",
       "      <th>FR</th>\n",
       "      <td>32392</td>\n",
       "    </tr>\n",
       "    <tr>\n",
       "      <th>IN</th>\n",
       "      <td>32253</td>\n",
       "    </tr>\n",
       "    <tr>\n",
       "      <th>KR</th>\n",
       "      <td>31045</td>\n",
       "    </tr>\n",
       "    <tr>\n",
       "      <th>DE</th>\n",
       "      <td>30901</td>\n",
       "    </tr>\n",
       "    <tr>\n",
       "      <th>AU</th>\n",
       "      <td>27229</td>\n",
       "    </tr>\n",
       "    <tr>\n",
       "      <th>KY</th>\n",
       "      <td>26048</td>\n",
       "    </tr>\n",
       "    <tr>\n",
       "      <th>BM</th>\n",
       "      <td>25647</td>\n",
       "    </tr>\n",
       "    <tr>\n",
       "      <th>TW</th>\n",
       "      <td>24508</td>\n",
       "    </tr>\n",
       "    <tr>\n",
       "      <th>HK</th>\n",
       "      <td>17827</td>\n",
       "    </tr>\n",
       "    <tr>\n",
       "      <th>SG</th>\n",
       "      <td>12745</td>\n",
       "    </tr>\n",
       "    <tr>\n",
       "      <th>ID</th>\n",
       "      <td>12023</td>\n",
       "    </tr>\n",
       "    <tr>\n",
       "      <th>BR</th>\n",
       "      <td>11952</td>\n",
       "    </tr>\n",
       "    <tr>\n",
       "      <th>IT</th>\n",
       "      <td>10761</td>\n",
       "    </tr>\n",
       "    <tr>\n",
       "      <th>MY</th>\n",
       "      <td>10351</td>\n",
       "    </tr>\n",
       "    <tr>\n",
       "      <th>SE</th>\n",
       "      <td>10261</td>\n",
       "    </tr>\n",
       "  </tbody>\n",
       "</table>\n",
       "</div>"
      ],
      "text/plain": [
       "             numbers\n",
       "home_region         \n",
       "US            228668\n",
       "CN            134824\n",
       "JP             87019\n",
       "GB             50655\n",
       "CA             44356\n",
       "FR             32392\n",
       "IN             32253\n",
       "KR             31045\n",
       "DE             30901\n",
       "AU             27229\n",
       "KY             26048\n",
       "BM             25647\n",
       "TW             24508\n",
       "HK             17827\n",
       "SG             12745\n",
       "ID             12023\n",
       "BR             11952\n",
       "IT             10761\n",
       "MY             10351\n",
       "SE             10261"
      ]
     },
     "execution_count": 37,
     "metadata": {},
     "output_type": "execute_result"
    }
   ],
   "source": [
    "region_hist"
   ]
  },
  {
   "cell_type": "code",
   "execution_count": 41,
   "metadata": {},
   "outputs": [
    {
     "data": {
      "image/png": "[encoded data removed]",
      "text/plain": [
       "<Figure size 2160x720 with 1 Axes>"
      ]
     },
     "metadata": {},
     "output_type": "display_data"
    }
   ],
   "source": [
    "plt.figure(figsize=(30,10))\n",
    "# plot barh chart with index as x values\n",
    "ax = sns.barplot(region_hist.index,region_hist['numbers'])\n",
    "ax.set_xticklabels(region_hist.index)\n",
    "for item in ax.get_xticklabels(): item.set_rotation(90)\n",
    "#plt.show()\n",
    "pylab.rcParams['figure.figsize'] = (30, 10)\n",
    "pylab.savefig('nation_num.png', dpi=400, bbox_inches = 'tight')"
   ]
  },
  {
   "cell_type": "code",
   "execution_count": 13,
   "metadata": {},
   "outputs": [],
   "source": [
    "comp_cusip_api = pd.read_pickle('comp_cusip_api.pkl')"
   ]
  },
  {
   "cell_type": "code",
   "execution_count": 24,
   "metadata": {},
   "outputs": [],
   "source": [
    "comp_cusip_api['cusip_8'] = comp_cusip_api['cusip'].str[:8]"
   ]
  },
  {
   "cell_type": "code",
   "execution_count": 25,
   "metadata": {},
   "outputs": [
    {
     "name": "stdout",
     "output_type": "stream",
     "text": [
      "<class 'pandas.core.frame.DataFrame'>\n",
      "Int64Index: 38751 entries, 0 to 785630\n",
      "Data columns (total 3 columns):\n",
      "cusip      38750 non-null object\n",
      "tic        38745 non-null object\n",
      "cusip_8    38750 non-null object\n",
      "dtypes: object(3)\n",
      "memory usage: 1.2+ MB\n"
     ]
    }
   ],
   "source": [
    "comp_cusip_api.info()"
   ]
  },
  {
   "cell_type": "code",
   "execution_count": 26,
   "metadata": {},
   "outputs": [
    {
     "data": {
      "text/html": [
       "<div>\n",
       "<style scoped>\n",
       "    .dataframe tbody tr th:only-of-type {\n",
       "        vertical-align: middle;\n",
       "    }\n",
       "\n",
       "    .dataframe tbody tr th {\n",
       "        vertical-align: top;\n",
       "    }\n",
       "\n",
       "    .dataframe thead th {\n",
       "        text-align: right;\n",
       "    }\n",
       "</style>\n",
       "<table border=\"1\" class=\"dataframe\">\n",
       "  <thead>\n",
       "    <tr style=\"text-align: right;\">\n",
       "      <th></th>\n",
       "      <th>cusip</th>\n",
       "      <th>tic</th>\n",
       "      <th>cusip_8</th>\n",
       "    </tr>\n",
       "  </thead>\n",
       "  <tbody>\n",
       "    <tr>\n",
       "      <th>0</th>\n",
       "      <td>000032102</td>\n",
       "      <td>AE.2</td>\n",
       "      <td>00003210</td>\n",
       "    </tr>\n",
       "    <tr>\n",
       "      <th>8</th>\n",
       "      <td>000165100</td>\n",
       "      <td>AMFD.</td>\n",
       "      <td>00016510</td>\n",
       "    </tr>\n",
       "    <tr>\n",
       "      <th>15</th>\n",
       "      <td>000352104</td>\n",
       "      <td>AAIC</td>\n",
       "      <td>00035210</td>\n",
       "    </tr>\n",
       "    <tr>\n",
       "      <th>23</th>\n",
       "      <td>00099V004</td>\n",
       "      <td>4165A</td>\n",
       "      <td>00099V00</td>\n",
       "    </tr>\n",
       "    <tr>\n",
       "      <th>53</th>\n",
       "      <td>000354100</td>\n",
       "      <td>ANTQ</td>\n",
       "      <td>00035410</td>\n",
       "    </tr>\n",
       "  </tbody>\n",
       "</table>\n",
       "</div>"
      ],
      "text/plain": [
       "        cusip    tic   cusip_8\n",
       "0   000032102   AE.2  00003210\n",
       "8   000165100  AMFD.  00016510\n",
       "15  000352104   AAIC  00035210\n",
       "23  00099V004  4165A  00099V00\n",
       "53  000354100   ANTQ  00035410"
      ]
     },
     "execution_count": 26,
     "metadata": {},
     "output_type": "execute_result"
    }
   ],
   "source": [
    "comp_cusip_api.head()"
   ]
  },
  {
   "cell_type": "code",
   "execution_count": 27,
   "metadata": {},
   "outputs": [],
   "source": [
    "raw_cusip['cusip_8'] = raw_cusip['cusip'].str[:8]"
   ]
  },
  {
   "cell_type": "code",
   "execution_count": 28,
   "metadata": {},
   "outputs": [
    {
     "name": "stdout",
     "output_type": "stream",
     "text": [
      "<class 'pandas.core.frame.DataFrame'>\n",
      "Int64Index: 33317 entries, 0 to 33316\n",
      "Data columns (total 4 columns):\n",
      "source_cusip    25187 non-null object\n",
      "cusip           33316 non-null object\n",
      "target_cusip    28298 non-null object\n",
      "cusip_8         33316 non-null object\n",
      "dtypes: object(4)\n",
      "memory usage: 1.3+ MB\n"
     ]
    }
   ],
   "source": [
    "raw_cusip.info()"
   ]
  },
  {
   "cell_type": "code",
   "execution_count": 29,
   "metadata": {},
   "outputs": [
    {
     "data": {
      "text/html": [
       "<div>\n",
       "<style scoped>\n",
       "    .dataframe tbody tr th:only-of-type {\n",
       "        vertical-align: middle;\n",
       "    }\n",
       "\n",
       "    .dataframe tbody tr th {\n",
       "        vertical-align: top;\n",
       "    }\n",
       "\n",
       "    .dataframe thead th {\n",
       "        text-align: right;\n",
       "    }\n",
       "</style>\n",
       "<table border=\"1\" class=\"dataframe\">\n",
       "  <thead>\n",
       "    <tr style=\"text-align: right;\">\n",
       "      <th></th>\n",
       "      <th>source_cusip</th>\n",
       "      <th>cusip</th>\n",
       "      <th>target_cusip</th>\n",
       "      <th>cusip_8</th>\n",
       "    </tr>\n",
       "  </thead>\n",
       "  <tbody>\n",
       "    <tr>\n",
       "      <th>0</th>\n",
       "      <td>687196105</td>\n",
       "      <td>687196105</td>\n",
       "      <td>687196105</td>\n",
       "      <td>68719610</td>\n",
       "    </tr>\n",
       "    <tr>\n",
       "      <th>1</th>\n",
       "      <td>None</td>\n",
       "      <td>None</td>\n",
       "      <td>None</td>\n",
       "      <td>None</td>\n",
       "    </tr>\n",
       "    <tr>\n",
       "      <th>2</th>\n",
       "      <td>71361F100</td>\n",
       "      <td>71361F100</td>\n",
       "      <td>71361F100</td>\n",
       "      <td>71361F10</td>\n",
       "    </tr>\n",
       "    <tr>\n",
       "      <th>3</th>\n",
       "      <td>879080109</td>\n",
       "      <td>879080109</td>\n",
       "      <td>879080109</td>\n",
       "      <td>87908010</td>\n",
       "    </tr>\n",
       "    <tr>\n",
       "      <th>4</th>\n",
       "      <td>Q1498M100</td>\n",
       "      <td>Q1498M100</td>\n",
       "      <td>Q1498M100</td>\n",
       "      <td>Q1498M10</td>\n",
       "    </tr>\n",
       "  </tbody>\n",
       "</table>\n",
       "</div>"
      ],
      "text/plain": [
       "  source_cusip      cusip target_cusip   cusip_8\n",
       "0    687196105  687196105    687196105  68719610\n",
       "1         None       None         None      None\n",
       "2    71361F100  71361F100    71361F100  71361F10\n",
       "3    879080109  879080109    879080109  87908010\n",
       "4    Q1498M100  Q1498M100    Q1498M100  Q1498M10"
      ]
     },
     "execution_count": 29,
     "metadata": {},
     "output_type": "execute_result"
    }
   ],
   "source": [
    "raw_cusip.head()"
   ]
  },
  {
   "cell_type": "code",
   "execution_count": 16,
   "metadata": {},
   "outputs": [],
   "source": [
    "raw_firm_cusip = pd.merge(raw_cusip, comp_cusip_api, how='inner', on=['cusip'])"
   ]
  },
  {
   "cell_type": "code",
   "execution_count": 30,
   "metadata": {},
   "outputs": [],
   "source": [
    "cusip_8 = pd.merge(raw_cusip, comp_cusip_api, how='inner', on=['cusip_8'])"
   ]
  },
  {
   "cell_type": "code",
   "execution_count": 31,
   "metadata": {},
   "outputs": [
    {
     "name": "stdout",
     "output_type": "stream",
     "text": [
      "<class 'pandas.core.frame.DataFrame'>\n",
      "Int64Index: 7457 entries, 0 to 7456\n",
      "Data columns (total 6 columns):\n",
      "source_cusip    6124 non-null object\n",
      "cusip_x         7456 non-null object\n",
      "target_cusip    6822 non-null object\n",
      "cusip_8         7456 non-null object\n",
      "cusip_y         7456 non-null object\n",
      "tic             7456 non-null object\n",
      "dtypes: object(6)\n",
      "memory usage: 407.8+ KB\n"
     ]
    }
   ],
   "source": [
    "cusip_8.info()"
   ]
  },
  {
   "cell_type": "code",
   "execution_count": 32,
   "metadata": {},
   "outputs": [],
   "source": [
    "crsp_cusip = pd.read_pickle('crsp_cusip.pkl')"
   ]
  },
  {
   "cell_type": "code",
   "execution_count": 36,
   "metadata": {},
   "outputs": [],
   "source": [
    "crsp_cusip['cusip_8'] = crsp_cusip['cusip']"
   ]
  },
  {
   "cell_type": "code",
   "execution_count": 37,
   "metadata": {},
   "outputs": [
    {
     "data": {
      "text/html": [
       "<div>\n",
       "<style scoped>\n",
       "    .dataframe tbody tr th:only-of-type {\n",
       "        vertical-align: middle;\n",
       "    }\n",
       "\n",
       "    .dataframe tbody tr th {\n",
       "        vertical-align: top;\n",
       "    }\n",
       "\n",
       "    .dataframe thead th {\n",
       "        text-align: right;\n",
       "    }\n",
       "</style>\n",
       "<table border=\"1\" class=\"dataframe\">\n",
       "  <thead>\n",
       "    <tr style=\"text-align: right;\">\n",
       "      <th></th>\n",
       "      <th>cusip</th>\n",
       "      <th>cusip_8</th>\n",
       "    </tr>\n",
       "  </thead>\n",
       "  <tbody>\n",
       "    <tr>\n",
       "      <th>0</th>\n",
       "      <td>68391610</td>\n",
       "      <td>68391610</td>\n",
       "    </tr>\n",
       "    <tr>\n",
       "      <th>19</th>\n",
       "      <td>36720410</td>\n",
       "      <td>36720410</td>\n",
       "    </tr>\n",
       "    <tr>\n",
       "      <th>400</th>\n",
       "      <td>05978R10</td>\n",
       "      <td>05978R10</td>\n",
       "    </tr>\n",
       "    <tr>\n",
       "      <th>402</th>\n",
       "      <td>81949130</td>\n",
       "      <td>81949130</td>\n",
       "    </tr>\n",
       "    <tr>\n",
       "      <th>729</th>\n",
       "      <td>39031810</td>\n",
       "      <td>39031810</td>\n",
       "    </tr>\n",
       "  </tbody>\n",
       "</table>\n",
       "</div>"
      ],
      "text/plain": [
       "        cusip   cusip_8\n",
       "0    68391610  68391610\n",
       "19   36720410  36720410\n",
       "400  05978R10  05978R10\n",
       "402  81949130  81949130\n",
       "729  39031810  39031810"
      ]
     },
     "execution_count": 37,
     "metadata": {},
     "output_type": "execute_result"
    }
   ],
   "source": [
    "crsp_cusip.head()"
   ]
  },
  {
   "cell_type": "code",
   "execution_count": 38,
   "metadata": {},
   "outputs": [],
   "source": [
    "crsp_raw = pd.merge(raw_cusip, crsp_cusip, how='inner', on=['cusip_8'])"
   ]
  },
  {
   "cell_type": "code",
   "execution_count": 39,
   "metadata": {},
   "outputs": [
    {
     "name": "stdout",
     "output_type": "stream",
     "text": [
      "<class 'pandas.core.frame.DataFrame'>\n",
      "Int64Index: 5831 entries, 0 to 5830\n",
      "Data columns (total 5 columns):\n",
      "source_cusip    5318 non-null object\n",
      "cusip_x         5831 non-null object\n",
      "target_cusip    5387 non-null object\n",
      "cusip_8         5831 non-null object\n",
      "cusip_y         5831 non-null object\n",
      "dtypes: object(5)\n",
      "memory usage: 273.3+ KB\n"
     ]
    }
   ],
   "source": [
    "crsp_raw.info()"
   ]
  },
  {
   "cell_type": "code",
   "execution_count": 40,
   "metadata": {},
   "outputs": [],
   "source": [
    "crsp_comp = pd.merge(comp_cusip_api, crsp_cusip, how='inner', on=['cusip_8'])"
   ]
  },
  {
   "cell_type": "code",
   "execution_count": 41,
   "metadata": {},
   "outputs": [
    {
     "name": "stdout",
     "output_type": "stream",
     "text": [
      "<class 'pandas.core.frame.DataFrame'>\n",
      "Int64Index: 25581 entries, 0 to 25580\n",
      "Data columns (total 4 columns):\n",
      "cusip_x    25581 non-null object\n",
      "tic        25581 non-null object\n",
      "cusip_8    25581 non-null object\n",
      "cusip_y    25581 non-null object\n",
      "dtypes: object(4)\n",
      "memory usage: 999.3+ KB\n"
     ]
    }
   ],
   "source": [
    "crsp_comp.info()"
   ]
  },
  {
   "cell_type": "code",
   "execution_count": 42,
   "metadata": {},
   "outputs": [],
   "source": [
    "raw_crsp_comp = pd.merge(raw_cusip, crsp_comp, how='inner', on=['cusip_8'])"
   ]
  },
  {
   "cell_type": "code",
   "execution_count": 43,
   "metadata": {},
   "outputs": [
    {
     "name": "stdout",
     "output_type": "stream",
     "text": [
      "<class 'pandas.core.frame.DataFrame'>\n",
      "Int64Index: 5635 entries, 0 to 5634\n",
      "Data columns (total 7 columns):\n",
      "source_cusip    5158 non-null object\n",
      "cusip           5635 non-null object\n",
      "target_cusip    5203 non-null object\n",
      "cusip_8         5635 non-null object\n",
      "cusip_x         5635 non-null object\n",
      "tic             5635 non-null object\n",
      "cusip_y         5635 non-null object\n",
      "dtypes: object(7)\n",
      "memory usage: 352.2+ KB\n"
     ]
    }
   ],
   "source": [
    "raw_crsp_comp.info()"
   ]
  },
  {
   "cell_type": "code",
   "execution_count": null,
   "metadata": {},
   "outputs": [],
   "source": []
  }
 ],
 "metadata": {
  "kernelspec": {
   "display_name": "Python 3",
   "language": "python",
   "name": "python3"
  },
  "language_info": {
   "codemirror_mode": {
    "name": "ipython",
    "version": 3
   },
   "file_extension": ".py",
   "mimetype": "text/x-python",
   "name": "python",
   "nbconvert_exporter": "python",
   "pygments_lexer": "ipython3",
   "version": "3.6.6"
  }
 },
 "nbformat": 4,
 "nbformat_minor": 2
}
