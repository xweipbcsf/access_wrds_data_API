{
 "cells": [
  {
   "cell_type": "code",
   "execution_count": 1,
   "metadata": {},
   "outputs": [],
   "source": [
    "import pandas as pd\n",
    "import numpy as np\n",
    "import pylab\n",
    "import datetime as dt\n",
    "import networkx as nx\n",
    "import matplotlib.pyplot as plt\n",
    "import seaborn as sns; sns.set(color_codes=True)"
   ]
  },
  {
   "cell_type": "code",
   "execution_count": 2,
   "metadata": {},
   "outputs": [],
   "source": [
    "raw = pd.read_pickle('wrds_relationship')\n",
    "#raw.head().T"
   ]
  },
  {
   "cell_type": "code",
   "execution_count": 3,
   "metadata": {},
   "outputs": [
    {
     "data": {
      "text/html": [
       "<div>\n",
       "<style scoped>\n",
       "    .dataframe tbody tr th:only-of-type {\n",
       "        vertical-align: middle;\n",
       "    }\n",
       "\n",
       "    .dataframe tbody tr th {\n",
       "        vertical-align: top;\n",
       "    }\n",
       "\n",
       "    .dataframe thead th {\n",
       "        text-align: right;\n",
       "    }\n",
       "</style>\n",
       "<table border=\"1\" class=\"dataframe\">\n",
       "  <thead>\n",
       "    <tr style=\"text-align: right;\">\n",
       "      <th></th>\n",
       "      <th>0</th>\n",
       "      <th>1</th>\n",
       "      <th>2</th>\n",
       "      <th>3</th>\n",
       "      <th>4</th>\n",
       "    </tr>\n",
       "  </thead>\n",
       "  <tbody>\n",
       "    <tr>\n",
       "      <th>start</th>\n",
       "      <td>2016-11-03 00:00:00</td>\n",
       "      <td>2016-11-03 00:00:00</td>\n",
       "      <td>2016-11-03 00:00:00</td>\n",
       "      <td>2016-11-03 00:00:00</td>\n",
       "      <td>2016-11-03 00:00:00</td>\n",
       "    </tr>\n",
       "    <tr>\n",
       "      <th>end</th>\n",
       "      <td>2017-08-10 00:00:00</td>\n",
       "      <td>2017-08-10 00:00:00</td>\n",
       "      <td>2017-08-10 00:00:00</td>\n",
       "      <td>2016-11-03 00:00:00</td>\n",
       "      <td>2016-11-03 00:00:00</td>\n",
       "    </tr>\n",
       "    <tr>\n",
       "      <th>rev_</th>\n",
       "      <td>1.86334e+09</td>\n",
       "      <td>1.86334e+09</td>\n",
       "      <td>1.86334e+09</td>\n",
       "      <td>1.86334e+09</td>\n",
       "      <td>1.86336e+09</td>\n",
       "    </tr>\n",
       "    <tr>\n",
       "      <th>id</th>\n",
       "      <td>COMP-100000146</td>\n",
       "      <td>COMP-100003419</td>\n",
       "      <td>COMP-100005033</td>\n",
       "      <td>COMP-100005156</td>\n",
       "      <td>COMP-100005156</td>\n",
       "    </tr>\n",
       "    <tr>\n",
       "      <th>rel_type</th>\n",
       "      <td>COMPETITOR</td>\n",
       "      <td>COMPETITOR</td>\n",
       "      <td>COMPETITOR</td>\n",
       "      <td>COMPETITOR</td>\n",
       "      <td>COMPETITOR</td>\n",
       "    </tr>\n",
       "    <tr>\n",
       "      <th>source_company_id</th>\n",
       "      <td>194517865</td>\n",
       "      <td>1919323</td>\n",
       "      <td>1919323</td>\n",
       "      <td>1919323</td>\n",
       "      <td>1919323</td>\n",
       "    </tr>\n",
       "    <tr>\n",
       "      <th>target_company_id</th>\n",
       "      <td>194526071</td>\n",
       "      <td>1503347</td>\n",
       "      <td>1881542</td>\n",
       "      <td>6059160</td>\n",
       "      <td>6059160</td>\n",
       "    </tr>\n",
       "    <tr>\n",
       "      <th>subsidiaries</th>\n",
       "      <td>None</td>\n",
       "      <td>None</td>\n",
       "      <td>None</td>\n",
       "      <td>None</td>\n",
       "      <td>None</td>\n",
       "    </tr>\n",
       "    <tr>\n",
       "      <th>revenue_percent</th>\n",
       "      <td>NaN</td>\n",
       "      <td>NaN</td>\n",
       "      <td>NaN</td>\n",
       "      <td>NaN</td>\n",
       "      <td>NaN</td>\n",
       "    </tr>\n",
       "    <tr>\n",
       "      <th>percent_estimated</th>\n",
       "      <td>Y</td>\n",
       "      <td>Y</td>\n",
       "      <td>Y</td>\n",
       "      <td>Y</td>\n",
       "      <td>Y</td>\n",
       "    </tr>\n",
       "    <tr>\n",
       "      <th>source_company_subsidiaries</th>\n",
       "      <td>None</td>\n",
       "      <td>None</td>\n",
       "      <td>None</td>\n",
       "      <td>None</td>\n",
       "      <td>None</td>\n",
       "    </tr>\n",
       "    <tr>\n",
       "      <th>target_company_subsidiaries</th>\n",
       "      <td>None</td>\n",
       "      <td>Thales Rail Signalling Solutions</td>\n",
       "      <td>None</td>\n",
       "      <td>None</td>\n",
       "      <td>None</td>\n",
       "    </tr>\n",
       "    <tr>\n",
       "      <th>source_name</th>\n",
       "      <td>Orosur Mining Inc</td>\n",
       "      <td>None</td>\n",
       "      <td>None</td>\n",
       "      <td>None</td>\n",
       "      <td>None</td>\n",
       "    </tr>\n",
       "    <tr>\n",
       "      <th>source_ticker</th>\n",
       "      <td>OMI-CA</td>\n",
       "      <td>None</td>\n",
       "      <td>None</td>\n",
       "      <td>None</td>\n",
       "      <td>None</td>\n",
       "    </tr>\n",
       "    <tr>\n",
       "      <th>source_cusip</th>\n",
       "      <td>687196105</td>\n",
       "      <td>None</td>\n",
       "      <td>None</td>\n",
       "      <td>None</td>\n",
       "      <td>None</td>\n",
       "    </tr>\n",
       "    <tr>\n",
       "      <th>source_isin</th>\n",
       "      <td>CA6871961059</td>\n",
       "      <td>None</td>\n",
       "      <td>None</td>\n",
       "      <td>None</td>\n",
       "      <td>None</td>\n",
       "    </tr>\n",
       "    <tr>\n",
       "      <th>source_sedol</th>\n",
       "      <td>2200091</td>\n",
       "      <td>None</td>\n",
       "      <td>None</td>\n",
       "      <td>None</td>\n",
       "      <td>None</td>\n",
       "    </tr>\n",
       "    <tr>\n",
       "      <th>target_name</th>\n",
       "      <td>Kensington Court Ventures Inc</td>\n",
       "      <td>Thales SA</td>\n",
       "      <td>Zhuzhou CSR Times Electric Co Ltd</td>\n",
       "      <td>Nanjing Automation Research Institute</td>\n",
       "      <td>Nanjing Automation Research Institute</td>\n",
       "    </tr>\n",
       "    <tr>\n",
       "      <th>target_ticker</th>\n",
       "      <td>PBR-CA</td>\n",
       "      <td>HO-FR</td>\n",
       "      <td>3898-HK</td>\n",
       "      <td>None</td>\n",
       "      <td>None</td>\n",
       "    </tr>\n",
       "    <tr>\n",
       "      <th>target_cusip</th>\n",
       "      <td>69889L104</td>\n",
       "      <td>F9156M108</td>\n",
       "      <td>Y9892N104</td>\n",
       "      <td>None</td>\n",
       "      <td>None</td>\n",
       "    </tr>\n",
       "    <tr>\n",
       "      <th>target_isin</th>\n",
       "      <td>CA69889L1040</td>\n",
       "      <td>FR0000121329</td>\n",
       "      <td>CNE1000004X4</td>\n",
       "      <td>None</td>\n",
       "      <td>None</td>\n",
       "    </tr>\n",
       "    <tr>\n",
       "      <th>target_sedol</th>\n",
       "      <td>BKMDKR3</td>\n",
       "      <td>4162791</td>\n",
       "      <td>B1L3XL6</td>\n",
       "      <td>None</td>\n",
       "      <td>None</td>\n",
       "    </tr>\n",
       "    <tr>\n",
       "      <th>relationship_id</th>\n",
       "      <td>COMP-100000146</td>\n",
       "      <td>COMP-100003419</td>\n",
       "      <td>COMP-100005033</td>\n",
       "      <td>COMP-100005156</td>\n",
       "      <td>COMP-100005156</td>\n",
       "    </tr>\n",
       "    <tr>\n",
       "      <th>source_company_keyword</th>\n",
       "      <td>Orosur</td>\n",
       "      <td>HollySys Automation Technologies</td>\n",
       "      <td>HollySys Automation Technologies</td>\n",
       "      <td>HollySys Automation Technologies</td>\n",
       "      <td>HollySys Automation Technologies</td>\n",
       "    </tr>\n",
       "    <tr>\n",
       "      <th>target_company_keyword</th>\n",
       "      <td>Kensington Court Ventures</td>\n",
       "      <td>Thales</td>\n",
       "      <td>Zhuzhou CSR</td>\n",
       "      <td>Nanjing Automation Research Institute</td>\n",
       "      <td>Nanjing Automation Research Institute</td>\n",
       "    </tr>\n",
       "    <tr>\n",
       "      <th>keyword1</th>\n",
       "      <td>Para Resources</td>\n",
       "      <td>Rail Transportation</td>\n",
       "      <td>PRC high-speed rail business</td>\n",
       "      <td>subway business</td>\n",
       "      <td>subway business</td>\n",
       "    </tr>\n",
       "    <tr>\n",
       "      <th>keyword2</th>\n",
       "      <td>gold mining</td>\n",
       "      <td>subway signaling market</td>\n",
       "      <td>Chinas 200-250km/h segment</td>\n",
       "      <td>SCADA market</td>\n",
       "      <td>SCADA market</td>\n",
       "    </tr>\n",
       "    <tr>\n",
       "      <th>keyword3</th>\n",
       "      <td>production</td>\n",
       "      <td>None</td>\n",
       "      <td>high-speed rail market</td>\n",
       "      <td>None</td>\n",
       "      <td>None</td>\n",
       "    </tr>\n",
       "    <tr>\n",
       "      <th>keyword4</th>\n",
       "      <td>None</td>\n",
       "      <td>None</td>\n",
       "      <td>None</td>\n",
       "      <td>None</td>\n",
       "      <td>None</td>\n",
       "    </tr>\n",
       "    <tr>\n",
       "      <th>keyword5</th>\n",
       "      <td>None</td>\n",
       "      <td>None</td>\n",
       "      <td>None</td>\n",
       "      <td>None</td>\n",
       "      <td>None</td>\n",
       "    </tr>\n",
       "    <tr>\n",
       "      <th>keyword6</th>\n",
       "      <td>None</td>\n",
       "      <td>None</td>\n",
       "      <td>None</td>\n",
       "      <td>None</td>\n",
       "      <td>None</td>\n",
       "    </tr>\n",
       "    <tr>\n",
       "      <th>keyword7</th>\n",
       "      <td>None</td>\n",
       "      <td>None</td>\n",
       "      <td>None</td>\n",
       "      <td>None</td>\n",
       "      <td>None</td>\n",
       "    </tr>\n",
       "    <tr>\n",
       "      <th>keyword8</th>\n",
       "      <td>None</td>\n",
       "      <td>None</td>\n",
       "      <td>None</td>\n",
       "      <td>None</td>\n",
       "      <td>None</td>\n",
       "    </tr>\n",
       "    <tr>\n",
       "      <th>keyword9</th>\n",
       "      <td>None</td>\n",
       "      <td>None</td>\n",
       "      <td>None</td>\n",
       "      <td>None</td>\n",
       "      <td>None</td>\n",
       "    </tr>\n",
       "    <tr>\n",
       "      <th>keyword10</th>\n",
       "      <td>None</td>\n",
       "      <td>None</td>\n",
       "      <td>None</td>\n",
       "      <td>None</td>\n",
       "      <td>None</td>\n",
       "    </tr>\n",
       "  </tbody>\n",
       "</table>\n",
       "</div>"
      ],
      "text/plain": [
       "                                                         0  \\\n",
       "start                                  2016-11-03 00:00:00   \n",
       "end                                    2017-08-10 00:00:00   \n",
       "rev_                                           1.86334e+09   \n",
       "id                                          COMP-100000146   \n",
       "rel_type                                        COMPETITOR   \n",
       "source_company_id                                194517865   \n",
       "target_company_id                                194526071   \n",
       "subsidiaries                                          None   \n",
       "revenue_percent                                        NaN   \n",
       "percent_estimated                                        Y   \n",
       "source_company_subsidiaries                           None   \n",
       "target_company_subsidiaries                           None   \n",
       "source_name                              Orosur Mining Inc   \n",
       "source_ticker                                       OMI-CA   \n",
       "source_cusip                                     687196105   \n",
       "source_isin                                   CA6871961059   \n",
       "source_sedol                                       2200091   \n",
       "target_name                  Kensington Court Ventures Inc   \n",
       "target_ticker                                       PBR-CA   \n",
       "target_cusip                                     69889L104   \n",
       "target_isin                                   CA69889L1040   \n",
       "target_sedol                                       BKMDKR3   \n",
       "relationship_id                             COMP-100000146   \n",
       "source_company_keyword                              Orosur   \n",
       "target_company_keyword           Kensington Court Ventures   \n",
       "keyword1                                    Para Resources   \n",
       "keyword2                                       gold mining   \n",
       "keyword3                                        production   \n",
       "keyword4                                              None   \n",
       "keyword5                                              None   \n",
       "keyword6                                              None   \n",
       "keyword7                                              None   \n",
       "keyword8                                              None   \n",
       "keyword9                                              None   \n",
       "keyword10                                             None   \n",
       "\n",
       "                                                            1  \\\n",
       "start                                     2016-11-03 00:00:00   \n",
       "end                                       2017-08-10 00:00:00   \n",
       "rev_                                              1.86334e+09   \n",
       "id                                             COMP-100003419   \n",
       "rel_type                                           COMPETITOR   \n",
       "source_company_id                                     1919323   \n",
       "target_company_id                                     1503347   \n",
       "subsidiaries                                             None   \n",
       "revenue_percent                                           NaN   \n",
       "percent_estimated                                           Y   \n",
       "source_company_subsidiaries                              None   \n",
       "target_company_subsidiaries  Thales Rail Signalling Solutions   \n",
       "source_name                                              None   \n",
       "source_ticker                                            None   \n",
       "source_cusip                                             None   \n",
       "source_isin                                              None   \n",
       "source_sedol                                             None   \n",
       "target_name                                         Thales SA   \n",
       "target_ticker                                           HO-FR   \n",
       "target_cusip                                        F9156M108   \n",
       "target_isin                                      FR0000121329   \n",
       "target_sedol                                          4162791   \n",
       "relationship_id                                COMP-100003419   \n",
       "source_company_keyword       HollySys Automation Technologies   \n",
       "target_company_keyword                                 Thales   \n",
       "keyword1                                  Rail Transportation   \n",
       "keyword2                              subway signaling market   \n",
       "keyword3                                                 None   \n",
       "keyword4                                                 None   \n",
       "keyword5                                                 None   \n",
       "keyword6                                                 None   \n",
       "keyword7                                                 None   \n",
       "keyword8                                                 None   \n",
       "keyword9                                                 None   \n",
       "keyword10                                                None   \n",
       "\n",
       "                                                             2  \\\n",
       "start                                      2016-11-03 00:00:00   \n",
       "end                                        2017-08-10 00:00:00   \n",
       "rev_                                               1.86334e+09   \n",
       "id                                              COMP-100005033   \n",
       "rel_type                                            COMPETITOR   \n",
       "source_company_id                                      1919323   \n",
       "target_company_id                                      1881542   \n",
       "subsidiaries                                              None   \n",
       "revenue_percent                                            NaN   \n",
       "percent_estimated                                            Y   \n",
       "source_company_subsidiaries                               None   \n",
       "target_company_subsidiaries                               None   \n",
       "source_name                                               None   \n",
       "source_ticker                                             None   \n",
       "source_cusip                                              None   \n",
       "source_isin                                               None   \n",
       "source_sedol                                              None   \n",
       "target_name                  Zhuzhou CSR Times Electric Co Ltd   \n",
       "target_ticker                                          3898-HK   \n",
       "target_cusip                                         Y9892N104   \n",
       "target_isin                                       CNE1000004X4   \n",
       "target_sedol                                           B1L3XL6   \n",
       "relationship_id                                 COMP-100005033   \n",
       "source_company_keyword        HollySys Automation Technologies   \n",
       "target_company_keyword                             Zhuzhou CSR   \n",
       "keyword1                          PRC high-speed rail business   \n",
       "keyword2                            Chinas 200-250km/h segment   \n",
       "keyword3                                high-speed rail market   \n",
       "keyword4                                                  None   \n",
       "keyword5                                                  None   \n",
       "keyword6                                                  None   \n",
       "keyword7                                                  None   \n",
       "keyword8                                                  None   \n",
       "keyword9                                                  None   \n",
       "keyword10                                                 None   \n",
       "\n",
       "                                                                 3  \\\n",
       "start                                          2016-11-03 00:00:00   \n",
       "end                                            2016-11-03 00:00:00   \n",
       "rev_                                                   1.86334e+09   \n",
       "id                                                  COMP-100005156   \n",
       "rel_type                                                COMPETITOR   \n",
       "source_company_id                                          1919323   \n",
       "target_company_id                                          6059160   \n",
       "subsidiaries                                                  None   \n",
       "revenue_percent                                                NaN   \n",
       "percent_estimated                                                Y   \n",
       "source_company_subsidiaries                                   None   \n",
       "target_company_subsidiaries                                   None   \n",
       "source_name                                                   None   \n",
       "source_ticker                                                 None   \n",
       "source_cusip                                                  None   \n",
       "source_isin                                                   None   \n",
       "source_sedol                                                  None   \n",
       "target_name                  Nanjing Automation Research Institute   \n",
       "target_ticker                                                 None   \n",
       "target_cusip                                                  None   \n",
       "target_isin                                                   None   \n",
       "target_sedol                                                  None   \n",
       "relationship_id                                     COMP-100005156   \n",
       "source_company_keyword            HollySys Automation Technologies   \n",
       "target_company_keyword       Nanjing Automation Research Institute   \n",
       "keyword1                                           subway business   \n",
       "keyword2                                              SCADA market   \n",
       "keyword3                                                      None   \n",
       "keyword4                                                      None   \n",
       "keyword5                                                      None   \n",
       "keyword6                                                      None   \n",
       "keyword7                                                      None   \n",
       "keyword8                                                      None   \n",
       "keyword9                                                      None   \n",
       "keyword10                                                     None   \n",
       "\n",
       "                                                                 4  \n",
       "start                                          2016-11-03 00:00:00  \n",
       "end                                            2016-11-03 00:00:00  \n",
       "rev_                                                   1.86336e+09  \n",
       "id                                                  COMP-100005156  \n",
       "rel_type                                                COMPETITOR  \n",
       "source_company_id                                          1919323  \n",
       "target_company_id                                          6059160  \n",
       "subsidiaries                                                  None  \n",
       "revenue_percent                                                NaN  \n",
       "percent_estimated                                                Y  \n",
       "source_company_subsidiaries                                   None  \n",
       "target_company_subsidiaries                                   None  \n",
       "source_name                                                   None  \n",
       "source_ticker                                                 None  \n",
       "source_cusip                                                  None  \n",
       "source_isin                                                   None  \n",
       "source_sedol                                                  None  \n",
       "target_name                  Nanjing Automation Research Institute  \n",
       "target_ticker                                                 None  \n",
       "target_cusip                                                  None  \n",
       "target_isin                                                   None  \n",
       "target_sedol                                                  None  \n",
       "relationship_id                                     COMP-100005156  \n",
       "source_company_keyword            HollySys Automation Technologies  \n",
       "target_company_keyword       Nanjing Automation Research Institute  \n",
       "keyword1                                           subway business  \n",
       "keyword2                                              SCADA market  \n",
       "keyword3                                                      None  \n",
       "keyword4                                                      None  \n",
       "keyword5                                                      None  \n",
       "keyword6                                                      None  \n",
       "keyword7                                                      None  \n",
       "keyword8                                                      None  \n",
       "keyword9                                                      None  \n",
       "keyword10                                                     None  "
      ]
     },
     "execution_count": 3,
     "metadata": {},
     "output_type": "execute_result"
    }
   ],
   "source": [
    "raw.head().T"
   ]
  },
  {
   "cell_type": "code",
   "execution_count": 77,
   "metadata": {},
   "outputs": [
    {
     "data": {
      "text/plain": [
       "2090566"
      ]
     },
     "execution_count": 77,
     "metadata": {},
     "output_type": "execute_result"
    }
   ],
   "source": [
    "len(raw['id'])"
   ]
  },
  {
   "cell_type": "code",
   "execution_count": 4,
   "metadata": {},
   "outputs": [],
   "source": [
    "raw_source = raw[['source_company_id']]\n",
    "raw_target = raw[['target_company_id']]"
   ]
  },
  {
   "cell_type": "code",
   "execution_count": 6,
   "metadata": {},
   "outputs": [
    {
     "name": "stderr",
     "output_type": "stream",
     "text": [
      "/Users/xingkong/anaconda3/lib/python3.6/site-packages/ipykernel_launcher.py:1: SettingWithCopyWarning: \n",
      "A value is trying to be set on a copy of a slice from a DataFrame.\n",
      "Try using .loc[row_indexer,col_indexer] = value instead\n",
      "\n",
      "See the caveats in the documentation: http://pandas.pydata.org/pandas-docs/stable/indexing.html#indexing-view-versus-copy\n",
      "  \"\"\"Entry point for launching an IPython kernel.\n"
     ]
    }
   ],
   "source": [
    "raw_target['source_company_id'] = raw_target['target_company_id']"
   ]
  },
  {
   "cell_type": "code",
   "execution_count": 7,
   "metadata": {},
   "outputs": [
    {
     "data": {
      "text/html": [
       "<div>\n",
       "<style scoped>\n",
       "    .dataframe tbody tr th:only-of-type {\n",
       "        vertical-align: middle;\n",
       "    }\n",
       "\n",
       "    .dataframe tbody tr th {\n",
       "        vertical-align: top;\n",
       "    }\n",
       "\n",
       "    .dataframe thead th {\n",
       "        text-align: right;\n",
       "    }\n",
       "</style>\n",
       "<table border=\"1\" class=\"dataframe\">\n",
       "  <thead>\n",
       "    <tr style=\"text-align: right;\">\n",
       "      <th></th>\n",
       "      <th>target_company_id</th>\n",
       "      <th>source_company_id</th>\n",
       "    </tr>\n",
       "  </thead>\n",
       "  <tbody>\n",
       "    <tr>\n",
       "      <th>0</th>\n",
       "      <td>194526071</td>\n",
       "      <td>194526071</td>\n",
       "    </tr>\n",
       "    <tr>\n",
       "      <th>1</th>\n",
       "      <td>1503347</td>\n",
       "      <td>1503347</td>\n",
       "    </tr>\n",
       "    <tr>\n",
       "      <th>2</th>\n",
       "      <td>1881542</td>\n",
       "      <td>1881542</td>\n",
       "    </tr>\n",
       "    <tr>\n",
       "      <th>3</th>\n",
       "      <td>6059160</td>\n",
       "      <td>6059160</td>\n",
       "    </tr>\n",
       "    <tr>\n",
       "      <th>4</th>\n",
       "      <td>6059160</td>\n",
       "      <td>6059160</td>\n",
       "    </tr>\n",
       "  </tbody>\n",
       "</table>\n",
       "</div>"
      ],
      "text/plain": [
       "  target_company_id source_company_id\n",
       "0         194526071         194526071\n",
       "1           1503347           1503347\n",
       "2           1881542           1881542\n",
       "3           6059160           6059160\n",
       "4           6059160           6059160"
      ]
     },
     "execution_count": 7,
     "metadata": {},
     "output_type": "execute_result"
    }
   ],
   "source": [
    "raw_target.head()"
   ]
  },
  {
   "cell_type": "code",
   "execution_count": 8,
   "metadata": {},
   "outputs": [],
   "source": [
    "raw_firm = pd.merge(raw_source, raw_target, how='outer', on=['source_company_id'])"
   ]
  },
  {
   "cell_type": "code",
   "execution_count": 10,
   "metadata": {},
   "outputs": [
    {
     "data": {
      "text/plain": [
       "204494"
      ]
     },
     "execution_count": 10,
     "metadata": {},
     "output_type": "execute_result"
    }
   ],
   "source": [
    "len(raw_firm['source_company_id'].unique())"
   ]
  },
  {
   "cell_type": "code",
   "execution_count": 79,
   "metadata": {},
   "outputs": [
    {
     "data": {
      "text/plain": [
       "32276"
      ]
     },
     "execution_count": 79,
     "metadata": {},
     "output_type": "execute_result"
    }
   ],
   "source": [
    "len(raw['source_company_id'].unique())"
   ]
  },
  {
   "cell_type": "markdown",
   "metadata": {},
   "source": [
    "# Customers"
   ]
  },
  {
   "cell_type": "code",
   "execution_count": 3,
   "metadata": {},
   "outputs": [],
   "source": [
    "raw_customers = raw.loc[raw['rel_type'] == 'CUSTOMER']\n",
    "raw_suppliers = raw.loc[raw['rel_type'] == 'SUPPLIER']"
   ]
  },
  {
   "cell_type": "code",
   "execution_count": 4,
   "metadata": {},
   "outputs": [],
   "source": [
    "raw_customers = raw_customers[['start','end','rel_type','source_company_id','target_company_id', \n",
    "                               'source_ticker','source_cusip','source_isin','source_sedol',\n",
    "                              'target_ticker','target_cusip','target_isin','target_sedol']]"
   ]
  },
  {
   "cell_type": "code",
   "execution_count": 5,
   "metadata": {},
   "outputs": [],
   "source": [
    "raw_suppliers = raw_suppliers[['start','end','rel_type','source_company_id','target_company_id', \n",
    "                               'source_ticker','source_cusip','source_isin','source_sedol',\n",
    "                              'target_ticker','target_cusip','target_isin','target_sedol']]"
   ]
  },
  {
   "cell_type": "code",
   "execution_count": 6,
   "metadata": {},
   "outputs": [
    {
     "name": "stdout",
     "output_type": "stream",
     "text": [
      "<class 'pandas.core.frame.DataFrame'>\n",
      "Int64Index: 731283 entries, 419967 to 1186828\n",
      "Data columns (total 13 columns):\n",
      "start                731283 non-null datetime64[ns]\n",
      "end                  731283 non-null datetime64[ns]\n",
      "rel_type             731283 non-null object\n",
      "source_company_id    731283 non-null object\n",
      "target_company_id    731283 non-null object\n",
      "source_ticker        589308 non-null object\n",
      "source_cusip         589809 non-null object\n",
      "source_isin          589755 non-null object\n",
      "source_sedol         589809 non-null object\n",
      "target_ticker        399359 non-null object\n",
      "target_cusip         401351 non-null object\n",
      "target_isin          401233 non-null object\n",
      "target_sedol         401386 non-null object\n",
      "dtypes: datetime64[ns](2), object(11)\n",
      "memory usage: 78.1+ MB\n"
     ]
    }
   ],
   "source": [
    "raw_customers.info()"
   ]
  },
  {
   "cell_type": "code",
   "execution_count": 7,
   "metadata": {},
   "outputs": [
    {
     "data": {
      "text/html": [
       "<div>\n",
       "<style scoped>\n",
       "    .dataframe tbody tr th:only-of-type {\n",
       "        vertical-align: middle;\n",
       "    }\n",
       "\n",
       "    .dataframe tbody tr th {\n",
       "        vertical-align: top;\n",
       "    }\n",
       "\n",
       "    .dataframe thead th {\n",
       "        text-align: right;\n",
       "    }\n",
       "</style>\n",
       "<table border=\"1\" class=\"dataframe\">\n",
       "  <thead>\n",
       "    <tr style=\"text-align: right;\">\n",
       "      <th></th>\n",
       "      <th>start</th>\n",
       "      <th>end</th>\n",
       "      <th>rel_type</th>\n",
       "      <th>source_company_id</th>\n",
       "      <th>target_company_id</th>\n",
       "      <th>source_ticker</th>\n",
       "      <th>source_cusip</th>\n",
       "      <th>source_isin</th>\n",
       "      <th>source_sedol</th>\n",
       "      <th>target_ticker</th>\n",
       "      <th>target_cusip</th>\n",
       "      <th>target_isin</th>\n",
       "      <th>target_sedol</th>\n",
       "    </tr>\n",
       "  </thead>\n",
       "  <tbody>\n",
       "    <tr>\n",
       "      <th>1732002</th>\n",
       "      <td>2003-06-08</td>\n",
       "      <td>2003-06-08</td>\n",
       "      <td>SUPPLIER</td>\n",
       "      <td>10007</td>\n",
       "      <td>15813</td>\n",
       "      <td>None</td>\n",
       "      <td>None</td>\n",
       "      <td>None</td>\n",
       "      <td>None</td>\n",
       "      <td>None</td>\n",
       "      <td>None</td>\n",
       "      <td>None</td>\n",
       "      <td>None</td>\n",
       "    </tr>\n",
       "    <tr>\n",
       "      <th>1798242</th>\n",
       "      <td>2003-06-08</td>\n",
       "      <td>2004-05-26</td>\n",
       "      <td>SUPPLIER</td>\n",
       "      <td>10007</td>\n",
       "      <td>244091</td>\n",
       "      <td>None</td>\n",
       "      <td>None</td>\n",
       "      <td>None</td>\n",
       "      <td>None</td>\n",
       "      <td>VZ</td>\n",
       "      <td>92343V104</td>\n",
       "      <td>US92343V1044</td>\n",
       "      <td>2090571</td>\n",
       "    </tr>\n",
       "    <tr>\n",
       "      <th>1799363</th>\n",
       "      <td>2004-05-26</td>\n",
       "      <td>2004-05-26</td>\n",
       "      <td>SUPPLIER</td>\n",
       "      <td>10007</td>\n",
       "      <td>244091</td>\n",
       "      <td>None</td>\n",
       "      <td>None</td>\n",
       "      <td>None</td>\n",
       "      <td>None</td>\n",
       "      <td>VZ</td>\n",
       "      <td>92343V104</td>\n",
       "      <td>US92343V1044</td>\n",
       "      <td>2090571</td>\n",
       "    </tr>\n",
       "    <tr>\n",
       "      <th>1799560</th>\n",
       "      <td>2003-04-03</td>\n",
       "      <td>2006-12-05</td>\n",
       "      <td>SUPPLIER</td>\n",
       "      <td>10007</td>\n",
       "      <td>6259</td>\n",
       "      <td>None</td>\n",
       "      <td>None</td>\n",
       "      <td>None</td>\n",
       "      <td>None</td>\n",
       "      <td>None</td>\n",
       "      <td>None</td>\n",
       "      <td>None</td>\n",
       "      <td>None</td>\n",
       "    </tr>\n",
       "    <tr>\n",
       "      <th>1799615</th>\n",
       "      <td>2006-12-05</td>\n",
       "      <td>2006-12-05</td>\n",
       "      <td>SUPPLIER</td>\n",
       "      <td>10007</td>\n",
       "      <td>6259</td>\n",
       "      <td>None</td>\n",
       "      <td>None</td>\n",
       "      <td>None</td>\n",
       "      <td>None</td>\n",
       "      <td>None</td>\n",
       "      <td>None</td>\n",
       "      <td>None</td>\n",
       "      <td>None</td>\n",
       "    </tr>\n",
       "  </tbody>\n",
       "</table>\n",
       "</div>"
      ],
      "text/plain": [
       "             start        end  rel_type source_company_id target_company_id  \\\n",
       "1732002 2003-06-08 2003-06-08  SUPPLIER             10007             15813   \n",
       "1798242 2003-06-08 2004-05-26  SUPPLIER             10007            244091   \n",
       "1799363 2004-05-26 2004-05-26  SUPPLIER             10007            244091   \n",
       "1799560 2003-04-03 2006-12-05  SUPPLIER             10007              6259   \n",
       "1799615 2006-12-05 2006-12-05  SUPPLIER             10007              6259   \n",
       "\n",
       "        source_ticker source_cusip source_isin source_sedol target_ticker  \\\n",
       "1732002          None         None        None         None          None   \n",
       "1798242          None         None        None         None            VZ   \n",
       "1799363          None         None        None         None            VZ   \n",
       "1799560          None         None        None         None          None   \n",
       "1799615          None         None        None         None          None   \n",
       "\n",
       "        target_cusip   target_isin target_sedol  \n",
       "1732002         None          None         None  \n",
       "1798242    92343V104  US92343V1044      2090571  \n",
       "1799363    92343V104  US92343V1044      2090571  \n",
       "1799560         None          None         None  \n",
       "1799615         None          None         None  "
      ]
     },
     "execution_count": 7,
     "metadata": {},
     "output_type": "execute_result"
    }
   ],
   "source": [
    "raw_suppliers.head()"
   ]
  },
  {
   "cell_type": "code",
   "execution_count": 8,
   "metadata": {},
   "outputs": [],
   "source": [
    "df_sup_cus = pd.concat([raw_customers, raw_suppliers])"
   ]
  },
  {
   "cell_type": "code",
   "execution_count": 74,
   "metadata": {},
   "outputs": [
    {
     "data": {
      "text/plain": [
       "25300"
      ]
     },
     "execution_count": 74,
     "metadata": {},
     "output_type": "execute_result"
    }
   ],
   "source": [
    "len(df_sup_cus['source_company_id'].unique())"
   ]
  },
  {
   "cell_type": "code",
   "execution_count": 75,
   "metadata": {},
   "outputs": [
    {
     "data": {
      "text/plain": [
       "113533"
      ]
     },
     "execution_count": 75,
     "metadata": {},
     "output_type": "execute_result"
    }
   ],
   "source": [
    "len(df_sup_cus['target_company_id'].unique())"
   ]
  },
  {
   "cell_type": "code",
   "execution_count": 9,
   "metadata": {},
   "outputs": [
    {
     "data": {
      "text/html": [
       "<div>\n",
       "<style scoped>\n",
       "    .dataframe tbody tr th:only-of-type {\n",
       "        vertical-align: middle;\n",
       "    }\n",
       "\n",
       "    .dataframe tbody tr th {\n",
       "        vertical-align: top;\n",
       "    }\n",
       "\n",
       "    .dataframe thead th {\n",
       "        text-align: right;\n",
       "    }\n",
       "</style>\n",
       "<table border=\"1\" class=\"dataframe\">\n",
       "  <thead>\n",
       "    <tr style=\"text-align: right;\">\n",
       "      <th></th>\n",
       "      <th>start</th>\n",
       "      <th>end</th>\n",
       "      <th>rel_type</th>\n",
       "      <th>source_company_id</th>\n",
       "      <th>target_company_id</th>\n",
       "      <th>source_ticker</th>\n",
       "      <th>source_cusip</th>\n",
       "      <th>source_isin</th>\n",
       "      <th>source_sedol</th>\n",
       "      <th>target_ticker</th>\n",
       "      <th>target_cusip</th>\n",
       "      <th>target_isin</th>\n",
       "      <th>target_sedol</th>\n",
       "    </tr>\n",
       "  </thead>\n",
       "  <tbody>\n",
       "    <tr>\n",
       "      <th>419967</th>\n",
       "      <td>2005-06-15</td>\n",
       "      <td>2005-06-15</td>\n",
       "      <td>CUSTOMER</td>\n",
       "      <td>10394</td>\n",
       "      <td>6477</td>\n",
       "      <td>None</td>\n",
       "      <td>None</td>\n",
       "      <td>None</td>\n",
       "      <td>None</td>\n",
       "      <td>None</td>\n",
       "      <td>None</td>\n",
       "      <td>None</td>\n",
       "      <td>None</td>\n",
       "    </tr>\n",
       "    <tr>\n",
       "      <th>420260</th>\n",
       "      <td>2003-04-03</td>\n",
       "      <td>2003-07-13</td>\n",
       "      <td>CUSTOMER</td>\n",
       "      <td>10408</td>\n",
       "      <td>1145</td>\n",
       "      <td>None</td>\n",
       "      <td>None</td>\n",
       "      <td>None</td>\n",
       "      <td>None</td>\n",
       "      <td>None</td>\n",
       "      <td>None</td>\n",
       "      <td>None</td>\n",
       "      <td>None</td>\n",
       "    </tr>\n",
       "    <tr>\n",
       "      <th>420738</th>\n",
       "      <td>2003-07-13</td>\n",
       "      <td>2003-07-13</td>\n",
       "      <td>CUSTOMER</td>\n",
       "      <td>10408</td>\n",
       "      <td>1145</td>\n",
       "      <td>None</td>\n",
       "      <td>None</td>\n",
       "      <td>None</td>\n",
       "      <td>None</td>\n",
       "      <td>None</td>\n",
       "      <td>None</td>\n",
       "      <td>None</td>\n",
       "      <td>None</td>\n",
       "    </tr>\n",
       "    <tr>\n",
       "      <th>420892</th>\n",
       "      <td>2003-04-27</td>\n",
       "      <td>2005-06-15</td>\n",
       "      <td>CUSTOMER</td>\n",
       "      <td>10435</td>\n",
       "      <td>313</td>\n",
       "      <td>None</td>\n",
       "      <td>None</td>\n",
       "      <td>None</td>\n",
       "      <td>None</td>\n",
       "      <td>None</td>\n",
       "      <td>None</td>\n",
       "      <td>None</td>\n",
       "      <td>None</td>\n",
       "    </tr>\n",
       "    <tr>\n",
       "      <th>421128</th>\n",
       "      <td>2005-06-15</td>\n",
       "      <td>2005-06-15</td>\n",
       "      <td>CUSTOMER</td>\n",
       "      <td>10435</td>\n",
       "      <td>313</td>\n",
       "      <td>None</td>\n",
       "      <td>None</td>\n",
       "      <td>None</td>\n",
       "      <td>None</td>\n",
       "      <td>None</td>\n",
       "      <td>None</td>\n",
       "      <td>None</td>\n",
       "      <td>None</td>\n",
       "    </tr>\n",
       "  </tbody>\n",
       "</table>\n",
       "</div>"
      ],
      "text/plain": [
       "            start        end  rel_type source_company_id target_company_id  \\\n",
       "419967 2005-06-15 2005-06-15  CUSTOMER             10394              6477   \n",
       "420260 2003-04-03 2003-07-13  CUSTOMER             10408              1145   \n",
       "420738 2003-07-13 2003-07-13  CUSTOMER             10408              1145   \n",
       "420892 2003-04-27 2005-06-15  CUSTOMER             10435               313   \n",
       "421128 2005-06-15 2005-06-15  CUSTOMER             10435               313   \n",
       "\n",
       "       source_ticker source_cusip source_isin source_sedol target_ticker  \\\n",
       "419967          None         None        None         None          None   \n",
       "420260          None         None        None         None          None   \n",
       "420738          None         None        None         None          None   \n",
       "420892          None         None        None         None          None   \n",
       "421128          None         None        None         None          None   \n",
       "\n",
       "       target_cusip target_isin target_sedol  \n",
       "419967         None        None         None  \n",
       "420260         None        None         None  \n",
       "420738         None        None         None  \n",
       "420892         None        None         None  \n",
       "421128         None        None         None  "
      ]
     },
     "execution_count": 9,
     "metadata": {},
     "output_type": "execute_result"
    }
   ],
   "source": [
    "df_sup_cus.head()"
   ]
  },
  {
   "cell_type": "code",
   "execution_count": 10,
   "metadata": {},
   "outputs": [],
   "source": [
    "source_cusip = pd.DataFrame(df_sup_cus['source_cusip'].unique(), columns = ['source_cusip'])"
   ]
  },
  {
   "cell_type": "code",
   "execution_count": 11,
   "metadata": {},
   "outputs": [],
   "source": [
    "target_cusip = pd.DataFrame(df_sup_cus['target_cusip'].unique(), columns = ['target_cusip'])"
   ]
  },
  {
   "cell_type": "code",
   "execution_count": 12,
   "metadata": {},
   "outputs": [],
   "source": [
    "source_cusip['cusip'] = source_cusip['source_cusip']\n",
    "target_cusip['cusip'] = target_cusip['target_cusip']"
   ]
  },
  {
   "cell_type": "code",
   "execution_count": 13,
   "metadata": {},
   "outputs": [
    {
     "data": {
      "text/html": [
       "<div>\n",
       "<style scoped>\n",
       "    .dataframe tbody tr th:only-of-type {\n",
       "        vertical-align: middle;\n",
       "    }\n",
       "\n",
       "    .dataframe tbody tr th {\n",
       "        vertical-align: top;\n",
       "    }\n",
       "\n",
       "    .dataframe thead th {\n",
       "        text-align: right;\n",
       "    }\n",
       "</style>\n",
       "<table border=\"1\" class=\"dataframe\">\n",
       "  <thead>\n",
       "    <tr style=\"text-align: right;\">\n",
       "      <th></th>\n",
       "      <th>target_cusip</th>\n",
       "      <th>cusip</th>\n",
       "    </tr>\n",
       "  </thead>\n",
       "  <tbody>\n",
       "    <tr>\n",
       "      <th>0</th>\n",
       "      <td>None</td>\n",
       "      <td>None</td>\n",
       "    </tr>\n",
       "    <tr>\n",
       "      <th>1</th>\n",
       "      <td>Y7087B109</td>\n",
       "      <td>Y7087B109</td>\n",
       "    </tr>\n",
       "    <tr>\n",
       "      <th>2</th>\n",
       "      <td>Y7127B135</td>\n",
       "      <td>Y7127B135</td>\n",
       "    </tr>\n",
       "    <tr>\n",
       "      <th>3</th>\n",
       "      <td>30231G102</td>\n",
       "      <td>30231G102</td>\n",
       "    </tr>\n",
       "    <tr>\n",
       "      <th>4</th>\n",
       "      <td>Y8547N139</td>\n",
       "      <td>Y8547N139</td>\n",
       "    </tr>\n",
       "  </tbody>\n",
       "</table>\n",
       "</div>"
      ],
      "text/plain": [
       "  target_cusip      cusip\n",
       "0         None       None\n",
       "1    Y7087B109  Y7087B109\n",
       "2    Y7127B135  Y7127B135\n",
       "3    30231G102  30231G102\n",
       "4    Y8547N139  Y8547N139"
      ]
     },
     "execution_count": 13,
     "metadata": {},
     "output_type": "execute_result"
    }
   ],
   "source": [
    "target_cusip.head()"
   ]
  },
  {
   "cell_type": "code",
   "execution_count": 14,
   "metadata": {},
   "outputs": [
    {
     "name": "stdout",
     "output_type": "stream",
     "text": [
      "<class 'pandas.core.frame.DataFrame'>\n",
      "RangeIndex: 19004 entries, 0 to 19003\n",
      "Data columns (total 2 columns):\n",
      "target_cusip    19003 non-null object\n",
      "cusip           19003 non-null object\n",
      "dtypes: object(2)\n",
      "memory usage: 297.0+ KB\n"
     ]
    }
   ],
   "source": [
    "target_cusip.info()"
   ]
  },
  {
   "cell_type": "code",
   "execution_count": 15,
   "metadata": {},
   "outputs": [
    {
     "data": {
      "text/html": [
       "<div>\n",
       "<style scoped>\n",
       "    .dataframe tbody tr th:only-of-type {\n",
       "        vertical-align: middle;\n",
       "    }\n",
       "\n",
       "    .dataframe tbody tr th {\n",
       "        vertical-align: top;\n",
       "    }\n",
       "\n",
       "    .dataframe thead th {\n",
       "        text-align: right;\n",
       "    }\n",
       "</style>\n",
       "<table border=\"1\" class=\"dataframe\">\n",
       "  <thead>\n",
       "    <tr style=\"text-align: right;\">\n",
       "      <th></th>\n",
       "      <th>source_cusip</th>\n",
       "      <th>cusip</th>\n",
       "    </tr>\n",
       "  </thead>\n",
       "  <tbody>\n",
       "    <tr>\n",
       "      <th>0</th>\n",
       "      <td>None</td>\n",
       "      <td>None</td>\n",
       "    </tr>\n",
       "    <tr>\n",
       "      <th>1</th>\n",
       "      <td>Y7693G104</td>\n",
       "      <td>Y7693G104</td>\n",
       "    </tr>\n",
       "    <tr>\n",
       "      <th>2</th>\n",
       "      <td>V6796A108</td>\n",
       "      <td>V6796A108</td>\n",
       "    </tr>\n",
       "    <tr>\n",
       "      <th>3</th>\n",
       "      <td>Y1668L107</td>\n",
       "      <td>Y1668L107</td>\n",
       "    </tr>\n",
       "    <tr>\n",
       "      <th>4</th>\n",
       "      <td>J12459103</td>\n",
       "      <td>J12459103</td>\n",
       "    </tr>\n",
       "  </tbody>\n",
       "</table>\n",
       "</div>"
      ],
      "text/plain": [
       "  source_cusip      cusip\n",
       "0         None       None\n",
       "1    Y7693G104  Y7693G104\n",
       "2    V6796A108  V6796A108\n",
       "3    Y1668L107  Y1668L107\n",
       "4    J12459103  J12459103"
      ]
     },
     "execution_count": 15,
     "metadata": {},
     "output_type": "execute_result"
    }
   ],
   "source": [
    "source_cusip.head()"
   ]
  },
  {
   "cell_type": "code",
   "execution_count": 16,
   "metadata": {},
   "outputs": [
    {
     "name": "stdout",
     "output_type": "stream",
     "text": [
      "<class 'pandas.core.frame.DataFrame'>\n",
      "RangeIndex: 19711 entries, 0 to 19710\n",
      "Data columns (total 2 columns):\n",
      "source_cusip    19710 non-null object\n",
      "cusip           19710 non-null object\n",
      "dtypes: object(2)\n",
      "memory usage: 308.1+ KB\n"
     ]
    }
   ],
   "source": [
    "source_cusip.info()"
   ]
  },
  {
   "cell_type": "code",
   "execution_count": 23,
   "metadata": {},
   "outputs": [],
   "source": [
    "merge_1 = pd.merge(source_cusip, target_cusip, how='outer', on=['cusip'])"
   ]
  },
  {
   "cell_type": "code",
   "execution_count": 24,
   "metadata": {},
   "outputs": [],
   "source": [
    "merge_1['target_cusip'] = 1"
   ]
  },
  {
   "cell_type": "code",
   "execution_count": 25,
   "metadata": {},
   "outputs": [
    {
     "data": {
      "text/html": [
       "<div>\n",
       "<style scoped>\n",
       "    .dataframe tbody tr th:only-of-type {\n",
       "        vertical-align: middle;\n",
       "    }\n",
       "\n",
       "    .dataframe tbody tr th {\n",
       "        vertical-align: top;\n",
       "    }\n",
       "\n",
       "    .dataframe thead th {\n",
       "        text-align: right;\n",
       "    }\n",
       "</style>\n",
       "<table border=\"1\" class=\"dataframe\">\n",
       "  <thead>\n",
       "    <tr style=\"text-align: right;\">\n",
       "      <th></th>\n",
       "      <th>source_cusip</th>\n",
       "      <th>cusip</th>\n",
       "      <th>target_cusip</th>\n",
       "    </tr>\n",
       "  </thead>\n",
       "  <tbody>\n",
       "    <tr>\n",
       "      <th>0</th>\n",
       "      <td>None</td>\n",
       "      <td>None</td>\n",
       "      <td>1</td>\n",
       "    </tr>\n",
       "    <tr>\n",
       "      <th>1</th>\n",
       "      <td>Y7693G104</td>\n",
       "      <td>Y7693G104</td>\n",
       "      <td>1</td>\n",
       "    </tr>\n",
       "    <tr>\n",
       "      <th>2</th>\n",
       "      <td>V6796A108</td>\n",
       "      <td>V6796A108</td>\n",
       "      <td>1</td>\n",
       "    </tr>\n",
       "    <tr>\n",
       "      <th>3</th>\n",
       "      <td>Y1668L107</td>\n",
       "      <td>Y1668L107</td>\n",
       "      <td>1</td>\n",
       "    </tr>\n",
       "    <tr>\n",
       "      <th>4</th>\n",
       "      <td>J12459103</td>\n",
       "      <td>J12459103</td>\n",
       "      <td>1</td>\n",
       "    </tr>\n",
       "  </tbody>\n",
       "</table>\n",
       "</div>"
      ],
      "text/plain": [
       "  source_cusip      cusip  target_cusip\n",
       "0         None       None             1\n",
       "1    Y7693G104  Y7693G104             1\n",
       "2    V6796A108  V6796A108             1\n",
       "3    Y1668L107  Y1668L107             1\n",
       "4    J12459103  J12459103             1"
      ]
     },
     "execution_count": 25,
     "metadata": {},
     "output_type": "execute_result"
    }
   ],
   "source": [
    "merge_1.head()"
   ]
  },
  {
   "cell_type": "code",
   "execution_count": 26,
   "metadata": {},
   "outputs": [
    {
     "name": "stdout",
     "output_type": "stream",
     "text": [
      "<class 'pandas.core.frame.DataFrame'>\n",
      "Int64Index: 26122 entries, 0 to 26121\n",
      "Data columns (total 3 columns):\n",
      "source_cusip    19710 non-null object\n",
      "cusip           26121 non-null object\n",
      "target_cusip    26122 non-null int64\n",
      "dtypes: int64(1), object(2)\n",
      "memory usage: 816.3+ KB\n"
     ]
    }
   ],
   "source": [
    "merge_1.info()"
   ]
  },
  {
   "cell_type": "code",
   "execution_count": 27,
   "metadata": {},
   "outputs": [
    {
     "data": {
      "text/plain": [
       "26122"
      ]
     },
     "execution_count": 27,
     "metadata": {},
     "output_type": "execute_result"
    }
   ],
   "source": [
    "len(merge_1['cusip'].unique())"
   ]
  },
  {
   "cell_type": "code",
   "execution_count": 70,
   "metadata": {},
   "outputs": [],
   "source": [
    "# comp_cusip = pd.read_sas('comp_cusip.sas7bdat', encoding='iso-8859-1')\n",
    "# comp_cusip = comp_cusip.drop_duplicates(subset='cusip', keep='first')\n",
    "# comp_cusip = comp_cusip.set_index('cusip')\n",
    "# comp_cusip.info()"
   ]
  },
  {
   "cell_type": "code",
   "execution_count": 28,
   "metadata": {},
   "outputs": [],
   "source": [
    "comp_cusip_api = pd.read_pickle('comp_cusip_api.pkl')"
   ]
  },
  {
   "cell_type": "code",
   "execution_count": 29,
   "metadata": {},
   "outputs": [
    {
     "name": "stdout",
     "output_type": "stream",
     "text": [
      "<class 'pandas.core.frame.DataFrame'>\n",
      "Int64Index: 38751 entries, 0 to 785630\n",
      "Data columns (total 2 columns):\n",
      "cusip    38750 non-null object\n",
      "tic      38745 non-null object\n",
      "dtypes: object(2)\n",
      "memory usage: 908.2+ KB\n"
     ]
    }
   ],
   "source": [
    "comp_cusip_api.info()"
   ]
  },
  {
   "cell_type": "code",
   "execution_count": 30,
   "metadata": {},
   "outputs": [
    {
     "data": {
      "text/html": [
       "<div>\n",
       "<style scoped>\n",
       "    .dataframe tbody tr th:only-of-type {\n",
       "        vertical-align: middle;\n",
       "    }\n",
       "\n",
       "    .dataframe tbody tr th {\n",
       "        vertical-align: top;\n",
       "    }\n",
       "\n",
       "    .dataframe thead th {\n",
       "        text-align: right;\n",
       "    }\n",
       "</style>\n",
       "<table border=\"1\" class=\"dataframe\">\n",
       "  <thead>\n",
       "    <tr style=\"text-align: right;\">\n",
       "      <th></th>\n",
       "      <th>cusip</th>\n",
       "      <th>tic</th>\n",
       "    </tr>\n",
       "  </thead>\n",
       "  <tbody>\n",
       "    <tr>\n",
       "      <th>0</th>\n",
       "      <td>000032102</td>\n",
       "      <td>AE.2</td>\n",
       "    </tr>\n",
       "    <tr>\n",
       "      <th>8</th>\n",
       "      <td>000165100</td>\n",
       "      <td>AMFD.</td>\n",
       "    </tr>\n",
       "    <tr>\n",
       "      <th>15</th>\n",
       "      <td>000352104</td>\n",
       "      <td>AAIC</td>\n",
       "    </tr>\n",
       "    <tr>\n",
       "      <th>23</th>\n",
       "      <td>00099V004</td>\n",
       "      <td>4165A</td>\n",
       "    </tr>\n",
       "    <tr>\n",
       "      <th>53</th>\n",
       "      <td>000354100</td>\n",
       "      <td>ANTQ</td>\n",
       "    </tr>\n",
       "  </tbody>\n",
       "</table>\n",
       "</div>"
      ],
      "text/plain": [
       "        cusip    tic\n",
       "0   000032102   AE.2\n",
       "8   000165100  AMFD.\n",
       "15  000352104   AAIC\n",
       "23  00099V004  4165A\n",
       "53  000354100   ANTQ"
      ]
     },
     "execution_count": 30,
     "metadata": {},
     "output_type": "execute_result"
    }
   ],
   "source": [
    "comp_cusip_api.head()"
   ]
  },
  {
   "cell_type": "code",
   "execution_count": 31,
   "metadata": {},
   "outputs": [],
   "source": [
    "merge_2 = pd.merge(comp_cusip_api, merge_1,how='inner', on=['cusip'])"
   ]
  },
  {
   "cell_type": "code",
   "execution_count": 32,
   "metadata": {},
   "outputs": [
    {
     "name": "stdout",
     "output_type": "stream",
     "text": [
      "<class 'pandas.core.frame.DataFrame'>\n",
      "Int64Index: 6282 entries, 0 to 6281\n",
      "Data columns (total 4 columns):\n",
      "cusip           6281 non-null object\n",
      "tic             6281 non-null object\n",
      "source_cusip    5356 non-null object\n",
      "target_cusip    6282 non-null int64\n",
      "dtypes: int64(1), object(3)\n",
      "memory usage: 245.4+ KB\n"
     ]
    }
   ],
   "source": [
    "merge_2.info()"
   ]
  },
  {
   "cell_type": "code",
   "execution_count": 33,
   "metadata": {},
   "outputs": [
    {
     "data": {
      "text/html": [
       "<div>\n",
       "<style scoped>\n",
       "    .dataframe tbody tr th:only-of-type {\n",
       "        vertical-align: middle;\n",
       "    }\n",
       "\n",
       "    .dataframe tbody tr th {\n",
       "        vertical-align: top;\n",
       "    }\n",
       "\n",
       "    .dataframe thead th {\n",
       "        text-align: right;\n",
       "    }\n",
       "</style>\n",
       "<table border=\"1\" class=\"dataframe\">\n",
       "  <thead>\n",
       "    <tr style=\"text-align: right;\">\n",
       "      <th></th>\n",
       "      <th>cusip</th>\n",
       "      <th>tic</th>\n",
       "      <th>source_cusip</th>\n",
       "      <th>target_cusip</th>\n",
       "    </tr>\n",
       "  </thead>\n",
       "  <tbody>\n",
       "    <tr>\n",
       "      <th>0</th>\n",
       "      <td>000361105</td>\n",
       "      <td>AIR</td>\n",
       "      <td>000361105</td>\n",
       "      <td>1</td>\n",
       "    </tr>\n",
       "    <tr>\n",
       "      <th>1</th>\n",
       "      <td>02376R102</td>\n",
       "      <td>AAL</td>\n",
       "      <td>02376R102</td>\n",
       "      <td>1</td>\n",
       "    </tr>\n",
       "    <tr>\n",
       "      <th>2</th>\n",
       "      <td>001058205</td>\n",
       "      <td>IWKS</td>\n",
       "      <td>001058205</td>\n",
       "      <td>1</td>\n",
       "    </tr>\n",
       "    <tr>\n",
       "      <th>3</th>\n",
       "      <td>014752109</td>\n",
       "      <td>ALX</td>\n",
       "      <td>014752109</td>\n",
       "      <td>1</td>\n",
       "    </tr>\n",
       "    <tr>\n",
       "      <th>4</th>\n",
       "      <td>83088M102</td>\n",
       "      <td>SWKS</td>\n",
       "      <td>83088M102</td>\n",
       "      <td>1</td>\n",
       "    </tr>\n",
       "  </tbody>\n",
       "</table>\n",
       "</div>"
      ],
      "text/plain": [
       "       cusip   tic source_cusip  target_cusip\n",
       "0  000361105   AIR    000361105             1\n",
       "1  02376R102   AAL    02376R102             1\n",
       "2  001058205  IWKS    001058205             1\n",
       "3  014752109   ALX    014752109             1\n",
       "4  83088M102  SWKS    83088M102             1"
      ]
     },
     "execution_count": 33,
     "metadata": {},
     "output_type": "execute_result"
    }
   ],
   "source": [
    "merge_2.head()"
   ]
  },
  {
   "cell_type": "code",
   "execution_count": 34,
   "metadata": {},
   "outputs": [
    {
     "data": {
      "text/plain": [
       "38751"
      ]
     },
     "execution_count": 34,
     "metadata": {},
     "output_type": "execute_result"
    }
   ],
   "source": [
    "len(comp_cusip_api['cusip'].unique())"
   ]
  },
  {
   "cell_type": "code",
   "execution_count": 26,
   "metadata": {},
   "outputs": [],
   "source": [
    "company = pd.read_pickle('company.pkl')"
   ]
  },
  {
   "cell_type": "code",
   "execution_count": 42,
   "metadata": {},
   "outputs": [],
   "source": [
    "company = company.drop_duplicates(subset='cusip', keep='first')"
   ]
  },
  {
   "cell_type": "code",
   "execution_count": 43,
   "metadata": {},
   "outputs": [
    {
     "name": "stdout",
     "output_type": "stream",
     "text": [
      "<class 'pandas.core.frame.DataFrame'>\n",
      "Int64Index: 169030 entries, 0 to 1831998\n",
      "Data columns (total 4 columns):\n",
      "id        169030 non-null object\n",
      "ticker    156220 non-null object\n",
      "cusip     169029 non-null object\n",
      "sedol     112477 non-null object\n",
      "dtypes: object(4)\n",
      "memory usage: 6.4+ MB\n"
     ]
    }
   ],
   "source": [
    "company.info()"
   ]
  },
  {
   "cell_type": "code",
   "execution_count": 27,
   "metadata": {},
   "outputs": [
    {
     "data": {
      "text/html": [
       "<div>\n",
       "<style scoped>\n",
       "    .dataframe tbody tr th:only-of-type {\n",
       "        vertical-align: middle;\n",
       "    }\n",
       "\n",
       "    .dataframe tbody tr th {\n",
       "        vertical-align: top;\n",
       "    }\n",
       "\n",
       "    .dataframe thead th {\n",
       "        text-align: right;\n",
       "    }\n",
       "</style>\n",
       "<table border=\"1\" class=\"dataframe\">\n",
       "  <thead>\n",
       "    <tr style=\"text-align: right;\">\n",
       "      <th></th>\n",
       "      <th>id</th>\n",
       "      <th>ticker</th>\n",
       "      <th>cusip</th>\n",
       "      <th>sedol</th>\n",
       "    </tr>\n",
       "  </thead>\n",
       "  <tbody>\n",
       "    <tr>\n",
       "      <th>0</th>\n",
       "      <td>1647</td>\n",
       "      <td>BPL</td>\n",
       "      <td>11823010</td>\n",
       "      <td>None</td>\n",
       "    </tr>\n",
       "    <tr>\n",
       "      <th>1</th>\n",
       "      <td>4084</td>\n",
       "      <td>FMER</td>\n",
       "      <td>33791510</td>\n",
       "      <td>None</td>\n",
       "    </tr>\n",
       "    <tr>\n",
       "      <th>2</th>\n",
       "      <td>236891</td>\n",
       "      <td>ELUX</td>\n",
       "      <td>01019820</td>\n",
       "      <td>None</td>\n",
       "    </tr>\n",
       "    <tr>\n",
       "      <th>3</th>\n",
       "      <td>6729</td>\n",
       "      <td>MPOW</td>\n",
       "      <td>62473L30</td>\n",
       "      <td>None</td>\n",
       "    </tr>\n",
       "    <tr>\n",
       "      <th>4</th>\n",
       "      <td>5101</td>\n",
       "      <td>HMT</td>\n",
       "      <td>44107P10</td>\n",
       "      <td>None</td>\n",
       "    </tr>\n",
       "  </tbody>\n",
       "</table>\n",
       "</div>"
      ],
      "text/plain": [
       "       id ticker     cusip sedol\n",
       "0    1647    BPL  11823010  None\n",
       "1    4084   FMER  33791510  None\n",
       "2  236891   ELUX  01019820  None\n",
       "3    6729   MPOW  62473L30  None\n",
       "4    5101    HMT  44107P10  None"
      ]
     },
     "execution_count": 27,
     "metadata": {},
     "output_type": "execute_result"
    }
   ],
   "source": [
    "company.head()"
   ]
  },
  {
   "cell_type": "code",
   "execution_count": 44,
   "metadata": {},
   "outputs": [
    {
     "name": "stdout",
     "output_type": "stream",
     "text": [
      "<class 'pandas.core.frame.DataFrame'>\n",
      "Int64Index: 26122 entries, 0 to 26121\n",
      "Data columns (total 3 columns):\n",
      "source_cusip    19710 non-null object\n",
      "cusip           26121 non-null object\n",
      "target_cusip    19003 non-null object\n",
      "dtypes: object(3)\n",
      "memory usage: 816.3+ KB\n"
     ]
    }
   ],
   "source": [
    "merge_1.info()"
   ]
  },
  {
   "cell_type": "code",
   "execution_count": 35,
   "metadata": {},
   "outputs": [],
   "source": [
    "merge_3 = pd.merge(merge_1, company,how='inner', on=['cusip'])"
   ]
  },
  {
   "cell_type": "code",
   "execution_count": 37,
   "metadata": {},
   "outputs": [],
   "source": [
    "merge_3 = merge_3.drop_duplicates(subset='cusip', keep='first')"
   ]
  },
  {
   "cell_type": "code",
   "execution_count": 38,
   "metadata": {},
   "outputs": [
    {
     "name": "stdout",
     "output_type": "stream",
     "text": [
      "<class 'pandas.core.frame.DataFrame'>\n",
      "Int64Index: 26122 entries, 0 to 870677\n",
      "Data columns (total 6 columns):\n",
      "source_cusip    19710 non-null object\n",
      "cusip           26121 non-null object\n",
      "target_cusip    19003 non-null object\n",
      "id              26122 non-null object\n",
      "ticker          26025 non-null object\n",
      "sedol           26108 non-null object\n",
      "dtypes: object(6)\n",
      "memory usage: 1.4+ MB\n"
     ]
    }
   ],
   "source": [
    "merge_3.info()"
   ]
  },
  {
   "cell_type": "code",
   "execution_count": 39,
   "metadata": {},
   "outputs": [
    {
     "data": {
      "text/html": [
       "<div>\n",
       "<style scoped>\n",
       "    .dataframe tbody tr th:only-of-type {\n",
       "        vertical-align: middle;\n",
       "    }\n",
       "\n",
       "    .dataframe tbody tr th {\n",
       "        vertical-align: top;\n",
       "    }\n",
       "\n",
       "    .dataframe thead th {\n",
       "        text-align: right;\n",
       "    }\n",
       "</style>\n",
       "<table border=\"1\" class=\"dataframe\">\n",
       "  <thead>\n",
       "    <tr style=\"text-align: right;\">\n",
       "      <th></th>\n",
       "      <th>source_cusip</th>\n",
       "      <th>cusip</th>\n",
       "      <th>target_cusip</th>\n",
       "      <th>id</th>\n",
       "      <th>ticker</th>\n",
       "      <th>sedol</th>\n",
       "    </tr>\n",
       "  </thead>\n",
       "  <tbody>\n",
       "    <tr>\n",
       "      <th>0</th>\n",
       "      <td>None</td>\n",
       "      <td>None</td>\n",
       "      <td>None</td>\n",
       "      <td>241286</td>\n",
       "      <td>None</td>\n",
       "      <td>None</td>\n",
       "    </tr>\n",
       "    <tr>\n",
       "      <th>710747</th>\n",
       "      <td>Y7693G104</td>\n",
       "      <td>Y7693G104</td>\n",
       "      <td>Y7693G104</td>\n",
       "      <td>194505765</td>\n",
       "      <td>IW5-SG</td>\n",
       "      <td>6388755</td>\n",
       "    </tr>\n",
       "    <tr>\n",
       "      <th>710753</th>\n",
       "      <td>V6796A108</td>\n",
       "      <td>V6796A108</td>\n",
       "      <td>V6796A108</td>\n",
       "      <td>22443458</td>\n",
       "      <td>OANDO-NG</td>\n",
       "      <td>6241405</td>\n",
       "    </tr>\n",
       "    <tr>\n",
       "      <th>710759</th>\n",
       "      <td>Y1668L107</td>\n",
       "      <td>Y1668L107</td>\n",
       "      <td>Y1668L107</td>\n",
       "      <td>194527177</td>\n",
       "      <td>533278-IN</td>\n",
       "      <td>B4Z9XF5</td>\n",
       "    </tr>\n",
       "    <tr>\n",
       "      <th>710765</th>\n",
       "      <td>J12459103</td>\n",
       "      <td>J12459103</td>\n",
       "      <td>NaN</td>\n",
       "      <td>22447908</td>\n",
       "      <td>4924-JP</td>\n",
       "      <td>6591940</td>\n",
       "    </tr>\n",
       "  </tbody>\n",
       "</table>\n",
       "</div>"
      ],
      "text/plain": [
       "       source_cusip      cusip target_cusip         id     ticker    sedol\n",
       "0              None       None         None     241286       None     None\n",
       "710747    Y7693G104  Y7693G104    Y7693G104  194505765     IW5-SG  6388755\n",
       "710753    V6796A108  V6796A108    V6796A108   22443458   OANDO-NG  6241405\n",
       "710759    Y1668L107  Y1668L107    Y1668L107  194527177  533278-IN  B4Z9XF5\n",
       "710765    J12459103  J12459103          NaN   22447908    4924-JP  6591940"
      ]
     },
     "execution_count": 39,
     "metadata": {},
     "output_type": "execute_result"
    }
   ],
   "source": [
    "merge_3.head()"
   ]
  },
  {
   "cell_type": "code",
   "execution_count": 35,
   "metadata": {},
   "outputs": [
    {
     "data": {
      "text/html": [
       "<div>\n",
       "<style scoped>\n",
       "    .dataframe tbody tr th:only-of-type {\n",
       "        vertical-align: middle;\n",
       "    }\n",
       "\n",
       "    .dataframe tbody tr th {\n",
       "        vertical-align: top;\n",
       "    }\n",
       "\n",
       "    .dataframe thead th {\n",
       "        text-align: right;\n",
       "    }\n",
       "</style>\n",
       "<table border=\"1\" class=\"dataframe\">\n",
       "  <thead>\n",
       "    <tr style=\"text-align: right;\">\n",
       "      <th></th>\n",
       "      <th>gvkey</th>\n",
       "      <th>datadate</th>\n",
       "      <th>fyear</th>\n",
       "      <th>indfmt</th>\n",
       "      <th>consol</th>\n",
       "      <th>popsrc</th>\n",
       "      <th>datafmt</th>\n",
       "      <th>cusip</th>\n",
       "      <th>curcd</th>\n",
       "      <th>costat</th>\n",
       "      <th>gind</th>\n",
       "      <th>gsector</th>\n",
       "      <th>sic</th>\n",
       "    </tr>\n",
       "  </thead>\n",
       "  <tbody>\n",
       "    <tr>\n",
       "      <th>0</th>\n",
       "      <td>001004</td>\n",
       "      <td>2002-05-31</td>\n",
       "      <td>2001.0</td>\n",
       "      <td>INDL</td>\n",
       "      <td>C</td>\n",
       "      <td>D</td>\n",
       "      <td>STD</td>\n",
       "      <td>000361105</td>\n",
       "      <td>USD</td>\n",
       "      <td>A</td>\n",
       "      <td>201010</td>\n",
       "      <td>20</td>\n",
       "      <td>5080</td>\n",
       "    </tr>\n",
       "    <tr>\n",
       "      <th>1</th>\n",
       "      <td>001004</td>\n",
       "      <td>2003-05-31</td>\n",
       "      <td>2002.0</td>\n",
       "      <td>INDL</td>\n",
       "      <td>C</td>\n",
       "      <td>D</td>\n",
       "      <td>STD</td>\n",
       "      <td>000361105</td>\n",
       "      <td>USD</td>\n",
       "      <td>A</td>\n",
       "      <td>201010</td>\n",
       "      <td>20</td>\n",
       "      <td>5080</td>\n",
       "    </tr>\n",
       "    <tr>\n",
       "      <th>2</th>\n",
       "      <td>001004</td>\n",
       "      <td>2004-05-31</td>\n",
       "      <td>2003.0</td>\n",
       "      <td>INDL</td>\n",
       "      <td>C</td>\n",
       "      <td>D</td>\n",
       "      <td>STD</td>\n",
       "      <td>000361105</td>\n",
       "      <td>USD</td>\n",
       "      <td>A</td>\n",
       "      <td>201010</td>\n",
       "      <td>20</td>\n",
       "      <td>5080</td>\n",
       "    </tr>\n",
       "    <tr>\n",
       "      <th>3</th>\n",
       "      <td>001004</td>\n",
       "      <td>2005-05-31</td>\n",
       "      <td>2004.0</td>\n",
       "      <td>INDL</td>\n",
       "      <td>C</td>\n",
       "      <td>D</td>\n",
       "      <td>STD</td>\n",
       "      <td>000361105</td>\n",
       "      <td>USD</td>\n",
       "      <td>A</td>\n",
       "      <td>201010</td>\n",
       "      <td>20</td>\n",
       "      <td>5080</td>\n",
       "    </tr>\n",
       "    <tr>\n",
       "      <th>4</th>\n",
       "      <td>001004</td>\n",
       "      <td>2006-05-31</td>\n",
       "      <td>2005.0</td>\n",
       "      <td>INDL</td>\n",
       "      <td>C</td>\n",
       "      <td>D</td>\n",
       "      <td>STD</td>\n",
       "      <td>000361105</td>\n",
       "      <td>USD</td>\n",
       "      <td>A</td>\n",
       "      <td>201010</td>\n",
       "      <td>20</td>\n",
       "      <td>5080</td>\n",
       "    </tr>\n",
       "  </tbody>\n",
       "</table>\n",
       "</div>"
      ],
      "text/plain": [
       "    gvkey   datadate   fyear indfmt consol popsrc datafmt      cusip curcd  \\\n",
       "0  001004 2002-05-31  2001.0   INDL      C      D     STD  000361105   USD   \n",
       "1  001004 2003-05-31  2002.0   INDL      C      D     STD  000361105   USD   \n",
       "2  001004 2004-05-31  2003.0   INDL      C      D     STD  000361105   USD   \n",
       "3  001004 2005-05-31  2004.0   INDL      C      D     STD  000361105   USD   \n",
       "4  001004 2006-05-31  2005.0   INDL      C      D     STD  000361105   USD   \n",
       "\n",
       "  costat    gind gsector   sic  \n",
       "0      A  201010      20  5080  \n",
       "1      A  201010      20  5080  \n",
       "2      A  201010      20  5080  \n",
       "3      A  201010      20  5080  \n",
       "4      A  201010      20  5080  "
      ]
     },
     "execution_count": 35,
     "metadata": {},
     "output_type": "execute_result"
    }
   ],
   "source": [
    "comp_gics = pd.read_sas('gics.sas7bdat', encoding='iso-8859-1')\n",
    "comp_gics.head()"
   ]
  },
  {
   "cell_type": "code",
   "execution_count": 36,
   "metadata": {},
   "outputs": [],
   "source": [
    "comp_gics = comp_gics.drop_duplicates(subset='cusip', keep='first')"
   ]
  },
  {
   "cell_type": "code",
   "execution_count": 37,
   "metadata": {},
   "outputs": [
    {
     "name": "stdout",
     "output_type": "stream",
     "text": [
      "<class 'pandas.core.frame.DataFrame'>\n",
      "Int64Index: 22403 entries, 0 to 200230\n",
      "Data columns (total 13 columns):\n",
      "gvkey       22403 non-null object\n",
      "datadate    22403 non-null datetime64[ns]\n",
      "fyear       21849 non-null float64\n",
      "indfmt      22403 non-null object\n",
      "consol      22403 non-null object\n",
      "popsrc      22403 non-null object\n",
      "datafmt     22403 non-null object\n",
      "cusip       22402 non-null object\n",
      "curcd       21849 non-null object\n",
      "costat      22403 non-null object\n",
      "gind        17906 non-null object\n",
      "gsector     17906 non-null object\n",
      "sic         22403 non-null object\n",
      "dtypes: datetime64[ns](1), float64(1), object(11)\n",
      "memory usage: 2.4+ MB\n"
     ]
    }
   ],
   "source": [
    "comp_gics.info()"
   ]
  },
  {
   "cell_type": "code",
   "execution_count": 38,
   "metadata": {},
   "outputs": [],
   "source": [
    "merge_4 = pd.merge(merge_1, comp_gics,how='inner', on=['cusip'])"
   ]
  },
  {
   "cell_type": "code",
   "execution_count": 39,
   "metadata": {},
   "outputs": [
    {
     "name": "stdout",
     "output_type": "stream",
     "text": [
      "<class 'pandas.core.frame.DataFrame'>\n",
      "Int64Index: 6119 entries, 0 to 6118\n",
      "Data columns (total 15 columns):\n",
      "source_cusip    5339 non-null object\n",
      "cusip           6118 non-null object\n",
      "target_cusip    6119 non-null int64\n",
      "gvkey           6119 non-null object\n",
      "datadate        6119 non-null datetime64[ns]\n",
      "fyear           5955 non-null float64\n",
      "indfmt          6119 non-null object\n",
      "consol          6119 non-null object\n",
      "popsrc          6119 non-null object\n",
      "datafmt         6119 non-null object\n",
      "curcd           5955 non-null object\n",
      "costat          6119 non-null object\n",
      "gind            6094 non-null object\n",
      "gsector         6094 non-null object\n",
      "sic             6119 non-null object\n",
      "dtypes: datetime64[ns](1), float64(1), int64(1), object(12)\n",
      "memory usage: 764.9+ KB\n"
     ]
    }
   ],
   "source": [
    "merge_4.info()"
   ]
  },
  {
   "cell_type": "code",
   "execution_count": 40,
   "metadata": {},
   "outputs": [
    {
     "data": {
      "text/plain": [
       "72"
      ]
     },
     "execution_count": 40,
     "metadata": {},
     "output_type": "execute_result"
    }
   ],
   "source": [
    "len(merge_4['gind'].unique())"
   ]
  },
  {
   "cell_type": "code",
   "execution_count": 56,
   "metadata": {},
   "outputs": [
    {
     "data": {
      "text/html": [
       "<div>\n",
       "<style scoped>\n",
       "    .dataframe tbody tr th:only-of-type {\n",
       "        vertical-align: middle;\n",
       "    }\n",
       "\n",
       "    .dataframe tbody tr th {\n",
       "        vertical-align: top;\n",
       "    }\n",
       "\n",
       "    .dataframe thead th {\n",
       "        text-align: right;\n",
       "    }\n",
       "</style>\n",
       "<table border=\"1\" class=\"dataframe\">\n",
       "  <thead>\n",
       "    <tr style=\"text-align: right;\">\n",
       "      <th></th>\n",
       "      <th>source_cusip</th>\n",
       "      <th>cusip</th>\n",
       "      <th>target_cusip</th>\n",
       "      <th>gvkey</th>\n",
       "      <th>datadate</th>\n",
       "      <th>fyear</th>\n",
       "      <th>indfmt</th>\n",
       "      <th>consol</th>\n",
       "      <th>popsrc</th>\n",
       "      <th>datafmt</th>\n",
       "      <th>curcd</th>\n",
       "      <th>costat</th>\n",
       "      <th>gind</th>\n",
       "      <th>gsector</th>\n",
       "      <th>sic</th>\n",
       "    </tr>\n",
       "  </thead>\n",
       "  <tbody>\n",
       "    <tr>\n",
       "      <th>0</th>\n",
       "      <td>None</td>\n",
       "      <td>None</td>\n",
       "      <td>None</td>\n",
       "      <td>144220</td>\n",
       "      <td>2011-12-31</td>\n",
       "      <td>2011.0</td>\n",
       "      <td>INDL</td>\n",
       "      <td>C</td>\n",
       "      <td>D</td>\n",
       "      <td>STD</td>\n",
       "      <td>USD</td>\n",
       "      <td>I</td>\n",
       "      <td>NaN</td>\n",
       "      <td>NaN</td>\n",
       "      <td>6726</td>\n",
       "    </tr>\n",
       "    <tr>\n",
       "      <th>1</th>\n",
       "      <td>630402105</td>\n",
       "      <td>630402105</td>\n",
       "      <td>630402105</td>\n",
       "      <td>007685</td>\n",
       "      <td>2002-06-30</td>\n",
       "      <td>2002.0</td>\n",
       "      <td>INDL</td>\n",
       "      <td>C</td>\n",
       "      <td>D</td>\n",
       "      <td>STD</td>\n",
       "      <td>USD</td>\n",
       "      <td>A</td>\n",
       "      <td>452030</td>\n",
       "      <td>45</td>\n",
       "      <td>3669</td>\n",
       "    </tr>\n",
       "    <tr>\n",
       "      <th>2</th>\n",
       "      <td>247748106</td>\n",
       "      <td>247748106</td>\n",
       "      <td>NaN</td>\n",
       "      <td>003855</td>\n",
       "      <td>2002-06-30</td>\n",
       "      <td>2002.0</td>\n",
       "      <td>INDL</td>\n",
       "      <td>C</td>\n",
       "      <td>D</td>\n",
       "      <td>STD</td>\n",
       "      <td>USD</td>\n",
       "      <td>I</td>\n",
       "      <td>551020</td>\n",
       "      <td>55</td>\n",
       "      <td>4923</td>\n",
       "    </tr>\n",
       "    <tr>\n",
       "      <th>3</th>\n",
       "      <td>879080109</td>\n",
       "      <td>879080109</td>\n",
       "      <td>879080109</td>\n",
       "      <td>010390</td>\n",
       "      <td>2002-12-31</td>\n",
       "      <td>2002.0</td>\n",
       "      <td>INDL</td>\n",
       "      <td>C</td>\n",
       "      <td>D</td>\n",
       "      <td>STD</td>\n",
       "      <td>USD</td>\n",
       "      <td>A</td>\n",
       "      <td>601020</td>\n",
       "      <td>60</td>\n",
       "      <td>0100</td>\n",
       "    </tr>\n",
       "    <tr>\n",
       "      <th>4</th>\n",
       "      <td>71361F100</td>\n",
       "      <td>71361F100</td>\n",
       "      <td>71361F100</td>\n",
       "      <td>025676</td>\n",
       "      <td>2002-06-30</td>\n",
       "      <td>2002.0</td>\n",
       "      <td>INDL</td>\n",
       "      <td>C</td>\n",
       "      <td>D</td>\n",
       "      <td>STD</td>\n",
       "      <td>USD</td>\n",
       "      <td>A</td>\n",
       "      <td>452030</td>\n",
       "      <td>45</td>\n",
       "      <td>3827</td>\n",
       "    </tr>\n",
       "  </tbody>\n",
       "</table>\n",
       "</div>"
      ],
      "text/plain": [
       "  source_cusip      cusip target_cusip   gvkey   datadate   fyear indfmt  \\\n",
       "0         None       None         None  144220 2011-12-31  2011.0   INDL   \n",
       "1    630402105  630402105    630402105  007685 2002-06-30  2002.0   INDL   \n",
       "2    247748106  247748106          NaN  003855 2002-06-30  2002.0   INDL   \n",
       "3    879080109  879080109    879080109  010390 2002-12-31  2002.0   INDL   \n",
       "4    71361F100  71361F100    71361F100  025676 2002-06-30  2002.0   INDL   \n",
       "\n",
       "  consol popsrc datafmt curcd costat    gind gsector   sic  \n",
       "0      C      D     STD   USD      I     NaN     NaN  6726  \n",
       "1      C      D     STD   USD      A  452030      45  3669  \n",
       "2      C      D     STD   USD      I  551020      55  4923  \n",
       "3      C      D     STD   USD      A  601020      60  0100  \n",
       "4      C      D     STD   USD      A  452030      45  3827  "
      ]
     },
     "execution_count": 56,
     "metadata": {},
     "output_type": "execute_result"
    }
   ],
   "source": [
    "merge_4.head()"
   ]
  },
  {
   "cell_type": "code",
   "execution_count": 57,
   "metadata": {},
   "outputs": [
    {
     "data": {
      "text/plain": [
       "array([nan, '452030', '551020', '601020', '452020', '101020', '451020',\n",
       "       '453010', '201060', '151010', '501010', '402030', '452010',\n",
       "       '451010', '352030', '451030', '601010', '254010', '253020',\n",
       "       '201010', '501020', '351010', '255040', '351020', '202010',\n",
       "       '352020', '253010', '252010', '352010', '303010', '251010',\n",
       "       '151040', '201040', '201030', '101010', '202020', '203030',\n",
       "       '303020', '201020', '551040', '403010', '201050', '151030',\n",
       "       '251020', '252030', '255020', '401010', '351030', '302020',\n",
       "       '301010', '203040', '401020', '302010', '404020', '402020',\n",
       "       '203010', '201070', '402010', '151050', '203020', '252020',\n",
       "       '551030', '551050', '551010', '255010', '203050', '151020',\n",
       "       '302030', '404030', '402040', '255030', '404010'], dtype=object)"
      ]
     },
     "execution_count": 57,
     "metadata": {},
     "output_type": "execute_result"
    }
   ],
   "source": [
    "merge_4['gind'].unique()"
   ]
  },
  {
   "cell_type": "code",
   "execution_count": 41,
   "metadata": {},
   "outputs": [],
   "source": [
    "gics_wiki = pd.read_pickle('gics_wiki.pkl')"
   ]
  },
  {
   "cell_type": "code",
   "execution_count": 42,
   "metadata": {},
   "outputs": [
    {
     "data": {
      "text/html": [
       "<div>\n",
       "<style scoped>\n",
       "    .dataframe tbody tr th:only-of-type {\n",
       "        vertical-align: middle;\n",
       "    }\n",
       "\n",
       "    .dataframe tbody tr th {\n",
       "        vertical-align: top;\n",
       "    }\n",
       "\n",
       "    .dataframe thead th {\n",
       "        text-align: right;\n",
       "    }\n",
       "</style>\n",
       "<table border=\"1\" class=\"dataframe\">\n",
       "  <thead>\n",
       "    <tr style=\"text-align: right;\">\n",
       "      <th></th>\n",
       "      <th>code</th>\n",
       "      <th>sector</th>\n",
       "      <th>gind</th>\n",
       "    </tr>\n",
       "  </thead>\n",
       "  <tbody>\n",
       "    <tr>\n",
       "      <th>0</th>\n",
       "      <td>Sector</td>\n",
       "      <td>Industry Group</td>\n",
       "      <td>Sector</td>\n",
       "    </tr>\n",
       "    <tr>\n",
       "      <th>1</th>\n",
       "      <td>10</td>\n",
       "      <td>Energy</td>\n",
       "      <td>10</td>\n",
       "    </tr>\n",
       "    <tr>\n",
       "      <th>2</th>\n",
       "      <td>10101020</td>\n",
       "      <td>Oil &amp; Gas Equipment &amp; Services</td>\n",
       "      <td>10101020</td>\n",
       "    </tr>\n",
       "    <tr>\n",
       "      <th>3</th>\n",
       "      <td>101020</td>\n",
       "      <td>Oil, Gas &amp; Consumable Fuels</td>\n",
       "      <td>101020</td>\n",
       "    </tr>\n",
       "    <tr>\n",
       "      <th>4</th>\n",
       "      <td>10102020</td>\n",
       "      <td>Oil &amp; Gas Exploration &amp; Production</td>\n",
       "      <td>10102020</td>\n",
       "    </tr>\n",
       "  </tbody>\n",
       "</table>\n",
       "</div>"
      ],
      "text/plain": [
       "       code                              sector      gind\n",
       "0    Sector                      Industry Group    Sector\n",
       "1        10                              Energy        10\n",
       "2  10101020      Oil & Gas Equipment & Services  10101020\n",
       "3    101020         Oil, Gas & Consumable Fuels    101020\n",
       "4  10102020  Oil & Gas Exploration & Production  10102020"
      ]
     },
     "execution_count": 42,
     "metadata": {},
     "output_type": "execute_result"
    }
   ],
   "source": [
    "gics_wiki['gind'] = gics_wiki['code']\n",
    "gics_wiki.head()"
   ]
  },
  {
   "cell_type": "code",
   "execution_count": 43,
   "metadata": {},
   "outputs": [
    {
     "data": {
      "text/plain": [
       "262"
      ]
     },
     "execution_count": 43,
     "metadata": {},
     "output_type": "execute_result"
    }
   ],
   "source": [
    "len(gics_wiki['code'].unique())"
   ]
  },
  {
   "cell_type": "code",
   "execution_count": 58,
   "metadata": {},
   "outputs": [],
   "source": [
    "merge_5 = pd.merge(merge_4, gics_wiki,how = 'inner', on=['gind'])"
   ]
  },
  {
   "cell_type": "code",
   "execution_count": 59,
   "metadata": {},
   "outputs": [
    {
     "name": "stdout",
     "output_type": "stream",
     "text": [
      "<class 'pandas.core.frame.DataFrame'>\n",
      "Int64Index: 4666 entries, 0 to 4665\n",
      "Data columns (total 17 columns):\n",
      "source_cusip    4082 non-null object\n",
      "cusip           4666 non-null object\n",
      "target_cusip    4666 non-null int64\n",
      "gvkey           4666 non-null object\n",
      "datadate        4666 non-null datetime64[ns]\n",
      "fyear           4541 non-null float64\n",
      "indfmt          4666 non-null object\n",
      "consol          4666 non-null object\n",
      "popsrc          4666 non-null object\n",
      "datafmt         4666 non-null object\n",
      "curcd           4541 non-null object\n",
      "costat          4666 non-null object\n",
      "gind            4666 non-null object\n",
      "gsector         4666 non-null object\n",
      "sic             4666 non-null object\n",
      "code            4666 non-null object\n",
      "sector          4666 non-null object\n",
      "dtypes: datetime64[ns](1), float64(1), int64(1), object(14)\n",
      "memory usage: 656.2+ KB\n"
     ]
    }
   ],
   "source": [
    "merge_5.info()"
   ]
  },
  {
   "cell_type": "code",
   "execution_count": 60,
   "metadata": {},
   "outputs": [],
   "source": [
    "merge_6 = merge_5[['cusip','gind','sector']]"
   ]
  },
  {
   "cell_type": "code",
   "execution_count": 71,
   "metadata": {},
   "outputs": [
    {
     "data": {
      "text/plain": [
       "57"
      ]
     },
     "execution_count": 71,
     "metadata": {},
     "output_type": "execute_result"
    }
   ],
   "source": [
    "len(merge_6['sector'].unique())"
   ]
  },
  {
   "cell_type": "code",
   "execution_count": 62,
   "metadata": {},
   "outputs": [
    {
     "data": {
      "text/html": [
       "<div>\n",
       "<style scoped>\n",
       "    .dataframe tbody tr th:only-of-type {\n",
       "        vertical-align: middle;\n",
       "    }\n",
       "\n",
       "    .dataframe tbody tr th {\n",
       "        vertical-align: top;\n",
       "    }\n",
       "\n",
       "    .dataframe thead th {\n",
       "        text-align: right;\n",
       "    }\n",
       "</style>\n",
       "<table border=\"1\" class=\"dataframe\">\n",
       "  <thead>\n",
       "    <tr style=\"text-align: right;\">\n",
       "      <th></th>\n",
       "      <th>cusip</th>\n",
       "      <th>gind</th>\n",
       "      <th>sector</th>\n",
       "    </tr>\n",
       "  </thead>\n",
       "  <tbody>\n",
       "    <tr>\n",
       "      <th>0</th>\n",
       "      <td>630402105</td>\n",
       "      <td>452030</td>\n",
       "      <td>Electronic Equipment, Instruments &amp; Components</td>\n",
       "    </tr>\n",
       "    <tr>\n",
       "      <th>1</th>\n",
       "      <td>71361F100</td>\n",
       "      <td>452030</td>\n",
       "      <td>Electronic Equipment, Instruments &amp; Components</td>\n",
       "    </tr>\n",
       "    <tr>\n",
       "      <th>2</th>\n",
       "      <td>532257805</td>\n",
       "      <td>452030</td>\n",
       "      <td>Electronic Equipment, Instruments &amp; Components</td>\n",
       "    </tr>\n",
       "    <tr>\n",
       "      <th>3</th>\n",
       "      <td>747277101</td>\n",
       "      <td>452030</td>\n",
       "      <td>Electronic Equipment, Instruments &amp; Components</td>\n",
       "    </tr>\n",
       "    <tr>\n",
       "      <th>4</th>\n",
       "      <td>15101Q108</td>\n",
       "      <td>452030</td>\n",
       "      <td>Electronic Equipment, Instruments &amp; Components</td>\n",
       "    </tr>\n",
       "  </tbody>\n",
       "</table>\n",
       "</div>"
      ],
      "text/plain": [
       "       cusip    gind                                          sector\n",
       "0  630402105  452030  Electronic Equipment, Instruments & Components\n",
       "1  71361F100  452030  Electronic Equipment, Instruments & Components\n",
       "2  532257805  452030  Electronic Equipment, Instruments & Components\n",
       "3  747277101  452030  Electronic Equipment, Instruments & Components\n",
       "4  15101Q108  452030  Electronic Equipment, Instruments & Components"
      ]
     },
     "execution_count": 62,
     "metadata": {},
     "output_type": "execute_result"
    }
   ],
   "source": [
    "merge_6.head()"
   ]
  },
  {
   "cell_type": "code",
   "execution_count": 63,
   "metadata": {},
   "outputs": [],
   "source": [
    "sector_hist = pd.DataFrame(merge_6.groupby('sector').size(), columns = ['numbers'])"
   ]
  },
  {
   "cell_type": "code",
   "execution_count": 65,
   "metadata": {},
   "outputs": [],
   "source": [
    "sector_hist =sector_hist.sort_values(['numbers'], ascending = False)"
   ]
  },
  {
   "cell_type": "code",
   "execution_count": 66,
   "metadata": {},
   "outputs": [
    {
     "data": {
      "text/html": [
       "<div>\n",
       "<style scoped>\n",
       "    .dataframe tbody tr th:only-of-type {\n",
       "        vertical-align: middle;\n",
       "    }\n",
       "\n",
       "    .dataframe tbody tr th {\n",
       "        vertical-align: top;\n",
       "    }\n",
       "\n",
       "    .dataframe thead th {\n",
       "        text-align: right;\n",
       "    }\n",
       "</style>\n",
       "<table border=\"1\" class=\"dataframe\">\n",
       "  <thead>\n",
       "    <tr style=\"text-align: right;\">\n",
       "      <th></th>\n",
       "      <th>numbers</th>\n",
       "    </tr>\n",
       "    <tr>\n",
       "      <th>sector</th>\n",
       "      <th></th>\n",
       "    </tr>\n",
       "  </thead>\n",
       "  <tbody>\n",
       "    <tr>\n",
       "      <th>Oil, Gas &amp; Consumable Fuels</th>\n",
       "      <td>471</td>\n",
       "    </tr>\n",
       "    <tr>\n",
       "      <th>Biotechnology</th>\n",
       "      <td>306</td>\n",
       "    </tr>\n",
       "    <tr>\n",
       "      <th>Metals &amp; Mining</th>\n",
       "      <td>254</td>\n",
       "    </tr>\n",
       "    <tr>\n",
       "      <th>Software</th>\n",
       "      <td>252</td>\n",
       "    </tr>\n",
       "    <tr>\n",
       "      <th>Electronic Equipment, Instruments &amp; Components</th>\n",
       "      <td>185</td>\n",
       "    </tr>\n",
       "  </tbody>\n",
       "</table>\n",
       "</div>"
      ],
      "text/plain": [
       "                                                numbers\n",
       "sector                                                 \n",
       "Oil, Gas & Consumable Fuels                         471\n",
       "Biotechnology                                       306\n",
       "Metals & Mining                                     254\n",
       "Software                                            252\n",
       "Electronic Equipment, Instruments & Components      185"
      ]
     },
     "execution_count": 66,
     "metadata": {},
     "output_type": "execute_result"
    }
   ],
   "source": [
    "sector_hist.head()"
   ]
  },
  {
   "cell_type": "code",
   "execution_count": 69,
   "metadata": {},
   "outputs": [
    {
     "data": {
      "image/png": "[encoded data removed]",
      "text/plain": [
       "<Figure size 1440x720 with 1 Axes>"
      ]
     },
     "metadata": {},
     "output_type": "display_data"
    }
   ],
   "source": [
    "plt.figure(figsize=(20,10))\n",
    "# plot barh chart with index as x values\n",
    "ax = sns.barplot(sector_hist.index,sector_hist['numbers'])\n",
    "ax.set_xticklabels(sector_hist.index)\n",
    "for item in ax.get_xticklabels(): item.set_rotation(90)\n",
    "#plt.show()\n",
    "pylab.rcParams['figure.figsize'] = (20, 10)\n",
    "pylab.savefig('supply_chain_sector.png', dpi=400, bbox_inches = 'tight')"
   ]
  },
  {
   "cell_type": "code",
   "execution_count": null,
   "metadata": {},
   "outputs": [],
   "source": []
  }
 ],
 "metadata": {
  "kernelspec": {
   "display_name": "Python 3",
   "language": "python",
   "name": "python3"
  },
  "language_info": {
   "codemirror_mode": {
    "name": "ipython",
    "version": 3
   },
   "file_extension": ".py",
   "mimetype": "text/x-python",
   "name": "python",
   "nbconvert_exporter": "python",
   "pygments_lexer": "ipython3",
   "version": "3.6.6"
  }
 },
 "nbformat": 4,
 "nbformat_minor": 2
}
