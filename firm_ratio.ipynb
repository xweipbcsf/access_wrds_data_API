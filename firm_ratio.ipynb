{
 "cells": [
  {
   "cell_type": "code",
   "execution_count": 1,
   "metadata": {},
   "outputs": [],
   "source": [
    "# data clean packages\n",
    "import pandas as pd\n",
    "import numpy as np\n",
    "import datetime as dt\n",
    "\n",
    "# plot packages\n",
    "import seaborn as sns; sns.set(color_codes=True)\n",
    "import matplotlib.pyplot as plt"
   ]
  },
  {
   "cell_type": "code",
   "execution_count": 2,
   "metadata": {},
   "outputs": [],
   "source": [
    "firm_ratio = pd.read_pickle('firm_ratio.pkl')"
   ]
  },
  {
   "cell_type": "code",
   "execution_count": 3,
   "metadata": {},
   "outputs": [
    {
     "name": "stdout",
     "output_type": "stream",
     "text": [
      "<class 'pandas.core.frame.DataFrame'>\n",
      "RangeIndex: 2613876 entries, 0 to 2613875\n",
      "Data columns (total 96 columns):\n",
      "gvkey              object\n",
      "permno             float64\n",
      "adate              object\n",
      "qdate              object\n",
      "public_date        object\n",
      "capei              float64\n",
      "be                 float64\n",
      "bm                 float64\n",
      "evm                float64\n",
      "pe_op_basic        float64\n",
      "pe_op_dil          float64\n",
      "pe_exi             float64\n",
      "pe_inc             float64\n",
      "ps                 float64\n",
      "pcf                float64\n",
      "dpr                float64\n",
      "npm                float64\n",
      "opmbd              float64\n",
      "opmad              float64\n",
      "gpm                float64\n",
      "ptpm               float64\n",
      "cfm                float64\n",
      "roa                float64\n",
      "roe                float64\n",
      "roce               float64\n",
      "efftax             float64\n",
      "aftret_eq          float64\n",
      "aftret_invcapx     float64\n",
      "aftret_equity      float64\n",
      "pretret_noa        float64\n",
      "pretret_earnat     float64\n",
      "gprof              float64\n",
      "equity_invcap      float64\n",
      "debt_invcap        float64\n",
      "totdebt_invcap     float64\n",
      "capital_ratio      float64\n",
      "int_debt           float64\n",
      "int_totdebt        float64\n",
      "cash_lt            float64\n",
      "invt_act           float64\n",
      "rect_act           float64\n",
      "debt_at            float64\n",
      "debt_ebitda        float64\n",
      "short_debt         float64\n",
      "curr_debt          float64\n",
      "lt_debt            float64\n",
      "profit_lct         float64\n",
      "ocf_lct            float64\n",
      "cash_debt          float64\n",
      "fcf_ocf            float64\n",
      "lt_ppent           float64\n",
      "dltt_be            float64\n",
      "debt_assets        float64\n",
      "debt_capital       float64\n",
      "de_ratio           float64\n",
      "intcov             float64\n",
      "intcov_ratio       float64\n",
      "cash_ratio         float64\n",
      "quick_ratio        float64\n",
      "curr_ratio         float64\n",
      "cash_conversion    float64\n",
      "inv_turn           float64\n",
      "at_turn            float64\n",
      "rect_turn          float64\n",
      "pay_turn           float64\n",
      "sale_invcap        float64\n",
      "sale_equity        float64\n",
      "sale_nwc           float64\n",
      "rd_sale            float64\n",
      "adv_sale           float64\n",
      "staff_sale         float64\n",
      "accrual            float64\n",
      "gsector            object\n",
      "gicdesc            object\n",
      "sp500              float64\n",
      "ptb                float64\n",
      "peg_trailing       float64\n",
      "divyield           float64\n",
      "peg_1yrforward     float64\n",
      "peg_ltgforward     float64\n",
      "ffi5_desc          object\n",
      "ffi5               float64\n",
      "ffi10_desc         object\n",
      "ffi10              float64\n",
      "ffi12_desc         object\n",
      "ffi12              float64\n",
      "ffi17_desc         object\n",
      "ffi17              float64\n",
      "ffi30_desc         object\n",
      "ffi30              float64\n",
      "ffi38_desc         object\n",
      "ffi38              float64\n",
      "ffi48_desc         object\n",
      "ffi48              float64\n",
      "ffi49_desc         object\n",
      "ffi49              float64\n",
      "dtypes: float64(82), object(14)\n",
      "memory usage: 1.9+ GB\n"
     ]
    }
   ],
   "source": [
    "firm_ratio.info()"
   ]
  },
  {
   "cell_type": "code",
   "execution_count": null,
   "metadata": {},
   "outputs": [],
   "source": [
    "wrds_relationship = pd.r"
   ]
  }
 ],
 "metadata": {
  "kernelspec": {
   "display_name": "Python 3",
   "language": "python",
   "name": "python3"
  },
  "language_info": {
   "codemirror_mode": {
    "name": "ipython",
    "version": 3
   },
   "file_extension": ".py",
   "mimetype": "text/x-python",
   "name": "python",
   "nbconvert_exporter": "python",
   "pygments_lexer": "ipython3",
   "version": "3.6.6"
  }
 },
 "nbformat": 4,
 "nbformat_minor": 2
}
