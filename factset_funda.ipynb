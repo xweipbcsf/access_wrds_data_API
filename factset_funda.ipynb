{
 "cells": [
  {
   "cell_type": "code",
   "execution_count": 40,
   "metadata": {},
   "outputs": [],
   "source": [
    "import pandas as pd\n",
    "import datetime as dt\n",
    "import numpy as np"
   ]
  },
  {
   "cell_type": "code",
   "execution_count": 41,
   "metadata": {},
   "outputs": [],
   "source": [
    "factset_foundamental = pd.read_pickle('factset_foundamental.pkl')"
   ]
  },
  {
   "cell_type": "code",
   "execution_count": 42,
   "metadata": {},
   "outputs": [],
   "source": [
    "factset_foundamental = factset_foundamental.rename(columns = {'CUSIP':'cusip_9'})"
   ]
  },
  {
   "cell_type": "code",
   "execution_count": 43,
   "metadata": {},
   "outputs": [],
   "source": [
    "#factset_foundamental = factset_foundamental.set_index('cusip')"
   ]
  },
  {
   "cell_type": "code",
   "execution_count": 44,
   "metadata": {},
   "outputs": [
    {
     "name": "stderr",
     "output_type": "stream",
     "text": [
      "I:\\anaconda3\\lib\\site-packages\\ipykernel_launcher.py:1: FutureWarning: Comparing Series of datetimes with 'datetime.date'.  Currently, the\n",
      "'datetime.date' is coerced to a datetime. In the future pandas will\n",
      "not coerce, and a TypeError will be raised. To retain the current\n",
      "behavior, convert the 'datetime.date' to a datetime with\n",
      "'pd.Timestamp'.\n",
      "  \"\"\"Entry point for launching an IPython kernel.\n",
      "I:\\anaconda3\\lib\\site-packages\\ipykernel_launcher.py:2: FutureWarning: Comparing Series of datetimes with 'datetime.date'.  Currently, the\n",
      "'datetime.date' is coerced to a datetime. In the future pandas will\n",
      "not coerce, and a TypeError will be raised. To retain the current\n",
      "behavior, convert the 'datetime.date' to a datetime with\n",
      "'pd.Timestamp'.\n",
      "  \n",
      "I:\\anaconda3\\lib\\site-packages\\ipykernel_launcher.py:3: FutureWarning: Comparing Series of datetimes with 'datetime.date'.  Currently, the\n",
      "'datetime.date' is coerced to a datetime. In the future pandas will\n",
      "not coerce, and a TypeError will be raised. To retain the current\n",
      "behavior, convert the 'datetime.date' to a datetime with\n",
      "'pd.Timestamp'.\n",
      "  This is separate from the ipykernel package so we can avoid doing imports until\n",
      "I:\\anaconda3\\lib\\site-packages\\ipykernel_launcher.py:4: FutureWarning: Comparing Series of datetimes with 'datetime.date'.  Currently, the\n",
      "'datetime.date' is coerced to a datetime. In the future pandas will\n",
      "not coerce, and a TypeError will be raised. To retain the current\n",
      "behavior, convert the 'datetime.date' to a datetime with\n",
      "'pd.Timestamp'.\n",
      "  after removing the cwd from sys.path.\n",
      "I:\\anaconda3\\lib\\site-packages\\ipykernel_launcher.py:5: FutureWarning: Comparing Series of datetimes with 'datetime.date'.  Currently, the\n",
      "'datetime.date' is coerced to a datetime. In the future pandas will\n",
      "not coerce, and a TypeError will be raised. To retain the current\n",
      "behavior, convert the 'datetime.date' to a datetime with\n",
      "'pd.Timestamp'.\n",
      "  \"\"\"\n",
      "I:\\anaconda3\\lib\\site-packages\\ipykernel_launcher.py:6: FutureWarning: Comparing Series of datetimes with 'datetime.date'.  Currently, the\n",
      "'datetime.date' is coerced to a datetime. In the future pandas will\n",
      "not coerce, and a TypeError will be raised. To retain the current\n",
      "behavior, convert the 'datetime.date' to a datetime with\n",
      "'pd.Timestamp'.\n",
      "  \n",
      "I:\\anaconda3\\lib\\site-packages\\ipykernel_launcher.py:7: FutureWarning: Comparing Series of datetimes with 'datetime.date'.  Currently, the\n",
      "'datetime.date' is coerced to a datetime. In the future pandas will\n",
      "not coerce, and a TypeError will be raised. To retain the current\n",
      "behavior, convert the 'datetime.date' to a datetime with\n",
      "'pd.Timestamp'.\n",
      "  import sys\n",
      "I:\\anaconda3\\lib\\site-packages\\ipykernel_launcher.py:8: FutureWarning: Comparing Series of datetimes with 'datetime.date'.  Currently, the\n",
      "'datetime.date' is coerced to a datetime. In the future pandas will\n",
      "not coerce, and a TypeError will be raised. To retain the current\n",
      "behavior, convert the 'datetime.date' to a datetime with\n",
      "'pd.Timestamp'.\n",
      "  \n",
      "I:\\anaconda3\\lib\\site-packages\\ipykernel_launcher.py:9: FutureWarning: Comparing Series of datetimes with 'datetime.date'.  Currently, the\n",
      "'datetime.date' is coerced to a datetime. In the future pandas will\n",
      "not coerce, and a TypeError will be raised. To retain the current\n",
      "behavior, convert the 'datetime.date' to a datetime with\n",
      "'pd.Timestamp'.\n",
      "  if __name__ == '__main__':\n",
      "I:\\anaconda3\\lib\\site-packages\\ipykernel_launcher.py:10: FutureWarning: Comparing Series of datetimes with 'datetime.date'.  Currently, the\n",
      "'datetime.date' is coerced to a datetime. In the future pandas will\n",
      "not coerce, and a TypeError will be raised. To retain the current\n",
      "behavior, convert the 'datetime.date' to a datetime with\n",
      "'pd.Timestamp'.\n",
      "  # Remove the CWD from sys.path while we load stuff.\n",
      "I:\\anaconda3\\lib\\site-packages\\ipykernel_launcher.py:11: FutureWarning: Comparing Series of datetimes with 'datetime.date'.  Currently, the\n",
      "'datetime.date' is coerced to a datetime. In the future pandas will\n",
      "not coerce, and a TypeError will be raised. To retain the current\n",
      "behavior, convert the 'datetime.date' to a datetime with\n",
      "'pd.Timestamp'.\n",
      "  # This is added back by InteractiveShellApp.init_path()\n",
      "I:\\anaconda3\\lib\\site-packages\\ipykernel_launcher.py:12: FutureWarning: Comparing Series of datetimes with 'datetime.date'.  Currently, the\n",
      "'datetime.date' is coerced to a datetime. In the future pandas will\n",
      "not coerce, and a TypeError will be raised. To retain the current\n",
      "behavior, convert the 'datetime.date' to a datetime with\n",
      "'pd.Timestamp'.\n",
      "  if sys.path[0] == '':\n",
      "I:\\anaconda3\\lib\\site-packages\\ipykernel_launcher.py:13: FutureWarning: Comparing Series of datetimes with 'datetime.date'.  Currently, the\n",
      "'datetime.date' is coerced to a datetime. In the future pandas will\n",
      "not coerce, and a TypeError will be raised. To retain the current\n",
      "behavior, convert the 'datetime.date' to a datetime with\n",
      "'pd.Timestamp'.\n",
      "  del sys.path[0]\n",
      "I:\\anaconda3\\lib\\site-packages\\ipykernel_launcher.py:14: FutureWarning: Comparing Series of datetimes with 'datetime.date'.  Currently, the\n",
      "'datetime.date' is coerced to a datetime. In the future pandas will\n",
      "not coerce, and a TypeError will be raised. To retain the current\n",
      "behavior, convert the 'datetime.date' to a datetime with\n",
      "'pd.Timestamp'.\n",
      "  \n"
     ]
    }
   ],
   "source": [
    "factset_foundamental_2002 = factset_foundamental.loc[(factset_foundamental['DATE'] < dt.date(2003,1,1)) & (factset_foundamental['DATE'] > dt.date(2002,5,30)) ]\n",
    "factset_foundamental_2003 = factset_foundamental.loc[(factset_foundamental['DATE'] < dt.date(2004,1,1)) & (factset_foundamental['DATE'] > dt.date(2003,5,30)) ]\n",
    "factset_foundamental_2004 = factset_foundamental.loc[(factset_foundamental['DATE'] < dt.date(2005,1,1)) & (factset_foundamental['DATE'] > dt.date(2004,5,30)) ]\n",
    "factset_foundamental_2005 = factset_foundamental.loc[(factset_foundamental['DATE'] < dt.date(2006,1,1)) & (factset_foundamental['DATE'] > dt.date(2005,5,30)) ]\n",
    "factset_foundamental_2006 = factset_foundamental.loc[(factset_foundamental['DATE'] < dt.date(2007,1,1)) & (factset_foundamental['DATE'] > dt.date(2006,5,30)) ]\n",
    "factset_foundamental_2007 = factset_foundamental.loc[(factset_foundamental['DATE'] < dt.date(2008,1,1)) & (factset_foundamental['DATE'] > dt.date(2007,5,30)) ]\n",
    "factset_foundamental_2008 = factset_foundamental.loc[(factset_foundamental['DATE'] < dt.date(2009,1,1)) & (factset_foundamental['DATE'] > dt.date(2008,5,30)) ]\n",
    "factset_foundamental_2009 = factset_foundamental.loc[(factset_foundamental['DATE'] < dt.date(2010,1,1)) & (factset_foundamental['DATE'] > dt.date(2009,5,30)) ]\n",
    "factset_foundamental_2010 = factset_foundamental.loc[(factset_foundamental['DATE'] < dt.date(2011,1,1)) & (factset_foundamental['DATE'] > dt.date(2010,5,30)) ]\n",
    "factset_foundamental_2011 = factset_foundamental.loc[(factset_foundamental['DATE'] < dt.date(2012,1,1)) & (factset_foundamental['DATE'] > dt.date(2011,5,30)) ]\n",
    "factset_foundamental_2012 = factset_foundamental.loc[(factset_foundamental['DATE'] < dt.date(2013,1,1)) & (factset_foundamental['DATE'] > dt.date(2012,5,30)) ]\n",
    "factset_foundamental_2013 = factset_foundamental.loc[(factset_foundamental['DATE'] < dt.date(2014,1,1)) & (factset_foundamental['DATE'] > dt.date(2013,5,30)) ]\n",
    "factset_foundamental_2014 = factset_foundamental.loc[(factset_foundamental['DATE'] < dt.date(2015,1,1)) & (factset_foundamental['DATE'] > dt.date(2014,5,30)) ]\n",
    "factset_foundamental_2015 = factset_foundamental.loc[(factset_foundamental['DATE'] < dt.date(2016,1,1)) & (factset_foundamental['DATE'] > dt.date(2015,5,30)) ]"
   ]
  },
  {
   "cell_type": "code",
   "execution_count": 45,
   "metadata": {},
   "outputs": [],
   "source": [
    "factset_foundamental_2002 = factset_foundamental_2002.drop_duplicates(subset = 'FS_PERM_SEC_ID', keep = 'last')\n",
    "factset_foundamental_2003 = factset_foundamental_2003.drop_duplicates(subset = 'FS_PERM_SEC_ID', keep = 'last')\n",
    "factset_foundamental_2004 = factset_foundamental_2004.drop_duplicates(subset = 'FS_PERM_SEC_ID', keep = 'last')\n",
    "factset_foundamental_2005 = factset_foundamental_2005.drop_duplicates(subset = 'FS_PERM_SEC_ID', keep = 'last')\n",
    "factset_foundamental_2006 = factset_foundamental_2006.drop_duplicates(subset = 'FS_PERM_SEC_ID', keep = 'last')\n",
    "factset_foundamental_2007 = factset_foundamental_2007.drop_duplicates(subset = 'FS_PERM_SEC_ID', keep = 'last')\n",
    "factset_foundamental_2008 = factset_foundamental_2008.drop_duplicates(subset = 'FS_PERM_SEC_ID', keep = 'last')\n",
    "factset_foundamental_2009 = factset_foundamental_2009.drop_duplicates(subset = 'FS_PERM_SEC_ID', keep = 'last')\n",
    "factset_foundamental_2010 = factset_foundamental_2010.drop_duplicates(subset = 'FS_PERM_SEC_ID', keep = 'last')\n",
    "factset_foundamental_2011 = factset_foundamental_2011.drop_duplicates(subset = 'FS_PERM_SEC_ID', keep = 'last')\n",
    "factset_foundamental_2012 = factset_foundamental_2012.drop_duplicates(subset = 'FS_PERM_SEC_ID', keep = 'last')\n",
    "factset_foundamental_2013 = factset_foundamental_2013.drop_duplicates(subset = 'FS_PERM_SEC_ID', keep = 'last')\n",
    "factset_foundamental_2014 = factset_foundamental_2014.drop_duplicates(subset = 'FS_PERM_SEC_ID', keep = 'last')\n",
    "factset_foundamental_2015 = factset_foundamental_2015.drop_duplicates(subset = 'FS_PERM_SEC_ID', keep = 'last')"
   ]
  },
  {
   "cell_type": "code",
   "execution_count": 46,
   "metadata": {},
   "outputs": [],
   "source": [
    "factset_foundamental_2002['year_0'] = '2003-06-30'\n",
    "factset_foundamental_2003['year_0'] = '2004-06-30'\n",
    "factset_foundamental_2004['year_0'] = '2005-06-30'\n",
    "factset_foundamental_2005['year_0'] = '2006-06-30'\n",
    "factset_foundamental_2006['year_0'] = '2007-06-30'\n",
    "factset_foundamental_2007['year_0'] = '2008-06-30'\n",
    "factset_foundamental_2008['year_0'] = '2009-06-30'\n",
    "factset_foundamental_2009['year_0'] = '2010-06-30'\n",
    "factset_foundamental_2010['year_0'] = '2011-06-30'\n",
    "factset_foundamental_2011['year_0'] = '2012-06-30'\n",
    "factset_foundamental_2012['year_0'] = '2013-06-30'\n",
    "factset_foundamental_2013['year_0'] = '2014-06-30'\n",
    "factset_foundamental_2014['year_0'] = '2015-06-30'\n",
    "factset_foundamental_2015['year_0'] = '2016-06-30'"
   ]
  },
  {
   "cell_type": "code",
   "execution_count": 47,
   "metadata": {},
   "outputs": [],
   "source": [
    "factset_foundamental_2002.to_pickle('factset_foundamental_2002.pkl')\n",
    "factset_foundamental_2003.to_pickle('factset_foundamental_2003.pkl')\n",
    "factset_foundamental_2004.to_pickle('factset_foundamental_2004.pkl')\n",
    "factset_foundamental_2005.to_pickle('factset_foundamental_2005.pkl')\n",
    "factset_foundamental_2006.to_pickle('factset_foundamental_2006.pkl')\n",
    "factset_foundamental_2007.to_pickle('factset_foundamental_2007.pkl')\n",
    "factset_foundamental_2008.to_pickle('factset_foundamental_2008.pkl')\n",
    "factset_foundamental_2009.to_pickle('factset_foundamental_2009.pkl')\n",
    "factset_foundamental_2010.to_pickle('factset_foundamental_2010.pkl')\n",
    "factset_foundamental_2011.to_pickle('factset_foundamental_2011.pkl')\n",
    "factset_foundamental_2012.to_pickle('factset_foundamental_2012.pkl')\n",
    "factset_foundamental_2013.to_pickle('factset_foundamental_2013.pkl')\n",
    "factset_foundamental_2014.to_pickle('factset_foundamental_2014.pkl')\n",
    "factset_foundamental_2015.to_pickle('factset_foundamental_2015.pkl')"
   ]
  },
  {
   "cell_type": "code",
   "execution_count": 48,
   "metadata": {},
   "outputs": [],
   "source": [
    "factset_foundamental = pd.concat([factset_foundamental_2002,factset_foundamental_2003,factset_foundamental_2004,factset_foundamental_2005,factset_foundamental_2006,factset_foundamental_2007,\n",
    "                                 factset_foundamental_2008,factset_foundamental_2009,factset_foundamental_2010,factset_foundamental_2011,factset_foundamental_2012,\n",
    "                                 factset_foundamental_2013,factset_foundamental_2014,factset_foundamental_2015])"
   ]
  },
  {
   "cell_type": "code",
   "execution_count": 49,
   "metadata": {},
   "outputs": [],
   "source": [
    "factset_foundamental.to_pickle('factset_foundamental.pkl')"
   ]
  },
  {
   "cell_type": "code",
   "execution_count": null,
   "metadata": {},
   "outputs": [],
   "source": []
  }
 ],
 "metadata": {
  "kernelspec": {
   "display_name": "Python 3",
   "language": "python",
   "name": "python3"
  },
  "language_info": {
   "codemirror_mode": {
    "name": "ipython",
    "version": 3
   },
   "file_extension": ".py",
   "mimetype": "text/x-python",
   "name": "python",
   "nbconvert_exporter": "python",
   "pygments_lexer": "ipython3",
   "version": "3.6.6"
  }
 },
 "nbformat": 4,
 "nbformat_minor": 2
}
