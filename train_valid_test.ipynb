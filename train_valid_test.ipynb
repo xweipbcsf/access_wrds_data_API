{
 "cells": [
  {
   "cell_type": "code",
   "execution_count": 1,
   "metadata": {},
   "outputs": [],
   "source": [
    "import pandas as pd\n",
    "import numpy as np\n",
    "import matplotlib.pyplot as plt\n",
    "import datetime as dt"
   ]
  },
  {
   "cell_type": "code",
   "execution_count": 10,
   "metadata": {},
   "outputs": [],
   "source": [
    "region_sector_funda_net_degree_3 = pd.read_pickle('region_sector_funda_net_degree_3.pkl')"
   ]
  },
  {
   "cell_type": "code",
   "execution_count": 11,
   "metadata": {},
   "outputs": [
    {
     "data": {
      "text/plain": [
       "array(['2003-06-30', '2004-06-30', '2005-06-30', '2006-06-30',\n",
       "       '2007-06-30', '2008-06-30', '2009-06-30', '2010-06-30',\n",
       "       '2011-06-30', '2012-06-30', '2013-06-30', '2014-06-30',\n",
       "       '2015-06-30'], dtype=object)"
      ]
     },
     "execution_count": 11,
     "metadata": {},
     "output_type": "execute_result"
    }
   ],
   "source": [
    "region_sector_funda_net_degree_3['year_0'].unique()"
   ]
  },
  {
   "cell_type": "code",
   "execution_count": 12,
   "metadata": {},
   "outputs": [],
   "source": [
    "train = region_sector_funda_net_degree_3.loc[region_sector_funda_net_degree_3['year_0'] < '2010-06-03']\n",
    "valid = region_sector_funda_net_degree_3.loc[region_sector_funda_net_degree_3['year_0'] == '2010-06-30']\n",
    "test = region_sector_funda_net_degree_3.loc[region_sector_funda_net_degree_3['year_0'] == '2011-06-30']"
   ]
  },
  {
   "cell_type": "code",
   "execution_count": 13,
   "metadata": {},
   "outputs": [],
   "source": [
    "train.to_pickle('exp_train.pkl')\n",
    "valid.to_pickle('exp_valid.pkl')\n",
    "test.to_pickle('exp_test.pkl')"
   ]
  },
  {
   "cell_type": "code",
   "execution_count": 14,
   "metadata": {},
   "outputs": [
    {
     "data": {
      "text/plain": [
       "Index(['cusip_9', 'out_degree_centrality', 'in_degree_centrality',\n",
       "       'closeness_centrality', 'betweenness_centrality',\n",
       "       'eigenvector_centrality', 'harmonic_centrality',\n",
       "       'average_neighbor_degree', 'square_clustering', 'core_number',\n",
       "       ...\n",
       "       'Pacific Islands', 'South America', 'Southern Africa',\n",
       "       'Southern European Union', 'Southern Non-European Union',\n",
       "       'United States and Canada', 'Western Africa', 'Western European Union',\n",
       "       'Western Middle East', 'Western Non-European Union'],\n",
       "      dtype='object', length=142)"
      ]
     },
     "execution_count": 14,
     "metadata": {},
     "output_type": "execute_result"
    }
   ],
   "source": [
    "valid.columns"
   ]
  },
  {
   "cell_type": "code",
   "execution_count": 15,
   "metadata": {},
   "outputs": [
    {
     "name": "stdout",
     "output_type": "stream",
     "text": [
      "<class 'pandas.core.frame.DataFrame'>\n",
      "Int64Index: 5352 entries, 12 to 47212\n",
      "Columns: 142 entries, cusip_9 to Western Non-European Union\n",
      "dtypes: datetime64[ns](1), float64(85), int64(1), object(6), uint8(49)\n",
      "memory usage: 4.1+ MB\n"
     ]
    }
   ],
   "source": [
    "test.info()"
   ]
  },
  {
   "cell_type": "code",
   "execution_count": null,
   "metadata": {},
   "outputs": [],
   "source": []
  }
 ],
 "metadata": {
  "kernelspec": {
   "display_name": "Python 3",
   "language": "python",
   "name": "python3"
  },
  "language_info": {
   "codemirror_mode": {
    "name": "ipython",
    "version": 3
   },
   "file_extension": ".py",
   "mimetype": "text/x-python",
   "name": "python",
   "nbconvert_exporter": "python",
   "pygments_lexer": "ipython3",
   "version": "3.6.6"
  }
 },
 "nbformat": 4,
 "nbformat_minor": 2
}
