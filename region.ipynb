{
 "cells": [
  {
   "cell_type": "code",
   "execution_count": 19,
   "metadata": {},
   "outputs": [],
   "source": [
    "import pandas as pd\n",
    "import numpy as np\n",
    "import matplotlib.pyplot as plt\n",
    "import pylab\n",
    "import seaborn as sns; sns.set(color_codes=True)\n",
    "from matplotlib.colors import ListedColormap\n",
    "import networkx as nx"
   ]
  },
  {
   "cell_type": "code",
   "execution_count": 20,
   "metadata": {},
   "outputs": [],
   "source": [
    "region = pd.read_pickle('wrds_geo_exp.pkl')"
   ]
  },
  {
   "cell_type": "code",
   "execution_count": 21,
   "metadata": {},
   "outputs": [
    {
     "name": "stdout",
     "output_type": "stream",
     "text": [
      "<class 'pandas.core.frame.DataFrame'>\n",
      "RangeIndex: 16724649 entries, 0 to 16724648\n",
      "Data columns (total 4 columns):\n",
      "company_id      object\n",
      "cusip           object\n",
      "name            object\n",
      "layer_number    float64\n",
      "dtypes: float64(1), object(3)\n",
      "memory usage: 510.4+ MB\n"
     ]
    }
   ],
   "source": [
    "region.info()"
   ]
  },
  {
   "cell_type": "code",
   "execution_count": 22,
   "metadata": {},
   "outputs": [
    {
     "data": {
      "text/html": [
       "<div>\n",
       "<style scoped>\n",
       "    .dataframe tbody tr th:only-of-type {\n",
       "        vertical-align: middle;\n",
       "    }\n",
       "\n",
       "    .dataframe tbody tr th {\n",
       "        vertical-align: top;\n",
       "    }\n",
       "\n",
       "    .dataframe thead th {\n",
       "        text-align: right;\n",
       "    }\n",
       "</style>\n",
       "<table border=\"1\" class=\"dataframe\">\n",
       "  <thead>\n",
       "    <tr style=\"text-align: right;\">\n",
       "      <th></th>\n",
       "      <th>company_id</th>\n",
       "      <th>cusip</th>\n",
       "      <th>name</th>\n",
       "      <th>layer_number</th>\n",
       "    </tr>\n",
       "  </thead>\n",
       "  <tbody>\n",
       "    <tr>\n",
       "      <th>0</th>\n",
       "      <td>10001</td>\n",
       "      <td>879080109</td>\n",
       "      <td>General / Global</td>\n",
       "      <td>0.0</td>\n",
       "    </tr>\n",
       "    <tr>\n",
       "      <th>1</th>\n",
       "      <td>10001</td>\n",
       "      <td>879080109</td>\n",
       "      <td>Americas</td>\n",
       "      <td>1.0</td>\n",
       "    </tr>\n",
       "    <tr>\n",
       "      <th>2</th>\n",
       "      <td>10001</td>\n",
       "      <td>879080109</td>\n",
       "      <td>North America</td>\n",
       "      <td>2.0</td>\n",
       "    </tr>\n",
       "    <tr>\n",
       "      <th>3</th>\n",
       "      <td>10001</td>\n",
       "      <td>879080109</td>\n",
       "      <td>United States and Canada</td>\n",
       "      <td>3.0</td>\n",
       "    </tr>\n",
       "    <tr>\n",
       "      <th>4</th>\n",
       "      <td>10001</td>\n",
       "      <td>879080109</td>\n",
       "      <td>United States</td>\n",
       "      <td>4.0</td>\n",
       "    </tr>\n",
       "  </tbody>\n",
       "</table>\n",
       "</div>"
      ],
      "text/plain": [
       "  company_id      cusip                      name  layer_number\n",
       "0      10001  879080109          General / Global           0.0\n",
       "1      10001  879080109                  Americas           1.0\n",
       "2      10001  879080109             North America           2.0\n",
       "3      10001  879080109  United States and Canada           3.0\n",
       "4      10001  879080109             United States           4.0"
      ]
     },
     "execution_count": 22,
     "metadata": {},
     "output_type": "execute_result"
    }
   ],
   "source": [
    "region.head()"
   ]
  },
  {
   "cell_type": "code",
   "execution_count": 23,
   "metadata": {},
   "outputs": [],
   "source": [
    "region_0 = region.loc[region['layer_number'] == 0]\n",
    "region_1 = region.loc[region['layer_number'] == 1]\n",
    "region_2 = region.loc[region['layer_number'] == 2]\n",
    "region_3 = region.loc[region['layer_number'] == 3]\n",
    "region_4 = region.loc[region['layer_number'] == 4]"
   ]
  },
  {
   "cell_type": "code",
   "execution_count": 24,
   "metadata": {},
   "outputs": [
    {
     "name": "stdout",
     "output_type": "stream",
     "text": [
      "1 7 15 30 258\n"
     ]
    }
   ],
   "source": [
    "print(len(region_0['name'].unique()),\n",
    "len(region_1['name'].unique()), \n",
    "len(region_2['name'].unique()),\n",
    "len(region_3['name'].unique()),\n",
    "len(region_4['name'].unique()))"
   ]
  },
  {
   "cell_type": "code",
   "execution_count": 25,
   "metadata": {},
   "outputs": [
    {
     "data": {
      "text/plain": [
       "53650"
      ]
     },
     "execution_count": 25,
     "metadata": {},
     "output_type": "execute_result"
    }
   ],
   "source": [
    "len(region_3['cusip'].unique())"
   ]
  },
  {
   "cell_type": "code",
   "execution_count": 26,
   "metadata": {},
   "outputs": [],
   "source": [
    "region_3 = region_3.drop_duplicates(subset=['cusip'], keep='last')"
   ]
  },
  {
   "cell_type": "code",
   "execution_count": 27,
   "metadata": {},
   "outputs": [],
   "source": [
    "region_3 = region_3.rename(columns = {'cusip': 'cusip_9'})"
   ]
  },
  {
   "cell_type": "code",
   "execution_count": 28,
   "metadata": {},
   "outputs": [
    {
     "data": {
      "text/html": [
       "<div>\n",
       "<style scoped>\n",
       "    .dataframe tbody tr th:only-of-type {\n",
       "        vertical-align: middle;\n",
       "    }\n",
       "\n",
       "    .dataframe tbody tr th {\n",
       "        vertical-align: top;\n",
       "    }\n",
       "\n",
       "    .dataframe thead th {\n",
       "        text-align: right;\n",
       "    }\n",
       "</style>\n",
       "<table border=\"1\" class=\"dataframe\">\n",
       "  <thead>\n",
       "    <tr style=\"text-align: right;\">\n",
       "      <th></th>\n",
       "      <th>company_id</th>\n",
       "      <th>cusip_9</th>\n",
       "      <th>name</th>\n",
       "      <th>layer_number</th>\n",
       "    </tr>\n",
       "  </thead>\n",
       "  <tbody>\n",
       "    <tr>\n",
       "      <th>73</th>\n",
       "      <td>10001</td>\n",
       "      <td>879080109</td>\n",
       "      <td>United States and Canada</td>\n",
       "      <td>3.0</td>\n",
       "    </tr>\n",
       "    <tr>\n",
       "      <th>404</th>\n",
       "      <td>10004</td>\n",
       "      <td>878919208</td>\n",
       "      <td>Western Middle East</td>\n",
       "      <td>3.0</td>\n",
       "    </tr>\n",
       "    <tr>\n",
       "      <th>529</th>\n",
       "      <td>100050538</td>\n",
       "      <td>A1142C109</td>\n",
       "      <td>Europe Unallocated Area</td>\n",
       "      <td>3.0</td>\n",
       "    </tr>\n",
       "    <tr>\n",
       "      <th>534</th>\n",
       "      <td>100050999</td>\n",
       "      <td>Y8588E105</td>\n",
       "      <td>Far East</td>\n",
       "      <td>3.0</td>\n",
       "    </tr>\n",
       "    <tr>\n",
       "      <th>539</th>\n",
       "      <td>100051504</td>\n",
       "      <td>74737F101</td>\n",
       "      <td>Non-Operating Area</td>\n",
       "      <td>3.0</td>\n",
       "    </tr>\n",
       "  </tbody>\n",
       "</table>\n",
       "</div>"
      ],
      "text/plain": [
       "    company_id    cusip_9                      name  layer_number\n",
       "73       10001  879080109  United States and Canada           3.0\n",
       "404      10004  878919208       Western Middle East           3.0\n",
       "529  100050538  A1142C109   Europe Unallocated Area           3.0\n",
       "534  100050999  Y8588E105                  Far East           3.0\n",
       "539  100051504  74737F101        Non-Operating Area           3.0"
      ]
     },
     "execution_count": 28,
     "metadata": {},
     "output_type": "execute_result"
    }
   ],
   "source": [
    "region_3.head()"
   ]
  },
  {
   "cell_type": "code",
   "execution_count": 29,
   "metadata": {},
   "outputs": [
    {
     "name": "stdout",
     "output_type": "stream",
     "text": [
      "<class 'pandas.core.frame.DataFrame'>\n",
      "Int64Index: 53650 entries, 73 to 16724646\n",
      "Data columns (total 4 columns):\n",
      "company_id      53650 non-null object\n",
      "cusip_9         53649 non-null object\n",
      "name            53650 non-null object\n",
      "layer_number    53650 non-null float64\n",
      "dtypes: float64(1), object(3)\n",
      "memory usage: 2.0+ MB\n"
     ]
    }
   ],
   "source": [
    "region_3.info()"
   ]
  },
  {
   "cell_type": "code",
   "execution_count": 30,
   "metadata": {},
   "outputs": [],
   "source": [
    "region_3.to_pickle('region_3.pkl')"
   ]
  },
  {
   "cell_type": "code",
   "execution_count": 31,
   "metadata": {},
   "outputs": [],
   "source": [
    "net_degree = pd.read_pickle('net_degree.pkl')"
   ]
  },
  {
   "cell_type": "code",
   "execution_count": 32,
   "metadata": {},
   "outputs": [
    {
     "data": {
      "text/html": [
       "<div>\n",
       "<style scoped>\n",
       "    .dataframe tbody tr th:only-of-type {\n",
       "        vertical-align: middle;\n",
       "    }\n",
       "\n",
       "    .dataframe tbody tr th {\n",
       "        vertical-align: top;\n",
       "    }\n",
       "\n",
       "    .dataframe thead th {\n",
       "        text-align: right;\n",
       "    }\n",
       "</style>\n",
       "<table border=\"1\" class=\"dataframe\">\n",
       "  <thead>\n",
       "    <tr style=\"text-align: right;\">\n",
       "      <th></th>\n",
       "      <th>cusip_9</th>\n",
       "      <th>out_degree_centrality</th>\n",
       "      <th>in_degree_centrality</th>\n",
       "      <th>closeness_centrality</th>\n",
       "      <th>betweenness_centrality</th>\n",
       "      <th>eigenvector_centrality</th>\n",
       "      <th>harmonic_centrality</th>\n",
       "      <th>average_neighbor_degree</th>\n",
       "      <th>square_clustering</th>\n",
       "      <th>core_number</th>\n",
       "      <th>...</th>\n",
       "      <th>out_degree_0</th>\n",
       "      <th>in_degree_1</th>\n",
       "      <th>out_degree_1</th>\n",
       "      <th>in_diff</th>\n",
       "      <th>out_diff</th>\n",
       "      <th>out_diff_ratio</th>\n",
       "      <th>in_diff_ratio</th>\n",
       "      <th>higher_0</th>\n",
       "      <th>lower_0</th>\n",
       "      <th>out_group</th>\n",
       "    </tr>\n",
       "  </thead>\n",
       "  <tbody>\n",
       "    <tr>\n",
       "      <th>0</th>\n",
       "      <td>000360206</td>\n",
       "      <td>0.000846</td>\n",
       "      <td>0.000000</td>\n",
       "      <td>0.000000</td>\n",
       "      <td>0.000000</td>\n",
       "      <td>7.397798e-18</td>\n",
       "      <td>0.000000</td>\n",
       "      <td>1.666667</td>\n",
       "      <td>0.0</td>\n",
       "      <td>3.0</td>\n",
       "      <td>...</td>\n",
       "      <td>3.0</td>\n",
       "      <td>0.0</td>\n",
       "      <td>3.0</td>\n",
       "      <td>0.0</td>\n",
       "      <td>0.0</td>\n",
       "      <td>0.0</td>\n",
       "      <td>NaN</td>\n",
       "      <td>NaN</td>\n",
       "      <td>NaN</td>\n",
       "      <td>3.0</td>\n",
       "    </tr>\n",
       "    <tr>\n",
       "      <th>1</th>\n",
       "      <td>000361105</td>\n",
       "      <td>0.000564</td>\n",
       "      <td>0.000282</td>\n",
       "      <td>0.140794</td>\n",
       "      <td>0.000022</td>\n",
       "      <td>6.768081e-03</td>\n",
       "      <td>556.132179</td>\n",
       "      <td>5.000000</td>\n",
       "      <td>0.0</td>\n",
       "      <td>3.0</td>\n",
       "      <td>...</td>\n",
       "      <td>2.0</td>\n",
       "      <td>0.0</td>\n",
       "      <td>5.0</td>\n",
       "      <td>-1.0</td>\n",
       "      <td>3.0</td>\n",
       "      <td>1.5</td>\n",
       "      <td>-1.000000</td>\n",
       "      <td>1.5</td>\n",
       "      <td>NaN</td>\n",
       "      <td>1.0</td>\n",
       "    </tr>\n",
       "    <tr>\n",
       "      <th>2</th>\n",
       "      <td>00089L107</td>\n",
       "      <td>0.000282</td>\n",
       "      <td>0.000000</td>\n",
       "      <td>0.000000</td>\n",
       "      <td>0.000000</td>\n",
       "      <td>7.397798e-18</td>\n",
       "      <td>0.000000</td>\n",
       "      <td>0.000000</td>\n",
       "      <td>0.0</td>\n",
       "      <td>1.0</td>\n",
       "      <td>...</td>\n",
       "      <td>1.0</td>\n",
       "      <td>0.0</td>\n",
       "      <td>1.0</td>\n",
       "      <td>0.0</td>\n",
       "      <td>0.0</td>\n",
       "      <td>0.0</td>\n",
       "      <td>NaN</td>\n",
       "      <td>NaN</td>\n",
       "      <td>NaN</td>\n",
       "      <td>3.0</td>\n",
       "    </tr>\n",
       "    <tr>\n",
       "      <th>3</th>\n",
       "      <td>001031103</td>\n",
       "      <td>0.000282</td>\n",
       "      <td>0.000000</td>\n",
       "      <td>0.000000</td>\n",
       "      <td>0.000000</td>\n",
       "      <td>7.397798e-18</td>\n",
       "      <td>0.000000</td>\n",
       "      <td>1.000000</td>\n",
       "      <td>0.0</td>\n",
       "      <td>1.0</td>\n",
       "      <td>...</td>\n",
       "      <td>1.0</td>\n",
       "      <td>0.0</td>\n",
       "      <td>1.0</td>\n",
       "      <td>0.0</td>\n",
       "      <td>0.0</td>\n",
       "      <td>0.0</td>\n",
       "      <td>NaN</td>\n",
       "      <td>NaN</td>\n",
       "      <td>NaN</td>\n",
       "      <td>3.0</td>\n",
       "    </tr>\n",
       "    <tr>\n",
       "      <th>4</th>\n",
       "      <td>001084102</td>\n",
       "      <td>0.000564</td>\n",
       "      <td>0.002538</td>\n",
       "      <td>0.122048</td>\n",
       "      <td>0.001122</td>\n",
       "      <td>1.466880e-03</td>\n",
       "      <td>476.103355</td>\n",
       "      <td>6.000000</td>\n",
       "      <td>0.0</td>\n",
       "      <td>6.0</td>\n",
       "      <td>...</td>\n",
       "      <td>2.0</td>\n",
       "      <td>7.0</td>\n",
       "      <td>2.0</td>\n",
       "      <td>-2.0</td>\n",
       "      <td>0.0</td>\n",
       "      <td>0.0</td>\n",
       "      <td>-0.222222</td>\n",
       "      <td>NaN</td>\n",
       "      <td>NaN</td>\n",
       "      <td>3.0</td>\n",
       "    </tr>\n",
       "  </tbody>\n",
       "</table>\n",
       "<p>5 rows × 25 columns</p>\n",
       "</div>"
      ],
      "text/plain": [
       "     cusip_9  out_degree_centrality  in_degree_centrality  \\\n",
       "0  000360206               0.000846              0.000000   \n",
       "1  000361105               0.000564              0.000282   \n",
       "2  00089L107               0.000282              0.000000   \n",
       "3  001031103               0.000282              0.000000   \n",
       "4  001084102               0.000564              0.002538   \n",
       "\n",
       "   closeness_centrality  betweenness_centrality  eigenvector_centrality  \\\n",
       "0              0.000000                0.000000            7.397798e-18   \n",
       "1              0.140794                0.000022            6.768081e-03   \n",
       "2              0.000000                0.000000            7.397798e-18   \n",
       "3              0.000000                0.000000            7.397798e-18   \n",
       "4              0.122048                0.001122            1.466880e-03   \n",
       "\n",
       "   harmonic_centrality  average_neighbor_degree  square_clustering  \\\n",
       "0             0.000000                 1.666667                0.0   \n",
       "1           556.132179                 5.000000                0.0   \n",
       "2             0.000000                 0.000000                0.0   \n",
       "3             0.000000                 1.000000                0.0   \n",
       "4           476.103355                 6.000000                0.0   \n",
       "\n",
       "   core_number    ...      out_degree_0  in_degree_1  out_degree_1 in_diff  \\\n",
       "0          3.0    ...               3.0          0.0           3.0     0.0   \n",
       "1          3.0    ...               2.0          0.0           5.0    -1.0   \n",
       "2          1.0    ...               1.0          0.0           1.0     0.0   \n",
       "3          1.0    ...               1.0          0.0           1.0     0.0   \n",
       "4          6.0    ...               2.0          7.0           2.0    -2.0   \n",
       "\n",
       "   out_diff  out_diff_ratio  in_diff_ratio  higher_0  lower_0  out_group  \n",
       "0       0.0             0.0            NaN       NaN      NaN        3.0  \n",
       "1       3.0             1.5      -1.000000       1.5      NaN        1.0  \n",
       "2       0.0             0.0            NaN       NaN      NaN        3.0  \n",
       "3       0.0             0.0            NaN       NaN      NaN        3.0  \n",
       "4       0.0             0.0      -0.222222       NaN      NaN        3.0  \n",
       "\n",
       "[5 rows x 25 columns]"
      ]
     },
     "execution_count": 32,
     "metadata": {},
     "output_type": "execute_result"
    }
   ],
   "source": [
    "net_degree.head()"
   ]
  },
  {
   "cell_type": "code",
   "execution_count": 33,
   "metadata": {},
   "outputs": [
    {
     "name": "stdout",
     "output_type": "stream",
     "text": [
      "<class 'pandas.core.frame.DataFrame'>\n",
      "Int64Index: 83041 entries, 0 to 15257\n",
      "Data columns (total 25 columns):\n",
      "cusip_9                    83041 non-null object\n",
      "out_degree_centrality      83041 non-null float64\n",
      "in_degree_centrality       83041 non-null float64\n",
      "closeness_centrality       83041 non-null float64\n",
      "betweenness_centrality     83041 non-null float64\n",
      "eigenvector_centrality     83041 non-null float64\n",
      "harmonic_centrality        83041 non-null float64\n",
      "average_neighbor_degree    83041 non-null float64\n",
      "square_clustering          83041 non-null float64\n",
      "core_number                83041 non-null float64\n",
      "pagerank                   83041 non-null float64\n",
      "hubs                       83041 non-null float64\n",
      "authorities                83041 non-null float64\n",
      "year_0                     83041 non-null object\n",
      "in_degree_0                83041 non-null float64\n",
      "out_degree_0               83041 non-null float64\n",
      "in_degree_1                83041 non-null float64\n",
      "out_degree_1               83041 non-null float64\n",
      "in_diff                    83041 non-null float64\n",
      "out_diff                   83041 non-null float64\n",
      "out_diff_ratio             61143 non-null float64\n",
      "in_diff_ratio              66817 non-null float64\n",
      "higher_0                   23433 non-null float64\n",
      "lower_0                    12528 non-null float64\n",
      "out_group                  59752 non-null float64\n",
      "dtypes: float64(23), object(2)\n",
      "memory usage: 16.5+ MB\n"
     ]
    }
   ],
   "source": [
    "net_degree.info()"
   ]
  },
  {
   "cell_type": "code",
   "execution_count": 34,
   "metadata": {},
   "outputs": [],
   "source": [
    "net_degree_region = pd.merge(net_degree, region_3, how = 'inner', on = 'cusip_9')"
   ]
  },
  {
   "cell_type": "code",
   "execution_count": 35,
   "metadata": {},
   "outputs": [],
   "source": [
    "net_degree_region = net_degree_region.drop(columns = ['company_id','layer_number'])"
   ]
  },
  {
   "cell_type": "code",
   "execution_count": 36,
   "metadata": {},
   "outputs": [],
   "source": [
    "net_degree_region = net_degree_region.rename(columns = {'name':'region'})"
   ]
  },
  {
   "cell_type": "code",
   "execution_count": 37,
   "metadata": {},
   "outputs": [],
   "source": [
    "region_dummy = pd.get_dummies(net_degree_region['region'])"
   ]
  },
  {
   "cell_type": "code",
   "execution_count": 38,
   "metadata": {},
   "outputs": [],
   "source": [
    "net_degree_region = pd.concat([net_degree_region,region_dummy], axis = 1)"
   ]
  },
  {
   "cell_type": "code",
   "execution_count": 39,
   "metadata": {},
   "outputs": [],
   "source": [
    "net_degree_region.to_pickle('net_degree_region.pkl')"
   ]
  },
  {
   "cell_type": "code",
   "execution_count": 42,
   "metadata": {},
   "outputs": [],
   "source": [
    "train_2010 = net_degree_region.loc[net_degree_region['year_0']< '2011-12-31']\n",
    "test_2011 = net_degree_region.loc[net_degree_region['year_0'] == '2011-12-31']"
   ]
  },
  {
   "cell_type": "code",
   "execution_count": 43,
   "metadata": {},
   "outputs": [],
   "source": [
    "train_2010.to_pickle('train_2010.pkl')\n",
    "test_2011.to_pickle('test_2011.pkl')"
   ]
  },
  {
   "cell_type": "code",
   "execution_count": null,
   "metadata": {},
   "outputs": [],
   "source": []
  }
 ],
 "metadata": {
  "kernelspec": {
   "display_name": "Python 3",
   "language": "python",
   "name": "python3"
  },
  "language_info": {
   "codemirror_mode": {
    "name": "ipython",
    "version": 3
   },
   "file_extension": ".py",
   "mimetype": "text/x-python",
   "name": "python",
   "nbconvert_exporter": "python",
   "pygments_lexer": "ipython3",
   "version": "3.6.6"
  }
 },
 "nbformat": 4,
 "nbformat_minor": 2
}
