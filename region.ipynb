{
 "cells": [
  {
   "cell_type": "code",
   "execution_count": 31,
   "metadata": {},
   "outputs": [],
   "source": [
    "import pandas as pd\n",
    "import numpy as np\n",
    "import matplotlib.pyplot as plt\n",
    "import pylab\n",
    "import seaborn as sns; sns.set(color_codes=True)\n",
    "from matplotlib.colors import ListedColormap\n",
    "import networkx as nx"
   ]
  },
  {
   "cell_type": "code",
   "execution_count": 15,
   "metadata": {},
   "outputs": [],
   "source": [
    "#region = pd.read_pickle('wrds_geo_exp.pkl')"
   ]
  },
  {
   "cell_type": "code",
   "execution_count": 16,
   "metadata": {},
   "outputs": [],
   "source": [
    "# region_0 = region.loc[region['layer_number'] == 0]\n",
    "# region_1 = region.loc[region['layer_number'] == 1]\n",
    "# region_2 = region.loc[region['layer_number'] == 2]\n",
    "# region_3 = region.loc[region['layer_number'] == 3]\n",
    "# region_4 = region.loc[region['layer_number'] == 4]"
   ]
  },
  {
   "cell_type": "code",
   "execution_count": 17,
   "metadata": {},
   "outputs": [],
   "source": [
    "# print(len(region_0['name'].unique()),\n",
    "# len(region_1['name'].unique()), \n",
    "# len(region_2['name'].unique()),\n",
    "# len(region_3['name'].unique()),\n",
    "# len(region_4['name'].unique()))"
   ]
  },
  {
   "cell_type": "code",
   "execution_count": 18,
   "metadata": {},
   "outputs": [],
   "source": [
    "# region_3 = region_3.drop_duplicates(subset=['cusip'], keep='last')\n",
    "# region_3 = region_3.rename(columns = {'cusip': 'cusip_9'})\n",
    "# region_3.head()\n",
    "#region_3.to_pickle('region_3.pkl')"
   ]
  },
  {
   "cell_type": "code",
   "execution_count": 32,
   "metadata": {},
   "outputs": [
    {
     "data": {
      "text/html": [
       "<div>\n",
       "<style scoped>\n",
       "    .dataframe tbody tr th:only-of-type {\n",
       "        vertical-align: middle;\n",
       "    }\n",
       "\n",
       "    .dataframe tbody tr th {\n",
       "        vertical-align: top;\n",
       "    }\n",
       "\n",
       "    .dataframe thead th {\n",
       "        text-align: right;\n",
       "    }\n",
       "</style>\n",
       "<table border=\"1\" class=\"dataframe\">\n",
       "  <thead>\n",
       "    <tr style=\"text-align: right;\">\n",
       "      <th></th>\n",
       "      <th>company_id</th>\n",
       "      <th>cusip_9</th>\n",
       "      <th>name</th>\n",
       "      <th>layer_number</th>\n",
       "    </tr>\n",
       "  </thead>\n",
       "  <tbody>\n",
       "    <tr>\n",
       "      <th>73</th>\n",
       "      <td>10001</td>\n",
       "      <td>879080109</td>\n",
       "      <td>United States and Canada</td>\n",
       "      <td>3.0</td>\n",
       "    </tr>\n",
       "    <tr>\n",
       "      <th>404</th>\n",
       "      <td>10004</td>\n",
       "      <td>878919208</td>\n",
       "      <td>Western Middle East</td>\n",
       "      <td>3.0</td>\n",
       "    </tr>\n",
       "    <tr>\n",
       "      <th>529</th>\n",
       "      <td>100050538</td>\n",
       "      <td>A1142C109</td>\n",
       "      <td>Europe Unallocated Area</td>\n",
       "      <td>3.0</td>\n",
       "    </tr>\n",
       "    <tr>\n",
       "      <th>534</th>\n",
       "      <td>100050999</td>\n",
       "      <td>Y8588E105</td>\n",
       "      <td>Far East</td>\n",
       "      <td>3.0</td>\n",
       "    </tr>\n",
       "    <tr>\n",
       "      <th>539</th>\n",
       "      <td>100051504</td>\n",
       "      <td>74737F101</td>\n",
       "      <td>Non-Operating Area</td>\n",
       "      <td>3.0</td>\n",
       "    </tr>\n",
       "  </tbody>\n",
       "</table>\n",
       "</div>"
      ],
      "text/plain": [
       "    company_id    cusip_9                      name  layer_number\n",
       "73       10001  879080109  United States and Canada           3.0\n",
       "404      10004  878919208       Western Middle East           3.0\n",
       "529  100050538  A1142C109   Europe Unallocated Area           3.0\n",
       "534  100050999  Y8588E105                  Far East           3.0\n",
       "539  100051504  74737F101        Non-Operating Area           3.0"
      ]
     },
     "execution_count": 32,
     "metadata": {},
     "output_type": "execute_result"
    }
   ],
   "source": [
    "region_3 = pd.read_pickle('region_3.pkl')\n",
    "region_3.head()"
   ]
  },
  {
   "cell_type": "code",
   "execution_count": 33,
   "metadata": {},
   "outputs": [],
   "source": [
    "sector_funda_net_degree_3 = pd.read_pickle('sector_funda_net_degree_3.pkl')"
   ]
  },
  {
   "cell_type": "code",
   "execution_count": 34,
   "metadata": {},
   "outputs": [
    {
     "data": {
      "text/html": [
       "<div>\n",
       "<style scoped>\n",
       "    .dataframe tbody tr th:only-of-type {\n",
       "        vertical-align: middle;\n",
       "    }\n",
       "\n",
       "    .dataframe tbody tr th {\n",
       "        vertical-align: top;\n",
       "    }\n",
       "\n",
       "    .dataframe thead th {\n",
       "        text-align: right;\n",
       "    }\n",
       "</style>\n",
       "<table border=\"1\" class=\"dataframe\">\n",
       "  <thead>\n",
       "    <tr style=\"text-align: right;\">\n",
       "      <th></th>\n",
       "      <th>cusip_9</th>\n",
       "      <th>out_degree_centrality</th>\n",
       "      <th>in_degree_centrality</th>\n",
       "      <th>closeness_centrality</th>\n",
       "      <th>betweenness_centrality</th>\n",
       "      <th>eigenvector_centrality</th>\n",
       "      <th>harmonic_centrality</th>\n",
       "      <th>average_neighbor_degree</th>\n",
       "      <th>square_clustering</th>\n",
       "      <th>core_number</th>\n",
       "      <th>...</th>\n",
       "      <th>SECTOR_CODE3250</th>\n",
       "      <th>SECTOR_CODE3300</th>\n",
       "      <th>SECTOR_CODE3350</th>\n",
       "      <th>SECTOR_CODE3400</th>\n",
       "      <th>SECTOR_CODE3500</th>\n",
       "      <th>SECTOR_CODE4600</th>\n",
       "      <th>SECTOR_CODE4700</th>\n",
       "      <th>SECTOR_CODE4800</th>\n",
       "      <th>SECTOR_CODE4900</th>\n",
       "      <th>SECTOR_CODE6000</th>\n",
       "    </tr>\n",
       "  </thead>\n",
       "  <tbody>\n",
       "    <tr>\n",
       "      <th>0</th>\n",
       "      <td>000360206</td>\n",
       "      <td>0.000848</td>\n",
       "      <td>0.000000</td>\n",
       "      <td>0.000000</td>\n",
       "      <td>0.000000</td>\n",
       "      <td>6.336145e-17</td>\n",
       "      <td>0.000000</td>\n",
       "      <td>2.000000</td>\n",
       "      <td>0.0</td>\n",
       "      <td>3.0</td>\n",
       "      <td>...</td>\n",
       "      <td>0</td>\n",
       "      <td>0</td>\n",
       "      <td>0</td>\n",
       "      <td>0</td>\n",
       "      <td>0</td>\n",
       "      <td>0</td>\n",
       "      <td>0</td>\n",
       "      <td>0</td>\n",
       "      <td>0</td>\n",
       "      <td>0</td>\n",
       "    </tr>\n",
       "    <tr>\n",
       "      <th>1</th>\n",
       "      <td>000361105</td>\n",
       "      <td>0.000000</td>\n",
       "      <td>0.000283</td>\n",
       "      <td>0.138689</td>\n",
       "      <td>0.000000</td>\n",
       "      <td>6.321229e-03</td>\n",
       "      <td>548.415620</td>\n",
       "      <td>0.000000</td>\n",
       "      <td>0.0</td>\n",
       "      <td>1.0</td>\n",
       "      <td>...</td>\n",
       "      <td>0</td>\n",
       "      <td>0</td>\n",
       "      <td>0</td>\n",
       "      <td>0</td>\n",
       "      <td>0</td>\n",
       "      <td>0</td>\n",
       "      <td>0</td>\n",
       "      <td>0</td>\n",
       "      <td>0</td>\n",
       "      <td>0</td>\n",
       "    </tr>\n",
       "    <tr>\n",
       "      <th>2</th>\n",
       "      <td>001084102</td>\n",
       "      <td>0.000565</td>\n",
       "      <td>0.002545</td>\n",
       "      <td>0.120557</td>\n",
       "      <td>0.001189</td>\n",
       "      <td>1.308002e-03</td>\n",
       "      <td>468.522872</td>\n",
       "      <td>6.000000</td>\n",
       "      <td>0.0</td>\n",
       "      <td>6.0</td>\n",
       "      <td>...</td>\n",
       "      <td>0</td>\n",
       "      <td>0</td>\n",
       "      <td>0</td>\n",
       "      <td>0</td>\n",
       "      <td>0</td>\n",
       "      <td>0</td>\n",
       "      <td>0</td>\n",
       "      <td>0</td>\n",
       "      <td>0</td>\n",
       "      <td>0</td>\n",
       "    </tr>\n",
       "    <tr>\n",
       "      <th>3</th>\n",
       "      <td>00108M102</td>\n",
       "      <td>0.000848</td>\n",
       "      <td>0.000283</td>\n",
       "      <td>0.124502</td>\n",
       "      <td>0.000048</td>\n",
       "      <td>2.362460e-03</td>\n",
       "      <td>480.410101</td>\n",
       "      <td>6.333333</td>\n",
       "      <td>0.0</td>\n",
       "      <td>3.0</td>\n",
       "      <td>...</td>\n",
       "      <td>0</td>\n",
       "      <td>0</td>\n",
       "      <td>0</td>\n",
       "      <td>0</td>\n",
       "      <td>0</td>\n",
       "      <td>0</td>\n",
       "      <td>0</td>\n",
       "      <td>0</td>\n",
       "      <td>0</td>\n",
       "      <td>0</td>\n",
       "    </tr>\n",
       "    <tr>\n",
       "      <th>4</th>\n",
       "      <td>001204106</td>\n",
       "      <td>0.000283</td>\n",
       "      <td>0.001414</td>\n",
       "      <td>0.115748</td>\n",
       "      <td>0.000250</td>\n",
       "      <td>5.949723e-04</td>\n",
       "      <td>446.904182</td>\n",
       "      <td>2.000000</td>\n",
       "      <td>0.0</td>\n",
       "      <td>4.0</td>\n",
       "      <td>...</td>\n",
       "      <td>0</td>\n",
       "      <td>0</td>\n",
       "      <td>0</td>\n",
       "      <td>0</td>\n",
       "      <td>0</td>\n",
       "      <td>0</td>\n",
       "      <td>1</td>\n",
       "      <td>0</td>\n",
       "      <td>0</td>\n",
       "      <td>0</td>\n",
       "    </tr>\n",
       "  </tbody>\n",
       "</table>\n",
       "<p>5 rows × 112 columns</p>\n",
       "</div>"
      ],
      "text/plain": [
       "     cusip_9  out_degree_centrality  in_degree_centrality  \\\n",
       "0  000360206               0.000848              0.000000   \n",
       "1  000361105               0.000000              0.000283   \n",
       "2  001084102               0.000565              0.002545   \n",
       "3  00108M102               0.000848              0.000283   \n",
       "4  001204106               0.000283              0.001414   \n",
       "\n",
       "   closeness_centrality  betweenness_centrality  eigenvector_centrality  \\\n",
       "0              0.000000                0.000000            6.336145e-17   \n",
       "1              0.138689                0.000000            6.321229e-03   \n",
       "2              0.120557                0.001189            1.308002e-03   \n",
       "3              0.124502                0.000048            2.362460e-03   \n",
       "4              0.115748                0.000250            5.949723e-04   \n",
       "\n",
       "   harmonic_centrality  average_neighbor_degree  square_clustering  \\\n",
       "0             0.000000                 2.000000                0.0   \n",
       "1           548.415620                 0.000000                0.0   \n",
       "2           468.522872                 6.000000                0.0   \n",
       "3           480.410101                 6.333333                0.0   \n",
       "4           446.904182                 2.000000                0.0   \n",
       "\n",
       "   core_number       ...         SECTOR_CODE3250  SECTOR_CODE3300  \\\n",
       "0          3.0       ...                       0                0   \n",
       "1          1.0       ...                       0                0   \n",
       "2          6.0       ...                       0                0   \n",
       "3          3.0       ...                       0                0   \n",
       "4          4.0       ...                       0                0   \n",
       "\n",
       "   SECTOR_CODE3350 SECTOR_CODE3400  SECTOR_CODE3500  SECTOR_CODE4600  \\\n",
       "0                0               0                0                0   \n",
       "1                0               0                0                0   \n",
       "2                0               0                0                0   \n",
       "3                0               0                0                0   \n",
       "4                0               0                0                0   \n",
       "\n",
       "   SECTOR_CODE4700  SECTOR_CODE4800  SECTOR_CODE4900  SECTOR_CODE6000  \n",
       "0                0                0                0                0  \n",
       "1                0                0                0                0  \n",
       "2                0                0                0                0  \n",
       "3                0                0                0                0  \n",
       "4                1                0                0                0  \n",
       "\n",
       "[5 rows x 112 columns]"
      ]
     },
     "execution_count": 34,
     "metadata": {},
     "output_type": "execute_result"
    }
   ],
   "source": [
    "sector_funda_net_degree_3.head()"
   ]
  },
  {
   "cell_type": "code",
   "execution_count": 35,
   "metadata": {},
   "outputs": [
    {
     "name": "stdout",
     "output_type": "stream",
     "text": [
      "<class 'pandas.core.frame.DataFrame'>\n",
      "Int64Index: 66328 entries, 0 to 66327\n",
      "Columns: 112 entries, cusip_9 to SECTOR_CODE6000\n",
      "dtypes: datetime64[ns](1), float64(85), int64(1), object(5), uint8(20)\n",
      "memory usage: 48.3+ MB\n"
     ]
    }
   ],
   "source": [
    "sector_funda_net_degree_3.info()"
   ]
  },
  {
   "cell_type": "code",
   "execution_count": 36,
   "metadata": {},
   "outputs": [],
   "source": [
    "region_sector_funda_net_degree_3 = pd.merge(sector_funda_net_degree_3, region_3, how = 'inner', on = 'cusip_9')"
   ]
  },
  {
   "cell_type": "code",
   "execution_count": 37,
   "metadata": {},
   "outputs": [
    {
     "name": "stdout",
     "output_type": "stream",
     "text": [
      "<class 'pandas.core.frame.DataFrame'>\n",
      "Int64Index: 63456 entries, 0 to 63455\n",
      "Columns: 115 entries, cusip_9 to layer_number\n",
      "dtypes: datetime64[ns](1), float64(86), int64(1), object(7), uint8(20)\n",
      "memory usage: 47.7+ MB\n"
     ]
    }
   ],
   "source": [
    "region_sector_funda_net_degree_3.info()"
   ]
  },
  {
   "cell_type": "code",
   "execution_count": 38,
   "metadata": {},
   "outputs": [],
   "source": [
    "region_sector_funda_net_degree_3 = region_sector_funda_net_degree_3.drop(columns = ['company_id','layer_number'])"
   ]
  },
  {
   "cell_type": "code",
   "execution_count": 39,
   "metadata": {},
   "outputs": [],
   "source": [
    "region_sector_funda_net_degree_3 = region_sector_funda_net_degree_3.rename(columns = {'name':'region'})"
   ]
  },
  {
   "cell_type": "code",
   "execution_count": 40,
   "metadata": {},
   "outputs": [],
   "source": [
    "region_dumy = pd.get_dummies(region_sector_funda_net_degree_3['region'])"
   ]
  },
  {
   "cell_type": "code",
   "execution_count": 41,
   "metadata": {},
   "outputs": [],
   "source": [
    "region_sector_funda_net_degree_3 = pd.concat([region_sector_funda_net_degree_3,region_dumy], axis = 1)"
   ]
  },
  {
   "cell_type": "code",
   "execution_count": 42,
   "metadata": {},
   "outputs": [
    {
     "name": "stdout",
     "output_type": "stream",
     "text": [
      "<class 'pandas.core.frame.DataFrame'>\n",
      "Int64Index: 63456 entries, 0 to 63455\n",
      "Columns: 142 entries, cusip_9 to Western Non-European Union\n",
      "dtypes: datetime64[ns](1), float64(85), int64(1), object(6), uint8(49)\n",
      "memory usage: 48.5+ MB\n"
     ]
    }
   ],
   "source": [
    "region_sector_funda_net_degree_3.info()"
   ]
  },
  {
   "cell_type": "code",
   "execution_count": 43,
   "metadata": {},
   "outputs": [],
   "source": [
    "region_sector_funda_net_degree_3.to_pickle('region_sector_funda_net_degree_3.pkl')"
   ]
  },
  {
   "cell_type": "code",
   "execution_count": null,
   "metadata": {},
   "outputs": [],
   "source": []
  }
 ],
 "metadata": {
  "kernelspec": {
   "display_name": "Python 3",
   "language": "python",
   "name": "python3"
  },
  "language_info": {
   "codemirror_mode": {
    "name": "ipython",
    "version": 3
   },
   "file_extension": ".py",
   "mimetype": "text/x-python",
   "name": "python",
   "nbconvert_exporter": "python",
   "pygments_lexer": "ipython3",
   "version": "3.6.6"
  }
 },
 "nbformat": 4,
 "nbformat_minor": 2
}
