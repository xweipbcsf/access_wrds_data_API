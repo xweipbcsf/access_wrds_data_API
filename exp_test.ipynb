{
 "cells": [
  {
   "cell_type": "code",
   "execution_count": 1,
   "metadata": {},
   "outputs": [],
   "source": [
    "import pandas as pd\n",
    "import numpy as np\n",
    "import datetime as dt\n",
    "import networkx as nx\n",
    "import matplotlib.pyplot as plt"
   ]
  },
  {
   "cell_type": "markdown",
   "metadata": {},
   "source": [
    "# datetime"
   ]
  },
  {
   "cell_type": "code",
   "execution_count": 11,
   "metadata": {},
   "outputs": [],
   "source": [
    "data = pd.read_excel('supply_chain_network.xlsx')\n",
    "data['start']=pd.to_datetime(data['START_']) #convert datadate to date fmt\n",
    "data = data.replace('4000/01/01','2015/12/31')\n",
    "data['end'] = pd.to_datetime(data['END_'])\n",
    "# data.info()"
   ]
  },
  {
   "cell_type": "markdown",
   "metadata": {},
   "source": [
    "# competitor"
   ]
  },
  {
   "cell_type": "code",
   "execution_count": 12,
   "metadata": {},
   "outputs": [],
   "source": [
    "data_competitor = data.loc[data['REL_TYPE'] == 'COMPETITOR']\n",
    "data_competitor = data_competitor[['ID','start','end','TICKER','TICKER.1']]\n",
    "# data_competitor.info()"
   ]
  },
  {
   "cell_type": "code",
   "execution_count": 13,
   "metadata": {},
   "outputs": [],
   "source": [
    "data_competitor.columns = ['ID','start', 'end','source_ticker','target_ticker']\n",
    "data_competitor = data_competitor.reset_index()\n",
    "data_competitor = data_competitor.drop(['index'], axis=1)\n",
    "# data_competitor.head()"
   ]
  },
  {
   "cell_type": "markdown",
   "metadata": {},
   "source": [
    "# competitor 2015"
   ]
  },
  {
   "cell_type": "code",
   "execution_count": 16,
   "metadata": {},
   "outputs": [
    {
     "name": "stderr",
     "output_type": "stream",
     "text": [
      "/Users/xingkong/anaconda3/lib/python3.6/site-packages/ipykernel_launcher.py:2: SettingWithCopyWarning: \n",
      "A value is trying to be set on a copy of a slice from a DataFrame.\n",
      "Try using .loc[row_indexer,col_indexer] = value instead\n",
      "\n",
      "See the caveats in the documentation: http://pandas.pydata.org/pandas-docs/stable/indexing.html#indexing-view-versus-copy\n",
      "  \n",
      "/Users/xingkong/anaconda3/lib/python3.6/site-packages/ipykernel_launcher.py:4: SettingWithCopyWarning: \n",
      "A value is trying to be set on a copy of a slice from a DataFrame.\n",
      "Try using .loc[row_indexer,col_indexer] = value instead\n",
      "\n",
      "See the caveats in the documentation: http://pandas.pydata.org/pandas-docs/stable/indexing.html#indexing-view-versus-copy\n",
      "  after removing the cwd from sys.path.\n"
     ]
    }
   ],
   "source": [
    "df_2015 = data_competitor.loc[(data_competitor['end'] > '2014-12-31') & (data_competitor['start'] < '2016-01-01' )]\n",
    "df_2015['date'] = '2015-12-31'\n",
    "df_2014 = data_competitor.loc[(data_competitor['end'] > '2013-12-31') & (data_competitor['start'] < '2015-01-01' )]\n",
    "df_2014['date'] = '2014-12-31'\n",
    "# # data_competitor_2013 = data_competitor.loc[(data_competitor['end'] > '2012-12-31')]\n",
    "# # data_competitor_2013['date'] = '2013-12-31'"
   ]
  },
  {
   "cell_type": "code",
   "execution_count": 17,
   "metadata": {},
   "outputs": [],
   "source": [
    "df_2014 = df_2014.dropna()\n",
    "df_2015 = df_2015.dropna()\n",
    "df_2014.to_pickle('data_competitor_2014.pkl')\n",
    "df_2015.to_pickle('data_competitor_2015.pkl')"
   ]
  },
  {
   "cell_type": "code",
   "execution_count": 18,
   "metadata": {},
   "outputs": [
    {
     "name": "stdout",
     "output_type": "stream",
     "text": [
      "<class 'pandas.core.frame.DataFrame'>\n",
      "Int64Index: 983 entries, 0 to 1656\n",
      "Data columns (total 6 columns):\n",
      "ID               983 non-null object\n",
      "start            983 non-null datetime64[ns]\n",
      "end              983 non-null datetime64[ns]\n",
      "source_ticker    983 non-null object\n",
      "target_ticker    983 non-null object\n",
      "date             983 non-null object\n",
      "dtypes: datetime64[ns](2), object(4)\n",
      "memory usage: 53.8+ KB\n"
     ]
    }
   ],
   "source": [
    "df_2014.info()"
   ]
  },
  {
   "cell_type": "code",
   "execution_count": 20,
   "metadata": {},
   "outputs": [
    {
     "name": "stdout",
     "output_type": "stream",
     "text": [
      "<class 'pandas.core.frame.DataFrame'>\n",
      "Int64Index: 886 entries, 4 to 1656\n",
      "Data columns (total 6 columns):\n",
      "ID               886 non-null object\n",
      "start            886 non-null datetime64[ns]\n",
      "end              886 non-null datetime64[ns]\n",
      "source_ticker    886 non-null object\n",
      "target_ticker    886 non-null object\n",
      "date             886 non-null object\n",
      "dtypes: datetime64[ns](2), object(4)\n",
      "memory usage: 48.5+ KB\n"
     ]
    }
   ],
   "source": [
    "df_2015.info()"
   ]
  },
  {
   "cell_type": "code",
   "execution_count": 15,
   "metadata": {},
   "outputs": [],
   "source": [
    "G = nx.from_pandas_edgelist(df, 'source_ticker', 'target_ticker', create_using = nx.Graph())\n",
    "# G2014 = nx.from_pandas_edgelist(data_competitor_2014, 'source_ticker', 'target_ticker', edge_attr = 'date', create_using = nx.Graph())\n",
    "# G2013 = nx.from_pandas_edgelist(data_competitor_2013, 'source_ticker', 'target_ticker', edge_attr = 'date', create_using = nx.Graph())"
   ]
  },
  {
   "cell_type": "code",
   "execution_count": 12,
   "metadata": {},
   "outputs": [],
   "source": [
    "# degree, closeness, betweenness, pagerank\n",
    "# degree = pd.Series(G.degree())\n",
    "# degree = pd.DataFrame(degree, columns=['firms'])\n",
    "# degree[['firms','degree']] = degree['firms'].apply(pd.Series)\n",
    "# degree.set_index('firms', inplace=True)\n",
    "\n",
    "# # closeness\n",
    "# closeness = pd.Series(nx.closeness_centrality(G))\n",
    "# closeness = pd.DataFrame(closeness, columns = ['closeness'])\n",
    "\n",
    "# # betweenness\n",
    "# betweenness = pd.Series(nx.betweenness_centrality(G, normalized=True))\n",
    "# betweenness = pd.DataFrame(betweenness, columns=['betweenness'])\n",
    "\n",
    "# #pagerank\n",
    "# pagerank = pd.Series(nx.pagerank(G))\n",
    "# pagerank = pd.DataFrame(pagerank, columns=['pagerank'])"
   ]
  },
  {
   "cell_type": "code",
   "execution_count": 13,
   "metadata": {},
   "outputs": [],
   "source": [
    "# merge 2015\n",
    "# data_merge_2015 = pd.concat([degree,closeness, betweenness, pagerank],axis =1)\n",
    "# data_merge_2015['date'] = '2015-12-31'\n",
    "\n",
    "#merge2014\n",
    "# data_merge_2014 = pd.concat([degree,closeness, betweenness, pagerank],axis =1)\n",
    "# data_merge_2014['date'] = '2014-12-31'\n",
    "\n",
    "#merge2013\n",
    "# data_merge_2013 = pd.concat([degree,closeness, betweenness, pagerank],axis =1)\n",
    "# data_merge_2013['date'] = '2013-12-31'"
   ]
  },
  {
   "cell_type": "code",
   "execution_count": 14,
   "metadata": {},
   "outputs": [],
   "source": [
    "import seaborn as sns; sns.set(color_codes=True)\n",
    "# ax_closeness = sns.kdeplot(closeness['closeness'], shade = True)"
   ]
  },
  {
   "cell_type": "code",
   "execution_count": 15,
   "metadata": {},
   "outputs": [],
   "source": [
    "# data3 = data_competitor_2013.copy()\n",
    "# data3 = data3.dropna()\n",
    "\n",
    "# G2013 = nx.from_pandas_edgelist(data3, 'source_ticker', 'target_ticker',\n",
    "#                             create_using = nx.Graph())\n",
    "\n",
    "# plt.figure(figsize=(12,12))\n",
    "# layout = nx.kamada_kawai_layout(G2015)\n",
    "# #layout = nx.spring_layout(G)\n",
    "# nx.draw(G2015, layout, edge_color='#AAAAAA', with_labels = True)"
   ]
  },
  {
   "cell_type": "code",
   "execution_count": 16,
   "metadata": {},
   "outputs": [],
   "source": [
    "import community\n",
    "import collections"
   ]
  },
  {
   "cell_type": "code",
   "execution_count": 17,
   "metadata": {},
   "outputs": [
    {
     "name": "stdout",
     "output_type": "stream",
     "text": [
      "Counter({1: 146, 0: 145, 5: 105, 2: 57, 12: 34, 7: 25, 25: 20, 14: 17, 8: 15, 16: 15, 11: 14, 24: 14, 9: 13, 4: 11, 22: 10, 3: 9, 10: 7, 17: 7, 6: 6, 13: 5, 26: 5, 19: 4, 23: 4, 18: 3, 20: 3, 15: 2, 21: 2})\n"
     ]
    }
   ],
   "source": [
    "partition = community.best_partition(G)\n",
    "values = [partition.get(node) for node in G.nodes()]\n",
    "counter=collections.Counter(values)\n",
    "print(counter)"
   ]
  },
  {
   "cell_type": "code",
   "execution_count": 18,
   "metadata": {},
   "outputs": [],
   "source": [
    "# plt.figure(figsize=(20,20))\n",
    "# sp = nx.spring_layout(G)\n",
    "# nx.draw_networkx(G, pos=sp, with_labels=True, node_size=500, node_color=values)\n",
    "# # plt.axes('off')\n",
    "# plt.show()"
   ]
  },
  {
   "cell_type": "code",
   "execution_count": 47,
   "metadata": {},
   "outputs": [],
   "source": [
    "color = nx.coloring.greedy_color(G, strategy='largest_first')"
   ]
  },
  {
   "cell_type": "code",
   "execution_count": 40,
   "metadata": {},
   "outputs": [
    {
     "data": {
      "text/html": [
       "<div>\n",
       "<style scoped>\n",
       "    .dataframe tbody tr th:only-of-type {\n",
       "        vertical-align: middle;\n",
       "    }\n",
       "\n",
       "    .dataframe tbody tr th {\n",
       "        vertical-align: top;\n",
       "    }\n",
       "\n",
       "    .dataframe thead th {\n",
       "        text-align: right;\n",
       "    }\n",
       "</style>\n",
       "<table border=\"1\" class=\"dataframe\">\n",
       "  <thead>\n",
       "    <tr style=\"text-align: right;\">\n",
       "      <th></th>\n",
       "      <th>colors</th>\n",
       "    </tr>\n",
       "  </thead>\n",
       "  <tbody>\n",
       "    <tr>\n",
       "      <th>IBM</th>\n",
       "      <td>0</td>\n",
       "    </tr>\n",
       "    <tr>\n",
       "      <th>MSFT</th>\n",
       "      <td>1</td>\n",
       "    </tr>\n",
       "    <tr>\n",
       "      <th>AAPL</th>\n",
       "      <td>0</td>\n",
       "    </tr>\n",
       "    <tr>\n",
       "      <th>DELL</th>\n",
       "      <td>1</td>\n",
       "    </tr>\n",
       "    <tr>\n",
       "      <th>INSY</th>\n",
       "      <td>0</td>\n",
       "    </tr>\n",
       "  </tbody>\n",
       "</table>\n",
       "</div>"
      ],
      "text/plain": [
       "      colors\n",
       "IBM        0\n",
       "MSFT       1\n",
       "AAPL       0\n",
       "DELL       1\n",
       "INSY       0"
      ]
     },
     "execution_count": 40,
     "metadata": {},
     "output_type": "execute_result"
    }
   ],
   "source": [
    "color.head()"
   ]
  },
  {
   "cell_type": "code",
   "execution_count": 48,
   "metadata": {},
   "outputs": [],
   "source": [
    "nx.set_node_attributes(G, color,'community')"
   ]
  },
  {
   "cell_type": "code",
   "execution_count": 49,
   "metadata": {},
   "outputs": [
    {
     "data": {
      "text/plain": [
       "0"
      ]
     },
     "execution_count": 49,
     "metadata": {},
     "output_type": "execute_result"
    }
   ],
   "source": [
    "G.nodes['IBM']['community']"
   ]
  },
  {
   "cell_type": "code",
   "execution_count": 51,
   "metadata": {},
   "outputs": [],
   "source": [
    "G_p = nx.complement(G)"
   ]
  },
  {
   "cell_type": "code",
   "execution_count": 38,
   "metadata": {},
   "outputs": [],
   "source": [
    "preds = nx.resource_allocation_index(G)"
   ]
  },
  {
   "cell_type": "code",
   "execution_count": 20,
   "metadata": {},
   "outputs": [
    {
     "data": {
      "text/plain": [
       "<generator object _apply_prediction.<locals>.<genexpr> at 0x1a248bf048>"
      ]
     },
     "execution_count": 20,
     "metadata": {},
     "output_type": "execute_result"
    }
   ],
   "source": [
    "preds"
   ]
  },
  {
   "cell_type": "code",
   "execution_count": 52,
   "metadata": {},
   "outputs": [],
   "source": [
    "potential = pd.DataFrame(pd.Series(G_p.edges()), columns = ['potential edges'])"
   ]
  },
  {
   "cell_type": "code",
   "execution_count": 53,
   "metadata": {},
   "outputs": [],
   "source": [
    "potential = potential.set_index('potential edges')"
   ]
  },
  {
   "cell_type": "code",
   "execution_count": 54,
   "metadata": {},
   "outputs": [],
   "source": [
    "potential['preferential_attachment'] = [i[2] for i in nx.preferential_attachment(G, potential.index)]"
   ]
  },
  {
   "cell_type": "code",
   "execution_count": 55,
   "metadata": {},
   "outputs": [],
   "source": [
    "potential['resource_allocation_index'] = [i[2] for i in nx.resource_allocation_index(G, potential.index)]\n",
    "potential['jaccard_coefficient'] = [i[2] for i in nx.jaccard_coefficient(G, potential.index)]\n",
    "potential['adamic_adar_index'] = [i[2] for i in nx.adamic_adar_index(G, potential.index)]\n",
    "potential['cn_soundarajan_hopcroft'] = [i[2] for i in nx.cn_soundarajan_hopcroft(G, potential.index)]\n",
    "potential['ra_index_soundarajan_hopcroft'] = [i[2] for i in nx.ra_index_soundarajan_hopcroft(G, potential.index)]\n",
    "potential['within_inter_cluster'] = [i[2] for i in nx.within_inter_cluster(G, potential.index)]"
   ]
  },
  {
   "cell_type": "code",
   "execution_count": 56,
   "metadata": {},
   "outputs": [
    {
     "data": {
      "text/html": [
       "<div>\n",
       "<style scoped>\n",
       "    .dataframe tbody tr th:only-of-type {\n",
       "        vertical-align: middle;\n",
       "    }\n",
       "\n",
       "    .dataframe tbody tr th {\n",
       "        vertical-align: top;\n",
       "    }\n",
       "\n",
       "    .dataframe thead th {\n",
       "        text-align: right;\n",
       "    }\n",
       "</style>\n",
       "<table border=\"1\" class=\"dataframe\">\n",
       "  <thead>\n",
       "    <tr style=\"text-align: right;\">\n",
       "      <th></th>\n",
       "      <th>preferential_attachment</th>\n",
       "      <th>resource_allocation_index</th>\n",
       "      <th>jaccard_coefficient</th>\n",
       "      <th>adamic_adar_index</th>\n",
       "      <th>cn_soundarajan_hopcroft</th>\n",
       "      <th>ra_index_soundarajan_hopcroft</th>\n",
       "      <th>within_inter_cluster</th>\n",
       "    </tr>\n",
       "    <tr>\n",
       "      <th>potential edges</th>\n",
       "      <th></th>\n",
       "      <th></th>\n",
       "      <th></th>\n",
       "      <th></th>\n",
       "      <th></th>\n",
       "      <th></th>\n",
       "      <th></th>\n",
       "    </tr>\n",
       "  </thead>\n",
       "  <tbody>\n",
       "    <tr>\n",
       "      <th>(TIT-IT, TTEC)</th>\n",
       "      <td>1</td>\n",
       "      <td>0.000000</td>\n",
       "      <td>0.000000</td>\n",
       "      <td>0.000000</td>\n",
       "      <td>0</td>\n",
       "      <td>0</td>\n",
       "      <td>0.0</td>\n",
       "    </tr>\n",
       "    <tr>\n",
       "      <th>(TIT-IT, IBM)</th>\n",
       "      <td>211</td>\n",
       "      <td>0.004831</td>\n",
       "      <td>0.004739</td>\n",
       "      <td>0.187522</td>\n",
       "      <td>1</td>\n",
       "      <td>0</td>\n",
       "      <td>0.0</td>\n",
       "    </tr>\n",
       "    <tr>\n",
       "      <th>(TIT-IT, CRAY)</th>\n",
       "      <td>2</td>\n",
       "      <td>0.000000</td>\n",
       "      <td>0.000000</td>\n",
       "      <td>0.000000</td>\n",
       "      <td>0</td>\n",
       "      <td>0</td>\n",
       "      <td>0.0</td>\n",
       "    </tr>\n",
       "    <tr>\n",
       "      <th>(TIT-IT, DELL)</th>\n",
       "      <td>59</td>\n",
       "      <td>0.000000</td>\n",
       "      <td>0.000000</td>\n",
       "      <td>0.000000</td>\n",
       "      <td>0</td>\n",
       "      <td>0</td>\n",
       "      <td>0.0</td>\n",
       "    </tr>\n",
       "    <tr>\n",
       "      <th>(TIT-IT, THOR)</th>\n",
       "      <td>1</td>\n",
       "      <td>0.000000</td>\n",
       "      <td>0.000000</td>\n",
       "      <td>0.000000</td>\n",
       "      <td>0</td>\n",
       "      <td>0</td>\n",
       "      <td>0.0</td>\n",
       "    </tr>\n",
       "  </tbody>\n",
       "</table>\n",
       "</div>"
      ],
      "text/plain": [
       "                 preferential_attachment  resource_allocation_index  \\\n",
       "potential edges                                                       \n",
       "(TIT-IT, TTEC)                         1                   0.000000   \n",
       "(TIT-IT, IBM)                        211                   0.004831   \n",
       "(TIT-IT, CRAY)                         2                   0.000000   \n",
       "(TIT-IT, DELL)                        59                   0.000000   \n",
       "(TIT-IT, THOR)                         1                   0.000000   \n",
       "\n",
       "                 jaccard_coefficient  adamic_adar_index  \\\n",
       "potential edges                                           \n",
       "(TIT-IT, TTEC)              0.000000           0.000000   \n",
       "(TIT-IT, IBM)               0.004739           0.187522   \n",
       "(TIT-IT, CRAY)              0.000000           0.000000   \n",
       "(TIT-IT, DELL)              0.000000           0.000000   \n",
       "(TIT-IT, THOR)              0.000000           0.000000   \n",
       "\n",
       "                 cn_soundarajan_hopcroft  ra_index_soundarajan_hopcroft  \\\n",
       "potential edges                                                           \n",
       "(TIT-IT, TTEC)                         0                              0   \n",
       "(TIT-IT, IBM)                          1                              0   \n",
       "(TIT-IT, CRAY)                         0                              0   \n",
       "(TIT-IT, DELL)                         0                              0   \n",
       "(TIT-IT, THOR)                         0                              0   \n",
       "\n",
       "                 within_inter_cluster  \n",
       "potential edges                        \n",
       "(TIT-IT, TTEC)                    0.0  \n",
       "(TIT-IT, IBM)                     0.0  \n",
       "(TIT-IT, CRAY)                    0.0  \n",
       "(TIT-IT, DELL)                    0.0  \n",
       "(TIT-IT, THOR)                    0.0  "
      ]
     },
     "execution_count": 56,
     "metadata": {},
     "output_type": "execute_result"
    }
   ],
   "source": [
    "potential.head()"
   ]
  },
  {
   "cell_type": "code",
   "execution_count": 57,
   "metadata": {},
   "outputs": [
    {
     "data": {
      "text/html": [
       "<div>\n",
       "<style scoped>\n",
       "    .dataframe tbody tr th:only-of-type {\n",
       "        vertical-align: middle;\n",
       "    }\n",
       "\n",
       "    .dataframe tbody tr th {\n",
       "        vertical-align: top;\n",
       "    }\n",
       "\n",
       "    .dataframe thead th {\n",
       "        text-align: right;\n",
       "    }\n",
       "</style>\n",
       "<table border=\"1\" class=\"dataframe\">\n",
       "  <thead>\n",
       "    <tr style=\"text-align: right;\">\n",
       "      <th></th>\n",
       "      <th>count</th>\n",
       "      <th>mean</th>\n",
       "      <th>std</th>\n",
       "      <th>min</th>\n",
       "      <th>25%</th>\n",
       "      <th>50%</th>\n",
       "      <th>75%</th>\n",
       "      <th>max</th>\n",
       "    </tr>\n",
       "  </thead>\n",
       "  <tbody>\n",
       "    <tr>\n",
       "      <th>preferential_attachment</th>\n",
       "      <td>156914.0</td>\n",
       "      <td>4.783181</td>\n",
       "      <td>72.140275</td>\n",
       "      <td>1.0</td>\n",
       "      <td>1.0</td>\n",
       "      <td>2.0</td>\n",
       "      <td>2.000000</td>\n",
       "      <td>21100.000000</td>\n",
       "    </tr>\n",
       "    <tr>\n",
       "      <th>resource_allocation_index</th>\n",
       "      <td>156914.0</td>\n",
       "      <td>0.002367</td>\n",
       "      <td>0.022987</td>\n",
       "      <td>0.0</td>\n",
       "      <td>0.0</td>\n",
       "      <td>0.0</td>\n",
       "      <td>0.004739</td>\n",
       "      <td>5.504831</td>\n",
       "    </tr>\n",
       "    <tr>\n",
       "      <th>jaccard_coefficient</th>\n",
       "      <td>156914.0</td>\n",
       "      <td>0.174366</td>\n",
       "      <td>0.309672</td>\n",
       "      <td>0.0</td>\n",
       "      <td>0.0</td>\n",
       "      <td>0.0</td>\n",
       "      <td>0.333333</td>\n",
       "      <td>1.000000</td>\n",
       "    </tr>\n",
       "    <tr>\n",
       "      <th>adamic_adar_index</th>\n",
       "      <td>156914.0</td>\n",
       "      <td>0.063255</td>\n",
       "      <td>0.120935</td>\n",
       "      <td>0.0</td>\n",
       "      <td>0.0</td>\n",
       "      <td>0.0</td>\n",
       "      <td>0.186851</td>\n",
       "      <td>15.747822</td>\n",
       "    </tr>\n",
       "    <tr>\n",
       "      <th>cn_soundarajan_hopcroft</th>\n",
       "      <td>156914.0</td>\n",
       "      <td>0.322355</td>\n",
       "      <td>0.528144</td>\n",
       "      <td>0.0</td>\n",
       "      <td>0.0</td>\n",
       "      <td>0.0</td>\n",
       "      <td>1.000000</td>\n",
       "      <td>17.000000</td>\n",
       "    </tr>\n",
       "    <tr>\n",
       "      <th>ra_index_soundarajan_hopcroft</th>\n",
       "      <td>156914.0</td>\n",
       "      <td>0.000000</td>\n",
       "      <td>0.000000</td>\n",
       "      <td>0.0</td>\n",
       "      <td>0.0</td>\n",
       "      <td>0.0</td>\n",
       "      <td>0.000000</td>\n",
       "      <td>0.000000</td>\n",
       "    </tr>\n",
       "    <tr>\n",
       "      <th>within_inter_cluster</th>\n",
       "      <td>156914.0</td>\n",
       "      <td>0.000000</td>\n",
       "      <td>0.000000</td>\n",
       "      <td>0.0</td>\n",
       "      <td>0.0</td>\n",
       "      <td>0.0</td>\n",
       "      <td>0.000000</td>\n",
       "      <td>0.000000</td>\n",
       "    </tr>\n",
       "  </tbody>\n",
       "</table>\n",
       "</div>"
      ],
      "text/plain": [
       "                                  count      mean        std  min  25%  50%  \\\n",
       "preferential_attachment        156914.0  4.783181  72.140275  1.0  1.0  2.0   \n",
       "resource_allocation_index      156914.0  0.002367   0.022987  0.0  0.0  0.0   \n",
       "jaccard_coefficient            156914.0  0.174366   0.309672  0.0  0.0  0.0   \n",
       "adamic_adar_index              156914.0  0.063255   0.120935  0.0  0.0  0.0   \n",
       "cn_soundarajan_hopcroft        156914.0  0.322355   0.528144  0.0  0.0  0.0   \n",
       "ra_index_soundarajan_hopcroft  156914.0  0.000000   0.000000  0.0  0.0  0.0   \n",
       "within_inter_cluster           156914.0  0.000000   0.000000  0.0  0.0  0.0   \n",
       "\n",
       "                                    75%           max  \n",
       "preferential_attachment        2.000000  21100.000000  \n",
       "resource_allocation_index      0.004739      5.504831  \n",
       "jaccard_coefficient            0.333333      1.000000  \n",
       "adamic_adar_index              0.186851     15.747822  \n",
       "cn_soundarajan_hopcroft        1.000000     17.000000  \n",
       "ra_index_soundarajan_hopcroft  0.000000      0.000000  \n",
       "within_inter_cluster           0.000000      0.000000  "
      ]
     },
     "execution_count": 57,
     "metadata": {},
     "output_type": "execute_result"
    }
   ],
   "source": [
    "potential.describe().T"
   ]
  },
  {
   "cell_type": "code",
   "execution_count": null,
   "metadata": {},
   "outputs": [],
   "source": []
  },
  {
   "cell_type": "code",
   "execution_count": null,
   "metadata": {},
   "outputs": [],
   "source": []
  },
  {
   "cell_type": "code",
   "execution_count": null,
   "metadata": {},
   "outputs": [],
   "source": []
  },
  {
   "cell_type": "code",
   "execution_count": null,
   "metadata": {},
   "outputs": [],
   "source": []
  },
  {
   "cell_type": "code",
   "execution_count": null,
   "metadata": {},
   "outputs": [],
   "source": []
  },
  {
   "cell_type": "code",
   "execution_count": null,
   "metadata": {},
   "outputs": [],
   "source": []
  },
  {
   "cell_type": "code",
   "execution_count": null,
   "metadata": {},
   "outputs": [],
   "source": []
  },
  {
   "cell_type": "code",
   "execution_count": null,
   "metadata": {},
   "outputs": [],
   "source": []
  }
 ],
 "metadata": {
  "kernelspec": {
   "display_name": "Python 3",
   "language": "python",
   "name": "python3"
  },
  "language_info": {
   "codemirror_mode": {
    "name": "ipython",
    "version": 3
   },
   "file_extension": ".py",
   "mimetype": "text/x-python",
   "name": "python",
   "nbconvert_exporter": "python",
   "pygments_lexer": "ipython3",
   "version": "3.6.6"
  }
 },
 "nbformat": 4,
 "nbformat_minor": 2
}
