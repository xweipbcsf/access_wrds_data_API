{
 "cells": [
  {
   "cell_type": "code",
   "execution_count": 57,
   "metadata": {},
   "outputs": [],
   "source": [
    "import pandas as pd\n",
    "import numpy as np\n",
    "import matplotlib.pyplot as plt\n",
    "import pylab\n",
    "import seaborn as sns; sns.set(color_codes=True)\n",
    "import datetime as dt\n",
    "#pd.options.display.float_format = '{:,.0f}'.format\n",
    "plt.rcParams['figure.figsize'] = (8, 6)"
   ]
  },
  {
   "cell_type": "markdown",
   "metadata": {},
   "source": [
    "# region_sector_funda_net_degree_3"
   ]
  },
  {
   "cell_type": "code",
   "execution_count": 2,
   "metadata": {},
   "outputs": [],
   "source": [
    "df = pd.read_pickle('region_sector_funda_net_degree_3.pkl')"
   ]
  },
  {
   "cell_type": "code",
   "execution_count": 3,
   "metadata": {},
   "outputs": [
    {
     "data": {
      "text/plain": [
       "13976"
      ]
     },
     "execution_count": 3,
     "metadata": {},
     "output_type": "execute_result"
    }
   ],
   "source": [
    "len(df['cusip_9'].unique())"
   ]
  },
  {
   "cell_type": "code",
   "execution_count": 4,
   "metadata": {},
   "outputs": [
    {
     "name": "stdout",
     "output_type": "stream",
     "text": [
      "<class 'pandas.core.frame.DataFrame'>\n",
      "Int64Index: 63456 entries, 0 to 63455\n",
      "Columns: 142 entries, cusip_9 to Western Non-European Union\n",
      "dtypes: datetime64[ns](1), float64(85), int64(1), object(6), uint8(49)\n",
      "memory usage: 48.5+ MB\n"
     ]
    }
   ],
   "source": [
    "df.info()"
   ]
  },
  {
   "cell_type": "markdown",
   "metadata": {},
   "source": [
    "# sic"
   ]
  },
  {
   "cell_type": "code",
   "execution_count": 5,
   "metadata": {},
   "outputs": [],
   "source": [
    "sic_us = pd.read_sas('sic_us.sas7bdat',encoding='iso-8859-1' )"
   ]
  },
  {
   "cell_type": "code",
   "execution_count": 6,
   "metadata": {},
   "outputs": [],
   "source": [
    "sic_intl = pd.read_sas('sic_intl.sas7bdat', encoding='iso-8859-1')"
   ]
  },
  {
   "cell_type": "code",
   "execution_count": 7,
   "metadata": {},
   "outputs": [],
   "source": [
    "sic_us = sic_us.drop_duplicates(subset='CUSIP', keep = 'last')"
   ]
  },
  {
   "cell_type": "code",
   "execution_count": 8,
   "metadata": {},
   "outputs": [],
   "source": [
    "sic_intl = sic_intl.drop_duplicates(subset='CUSIP', keep = 'last')"
   ]
  },
  {
   "cell_type": "code",
   "execution_count": 9,
   "metadata": {},
   "outputs": [
    {
     "data": {
      "text/html": [
       "<div>\n",
       "<style scoped>\n",
       "    .dataframe tbody tr th:only-of-type {\n",
       "        vertical-align: middle;\n",
       "    }\n",
       "\n",
       "    .dataframe tbody tr th {\n",
       "        vertical-align: top;\n",
       "    }\n",
       "\n",
       "    .dataframe thead th {\n",
       "        text-align: right;\n",
       "    }\n",
       "</style>\n",
       "<table border=\"1\" class=\"dataframe\">\n",
       "  <thead>\n",
       "    <tr style=\"text-align: right;\">\n",
       "      <th></th>\n",
       "      <th>FS_PERM_SEC_ID</th>\n",
       "      <th>DATE</th>\n",
       "      <th>CUSIP</th>\n",
       "      <th>ISIN</th>\n",
       "      <th>PRIMARY_SIC_CODE</th>\n",
       "    </tr>\n",
       "  </thead>\n",
       "  <tbody>\n",
       "    <tr>\n",
       "      <th>14</th>\n",
       "      <td>HKS27K-S-US</td>\n",
       "      <td>2016-12-31</td>\n",
       "      <td>170386106</td>\n",
       "      <td>US1703861062</td>\n",
       "      <td>6712</td>\n",
       "    </tr>\n",
       "    <tr>\n",
       "      <th>29</th>\n",
       "      <td>T1N9J9-S-US</td>\n",
       "      <td>2016-12-31</td>\n",
       "      <td>336901103</td>\n",
       "      <td>US3369011032</td>\n",
       "      <td>6712</td>\n",
       "    </tr>\n",
       "    <tr>\n",
       "      <th>36</th>\n",
       "      <td>MMCW7F-S</td>\n",
       "      <td>2012-12-31</td>\n",
       "      <td>FDSEFB642</td>\n",
       "      <td>NaN</td>\n",
       "      <td>6519</td>\n",
       "    </tr>\n",
       "    <tr>\n",
       "      <th>38</th>\n",
       "      <td>RH470W-S</td>\n",
       "      <td>2003-03-31</td>\n",
       "      <td>FDSA783F4</td>\n",
       "      <td>NaN</td>\n",
       "      <td>6512</td>\n",
       "    </tr>\n",
       "    <tr>\n",
       "      <th>46</th>\n",
       "      <td>M4VHN4-S-US</td>\n",
       "      <td>2009-05-31</td>\n",
       "      <td>885535104</td>\n",
       "      <td>US8855351040</td>\n",
       "      <td>7371</td>\n",
       "    </tr>\n",
       "  </tbody>\n",
       "</table>\n",
       "</div>"
      ],
      "text/plain": [
       "   FS_PERM_SEC_ID       DATE      CUSIP          ISIN PRIMARY_SIC_CODE\n",
       "14    HKS27K-S-US 2016-12-31  170386106  US1703861062             6712\n",
       "29    T1N9J9-S-US 2016-12-31  336901103  US3369011032             6712\n",
       "36       MMCW7F-S 2012-12-31  FDSEFB642           NaN             6519\n",
       "38       RH470W-S 2003-03-31  FDSA783F4           NaN             6512\n",
       "46    M4VHN4-S-US 2009-05-31  885535104  US8855351040             7371"
      ]
     },
     "execution_count": 9,
     "metadata": {},
     "output_type": "execute_result"
    }
   ],
   "source": [
    "sic_us.head()"
   ]
  },
  {
   "cell_type": "code",
   "execution_count": 171,
   "metadata": {},
   "outputs": [
    {
     "data": {
      "text/html": [
       "<div>\n",
       "<style scoped>\n",
       "    .dataframe tbody tr th:only-of-type {\n",
       "        vertical-align: middle;\n",
       "    }\n",
       "\n",
       "    .dataframe tbody tr th {\n",
       "        vertical-align: top;\n",
       "    }\n",
       "\n",
       "    .dataframe thead th {\n",
       "        text-align: right;\n",
       "    }\n",
       "</style>\n",
       "<table border=\"1\" class=\"dataframe\">\n",
       "  <thead>\n",
       "    <tr style=\"text-align: right;\">\n",
       "      <th></th>\n",
       "      <th>FS_PERM_SEC_ID</th>\n",
       "      <th>DATE</th>\n",
       "      <th>CUSIP</th>\n",
       "      <th>ISIN</th>\n",
       "      <th>PRIMARY_SIC_CODE</th>\n",
       "    </tr>\n",
       "  </thead>\n",
       "  <tbody>\n",
       "    <tr>\n",
       "      <th>11</th>\n",
       "      <td>M3R9F1-S-AU</td>\n",
       "      <td>2015-12-31</td>\n",
       "      <td>U01347100</td>\n",
       "      <td>AU000000AAI6</td>\n",
       "      <td>3355</td>\n",
       "    </tr>\n",
       "    <tr>\n",
       "      <th>21</th>\n",
       "      <td>DYZ5VS-S-US</td>\n",
       "      <td>2011-12-31</td>\n",
       "      <td>032015703</td>\n",
       "      <td>US0320157037</td>\n",
       "      <td>6799</td>\n",
       "    </tr>\n",
       "    <tr>\n",
       "      <th>32</th>\n",
       "      <td>KB3YPS-S-US</td>\n",
       "      <td>2013-12-31</td>\n",
       "      <td>G0471F109</td>\n",
       "      <td>KYG0471F1090</td>\n",
       "      <td>1311</td>\n",
       "    </tr>\n",
       "    <tr>\n",
       "      <th>47</th>\n",
       "      <td>RS2DJW-S-NL</td>\n",
       "      <td>2016-12-31</td>\n",
       "      <td>N07059202</td>\n",
       "      <td>NL0010273215</td>\n",
       "      <td>3559</td>\n",
       "    </tr>\n",
       "    <tr>\n",
       "      <th>62</th>\n",
       "      <td>WGLY6Z-S-GB</td>\n",
       "      <td>2016-12-31</td>\n",
       "      <td>G1510J102</td>\n",
       "      <td>GB0002875804</td>\n",
       "      <td>2121</td>\n",
       "    </tr>\n",
       "  </tbody>\n",
       "</table>\n",
       "</div>"
      ],
      "text/plain": [
       "   FS_PERM_SEC_ID       DATE      CUSIP          ISIN PRIMARY_SIC_CODE\n",
       "11    M3R9F1-S-AU 2015-12-31  U01347100  AU000000AAI6             3355\n",
       "21    DYZ5VS-S-US 2011-12-31  032015703  US0320157037             6799\n",
       "32    KB3YPS-S-US 2013-12-31  G0471F109  KYG0471F1090             1311\n",
       "47    RS2DJW-S-NL 2016-12-31  N07059202  NL0010273215             3559\n",
       "62    WGLY6Z-S-GB 2016-12-31  G1510J102  GB0002875804             2121"
      ]
     },
     "execution_count": 171,
     "metadata": {},
     "output_type": "execute_result"
    }
   ],
   "source": [
    "sic_intl.head()"
   ]
  },
  {
   "cell_type": "code",
   "execution_count": 10,
   "metadata": {},
   "outputs": [],
   "source": [
    "sic = pd.concat([sic_us, sic_intl])"
   ]
  },
  {
   "cell_type": "code",
   "execution_count": 11,
   "metadata": {},
   "outputs": [
    {
     "name": "stdout",
     "output_type": "stream",
     "text": [
      "<class 'pandas.core.frame.DataFrame'>\n",
      "Int64Index: 73385 entries, 14 to 503867\n",
      "Data columns (total 5 columns):\n",
      "FS_PERM_SEC_ID      73385 non-null object\n",
      "DATE                73385 non-null datetime64[ns]\n",
      "CUSIP               73383 non-null object\n",
      "ISIN                69045 non-null object\n",
      "PRIMARY_SIC_CODE    73255 non-null object\n",
      "dtypes: datetime64[ns](1), object(4)\n",
      "memory usage: 3.4+ MB\n"
     ]
    }
   ],
   "source": [
    "sic.info()"
   ]
  },
  {
   "cell_type": "code",
   "execution_count": 13,
   "metadata": {},
   "outputs": [],
   "source": [
    "sic_selected = sic[['CUSIP','ISIN','PRIMARY_SIC_CODE']]"
   ]
  },
  {
   "cell_type": "code",
   "execution_count": 15,
   "metadata": {},
   "outputs": [],
   "source": [
    "sic_selected = sic_selected.rename(columns={\"PRIMARY_SIC_CODE\": \"sic_code\"})"
   ]
  },
  {
   "cell_type": "code",
   "execution_count": 18,
   "metadata": {},
   "outputs": [],
   "source": [
    "sic_selected = sic_selected.rename(columns={\"CUSIP\": \"cusip_9\"})"
   ]
  },
  {
   "cell_type": "code",
   "execution_count": 19,
   "metadata": {},
   "outputs": [
    {
     "name": "stdout",
     "output_type": "stream",
     "text": [
      "<class 'pandas.core.frame.DataFrame'>\n",
      "Int64Index: 73385 entries, 14 to 503867\n",
      "Data columns (total 3 columns):\n",
      "cusip_9     73383 non-null object\n",
      "ISIN        69045 non-null object\n",
      "sic_code    73255 non-null object\n",
      "dtypes: object(3)\n",
      "memory usage: 2.2+ MB\n"
     ]
    }
   ],
   "source": [
    "sic_selected.info()"
   ]
  },
  {
   "cell_type": "code",
   "execution_count": 20,
   "metadata": {},
   "outputs": [
    {
     "data": {
      "text/html": [
       "<div>\n",
       "<style scoped>\n",
       "    .dataframe tbody tr th:only-of-type {\n",
       "        vertical-align: middle;\n",
       "    }\n",
       "\n",
       "    .dataframe tbody tr th {\n",
       "        vertical-align: top;\n",
       "    }\n",
       "\n",
       "    .dataframe thead th {\n",
       "        text-align: right;\n",
       "    }\n",
       "</style>\n",
       "<table border=\"1\" class=\"dataframe\">\n",
       "  <thead>\n",
       "    <tr style=\"text-align: right;\">\n",
       "      <th></th>\n",
       "      <th>cusip_9</th>\n",
       "      <th>ISIN</th>\n",
       "      <th>sic_code</th>\n",
       "    </tr>\n",
       "  </thead>\n",
       "  <tbody>\n",
       "    <tr>\n",
       "      <th>14</th>\n",
       "      <td>170386106</td>\n",
       "      <td>US1703861062</td>\n",
       "      <td>6712</td>\n",
       "    </tr>\n",
       "    <tr>\n",
       "      <th>29</th>\n",
       "      <td>336901103</td>\n",
       "      <td>US3369011032</td>\n",
       "      <td>6712</td>\n",
       "    </tr>\n",
       "    <tr>\n",
       "      <th>36</th>\n",
       "      <td>FDSEFB642</td>\n",
       "      <td>NaN</td>\n",
       "      <td>6519</td>\n",
       "    </tr>\n",
       "    <tr>\n",
       "      <th>38</th>\n",
       "      <td>FDSA783F4</td>\n",
       "      <td>NaN</td>\n",
       "      <td>6512</td>\n",
       "    </tr>\n",
       "    <tr>\n",
       "      <th>46</th>\n",
       "      <td>885535104</td>\n",
       "      <td>US8855351040</td>\n",
       "      <td>7371</td>\n",
       "    </tr>\n",
       "  </tbody>\n",
       "</table>\n",
       "</div>"
      ],
      "text/plain": [
       "      cusip_9          ISIN sic_code\n",
       "14  170386106  US1703861062     6712\n",
       "29  336901103  US3369011032     6712\n",
       "36  FDSEFB642           NaN     6519\n",
       "38  FDSA783F4           NaN     6512\n",
       "46  885535104  US8855351040     7371"
      ]
     },
     "execution_count": 20,
     "metadata": {},
     "output_type": "execute_result"
    }
   ],
   "source": [
    "sic_selected.head()"
   ]
  },
  {
   "cell_type": "markdown",
   "metadata": {},
   "source": [
    "# cusip_sic"
   ]
  },
  {
   "cell_type": "code",
   "execution_count": 21,
   "metadata": {},
   "outputs": [],
   "source": [
    "cusip_sic = pd.merge(df, sic_selected, how = 'inner', on = 'cusip_9')"
   ]
  },
  {
   "cell_type": "code",
   "execution_count": 27,
   "metadata": {},
   "outputs": [],
   "source": [
    "cusip_sic['sic_code'] = cusip_sic['sic_code'].astype(int)"
   ]
  },
  {
   "cell_type": "code",
   "execution_count": 22,
   "metadata": {},
   "outputs": [
    {
     "name": "stdout",
     "output_type": "stream",
     "text": [
      "<class 'pandas.core.frame.DataFrame'>\n",
      "Int64Index: 63456 entries, 0 to 63455\n",
      "Columns: 144 entries, cusip_9 to sic_code\n",
      "dtypes: datetime64[ns](1), float64(85), int64(1), object(8), uint8(49)\n",
      "memory usage: 49.4+ MB\n"
     ]
    }
   ],
   "source": [
    "cusip_sic.info()"
   ]
  },
  {
   "cell_type": "code",
   "execution_count": 41,
   "metadata": {},
   "outputs": [
    {
     "data": {
      "text/html": [
       "<div>\n",
       "<style scoped>\n",
       "    .dataframe tbody tr th:only-of-type {\n",
       "        vertical-align: middle;\n",
       "    }\n",
       "\n",
       "    .dataframe tbody tr th {\n",
       "        vertical-align: top;\n",
       "    }\n",
       "\n",
       "    .dataframe thead th {\n",
       "        text-align: right;\n",
       "    }\n",
       "</style>\n",
       "<table border=\"1\" class=\"dataframe\">\n",
       "  <thead>\n",
       "    <tr style=\"text-align: right;\">\n",
       "      <th></th>\n",
       "      <th>cusip_9</th>\n",
       "      <th>out_degree_centrality</th>\n",
       "      <th>in_degree_centrality</th>\n",
       "      <th>closeness_centrality</th>\n",
       "      <th>betweenness_centrality</th>\n",
       "      <th>eigenvector_centrality</th>\n",
       "      <th>harmonic_centrality</th>\n",
       "      <th>average_neighbor_degree</th>\n",
       "      <th>square_clustering</th>\n",
       "      <th>core_number</th>\n",
       "      <th>...</th>\n",
       "      <th>Southern European Union</th>\n",
       "      <th>Southern Non-European Union</th>\n",
       "      <th>United States and Canada</th>\n",
       "      <th>Western Africa</th>\n",
       "      <th>Western European Union</th>\n",
       "      <th>Western Middle East</th>\n",
       "      <th>Western Non-European Union</th>\n",
       "      <th>ISIN</th>\n",
       "      <th>sic_code</th>\n",
       "      <th>sector_A</th>\n",
       "    </tr>\n",
       "  </thead>\n",
       "  <tbody>\n",
       "    <tr>\n",
       "      <th>0</th>\n",
       "      <td>000360206</td>\n",
       "      <td>0.000848</td>\n",
       "      <td>0.000000</td>\n",
       "      <td>0.000000</td>\n",
       "      <td>0.0</td>\n",
       "      <td>6.336145e-17</td>\n",
       "      <td>0.00000</td>\n",
       "      <td>2.000000</td>\n",
       "      <td>0.0</td>\n",
       "      <td>3.0</td>\n",
       "      <td>...</td>\n",
       "      <td>0</td>\n",
       "      <td>0</td>\n",
       "      <td>0</td>\n",
       "      <td>0</td>\n",
       "      <td>0</td>\n",
       "      <td>1</td>\n",
       "      <td>0</td>\n",
       "      <td>US0003602069</td>\n",
       "      <td>6719</td>\n",
       "      <td>Finance, Insurance and Real Estate</td>\n",
       "    </tr>\n",
       "    <tr>\n",
       "      <th>1</th>\n",
       "      <td>000360206</td>\n",
       "      <td>0.000813</td>\n",
       "      <td>0.000000</td>\n",
       "      <td>0.000000</td>\n",
       "      <td>0.0</td>\n",
       "      <td>6.589818e-18</td>\n",
       "      <td>0.00000</td>\n",
       "      <td>1.666667</td>\n",
       "      <td>0.0</td>\n",
       "      <td>3.0</td>\n",
       "      <td>...</td>\n",
       "      <td>0</td>\n",
       "      <td>0</td>\n",
       "      <td>0</td>\n",
       "      <td>0</td>\n",
       "      <td>0</td>\n",
       "      <td>1</td>\n",
       "      <td>0</td>\n",
       "      <td>US0003602069</td>\n",
       "      <td>6719</td>\n",
       "      <td>Finance, Insurance and Real Estate</td>\n",
       "    </tr>\n",
       "    <tr>\n",
       "      <th>2</th>\n",
       "      <td>000360206</td>\n",
       "      <td>0.000506</td>\n",
       "      <td>0.000000</td>\n",
       "      <td>0.000000</td>\n",
       "      <td>0.0</td>\n",
       "      <td>3.436678e-16</td>\n",
       "      <td>0.00000</td>\n",
       "      <td>2.000000</td>\n",
       "      <td>0.0</td>\n",
       "      <td>2.0</td>\n",
       "      <td>...</td>\n",
       "      <td>0</td>\n",
       "      <td>0</td>\n",
       "      <td>0</td>\n",
       "      <td>0</td>\n",
       "      <td>0</td>\n",
       "      <td>1</td>\n",
       "      <td>0</td>\n",
       "      <td>US0003602069</td>\n",
       "      <td>6719</td>\n",
       "      <td>Finance, Insurance and Real Estate</td>\n",
       "    </tr>\n",
       "    <tr>\n",
       "      <th>3</th>\n",
       "      <td>000360206</td>\n",
       "      <td>0.000235</td>\n",
       "      <td>0.000000</td>\n",
       "      <td>0.000000</td>\n",
       "      <td>0.0</td>\n",
       "      <td>6.226451e-17</td>\n",
       "      <td>0.00000</td>\n",
       "      <td>3.000000</td>\n",
       "      <td>0.0</td>\n",
       "      <td>1.0</td>\n",
       "      <td>...</td>\n",
       "      <td>0</td>\n",
       "      <td>0</td>\n",
       "      <td>0</td>\n",
       "      <td>0</td>\n",
       "      <td>0</td>\n",
       "      <td>1</td>\n",
       "      <td>0</td>\n",
       "      <td>US0003602069</td>\n",
       "      <td>6719</td>\n",
       "      <td>Finance, Insurance and Real Estate</td>\n",
       "    </tr>\n",
       "    <tr>\n",
       "      <th>4</th>\n",
       "      <td>000361105</td>\n",
       "      <td>0.000000</td>\n",
       "      <td>0.000283</td>\n",
       "      <td>0.138689</td>\n",
       "      <td>0.0</td>\n",
       "      <td>6.321229e-03</td>\n",
       "      <td>548.41562</td>\n",
       "      <td>0.000000</td>\n",
       "      <td>0.0</td>\n",
       "      <td>1.0</td>\n",
       "      <td>...</td>\n",
       "      <td>0</td>\n",
       "      <td>0</td>\n",
       "      <td>0</td>\n",
       "      <td>0</td>\n",
       "      <td>0</td>\n",
       "      <td>1</td>\n",
       "      <td>0</td>\n",
       "      <td>US0003611052</td>\n",
       "      <td>5088</td>\n",
       "      <td>Wholesale Trade</td>\n",
       "    </tr>\n",
       "  </tbody>\n",
       "</table>\n",
       "<p>5 rows × 145 columns</p>\n",
       "</div>"
      ],
      "text/plain": [
       "     cusip_9  out_degree_centrality  in_degree_centrality  \\\n",
       "0  000360206               0.000848              0.000000   \n",
       "1  000360206               0.000813              0.000000   \n",
       "2  000360206               0.000506              0.000000   \n",
       "3  000360206               0.000235              0.000000   \n",
       "4  000361105               0.000000              0.000283   \n",
       "\n",
       "   closeness_centrality  betweenness_centrality  eigenvector_centrality  \\\n",
       "0              0.000000                     0.0            6.336145e-17   \n",
       "1              0.000000                     0.0            6.589818e-18   \n",
       "2              0.000000                     0.0            3.436678e-16   \n",
       "3              0.000000                     0.0            6.226451e-17   \n",
       "4              0.138689                     0.0            6.321229e-03   \n",
       "\n",
       "   harmonic_centrality  average_neighbor_degree  square_clustering  \\\n",
       "0              0.00000                 2.000000                0.0   \n",
       "1              0.00000                 1.666667                0.0   \n",
       "2              0.00000                 2.000000                0.0   \n",
       "3              0.00000                 3.000000                0.0   \n",
       "4            548.41562                 0.000000                0.0   \n",
       "\n",
       "   core_number                 ...                  Southern European Union  \\\n",
       "0          3.0                 ...                                        0   \n",
       "1          3.0                 ...                                        0   \n",
       "2          2.0                 ...                                        0   \n",
       "3          1.0                 ...                                        0   \n",
       "4          1.0                 ...                                        0   \n",
       "\n",
       "   Southern Non-European Union  United States and Canada Western Africa  \\\n",
       "0                            0                         0              0   \n",
       "1                            0                         0              0   \n",
       "2                            0                         0              0   \n",
       "3                            0                         0              0   \n",
       "4                            0                         0              0   \n",
       "\n",
       "   Western European Union  Western Middle East  Western Non-European Union  \\\n",
       "0                       0                    1                           0   \n",
       "1                       0                    1                           0   \n",
       "2                       0                    1                           0   \n",
       "3                       0                    1                           0   \n",
       "4                       0                    1                           0   \n",
       "\n",
       "           ISIN  sic_code                            sector_A  \n",
       "0  US0003602069      6719  Finance, Insurance and Real Estate  \n",
       "1  US0003602069      6719  Finance, Insurance and Real Estate  \n",
       "2  US0003602069      6719  Finance, Insurance and Real Estate  \n",
       "3  US0003602069      6719  Finance, Insurance and Real Estate  \n",
       "4  US0003611052      5088                     Wholesale Trade  \n",
       "\n",
       "[5 rows x 145 columns]"
      ]
     },
     "execution_count": 41,
     "metadata": {},
     "output_type": "execute_result"
    }
   ],
   "source": [
    "cusip_sic.head()"
   ]
  },
  {
   "cell_type": "code",
   "execution_count": 28,
   "metadata": {},
   "outputs": [],
   "source": [
    "def group_trans(num):\n",
    "    if num > 1 and num <= 999: return 'Agriculture, Forestry and Fishing'\n",
    "    elif num >= 1000 and num <= 1499: return 'Mining'\n",
    "    elif num >= 1500 and num <= 1799: return 'Construction'\n",
    "    elif num >= 1800 and num <= 1999: return 'not used'\n",
    "    elif num >= 2000 and num <= 3999: return 'Manufacturing'\n",
    "    elif num >= 4000 and num <= 4999: return 'TCEGS'\n",
    "    elif num >= 5000 and num <= 5199: return 'Wholesale Trade'\n",
    "    elif num >= 5200 and num <= 5999: return 'Retail Trade'\n",
    "    elif num >= 6000 and num <= 6799: return 'Finance, Insurance and Real Estate'\n",
    "    elif num >= 7000 and num <= 8999: return 'Services'\n",
    "    elif num >= 9000 and num <= 9729: return 'Public Administration'\n",
    "    else: return 'Nonclassifiable'\n",
    "\n",
    "#net_deg['in_group'] = net_deg['in_diff'].map(group_trans)\n",
    "cusip_sic['sector_A'] = cusip_sic['sic_code'].map(group_trans)"
   ]
  },
  {
   "cell_type": "code",
   "execution_count": 31,
   "metadata": {},
   "outputs": [],
   "source": [
    "cusip_sic.to_excel('cusip_sic.xlsx')"
   ]
  },
  {
   "cell_type": "code",
   "execution_count": 42,
   "metadata": {},
   "outputs": [],
   "source": [
    "cusip_isin_sic = cusip_sic[['cusip_9', 'ISIN', 'sic_code', 'region','sector_A']]"
   ]
  },
  {
   "cell_type": "code",
   "execution_count": 43,
   "metadata": {},
   "outputs": [],
   "source": [
    "cusip_isin_sic = cusip_isin_sic.drop_duplicates(subset='cusip_9', keep = 'last')"
   ]
  },
  {
   "cell_type": "code",
   "execution_count": 48,
   "metadata": {},
   "outputs": [],
   "source": [
    "cusip_isin_sic.to_excel('cusip_isin_sic.xlsx')"
   ]
  },
  {
   "cell_type": "code",
   "execution_count": 44,
   "metadata": {},
   "outputs": [
    {
     "data": {
      "text/html": [
       "<div>\n",
       "<style scoped>\n",
       "    .dataframe tbody tr th:only-of-type {\n",
       "        vertical-align: middle;\n",
       "    }\n",
       "\n",
       "    .dataframe tbody tr th {\n",
       "        vertical-align: top;\n",
       "    }\n",
       "\n",
       "    .dataframe thead th {\n",
       "        text-align: right;\n",
       "    }\n",
       "</style>\n",
       "<table border=\"1\" class=\"dataframe\">\n",
       "  <thead>\n",
       "    <tr style=\"text-align: right;\">\n",
       "      <th></th>\n",
       "      <th>cusip_9</th>\n",
       "      <th>ISIN</th>\n",
       "      <th>sic_code</th>\n",
       "      <th>region</th>\n",
       "      <th>sector_A</th>\n",
       "    </tr>\n",
       "  </thead>\n",
       "  <tbody>\n",
       "    <tr>\n",
       "      <th>3</th>\n",
       "      <td>000360206</td>\n",
       "      <td>US0003602069</td>\n",
       "      <td>6719</td>\n",
       "      <td>Western Middle East</td>\n",
       "      <td>Finance, Insurance and Real Estate</td>\n",
       "    </tr>\n",
       "    <tr>\n",
       "      <th>16</th>\n",
       "      <td>000361105</td>\n",
       "      <td>US0003611052</td>\n",
       "      <td>5088</td>\n",
       "      <td>Western Middle East</td>\n",
       "      <td>Wholesale Trade</td>\n",
       "    </tr>\n",
       "    <tr>\n",
       "      <th>29</th>\n",
       "      <td>001084102</td>\n",
       "      <td>US0010841023</td>\n",
       "      <td>3523</td>\n",
       "      <td>Western Middle East</td>\n",
       "      <td>Manufacturing</td>\n",
       "    </tr>\n",
       "    <tr>\n",
       "      <th>42</th>\n",
       "      <td>00108M102</td>\n",
       "      <td>US00108M1027</td>\n",
       "      <td>3663</td>\n",
       "      <td>United States and Canada</td>\n",
       "      <td>Manufacturing</td>\n",
       "    </tr>\n",
       "    <tr>\n",
       "      <th>55</th>\n",
       "      <td>001204106</td>\n",
       "      <td>US0012041069</td>\n",
       "      <td>4924</td>\n",
       "      <td>United States and Canada</td>\n",
       "      <td>TCEGS</td>\n",
       "    </tr>\n",
       "  </tbody>\n",
       "</table>\n",
       "</div>"
      ],
      "text/plain": [
       "      cusip_9          ISIN  sic_code                    region  \\\n",
       "3   000360206  US0003602069      6719       Western Middle East   \n",
       "16  000361105  US0003611052      5088       Western Middle East   \n",
       "29  001084102  US0010841023      3523       Western Middle East   \n",
       "42  00108M102  US00108M1027      3663  United States and Canada   \n",
       "55  001204106  US0012041069      4924  United States and Canada   \n",
       "\n",
       "                              sector_A  \n",
       "3   Finance, Insurance and Real Estate  \n",
       "16                     Wholesale Trade  \n",
       "29                       Manufacturing  \n",
       "42                       Manufacturing  \n",
       "55                               TCEGS  "
      ]
     },
     "execution_count": 44,
     "metadata": {},
     "output_type": "execute_result"
    }
   ],
   "source": [
    "cusip_isin_sic.head()"
   ]
  },
  {
   "cell_type": "code",
   "execution_count": 45,
   "metadata": {},
   "outputs": [
    {
     "data": {
      "text/plain": [
       "815"
      ]
     },
     "execution_count": 45,
     "metadata": {},
     "output_type": "execute_result"
    }
   ],
   "source": [
    "len(cusip_isin_sic['sic_code'].unique())"
   ]
  },
  {
   "cell_type": "code",
   "execution_count": 63,
   "metadata": {},
   "outputs": [
    {
     "data": {
      "image/png": "[encoded data removed]",
      "text/plain": [
       "<Figure size 576x432 with 1 Axes>"
      ]
     },
     "metadata": {},
     "output_type": "display_data"
    }
   ],
   "source": [
    "import seaborn as sns\n",
    "\n",
    "ax = sns.countplot(y=\"sector_A\", data=cusip_isin_sic,\n",
    "                  order = cusip_isin_sic['sector_A'].value_counts().index)\n",
    "for item in ax.get_xticklabels():\n",
    "    item.set_rotation(90)\n",
    "#plt.show()\n",
    "pylab.rcParams['figure.figsize'] = (8, 6)\n",
    "pylab.savefig('setcors.png', dpi=400, bbox_inches = 'tight')"
   ]
  },
  {
   "cell_type": "code",
   "execution_count": 62,
   "metadata": {},
   "outputs": [
    {
     "data": {
      "image/png": "[encoded data removed]",
      "text/plain": [
       "<Figure size 576x432 with 1 Axes>"
      ]
     },
     "metadata": {},
     "output_type": "display_data"
    }
   ],
   "source": [
    "import seaborn as sns\n",
    "\n",
    "ax = sns.countplot(y=\"region\", data=cusip_isin_sic,\n",
    "                  order = cusip_isin_sic['region'].value_counts().index)\n",
    "for item in ax.get_xticklabels():\n",
    "    item.set_rotation(90)\n",
    "#plt.show()\n",
    "pylab.rcParams['figure.figsize'] = (8, 6)\n",
    "pylab.savefig('region.png', dpi=400, bbox_inches = 'tight')"
   ]
  },
  {
   "cell_type": "code",
   "execution_count": null,
   "metadata": {},
   "outputs": [],
   "source": []
  }
 ],
 "metadata": {
  "kernelspec": {
   "display_name": "Python 3",
   "language": "python",
   "name": "python3"
  },
  "language_info": {
   "codemirror_mode": {
    "name": "ipython",
    "version": 3
   },
   "file_extension": ".py",
   "mimetype": "text/x-python",
   "name": "python",
   "nbconvert_exporter": "python",
   "pygments_lexer": "ipython3",
   "version": "3.6.6"
  }
 },
 "nbformat": 4,
 "nbformat_minor": 2
}
