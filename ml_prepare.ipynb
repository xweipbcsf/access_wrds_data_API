{
 "cells": [
  {
   "cell_type": "code",
   "execution_count": 1,
   "metadata": {},
   "outputs": [],
   "source": [
    "import pandas as pd\n",
    "import numpy as np\n",
    "import matplotlib.pyplot as plt\n",
    "import pylab\n",
    "import seaborn as sns\n",
    "from matplotlib.colors import ListedColormap\n",
    "import seaborn as sns; sns.set(color_codes=True)\n",
    "import networkx as nx\n",
    "from numpy import nan\n",
    "import math"
   ]
  },
  {
   "cell_type": "code",
   "execution_count": 2,
   "metadata": {},
   "outputs": [],
   "source": [
    "df_centrality = pd.read_pickle('net_centrality.pkl')\n",
    "df_features = pd.read_pickle('net_features_direct.pkl')\n",
    "df_features = pd.concat([df_centrality, df_features],axis =1)"
   ]
  },
  {
   "cell_type": "code",
   "execution_count": 3,
   "metadata": {},
   "outputs": [],
   "source": [
    "df2016 = pd.read_pickle('df2016.pkl')\n",
    "df2015 = pd.read_pickle('df2015.pkl')"
   ]
  },
  {
   "cell_type": "code",
   "execution_count": 4,
   "metadata": {},
   "outputs": [],
   "source": [
    "G2016 = nx.from_pandas_edgelist(df2016,'source_ticker', 'target_ticker', create_using = nx.DiGraph())\n",
    "G2015 = nx.from_pandas_edgelist(df2015,'source_ticker', 'target_ticker', create_using = nx.DiGraph())"
   ]
  },
  {
   "cell_type": "code",
   "execution_count": 5,
   "metadata": {},
   "outputs": [],
   "source": [
    "indegree2016 = pd.Series(G2016.in_degree())\n",
    "indegree2016 = pd.DataFrame(indegree2016, columns=['firms'])\n",
    "indegree2016[['firms','in_degree2016']] = indegree2016['firms'].apply(pd.Series)\n",
    "indegree2016.set_index('firms', inplace=True)"
   ]
  },
  {
   "cell_type": "code",
   "execution_count": 6,
   "metadata": {},
   "outputs": [],
   "source": [
    "outdegree2016 = pd.Series(G2016.out_degree())\n",
    "outdegree2016 = pd.DataFrame(outdegree2016, columns=['firms'])\n",
    "outdegree2016[['firms','out_degree2016']] = outdegree2016['firms'].apply(pd.Series)\n",
    "outdegree2016.set_index('firms', inplace=True)"
   ]
  },
  {
   "cell_type": "code",
   "execution_count": 7,
   "metadata": {},
   "outputs": [],
   "source": [
    "indegree2015 = pd.Series(G2015.in_degree())\n",
    "indegree2015 = pd.DataFrame(indegree2015, columns=['firms'])\n",
    "indegree2015[['firms','in_degree2015']] = indegree2015['firms'].apply(pd.Series)\n",
    "indegree2015.set_index('firms', inplace=True)"
   ]
  },
  {
   "cell_type": "code",
   "execution_count": 8,
   "metadata": {},
   "outputs": [],
   "source": [
    "outdegree2015 = pd.Series(G2015.out_degree())\n",
    "outdegree2015 = pd.DataFrame(outdegree2015, columns=['firms'])\n",
    "outdegree2015[['firms','out_degree2015']] = outdegree2015['firms'].apply(pd.Series)\n",
    "outdegree2015.set_index('firms', inplace=True)"
   ]
  },
  {
   "cell_type": "code",
   "execution_count": 9,
   "metadata": {},
   "outputs": [
    {
     "name": "stderr",
     "output_type": "stream",
     "text": [
      "/Users/xingkong/anaconda3/lib/python3.6/site-packages/ipykernel_launcher.py:2: FutureWarning: Sorting because non-concatenation axis is not aligned. A future version\n",
      "of pandas will change to not sort by default.\n",
      "\n",
      "To accept the future behavior, pass 'sort=False'.\n",
      "\n",
      "To retain the current behavior and silence the warning, pass 'sort=True'.\n",
      "\n",
      "  \n"
     ]
    }
   ],
   "source": [
    "df_ml = pd.concat([df_features, outdegree2015, indegree2015, \n",
    "                   outdegree2016, indegree2016],axis =1)"
   ]
  },
  {
   "cell_type": "code",
   "execution_count": 10,
   "metadata": {},
   "outputs": [],
   "source": [
    "df_ml = df_ml.dropna()"
   ]
  },
  {
   "cell_type": "code",
   "execution_count": 11,
   "metadata": {},
   "outputs": [],
   "source": [
    "# from sklearn import preprocessing\n",
    "# from sklearn.preprocessing import OneHotEncoder\n",
    "# enc = preprocessing.OneHotEncoder()\n",
    "# groups = df_ml['groups'].as_matrix()\n",
    "# onehotlabels = enc.fit_transform(groups.reshape(-1,1)).toarray()\n",
    "# onehotlabels.shape"
   ]
  },
  {
   "cell_type": "code",
   "execution_count": 12,
   "metadata": {},
   "outputs": [],
   "source": [
    "# onehotlabels = pd.DataFrame(onehotlabels, columns = ['group1','group2','group3','group4','group5',\n",
    "#                                                      'group6','group7','group8','group9'],index = df_ml.index)"
   ]
  },
  {
   "cell_type": "code",
   "execution_count": 13,
   "metadata": {},
   "outputs": [],
   "source": [
    "df_ml['diff_indegree'] = df_ml['in_degree2016'] - df_ml['in_degree2015']\n",
    "df_ml['diff_outdegree'] = df_ml['out_degree2016'] - df_ml['out_degree2015']"
   ]
  },
  {
   "cell_type": "code",
   "execution_count": 14,
   "metadata": {},
   "outputs": [
    {
     "name": "stderr",
     "output_type": "stream",
     "text": [
      "/Users/xingkong/anaconda3/lib/python3.6/site-packages/ipykernel_launcher.py:2: SettingWithCopyWarning: \n",
      "A value is trying to be set on a copy of a slice from a DataFrame.\n",
      "Try using .loc[row_indexer,col_indexer] = value instead\n",
      "\n",
      "See the caveats in the documentation: http://pandas.pydata.org/pandas-docs/stable/indexing.html#indexing-view-versus-copy\n",
      "  \n"
     ]
    }
   ],
   "source": [
    "df_1 = df_ml.loc[df_ml['diff_outdegree'] < 0]\n",
    "df_1['group'] = -1"
   ]
  },
  {
   "cell_type": "code",
   "execution_count": 15,
   "metadata": {},
   "outputs": [
    {
     "name": "stderr",
     "output_type": "stream",
     "text": [
      "/Users/xingkong/anaconda3/lib/python3.6/site-packages/ipykernel_launcher.py:2: SettingWithCopyWarning: \n",
      "A value is trying to be set on a copy of a slice from a DataFrame.\n",
      "Try using .loc[row_indexer,col_indexer] = value instead\n",
      "\n",
      "See the caveats in the documentation: http://pandas.pydata.org/pandas-docs/stable/indexing.html#indexing-view-versus-copy\n",
      "  \n"
     ]
    }
   ],
   "source": [
    "df_2 = df_ml.loc[df_ml['diff_outdegree'] == 0]\n",
    "df_2['group'] = 0"
   ]
  },
  {
   "cell_type": "code",
   "execution_count": 16,
   "metadata": {},
   "outputs": [
    {
     "name": "stderr",
     "output_type": "stream",
     "text": [
      "/Users/xingkong/anaconda3/lib/python3.6/site-packages/ipykernel_launcher.py:2: SettingWithCopyWarning: \n",
      "A value is trying to be set on a copy of a slice from a DataFrame.\n",
      "Try using .loc[row_indexer,col_indexer] = value instead\n",
      "\n",
      "See the caveats in the documentation: http://pandas.pydata.org/pandas-docs/stable/indexing.html#indexing-view-versus-copy\n",
      "  \n"
     ]
    }
   ],
   "source": [
    "df_3 = df_ml.loc[df_ml['diff_outdegree'] > 0]\n",
    "df_3['group'] = 1"
   ]
  },
  {
   "cell_type": "code",
   "execution_count": 17,
   "metadata": {},
   "outputs": [],
   "source": [
    "df_ml = pd.concat([df_1,df_2,df_3])"
   ]
  },
  {
   "cell_type": "code",
   "execution_count": 18,
   "metadata": {},
   "outputs": [],
   "source": [
    "df_ml.to_pickle('df_ml_groups.pkl')"
   ]
  },
  {
   "cell_type": "code",
   "execution_count": 19,
   "metadata": {},
   "outputs": [
    {
     "data": {
      "text/html": [
       "<div>\n",
       "<style scoped>\n",
       "    .dataframe tbody tr th:only-of-type {\n",
       "        vertical-align: middle;\n",
       "    }\n",
       "\n",
       "    .dataframe tbody tr th {\n",
       "        vertical-align: top;\n",
       "    }\n",
       "\n",
       "    .dataframe thead th {\n",
       "        text-align: right;\n",
       "    }\n",
       "</style>\n",
       "<table border=\"1\" class=\"dataframe\">\n",
       "  <thead>\n",
       "    <tr style=\"text-align: right;\">\n",
       "      <th></th>\n",
       "      <th>000032-CN</th>\n",
       "      <th>000050-CN</th>\n",
       "      <th>000061-CN</th>\n",
       "      <th>000099-CN</th>\n",
       "      <th>000230-KR</th>\n",
       "    </tr>\n",
       "  </thead>\n",
       "  <tbody>\n",
       "    <tr>\n",
       "      <th>out_degree_centrality</th>\n",
       "      <td>0.000180</td>\n",
       "      <td>0.000421</td>\n",
       "      <td>1.202429e-04</td>\n",
       "      <td>0.000361</td>\n",
       "      <td>1.202429e-04</td>\n",
       "    </tr>\n",
       "    <tr>\n",
       "      <th>in_degree_centrality</th>\n",
       "      <td>0.000060</td>\n",
       "      <td>0.000301</td>\n",
       "      <td>0.000000e+00</td>\n",
       "      <td>0.000120</td>\n",
       "      <td>1.082186e-03</td>\n",
       "    </tr>\n",
       "    <tr>\n",
       "      <th>closeness_centrality</th>\n",
       "      <td>0.115853</td>\n",
       "      <td>0.077414</td>\n",
       "      <td>0.000000e+00</td>\n",
       "      <td>0.123850</td>\n",
       "      <td>1.307710e-01</td>\n",
       "    </tr>\n",
       "    <tr>\n",
       "      <th>betweenness_centrality</th>\n",
       "      <td>0.000055</td>\n",
       "      <td>0.000136</td>\n",
       "      <td>0.000000e+00</td>\n",
       "      <td>0.000054</td>\n",
       "      <td>1.056210e-04</td>\n",
       "    </tr>\n",
       "    <tr>\n",
       "      <th>eigenvector_centrality</th>\n",
       "      <td>0.002149</td>\n",
       "      <td>0.000002</td>\n",
       "      <td>1.246922e-24</td>\n",
       "      <td>0.003213</td>\n",
       "      <td>7.140287e-03</td>\n",
       "    </tr>\n",
       "    <tr>\n",
       "      <th>harmonic_centrality</th>\n",
       "      <td>2051.104942</td>\n",
       "      <td>1323.685140</td>\n",
       "      <td>0.000000e+00</td>\n",
       "      <td>2202.317965</td>\n",
       "      <td>2.354349e+03</td>\n",
       "    </tr>\n",
       "    <tr>\n",
       "      <th>average_neighbor_degree</th>\n",
       "      <td>96.333333</td>\n",
       "      <td>82.285714</td>\n",
       "      <td>5.000000e+00</td>\n",
       "      <td>16.000000</td>\n",
       "      <td>5.000000e-01</td>\n",
       "    </tr>\n",
       "    <tr>\n",
       "      <th>square_clustering</th>\n",
       "      <td>0.000846</td>\n",
       "      <td>0.001488</td>\n",
       "      <td>0.000000e+00</td>\n",
       "      <td>0.003139</td>\n",
       "      <td>0.000000e+00</td>\n",
       "    </tr>\n",
       "    <tr>\n",
       "      <th>core_number</th>\n",
       "      <td>4.000000</td>\n",
       "      <td>10.000000</td>\n",
       "      <td>2.000000e+00</td>\n",
       "      <td>8.000000</td>\n",
       "      <td>8.000000e+00</td>\n",
       "    </tr>\n",
       "    <tr>\n",
       "      <th>pagerank</th>\n",
       "      <td>0.000031</td>\n",
       "      <td>0.000080</td>\n",
       "      <td>1.931489e-05</td>\n",
       "      <td>0.000035</td>\n",
       "      <td>3.295521e-04</td>\n",
       "    </tr>\n",
       "    <tr>\n",
       "      <th>hubs</th>\n",
       "      <td>0.000107</td>\n",
       "      <td>0.000219</td>\n",
       "      <td>1.154722e-06</td>\n",
       "      <td>0.000070</td>\n",
       "      <td>1.745490e-154</td>\n",
       "    </tr>\n",
       "    <tr>\n",
       "      <th>authorities</th>\n",
       "      <td>0.000016</td>\n",
       "      <td>0.000039</td>\n",
       "      <td>0.000000e+00</td>\n",
       "      <td>0.000042</td>\n",
       "      <td>6.471310e-05</td>\n",
       "    </tr>\n",
       "    <tr>\n",
       "      <th>out_degree2015</th>\n",
       "      <td>3.000000</td>\n",
       "      <td>7.000000</td>\n",
       "      <td>2.000000e+00</td>\n",
       "      <td>6.000000</td>\n",
       "      <td>2.000000e+00</td>\n",
       "    </tr>\n",
       "    <tr>\n",
       "      <th>in_degree2015</th>\n",
       "      <td>1.000000</td>\n",
       "      <td>5.000000</td>\n",
       "      <td>0.000000e+00</td>\n",
       "      <td>2.000000</td>\n",
       "      <td>1.800000e+01</td>\n",
       "    </tr>\n",
       "    <tr>\n",
       "      <th>out_degree2016</th>\n",
       "      <td>1.000000</td>\n",
       "      <td>5.000000</td>\n",
       "      <td>1.000000e+00</td>\n",
       "      <td>2.000000</td>\n",
       "      <td>0.000000e+00</td>\n",
       "    </tr>\n",
       "    <tr>\n",
       "      <th>in_degree2016</th>\n",
       "      <td>1.000000</td>\n",
       "      <td>6.000000</td>\n",
       "      <td>0.000000e+00</td>\n",
       "      <td>3.000000</td>\n",
       "      <td>1.600000e+01</td>\n",
       "    </tr>\n",
       "    <tr>\n",
       "      <th>diff_indegree</th>\n",
       "      <td>0.000000</td>\n",
       "      <td>1.000000</td>\n",
       "      <td>0.000000e+00</td>\n",
       "      <td>1.000000</td>\n",
       "      <td>-2.000000e+00</td>\n",
       "    </tr>\n",
       "    <tr>\n",
       "      <th>diff_outdegree</th>\n",
       "      <td>-2.000000</td>\n",
       "      <td>-2.000000</td>\n",
       "      <td>-1.000000e+00</td>\n",
       "      <td>-4.000000</td>\n",
       "      <td>-2.000000e+00</td>\n",
       "    </tr>\n",
       "    <tr>\n",
       "      <th>group</th>\n",
       "      <td>-1.000000</td>\n",
       "      <td>-1.000000</td>\n",
       "      <td>-1.000000e+00</td>\n",
       "      <td>-1.000000</td>\n",
       "      <td>-1.000000e+00</td>\n",
       "    </tr>\n",
       "  </tbody>\n",
       "</table>\n",
       "</div>"
      ],
      "text/plain": [
       "                           000032-CN    000050-CN     000061-CN    000099-CN  \\\n",
       "out_degree_centrality       0.000180     0.000421  1.202429e-04     0.000361   \n",
       "in_degree_centrality        0.000060     0.000301  0.000000e+00     0.000120   \n",
       "closeness_centrality        0.115853     0.077414  0.000000e+00     0.123850   \n",
       "betweenness_centrality      0.000055     0.000136  0.000000e+00     0.000054   \n",
       "eigenvector_centrality      0.002149     0.000002  1.246922e-24     0.003213   \n",
       "harmonic_centrality      2051.104942  1323.685140  0.000000e+00  2202.317965   \n",
       "average_neighbor_degree    96.333333    82.285714  5.000000e+00    16.000000   \n",
       "square_clustering           0.000846     0.001488  0.000000e+00     0.003139   \n",
       "core_number                 4.000000    10.000000  2.000000e+00     8.000000   \n",
       "pagerank                    0.000031     0.000080  1.931489e-05     0.000035   \n",
       "hubs                        0.000107     0.000219  1.154722e-06     0.000070   \n",
       "authorities                 0.000016     0.000039  0.000000e+00     0.000042   \n",
       "out_degree2015              3.000000     7.000000  2.000000e+00     6.000000   \n",
       "in_degree2015               1.000000     5.000000  0.000000e+00     2.000000   \n",
       "out_degree2016              1.000000     5.000000  1.000000e+00     2.000000   \n",
       "in_degree2016               1.000000     6.000000  0.000000e+00     3.000000   \n",
       "diff_indegree               0.000000     1.000000  0.000000e+00     1.000000   \n",
       "diff_outdegree             -2.000000    -2.000000 -1.000000e+00    -4.000000   \n",
       "group                      -1.000000    -1.000000 -1.000000e+00    -1.000000   \n",
       "\n",
       "                             000230-KR  \n",
       "out_degree_centrality     1.202429e-04  \n",
       "in_degree_centrality      1.082186e-03  \n",
       "closeness_centrality      1.307710e-01  \n",
       "betweenness_centrality    1.056210e-04  \n",
       "eigenvector_centrality    7.140287e-03  \n",
       "harmonic_centrality       2.354349e+03  \n",
       "average_neighbor_degree   5.000000e-01  \n",
       "square_clustering         0.000000e+00  \n",
       "core_number               8.000000e+00  \n",
       "pagerank                  3.295521e-04  \n",
       "hubs                     1.745490e-154  \n",
       "authorities               6.471310e-05  \n",
       "out_degree2015            2.000000e+00  \n",
       "in_degree2015             1.800000e+01  \n",
       "out_degree2016            0.000000e+00  \n",
       "in_degree2016             1.600000e+01  \n",
       "diff_indegree            -2.000000e+00  \n",
       "diff_outdegree           -2.000000e+00  \n",
       "group                    -1.000000e+00  "
      ]
     },
     "execution_count": 19,
     "metadata": {},
     "output_type": "execute_result"
    }
   ],
   "source": [
    "df_ml.head().T"
   ]
  },
  {
   "cell_type": "code",
   "execution_count": 20,
   "metadata": {},
   "outputs": [
    {
     "name": "stdout",
     "output_type": "stream",
     "text": [
      "<class 'pandas.core.frame.DataFrame'>\n",
      "Index: 15217 entries, 000032-CN to ZYT-GB\n",
      "Data columns (total 19 columns):\n",
      "out_degree_centrality      15217 non-null float64\n",
      "in_degree_centrality       15217 non-null float64\n",
      "closeness_centrality       15217 non-null float64\n",
      "betweenness_centrality     15217 non-null float64\n",
      "eigenvector_centrality     15217 non-null float64\n",
      "harmonic_centrality        15217 non-null float64\n",
      "average_neighbor_degree    15217 non-null float64\n",
      "square_clustering          15217 non-null float64\n",
      "core_number                15217 non-null float64\n",
      "pagerank                   15217 non-null float64\n",
      "hubs                       15217 non-null float64\n",
      "authorities                15217 non-null float64\n",
      "out_degree2015             15217 non-null float64\n",
      "in_degree2015              15217 non-null float64\n",
      "out_degree2016             15217 non-null float64\n",
      "in_degree2016              15217 non-null float64\n",
      "diff_indegree              15217 non-null float64\n",
      "diff_outdegree             15217 non-null float64\n",
      "group                      15217 non-null int64\n",
      "dtypes: float64(18), int64(1)\n",
      "memory usage: 2.3+ MB\n"
     ]
    }
   ],
   "source": [
    "df_ml.info()"
   ]
  },
  {
   "cell_type": "code",
   "execution_count": 23,
   "metadata": {},
   "outputs": [
    {
     "data": {
      "image/png": "[encoded data removed]",
      "text/plain": [
       "<Figure size 576x432 with 1 Axes>"
      ]
     },
     "metadata": {},
     "output_type": "display_data"
    }
   ],
   "source": [
    "df_ml['group'].hist()\n",
    "pylab.rcParams['figure.figsize'] = (8, 6)\n",
    "pylab.savefig('Short and Long.png', dpi=400, bbox_inches = 'tight')"
   ]
  },
  {
   "cell_type": "code",
   "execution_count": null,
   "metadata": {},
   "outputs": [],
   "source": []
  }
 ],
 "metadata": {
  "kernelspec": {
   "display_name": "Python 3",
   "language": "python",
   "name": "python3"
  },
  "language_info": {
   "codemirror_mode": {
    "name": "ipython",
    "version": 3
   },
   "file_extension": ".py",
   "mimetype": "text/x-python",
   "name": "python",
   "nbconvert_exporter": "python",
   "pygments_lexer": "ipython3",
   "version": "3.6.6"
  }
 },
 "nbformat": 4,
 "nbformat_minor": 2
}
