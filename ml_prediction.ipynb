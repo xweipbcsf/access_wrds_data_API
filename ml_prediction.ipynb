{
 "cells": [
  {
   "cell_type": "code",
   "execution_count": 1,
   "metadata": {},
   "outputs": [],
   "source": [
    "import pandas as pd\n",
    "import numpy as np\n",
    "import matplotlib.pyplot as plt\n",
    "import pylab\n",
    "import seaborn as sns; sns.set(color_codes=True)\n",
    "from matplotlib.colors import ListedColormap\n",
    "import networkx as nx\n",
    "from numpy import nan\n",
    "import math\n",
    "import sys\n",
    "import os"
   ]
  },
  {
   "cell_type": "code",
   "execution_count": 11,
   "metadata": {},
   "outputs": [],
   "source": [
    "df = pd.read_pickle('df_ml_groups.pkl')"
   ]
  },
  {
   "cell_type": "code",
   "execution_count": 12,
   "metadata": {},
   "outputs": [],
   "source": [
    "undirected = pd.read_pickle('undirected.pkl')"
   ]
  },
  {
   "cell_type": "code",
   "execution_count": 13,
   "metadata": {},
   "outputs": [
    {
     "name": "stderr",
     "output_type": "stream",
     "text": [
      "/Users/xingkong/anaconda3/lib/python3.6/site-packages/ipykernel_launcher.py:1: FutureWarning: Sorting because non-concatenation axis is not aligned. A future version\n",
      "of pandas will change to not sort by default.\n",
      "\n",
      "To accept the future behavior, pass 'sort=False'.\n",
      "\n",
      "To retain the current behavior and silence the warning, pass 'sort=True'.\n",
      "\n",
      "  \"\"\"Entry point for launching an IPython kernel.\n"
     ]
    }
   ],
   "source": [
    "df = pd.concat([df, undirected], axis =1)"
   ]
  },
  {
   "cell_type": "code",
   "execution_count": 14,
   "metadata": {},
   "outputs": [],
   "source": [
    "df.dropna(axis=0, how='any',inplace=True)"
   ]
  },
  {
   "cell_type": "code",
   "execution_count": 15,
   "metadata": {},
   "outputs": [
    {
     "name": "stdout",
     "output_type": "stream",
     "text": [
      "<class 'pandas.core.frame.DataFrame'>\n",
      "Index: 15217 entries, 000001-CN to ZYT-GB\n",
      "Data columns (total 24 columns):\n",
      "out_degree_centrality      15217 non-null float64\n",
      "in_degree_centrality       15217 non-null float64\n",
      "closeness_centrality       15217 non-null float64\n",
      "betweenness_centrality     15217 non-null float64\n",
      "eigenvector_centrality     15217 non-null float64\n",
      "harmonic_centrality        15217 non-null float64\n",
      "average_neighbor_degree    15217 non-null float64\n",
      "square_clustering          15217 non-null float64\n",
      "core_number                15217 non-null float64\n",
      "pagerank                   15217 non-null float64\n",
      "hubs                       15217 non-null float64\n",
      "authorities                15217 non-null float64\n",
      "out_degree2015             15217 non-null float64\n",
      "in_degree2015              15217 non-null float64\n",
      "out_degree2016             15217 non-null float64\n",
      "in_degree2016              15217 non-null float64\n",
      "diff_indegree              15217 non-null float64\n",
      "diff_outdegree             15217 non-null float64\n",
      "group                      15217 non-null float64\n",
      "node_clique_number         15217 non-null int64\n",
      "load_centrality            15217 non-null float64\n",
      "number_of_cliques          15217 non-null int64\n",
      "triangles                  15217 non-null int64\n",
      "clustering                 15217 non-null float64\n",
      "dtypes: float64(21), int64(3)\n",
      "memory usage: 2.9+ MB\n"
     ]
    }
   ],
   "source": [
    "df.info()"
   ]
  },
  {
   "cell_type": "code",
   "execution_count": 16,
   "metadata": {},
   "outputs": [],
   "source": [
    "features = ['out_degree_centrality', 'in_degree_centrality','closeness_centrality', 'betweenness_centrality', 'eigenvector_centrality','harmonic_centrality',\n",
    "            'average_neighbor_degree','square_clustering','core_number','pagerank', 'hubs','authorities', 'out_degree2015', 'in_degree2015', \n",
    "            'node_clique_number','load_centrality','number_of_cliques','triangles','clustering']"
   ]
  },
  {
   "cell_type": "code",
   "execution_count": 17,
   "metadata": {
    "slideshow": {
     "slide_type": "skip"
    }
   },
   "outputs": [],
   "source": [
    "from sklearn.svm import SVC\n",
    "from sklearn.neural_network import MLPClassifier\n",
    "from sklearn.preprocessing import MinMaxScaler\n",
    "from sklearn.model_selection import train_test_split"
   ]
  },
  {
   "cell_type": "code",
   "execution_count": 18,
   "metadata": {},
   "outputs": [],
   "source": [
    "X = df[features]\n",
    "y = df['group']"
   ]
  },
  {
   "cell_type": "code",
   "execution_count": 19,
   "metadata": {},
   "outputs": [
    {
     "data": {
      "text/html": [
       "<div>\n",
       "<style scoped>\n",
       "    .dataframe tbody tr th:only-of-type {\n",
       "        vertical-align: middle;\n",
       "    }\n",
       "\n",
       "    .dataframe tbody tr th {\n",
       "        vertical-align: top;\n",
       "    }\n",
       "\n",
       "    .dataframe thead th {\n",
       "        text-align: right;\n",
       "    }\n",
       "</style>\n",
       "<table border=\"1\" class=\"dataframe\">\n",
       "  <thead>\n",
       "    <tr style=\"text-align: right;\">\n",
       "      <th></th>\n",
       "      <th>out_degree_centrality</th>\n",
       "      <th>in_degree_centrality</th>\n",
       "      <th>closeness_centrality</th>\n",
       "      <th>betweenness_centrality</th>\n",
       "      <th>eigenvector_centrality</th>\n",
       "      <th>harmonic_centrality</th>\n",
       "      <th>average_neighbor_degree</th>\n",
       "      <th>square_clustering</th>\n",
       "      <th>core_number</th>\n",
       "      <th>pagerank</th>\n",
       "      <th>hubs</th>\n",
       "      <th>authorities</th>\n",
       "      <th>out_degree2015</th>\n",
       "      <th>in_degree2015</th>\n",
       "      <th>node_clique_number</th>\n",
       "      <th>load_centrality</th>\n",
       "      <th>number_of_cliques</th>\n",
       "      <th>triangles</th>\n",
       "      <th>clustering</th>\n",
       "    </tr>\n",
       "  </thead>\n",
       "  <tbody>\n",
       "    <tr>\n",
       "      <th>out_degree_centrality</th>\n",
       "      <td>1.000000</td>\n",
       "      <td>0.470193</td>\n",
       "      <td>0.122569</td>\n",
       "      <td>0.632602</td>\n",
       "      <td>0.317430</td>\n",
       "      <td>0.131825</td>\n",
       "      <td>0.211466</td>\n",
       "      <td>0.012435</td>\n",
       "      <td>0.688883</td>\n",
       "      <td>0.320599</td>\n",
       "      <td>0.661263</td>\n",
       "      <td>0.405538</td>\n",
       "      <td>1.000000</td>\n",
       "      <td>0.470193</td>\n",
       "      <td>0.602866</td>\n",
       "      <td>0.670297</td>\n",
       "      <td>0.711285</td>\n",
       "      <td>0.676589</td>\n",
       "      <td>0.019812</td>\n",
       "    </tr>\n",
       "    <tr>\n",
       "      <th>in_degree_centrality</th>\n",
       "      <td>0.470193</td>\n",
       "      <td>1.000000</td>\n",
       "      <td>0.336613</td>\n",
       "      <td>0.704203</td>\n",
       "      <td>0.695206</td>\n",
       "      <td>0.354582</td>\n",
       "      <td>-0.005252</td>\n",
       "      <td>0.001667</td>\n",
       "      <td>0.464694</td>\n",
       "      <td>0.785807</td>\n",
       "      <td>0.148540</td>\n",
       "      <td>0.869260</td>\n",
       "      <td>0.470193</td>\n",
       "      <td>1.000000</td>\n",
       "      <td>0.429524</td>\n",
       "      <td>0.785750</td>\n",
       "      <td>0.851575</td>\n",
       "      <td>0.795874</td>\n",
       "      <td>-0.013841</td>\n",
       "    </tr>\n",
       "    <tr>\n",
       "      <th>closeness_centrality</th>\n",
       "      <td>0.122569</td>\n",
       "      <td>0.336613</td>\n",
       "      <td>1.000000</td>\n",
       "      <td>0.206194</td>\n",
       "      <td>0.411531</td>\n",
       "      <td>0.999525</td>\n",
       "      <td>-0.043840</td>\n",
       "      <td>-0.002691</td>\n",
       "      <td>0.406456</td>\n",
       "      <td>0.383140</td>\n",
       "      <td>0.047121</td>\n",
       "      <td>0.225429</td>\n",
       "      <td>0.122569</td>\n",
       "      <td>0.336613</td>\n",
       "      <td>0.362404</td>\n",
       "      <td>0.171925</td>\n",
       "      <td>0.211452</td>\n",
       "      <td>0.183326</td>\n",
       "      <td>0.108664</td>\n",
       "    </tr>\n",
       "    <tr>\n",
       "      <th>betweenness_centrality</th>\n",
       "      <td>0.632602</td>\n",
       "      <td>0.704203</td>\n",
       "      <td>0.206194</td>\n",
       "      <td>1.000000</td>\n",
       "      <td>0.513301</td>\n",
       "      <td>0.218575</td>\n",
       "      <td>0.049774</td>\n",
       "      <td>-0.000978</td>\n",
       "      <td>0.326773</td>\n",
       "      <td>0.624983</td>\n",
       "      <td>0.251788</td>\n",
       "      <td>0.541600</td>\n",
       "      <td>0.632602</td>\n",
       "      <td>0.704203</td>\n",
       "      <td>0.328942</td>\n",
       "      <td>0.878416</td>\n",
       "      <td>0.785865</td>\n",
       "      <td>0.750932</td>\n",
       "      <td>-0.017567</td>\n",
       "    </tr>\n",
       "    <tr>\n",
       "      <th>eigenvector_centrality</th>\n",
       "      <td>0.317430</td>\n",
       "      <td>0.695206</td>\n",
       "      <td>0.411531</td>\n",
       "      <td>0.513301</td>\n",
       "      <td>1.000000</td>\n",
       "      <td>0.433556</td>\n",
       "      <td>0.026731</td>\n",
       "      <td>-0.004186</td>\n",
       "      <td>0.482115</td>\n",
       "      <td>0.657513</td>\n",
       "      <td>0.111598</td>\n",
       "      <td>0.595501</td>\n",
       "      <td>0.317430</td>\n",
       "      <td>0.695206</td>\n",
       "      <td>0.487532</td>\n",
       "      <td>0.485287</td>\n",
       "      <td>0.585792</td>\n",
       "      <td>0.573923</td>\n",
       "      <td>0.073122</td>\n",
       "    </tr>\n",
       "    <tr>\n",
       "      <th>harmonic_centrality</th>\n",
       "      <td>0.131825</td>\n",
       "      <td>0.354582</td>\n",
       "      <td>0.999525</td>\n",
       "      <td>0.218575</td>\n",
       "      <td>0.433556</td>\n",
       "      <td>1.000000</td>\n",
       "      <td>-0.040848</td>\n",
       "      <td>-0.002472</td>\n",
       "      <td>0.419881</td>\n",
       "      <td>0.399388</td>\n",
       "      <td>0.050990</td>\n",
       "      <td>0.240674</td>\n",
       "      <td>0.131825</td>\n",
       "      <td>0.354582</td>\n",
       "      <td>0.375288</td>\n",
       "      <td>0.184603</td>\n",
       "      <td>0.226081</td>\n",
       "      <td>0.197132</td>\n",
       "      <td>0.109969</td>\n",
       "    </tr>\n",
       "    <tr>\n",
       "      <th>average_neighbor_degree</th>\n",
       "      <td>0.211466</td>\n",
       "      <td>-0.005252</td>\n",
       "      <td>-0.043840</td>\n",
       "      <td>0.049774</td>\n",
       "      <td>0.026731</td>\n",
       "      <td>-0.040848</td>\n",
       "      <td>1.000000</td>\n",
       "      <td>-0.011216</td>\n",
       "      <td>0.280416</td>\n",
       "      <td>-0.028358</td>\n",
       "      <td>0.338257</td>\n",
       "      <td>0.006988</td>\n",
       "      <td>0.211466</td>\n",
       "      <td>-0.005252</td>\n",
       "      <td>0.281170</td>\n",
       "      <td>0.027366</td>\n",
       "      <td>0.059301</td>\n",
       "      <td>0.064608</td>\n",
       "      <td>0.176880</td>\n",
       "    </tr>\n",
       "    <tr>\n",
       "      <th>square_clustering</th>\n",
       "      <td>0.012435</td>\n",
       "      <td>0.001667</td>\n",
       "      <td>-0.002691</td>\n",
       "      <td>-0.000978</td>\n",
       "      <td>-0.004186</td>\n",
       "      <td>-0.002472</td>\n",
       "      <td>-0.011216</td>\n",
       "      <td>1.000000</td>\n",
       "      <td>0.014304</td>\n",
       "      <td>0.002481</td>\n",
       "      <td>-0.007577</td>\n",
       "      <td>-0.001669</td>\n",
       "      <td>0.012435</td>\n",
       "      <td>0.001667</td>\n",
       "      <td>0.010606</td>\n",
       "      <td>0.006335</td>\n",
       "      <td>0.000317</td>\n",
       "      <td>-0.006149</td>\n",
       "      <td>0.015532</td>\n",
       "    </tr>\n",
       "    <tr>\n",
       "      <th>core_number</th>\n",
       "      <td>0.688883</td>\n",
       "      <td>0.464694</td>\n",
       "      <td>0.406456</td>\n",
       "      <td>0.326773</td>\n",
       "      <td>0.482115</td>\n",
       "      <td>0.419881</td>\n",
       "      <td>0.280416</td>\n",
       "      <td>0.014304</td>\n",
       "      <td>1.000000</td>\n",
       "      <td>0.398529</td>\n",
       "      <td>0.579467</td>\n",
       "      <td>0.352882</td>\n",
       "      <td>0.688883</td>\n",
       "      <td>0.464694</td>\n",
       "      <td>0.813869</td>\n",
       "      <td>0.358767</td>\n",
       "      <td>0.457406</td>\n",
       "      <td>0.398502</td>\n",
       "      <td>0.114465</td>\n",
       "    </tr>\n",
       "    <tr>\n",
       "      <th>pagerank</th>\n",
       "      <td>0.320599</td>\n",
       "      <td>0.785807</td>\n",
       "      <td>0.383140</td>\n",
       "      <td>0.624983</td>\n",
       "      <td>0.657513</td>\n",
       "      <td>0.399388</td>\n",
       "      <td>-0.028358</td>\n",
       "      <td>0.002481</td>\n",
       "      <td>0.398529</td>\n",
       "      <td>1.000000</td>\n",
       "      <td>0.080419</td>\n",
       "      <td>0.582926</td>\n",
       "      <td>0.320599</td>\n",
       "      <td>0.785807</td>\n",
       "      <td>0.376216</td>\n",
       "      <td>0.625674</td>\n",
       "      <td>0.620872</td>\n",
       "      <td>0.567725</td>\n",
       "      <td>0.006126</td>\n",
       "    </tr>\n",
       "    <tr>\n",
       "      <th>hubs</th>\n",
       "      <td>0.661263</td>\n",
       "      <td>0.148540</td>\n",
       "      <td>0.047121</td>\n",
       "      <td>0.251788</td>\n",
       "      <td>0.111598</td>\n",
       "      <td>0.050990</td>\n",
       "      <td>0.338257</td>\n",
       "      <td>-0.007577</td>\n",
       "      <td>0.579467</td>\n",
       "      <td>0.080419</td>\n",
       "      <td>1.000000</td>\n",
       "      <td>0.155464</td>\n",
       "      <td>0.661263</td>\n",
       "      <td>0.148540</td>\n",
       "      <td>0.521200</td>\n",
       "      <td>0.284447</td>\n",
       "      <td>0.360948</td>\n",
       "      <td>0.365516</td>\n",
       "      <td>0.082801</td>\n",
       "    </tr>\n",
       "    <tr>\n",
       "      <th>authorities</th>\n",
       "      <td>0.405538</td>\n",
       "      <td>0.869260</td>\n",
       "      <td>0.225429</td>\n",
       "      <td>0.541600</td>\n",
       "      <td>0.595501</td>\n",
       "      <td>0.240674</td>\n",
       "      <td>0.006988</td>\n",
       "      <td>-0.001669</td>\n",
       "      <td>0.352882</td>\n",
       "      <td>0.582926</td>\n",
       "      <td>0.155464</td>\n",
       "      <td>1.000000</td>\n",
       "      <td>0.405538</td>\n",
       "      <td>0.869260</td>\n",
       "      <td>0.337762</td>\n",
       "      <td>0.633143</td>\n",
       "      <td>0.797913</td>\n",
       "      <td>0.770123</td>\n",
       "      <td>-0.007804</td>\n",
       "    </tr>\n",
       "    <tr>\n",
       "      <th>out_degree2015</th>\n",
       "      <td>1.000000</td>\n",
       "      <td>0.470193</td>\n",
       "      <td>0.122569</td>\n",
       "      <td>0.632602</td>\n",
       "      <td>0.317430</td>\n",
       "      <td>0.131825</td>\n",
       "      <td>0.211466</td>\n",
       "      <td>0.012435</td>\n",
       "      <td>0.688883</td>\n",
       "      <td>0.320599</td>\n",
       "      <td>0.661263</td>\n",
       "      <td>0.405538</td>\n",
       "      <td>1.000000</td>\n",
       "      <td>0.470193</td>\n",
       "      <td>0.602866</td>\n",
       "      <td>0.670297</td>\n",
       "      <td>0.711285</td>\n",
       "      <td>0.676589</td>\n",
       "      <td>0.019812</td>\n",
       "    </tr>\n",
       "    <tr>\n",
       "      <th>in_degree2015</th>\n",
       "      <td>0.470193</td>\n",
       "      <td>1.000000</td>\n",
       "      <td>0.336613</td>\n",
       "      <td>0.704203</td>\n",
       "      <td>0.695206</td>\n",
       "      <td>0.354582</td>\n",
       "      <td>-0.005252</td>\n",
       "      <td>0.001667</td>\n",
       "      <td>0.464694</td>\n",
       "      <td>0.785807</td>\n",
       "      <td>0.148540</td>\n",
       "      <td>0.869260</td>\n",
       "      <td>0.470193</td>\n",
       "      <td>1.000000</td>\n",
       "      <td>0.429524</td>\n",
       "      <td>0.785750</td>\n",
       "      <td>0.851575</td>\n",
       "      <td>0.795874</td>\n",
       "      <td>-0.013841</td>\n",
       "    </tr>\n",
       "    <tr>\n",
       "      <th>node_clique_number</th>\n",
       "      <td>0.602866</td>\n",
       "      <td>0.429524</td>\n",
       "      <td>0.362404</td>\n",
       "      <td>0.328942</td>\n",
       "      <td>0.487532</td>\n",
       "      <td>0.375288</td>\n",
       "      <td>0.281170</td>\n",
       "      <td>0.010606</td>\n",
       "      <td>0.813869</td>\n",
       "      <td>0.376216</td>\n",
       "      <td>0.521200</td>\n",
       "      <td>0.337762</td>\n",
       "      <td>0.602866</td>\n",
       "      <td>0.429524</td>\n",
       "      <td>1.000000</td>\n",
       "      <td>0.335537</td>\n",
       "      <td>0.454200</td>\n",
       "      <td>0.463273</td>\n",
       "      <td>0.385635</td>\n",
       "    </tr>\n",
       "    <tr>\n",
       "      <th>load_centrality</th>\n",
       "      <td>0.670297</td>\n",
       "      <td>0.785750</td>\n",
       "      <td>0.171925</td>\n",
       "      <td>0.878416</td>\n",
       "      <td>0.485287</td>\n",
       "      <td>0.184603</td>\n",
       "      <td>0.027366</td>\n",
       "      <td>0.006335</td>\n",
       "      <td>0.358767</td>\n",
       "      <td>0.625674</td>\n",
       "      <td>0.284447</td>\n",
       "      <td>0.633143</td>\n",
       "      <td>0.670297</td>\n",
       "      <td>0.785750</td>\n",
       "      <td>0.335537</td>\n",
       "      <td>1.000000</td>\n",
       "      <td>0.820504</td>\n",
       "      <td>0.764440</td>\n",
       "      <td>-0.035363</td>\n",
       "    </tr>\n",
       "    <tr>\n",
       "      <th>number_of_cliques</th>\n",
       "      <td>0.711285</td>\n",
       "      <td>0.851575</td>\n",
       "      <td>0.211452</td>\n",
       "      <td>0.785865</td>\n",
       "      <td>0.585792</td>\n",
       "      <td>0.226081</td>\n",
       "      <td>0.059301</td>\n",
       "      <td>0.000317</td>\n",
       "      <td>0.457406</td>\n",
       "      <td>0.620872</td>\n",
       "      <td>0.360948</td>\n",
       "      <td>0.797913</td>\n",
       "      <td>0.711285</td>\n",
       "      <td>0.851575</td>\n",
       "      <td>0.454200</td>\n",
       "      <td>0.820504</td>\n",
       "      <td>1.000000</td>\n",
       "      <td>0.979541</td>\n",
       "      <td>-0.007383</td>\n",
       "    </tr>\n",
       "    <tr>\n",
       "      <th>triangles</th>\n",
       "      <td>0.676589</td>\n",
       "      <td>0.795874</td>\n",
       "      <td>0.183326</td>\n",
       "      <td>0.750932</td>\n",
       "      <td>0.573923</td>\n",
       "      <td>0.197132</td>\n",
       "      <td>0.064608</td>\n",
       "      <td>-0.006149</td>\n",
       "      <td>0.398502</td>\n",
       "      <td>0.567725</td>\n",
       "      <td>0.365516</td>\n",
       "      <td>0.770123</td>\n",
       "      <td>0.676589</td>\n",
       "      <td>0.795874</td>\n",
       "      <td>0.463273</td>\n",
       "      <td>0.764440</td>\n",
       "      <td>0.979541</td>\n",
       "      <td>1.000000</td>\n",
       "      <td>0.023218</td>\n",
       "    </tr>\n",
       "    <tr>\n",
       "      <th>clustering</th>\n",
       "      <td>0.019812</td>\n",
       "      <td>-0.013841</td>\n",
       "      <td>0.108664</td>\n",
       "      <td>-0.017567</td>\n",
       "      <td>0.073122</td>\n",
       "      <td>0.109969</td>\n",
       "      <td>0.176880</td>\n",
       "      <td>0.015532</td>\n",
       "      <td>0.114465</td>\n",
       "      <td>0.006126</td>\n",
       "      <td>0.082801</td>\n",
       "      <td>-0.007804</td>\n",
       "      <td>0.019812</td>\n",
       "      <td>-0.013841</td>\n",
       "      <td>0.385635</td>\n",
       "      <td>-0.035363</td>\n",
       "      <td>-0.007383</td>\n",
       "      <td>0.023218</td>\n",
       "      <td>1.000000</td>\n",
       "    </tr>\n",
       "  </tbody>\n",
       "</table>\n",
       "</div>"
      ],
      "text/plain": [
       "                         out_degree_centrality  in_degree_centrality  \\\n",
       "out_degree_centrality                 1.000000              0.470193   \n",
       "in_degree_centrality                  0.470193              1.000000   \n",
       "closeness_centrality                  0.122569              0.336613   \n",
       "betweenness_centrality                0.632602              0.704203   \n",
       "eigenvector_centrality                0.317430              0.695206   \n",
       "harmonic_centrality                   0.131825              0.354582   \n",
       "average_neighbor_degree               0.211466             -0.005252   \n",
       "square_clustering                     0.012435              0.001667   \n",
       "core_number                           0.688883              0.464694   \n",
       "pagerank                              0.320599              0.785807   \n",
       "hubs                                  0.661263              0.148540   \n",
       "authorities                           0.405538              0.869260   \n",
       "out_degree2015                        1.000000              0.470193   \n",
       "in_degree2015                         0.470193              1.000000   \n",
       "node_clique_number                    0.602866              0.429524   \n",
       "load_centrality                       0.670297              0.785750   \n",
       "number_of_cliques                     0.711285              0.851575   \n",
       "triangles                             0.676589              0.795874   \n",
       "clustering                            0.019812             -0.013841   \n",
       "\n",
       "                         closeness_centrality  betweenness_centrality  \\\n",
       "out_degree_centrality                0.122569                0.632602   \n",
       "in_degree_centrality                 0.336613                0.704203   \n",
       "closeness_centrality                 1.000000                0.206194   \n",
       "betweenness_centrality               0.206194                1.000000   \n",
       "eigenvector_centrality               0.411531                0.513301   \n",
       "harmonic_centrality                  0.999525                0.218575   \n",
       "average_neighbor_degree             -0.043840                0.049774   \n",
       "square_clustering                   -0.002691               -0.000978   \n",
       "core_number                          0.406456                0.326773   \n",
       "pagerank                             0.383140                0.624983   \n",
       "hubs                                 0.047121                0.251788   \n",
       "authorities                          0.225429                0.541600   \n",
       "out_degree2015                       0.122569                0.632602   \n",
       "in_degree2015                        0.336613                0.704203   \n",
       "node_clique_number                   0.362404                0.328942   \n",
       "load_centrality                      0.171925                0.878416   \n",
       "number_of_cliques                    0.211452                0.785865   \n",
       "triangles                            0.183326                0.750932   \n",
       "clustering                           0.108664               -0.017567   \n",
       "\n",
       "                         eigenvector_centrality  harmonic_centrality  \\\n",
       "out_degree_centrality                  0.317430             0.131825   \n",
       "in_degree_centrality                   0.695206             0.354582   \n",
       "closeness_centrality                   0.411531             0.999525   \n",
       "betweenness_centrality                 0.513301             0.218575   \n",
       "eigenvector_centrality                 1.000000             0.433556   \n",
       "harmonic_centrality                    0.433556             1.000000   \n",
       "average_neighbor_degree                0.026731            -0.040848   \n",
       "square_clustering                     -0.004186            -0.002472   \n",
       "core_number                            0.482115             0.419881   \n",
       "pagerank                               0.657513             0.399388   \n",
       "hubs                                   0.111598             0.050990   \n",
       "authorities                            0.595501             0.240674   \n",
       "out_degree2015                         0.317430             0.131825   \n",
       "in_degree2015                          0.695206             0.354582   \n",
       "node_clique_number                     0.487532             0.375288   \n",
       "load_centrality                        0.485287             0.184603   \n",
       "number_of_cliques                      0.585792             0.226081   \n",
       "triangles                              0.573923             0.197132   \n",
       "clustering                             0.073122             0.109969   \n",
       "\n",
       "                         average_neighbor_degree  square_clustering  \\\n",
       "out_degree_centrality                   0.211466           0.012435   \n",
       "in_degree_centrality                   -0.005252           0.001667   \n",
       "closeness_centrality                   -0.043840          -0.002691   \n",
       "betweenness_centrality                  0.049774          -0.000978   \n",
       "eigenvector_centrality                  0.026731          -0.004186   \n",
       "harmonic_centrality                    -0.040848          -0.002472   \n",
       "average_neighbor_degree                 1.000000          -0.011216   \n",
       "square_clustering                      -0.011216           1.000000   \n",
       "core_number                             0.280416           0.014304   \n",
       "pagerank                               -0.028358           0.002481   \n",
       "hubs                                    0.338257          -0.007577   \n",
       "authorities                             0.006988          -0.001669   \n",
       "out_degree2015                          0.211466           0.012435   \n",
       "in_degree2015                          -0.005252           0.001667   \n",
       "node_clique_number                      0.281170           0.010606   \n",
       "load_centrality                         0.027366           0.006335   \n",
       "number_of_cliques                       0.059301           0.000317   \n",
       "triangles                               0.064608          -0.006149   \n",
       "clustering                              0.176880           0.015532   \n",
       "\n",
       "                         core_number  pagerank      hubs  authorities  \\\n",
       "out_degree_centrality       0.688883  0.320599  0.661263     0.405538   \n",
       "in_degree_centrality        0.464694  0.785807  0.148540     0.869260   \n",
       "closeness_centrality        0.406456  0.383140  0.047121     0.225429   \n",
       "betweenness_centrality      0.326773  0.624983  0.251788     0.541600   \n",
       "eigenvector_centrality      0.482115  0.657513  0.111598     0.595501   \n",
       "harmonic_centrality         0.419881  0.399388  0.050990     0.240674   \n",
       "average_neighbor_degree     0.280416 -0.028358  0.338257     0.006988   \n",
       "square_clustering           0.014304  0.002481 -0.007577    -0.001669   \n",
       "core_number                 1.000000  0.398529  0.579467     0.352882   \n",
       "pagerank                    0.398529  1.000000  0.080419     0.582926   \n",
       "hubs                        0.579467  0.080419  1.000000     0.155464   \n",
       "authorities                 0.352882  0.582926  0.155464     1.000000   \n",
       "out_degree2015              0.688883  0.320599  0.661263     0.405538   \n",
       "in_degree2015               0.464694  0.785807  0.148540     0.869260   \n",
       "node_clique_number          0.813869  0.376216  0.521200     0.337762   \n",
       "load_centrality             0.358767  0.625674  0.284447     0.633143   \n",
       "number_of_cliques           0.457406  0.620872  0.360948     0.797913   \n",
       "triangles                   0.398502  0.567725  0.365516     0.770123   \n",
       "clustering                  0.114465  0.006126  0.082801    -0.007804   \n",
       "\n",
       "                         out_degree2015  in_degree2015  node_clique_number  \\\n",
       "out_degree_centrality          1.000000       0.470193            0.602866   \n",
       "in_degree_centrality           0.470193       1.000000            0.429524   \n",
       "closeness_centrality           0.122569       0.336613            0.362404   \n",
       "betweenness_centrality         0.632602       0.704203            0.328942   \n",
       "eigenvector_centrality         0.317430       0.695206            0.487532   \n",
       "harmonic_centrality            0.131825       0.354582            0.375288   \n",
       "average_neighbor_degree        0.211466      -0.005252            0.281170   \n",
       "square_clustering              0.012435       0.001667            0.010606   \n",
       "core_number                    0.688883       0.464694            0.813869   \n",
       "pagerank                       0.320599       0.785807            0.376216   \n",
       "hubs                           0.661263       0.148540            0.521200   \n",
       "authorities                    0.405538       0.869260            0.337762   \n",
       "out_degree2015                 1.000000       0.470193            0.602866   \n",
       "in_degree2015                  0.470193       1.000000            0.429524   \n",
       "node_clique_number             0.602866       0.429524            1.000000   \n",
       "load_centrality                0.670297       0.785750            0.335537   \n",
       "number_of_cliques              0.711285       0.851575            0.454200   \n",
       "triangles                      0.676589       0.795874            0.463273   \n",
       "clustering                     0.019812      -0.013841            0.385635   \n",
       "\n",
       "                         load_centrality  number_of_cliques  triangles  \\\n",
       "out_degree_centrality           0.670297           0.711285   0.676589   \n",
       "in_degree_centrality            0.785750           0.851575   0.795874   \n",
       "closeness_centrality            0.171925           0.211452   0.183326   \n",
       "betweenness_centrality          0.878416           0.785865   0.750932   \n",
       "eigenvector_centrality          0.485287           0.585792   0.573923   \n",
       "harmonic_centrality             0.184603           0.226081   0.197132   \n",
       "average_neighbor_degree         0.027366           0.059301   0.064608   \n",
       "square_clustering               0.006335           0.000317  -0.006149   \n",
       "core_number                     0.358767           0.457406   0.398502   \n",
       "pagerank                        0.625674           0.620872   0.567725   \n",
       "hubs                            0.284447           0.360948   0.365516   \n",
       "authorities                     0.633143           0.797913   0.770123   \n",
       "out_degree2015                  0.670297           0.711285   0.676589   \n",
       "in_degree2015                   0.785750           0.851575   0.795874   \n",
       "node_clique_number              0.335537           0.454200   0.463273   \n",
       "load_centrality                 1.000000           0.820504   0.764440   \n",
       "number_of_cliques               0.820504           1.000000   0.979541   \n",
       "triangles                       0.764440           0.979541   1.000000   \n",
       "clustering                     -0.035363          -0.007383   0.023218   \n",
       "\n",
       "                         clustering  \n",
       "out_degree_centrality      0.019812  \n",
       "in_degree_centrality      -0.013841  \n",
       "closeness_centrality       0.108664  \n",
       "betweenness_centrality    -0.017567  \n",
       "eigenvector_centrality     0.073122  \n",
       "harmonic_centrality        0.109969  \n",
       "average_neighbor_degree    0.176880  \n",
       "square_clustering          0.015532  \n",
       "core_number                0.114465  \n",
       "pagerank                   0.006126  \n",
       "hubs                       0.082801  \n",
       "authorities               -0.007804  \n",
       "out_degree2015             0.019812  \n",
       "in_degree2015             -0.013841  \n",
       "node_clique_number         0.385635  \n",
       "load_centrality           -0.035363  \n",
       "number_of_cliques         -0.007383  \n",
       "triangles                  0.023218  \n",
       "clustering                 1.000000  "
      ]
     },
     "execution_count": 19,
     "metadata": {},
     "output_type": "execute_result"
    }
   ],
   "source": [
    "X.corr()"
   ]
  },
  {
   "cell_type": "code",
   "execution_count": 20,
   "metadata": {},
   "outputs": [],
   "source": [
    "X_train, X_test, y_train, y_test = train_test_split(X, y, random_state =0)"
   ]
  },
  {
   "cell_type": "code",
   "execution_count": 21,
   "metadata": {},
   "outputs": [],
   "source": [
    "scaler = MinMaxScaler()"
   ]
  },
  {
   "cell_type": "code",
   "execution_count": 22,
   "metadata": {},
   "outputs": [],
   "source": [
    "X_train_scaled = scaler.fit_transform(X_train)"
   ]
  },
  {
   "cell_type": "code",
   "execution_count": 23,
   "metadata": {},
   "outputs": [],
   "source": [
    "X_test_scaled = scaler.transform(X_test)"
   ]
  },
  {
   "cell_type": "markdown",
   "metadata": {},
   "source": [
    "# BernoulliNB"
   ]
  },
  {
   "cell_type": "code",
   "execution_count": 67,
   "metadata": {},
   "outputs": [
    {
     "data": {
      "text/plain": [
       "0.5245729303547964"
      ]
     },
     "execution_count": 67,
     "metadata": {},
     "output_type": "execute_result"
    }
   ],
   "source": [
    "from sklearn.naive_bayes import BernoulliNB\n",
    "clf = BernoulliNB()\n",
    "clf.fit(X_train_scaled, y_train)\n",
    "pred = clf.predict(X_test_scaled )\n",
    "accuracy_score(y_test, pred)"
   ]
  },
  {
   "cell_type": "markdown",
   "metadata": {},
   "source": [
    "# KNN"
   ]
  },
  {
   "cell_type": "code",
   "execution_count": 70,
   "metadata": {},
   "outputs": [
    {
     "data": {
      "text/plain": [
       "0.5245729303547964"
      ]
     },
     "execution_count": 70,
     "metadata": {},
     "output_type": "execute_result"
    }
   ],
   "source": [
    "from sklearn.neighbors import KNeighborsClassifier\n",
    "neigh = KNeighborsClassifier(n_neighbors=3)\n",
    "neigh.fit(X_train_scaled, y_train)\n",
    "pred_knn = clf.predict(X_test_scaled )\n",
    "accuracy_score(y_test, pred_knn)"
   ]
  },
  {
   "cell_type": "markdown",
   "metadata": {},
   "source": [
    "# OvO"
   ]
  },
  {
   "cell_type": "code",
   "execution_count": 71,
   "metadata": {},
   "outputs": [
    {
     "name": "stderr",
     "output_type": "stream",
     "text": [
      "/Users/xingkong/anaconda3/lib/python3.6/site-packages/sklearn/linear_model/stochastic_gradient.py:128: FutureWarning: max_iter and tol parameters have been added in <class 'sklearn.linear_model.stochastic_gradient.SGDClassifier'> in 0.19. If both are left unset, they default to max_iter=5 and tol=None. If tol is not None, max_iter defaults to max_iter=1000. From 0.21, default max_iter will be 1000, and default tol will be 1e-3.\n",
      "  \"and default tol will be 1e-3.\" % type(self), FutureWarning)\n",
      "/Users/xingkong/anaconda3/lib/python3.6/site-packages/sklearn/linear_model/stochastic_gradient.py:128: FutureWarning: max_iter and tol parameters have been added in <class 'sklearn.linear_model.stochastic_gradient.SGDClassifier'> in 0.19. If both are left unset, they default to max_iter=5 and tol=None. If tol is not None, max_iter defaults to max_iter=1000. From 0.21, default max_iter will be 1000, and default tol will be 1e-3.\n",
      "  \"and default tol will be 1e-3.\" % type(self), FutureWarning)\n",
      "/Users/xingkong/anaconda3/lib/python3.6/site-packages/sklearn/linear_model/stochastic_gradient.py:128: FutureWarning: max_iter and tol parameters have been added in <class 'sklearn.linear_model.stochastic_gradient.SGDClassifier'> in 0.19. If both are left unset, they default to max_iter=5 and tol=None. If tol is not None, max_iter defaults to max_iter=1000. From 0.21, default max_iter will be 1000, and default tol will be 1e-3.\n",
      "  \"and default tol will be 1e-3.\" % type(self), FutureWarning)\n"
     ]
    },
    {
     "data": {
      "text/plain": [
       "0.5852825229960578"
      ]
     },
     "execution_count": 71,
     "metadata": {},
     "output_type": "execute_result"
    }
   ],
   "source": [
    "from sklearn.multiclass import OneVsOneClassifier\n",
    "ovo_clf = OneVsOneClassifier(SGDClassifier(random_state=0)) \n",
    "ovo_clf.fit(X_train_scaled, y_train)\n",
    "pred_ovo = ovo_clf.predict(X_test_scaled)\n",
    "accuracy_score(y_test, pred_ovo)"
   ]
  },
  {
   "cell_type": "markdown",
   "metadata": {},
   "source": [
    "# GDBT"
   ]
  },
  {
   "cell_type": "code",
   "execution_count": 24,
   "metadata": {},
   "outputs": [
    {
     "name": "stderr",
     "output_type": "stream",
     "text": [
      "/Users/xingkong/anaconda3/lib/python3.6/site-packages/sklearn/ensemble/weight_boosting.py:29: DeprecationWarning: numpy.core.umath_tests is an internal NumPy module and should not be imported. It will be removed in a future NumPy release.\n",
      "  from numpy.core.umath_tests import inner1d\n"
     ]
    }
   ],
   "source": [
    "from  sklearn.ensemble  import  GradientBoostingClassifier\n",
    "from sklearn.metrics import recall_score, accuracy_score"
   ]
  },
  {
   "cell_type": "code",
   "execution_count": 25,
   "metadata": {},
   "outputs": [
    {
     "data": {
      "text/plain": [
       "GradientBoostingClassifier(criterion='friedman_mse', init=None,\n",
       "              learning_rate=0.1, loss='deviance', max_depth=3,\n",
       "              max_features=None, max_leaf_nodes=None,\n",
       "              min_impurity_decrease=0.0, min_impurity_split=None,\n",
       "              min_samples_leaf=1, min_samples_split=2,\n",
       "              min_weight_fraction_leaf=0.0, n_estimators=100,\n",
       "              presort='auto', random_state=None, subsample=1.0, verbose=0,\n",
       "              warm_start=False)"
      ]
     },
     "execution_count": 25,
     "metadata": {},
     "output_type": "execute_result"
    }
   ],
   "source": [
    "model = GradientBoostingClassifier()\n",
    "model.fit(X_train_scaled, y_train)"
   ]
  },
  {
   "cell_type": "code",
   "execution_count": 26,
   "metadata": {},
   "outputs": [],
   "source": [
    "predicted_gdbt = model.predict(X_test_scaled )"
   ]
  },
  {
   "cell_type": "code",
   "execution_count": 27,
   "metadata": {},
   "outputs": [
    {
     "data": {
      "text/plain": [
       "0.6099868593955322"
      ]
     },
     "execution_count": 27,
     "metadata": {},
     "output_type": "execute_result"
    }
   ],
   "source": [
    "accuracy_score(y_test, predicted_gdbt)"
   ]
  },
  {
   "cell_type": "markdown",
   "metadata": {},
   "source": [
    "# Gradient Boosting Regressor"
   ]
  },
  {
   "cell_type": "code",
   "execution_count": 28,
   "metadata": {},
   "outputs": [],
   "source": [
    "from sklearn.ensemble import GradientBoostingRegressor\n",
    "from sklearn.metrics import mean_squared_error\n",
    "from sklearn.datasets import make_friedman1"
   ]
  },
  {
   "cell_type": "code",
   "execution_count": 29,
   "metadata": {},
   "outputs": [
    {
     "data": {
      "text/plain": [
       "GradientBoostingRegressor(alpha=0.9, criterion='friedman_mse', init=None,\n",
       "             learning_rate=0.1, loss='ls', max_depth=3, max_features=None,\n",
       "             max_leaf_nodes=None, min_impurity_decrease=0.0,\n",
       "             min_impurity_split=None, min_samples_leaf=1,\n",
       "             min_samples_split=2, min_weight_fraction_leaf=0.0,\n",
       "             n_estimators=100, presort='auto', random_state=None,\n",
       "             subsample=1.0, verbose=0, warm_start=False)"
      ]
     },
     "execution_count": 29,
     "metadata": {},
     "output_type": "execute_result"
    }
   ],
   "source": [
    "model = GradientBoostingRegressor()\n",
    "model.fit(X_train_scaled, y_train)"
   ]
  },
  {
   "cell_type": "code",
   "execution_count": 30,
   "metadata": {},
   "outputs": [],
   "source": [
    "predicted_gbr = model.predict(X_test_scaled)"
   ]
  },
  {
   "cell_type": "code",
   "execution_count": 31,
   "metadata": {},
   "outputs": [
    {
     "data": {
      "text/plain": [
       "0.44643048517928785"
      ]
     },
     "execution_count": 31,
     "metadata": {},
     "output_type": "execute_result"
    }
   ],
   "source": [
    "mean_squared_error(y_test, predicted_gbr)"
   ]
  },
  {
   "cell_type": "code",
   "execution_count": 32,
   "metadata": {},
   "outputs": [],
   "source": [
    "predicted_gbr = [int(item>0.5) for  item in predicted_gbr]"
   ]
  },
  {
   "cell_type": "code",
   "execution_count": 33,
   "metadata": {},
   "outputs": [
    {
     "data": {
      "text/plain": [
       "0.5269382391590013"
      ]
     },
     "execution_count": 33,
     "metadata": {},
     "output_type": "execute_result"
    }
   ],
   "source": [
    "accuracy_score(y_test, predicted_gbr)"
   ]
  },
  {
   "cell_type": "code",
   "execution_count": 34,
   "metadata": {},
   "outputs": [
    {
     "data": {
      "image/png": "[encoded data removed]",
      "text/plain": [
       "<Figure size 432x288 with 1 Axes>"
      ]
     },
     "metadata": {},
     "output_type": "display_data"
    }
   ],
   "source": [
    "importance = model.feature_importances_\n",
    "\n",
    "plt.figure()\n",
    "plt.bar(range(X.shape[1]), importance)\n",
    "plt.xticks(range(X.shape[1]), features, rotation = 'vertical')\n",
    "plt.xlim([-1, X.shape[1]])\n",
    "plt.show()"
   ]
  },
  {
   "cell_type": "markdown",
   "metadata": {},
   "source": [
    "# XGBoost"
   ]
  },
  {
   "cell_type": "code",
   "execution_count": 35,
   "metadata": {},
   "outputs": [
    {
     "data": {
      "text/plain": [
       "XGBClassifier(base_score=0.5, booster='gbtree', colsample_bylevel=1,\n",
       "       colsample_bytree=1, gamma=0, learning_rate=0.1, max_delta_step=0,\n",
       "       max_depth=3, min_child_weight=1, missing=None, n_estimators=100,\n",
       "       n_jobs=1, nthread=None, objective='multi:softprob', random_state=0,\n",
       "       reg_alpha=0, reg_lambda=1, scale_pos_weight=1, seed=None,\n",
       "       silent=True, subsample=1)"
      ]
     },
     "execution_count": 35,
     "metadata": {},
     "output_type": "execute_result"
    }
   ],
   "source": [
    "import xgboost as xgb\n",
    "from xgboost import XGBClassifier\n",
    "model = XGBClassifier()\n",
    "model.fit(X_train_scaled, y_train)"
   ]
  },
  {
   "cell_type": "code",
   "execution_count": 36,
   "metadata": {},
   "outputs": [
    {
     "name": "stderr",
     "output_type": "stream",
     "text": [
      "/Users/xingkong/anaconda3/lib/python3.6/site-packages/sklearn/preprocessing/label.py:151: DeprecationWarning: The truth value of an empty array is ambiguous. Returning False, but in future this will result in an error. Use `array.size > 0` to check that an array is not empty.\n",
      "  if diff:\n"
     ]
    }
   ],
   "source": [
    "predicted_xgb = model.predict(X_test_scaled )"
   ]
  },
  {
   "cell_type": "code",
   "execution_count": 37,
   "metadata": {},
   "outputs": [
    {
     "data": {
      "text/plain": [
       "0.6073587385019711"
      ]
     },
     "execution_count": 37,
     "metadata": {},
     "output_type": "execute_result"
    }
   ],
   "source": [
    "accuracy_score(y_test, predicted_xgb)"
   ]
  },
  {
   "cell_type": "code",
   "execution_count": 38,
   "metadata": {},
   "outputs": [
    {
     "data": {
      "image/png": "[encoded data removed]",
      "text/plain": [
       "<Figure size 432x288 with 1 Axes>"
      ]
     },
     "metadata": {},
     "output_type": "display_data"
    }
   ],
   "source": [
    "importance = model.feature_importances_\n",
    "\n",
    "plt.figure()\n",
    "plt.bar(range(X.shape[1]), importance)\n",
    "plt.xticks(range(X.shape[1]), features, rotation = 'vertical')\n",
    "plt.xlim([-1, X.shape[1]])\n",
    "#plt.show()\n",
    "pylab.rcParams['figure.figsize'] = (8, 6)\n",
    "pylab.savefig('feature_importances_in1.png', dpi=400, bbox_inches = 'tight')"
   ]
  },
  {
   "cell_type": "code",
   "execution_count": 39,
   "metadata": {},
   "outputs": [
    {
     "data": {
      "text/plain": [
       "0.7387647831800263"
      ]
     },
     "execution_count": 39,
     "metadata": {},
     "output_type": "execute_result"
    }
   ],
   "source": [
    "mean_squared_error(y_test, predicted_xgb)"
   ]
  },
  {
   "cell_type": "markdown",
   "metadata": {},
   "source": [
    "## MLP Classifier"
   ]
  },
  {
   "cell_type": "code",
   "execution_count": 40,
   "metadata": {},
   "outputs": [
    {
     "data": {
      "text/plain": [
       "MLPClassifier(activation='relu', alpha=0.0001, batch_size='auto', beta_1=0.9,\n",
       "       beta_2=0.999, early_stopping=False, epsilon=1e-08,\n",
       "       hidden_layer_sizes=[50, 50, 50], learning_rate='constant',\n",
       "       learning_rate_init=0.001, max_iter=200, momentum=0.9,\n",
       "       nesterovs_momentum=True, power_t=0.5, random_state=0, shuffle=True,\n",
       "       solver='sgd', tol=0.0001, validation_fraction=0.1, verbose=0,\n",
       "       warm_start=False)"
      ]
     },
     "execution_count": 40,
     "metadata": {},
     "output_type": "execute_result"
    }
   ],
   "source": [
    "clf = MLPClassifier(hidden_layer_sizes = [50,50,50], alpha=0.0001, activation='relu',\n",
    "                   random_state = 0, solver='sgd', verbose = 0)\n",
    "clf.fit(X_train_scaled, y_train)"
   ]
  },
  {
   "cell_type": "code",
   "execution_count": 41,
   "metadata": {},
   "outputs": [],
   "source": [
    "predicted = clf.predict(X_test_scaled)"
   ]
  },
  {
   "cell_type": "code",
   "execution_count": 42,
   "metadata": {},
   "outputs": [],
   "source": [
    "from sklearn.metrics import recall_score, accuracy_score"
   ]
  },
  {
   "cell_type": "code",
   "execution_count": 43,
   "metadata": {},
   "outputs": [
    {
     "data": {
      "text/plain": [
       "0.5910643889618923"
      ]
     },
     "execution_count": 43,
     "metadata": {},
     "output_type": "execute_result"
    }
   ],
   "source": [
    "accuracy_score(y_test, predicted)"
   ]
  },
  {
   "cell_type": "markdown",
   "metadata": {},
   "source": [
    "## SVM Classifier"
   ]
  },
  {
   "cell_type": "code",
   "execution_count": 44,
   "metadata": {},
   "outputs": [],
   "source": [
    "svm = SVC().fit(X_train_scaled, y_train)\n",
    "predicted_svm = svm.predict(X_test_scaled)"
   ]
  },
  {
   "cell_type": "code",
   "execution_count": 45,
   "metadata": {},
   "outputs": [
    {
     "data": {
      "text/plain": [
       "0.5876478318002628"
      ]
     },
     "execution_count": 45,
     "metadata": {},
     "output_type": "execute_result"
    }
   ],
   "source": [
    "accuracy_score(y_test, predicted_svm)"
   ]
  },
  {
   "cell_type": "markdown",
   "metadata": {},
   "source": [
    "## LogisticRegression Classifier"
   ]
  },
  {
   "cell_type": "code",
   "execution_count": 46,
   "metadata": {},
   "outputs": [],
   "source": [
    "from sklearn.linear_model import LogisticRegression"
   ]
  },
  {
   "cell_type": "code",
   "execution_count": 47,
   "metadata": {},
   "outputs": [
    {
     "data": {
      "text/plain": [
       "0.5918528252299606"
      ]
     },
     "execution_count": 47,
     "metadata": {},
     "output_type": "execute_result"
    }
   ],
   "source": [
    "log_reg = LogisticRegression().fit(X_train_scaled, y_train)\n",
    "predicted_logreg = log_reg.predict(X_test_scaled)\n",
    "accuracy_score(y_test, predicted_logreg)"
   ]
  },
  {
   "cell_type": "markdown",
   "metadata": {},
   "source": [
    "## SGD Classifier"
   ]
  },
  {
   "cell_type": "code",
   "execution_count": 48,
   "metadata": {},
   "outputs": [],
   "source": [
    "from sklearn.linear_model import SGDClassifier"
   ]
  },
  {
   "cell_type": "code",
   "execution_count": 49,
   "metadata": {},
   "outputs": [
    {
     "name": "stderr",
     "output_type": "stream",
     "text": [
      "/Users/xingkong/anaconda3/lib/python3.6/site-packages/sklearn/linear_model/stochastic_gradient.py:128: FutureWarning: max_iter and tol parameters have been added in <class 'sklearn.linear_model.stochastic_gradient.SGDClassifier'> in 0.19. If both are left unset, they default to max_iter=5 and tol=None. If tol is not None, max_iter defaults to max_iter=1000. From 0.21, default max_iter will be 1000, and default tol will be 1e-3.\n",
      "  \"and default tol will be 1e-3.\" % type(self), FutureWarning)\n"
     ]
    },
    {
     "data": {
      "text/plain": [
       "0.5708278580814717"
      ]
     },
     "execution_count": 49,
     "metadata": {},
     "output_type": "execute_result"
    }
   ],
   "source": [
    "sgd_clf = SGDClassifier(penalty='l1').fit(X_train_scaled, y_train)\n",
    "predicted_sgd = sgd_clf.predict(X_test_scaled)\n",
    "accuracy_score(y_test, predicted_sgd)"
   ]
  },
  {
   "cell_type": "markdown",
   "metadata": {},
   "source": [
    "## DecisionTree Classifier"
   ]
  },
  {
   "cell_type": "code",
   "execution_count": 50,
   "metadata": {},
   "outputs": [],
   "source": [
    "from sklearn.tree import DecisionTreeClassifier"
   ]
  },
  {
   "cell_type": "code",
   "execution_count": 51,
   "metadata": {},
   "outputs": [
    {
     "data": {
      "text/plain": [
       "0.5908015768725361"
      ]
     },
     "execution_count": 51,
     "metadata": {},
     "output_type": "execute_result"
    }
   ],
   "source": [
    "tree_clf = DecisionTreeClassifier(max_depth=2)\n",
    "tree_clf.fit(X_train_scaled, y_train)\n",
    "predicted_tree = tree_clf.predict(X_test_scaled)\n",
    "accuracy_score(y_test, predicted_tree)"
   ]
  },
  {
   "cell_type": "code",
   "execution_count": 52,
   "metadata": {},
   "outputs": [
    {
     "data": {
      "text/plain": [
       "array([0., 1., 2.])"
      ]
     },
     "execution_count": 52,
     "metadata": {},
     "output_type": "execute_result"
    }
   ],
   "source": [
    "tree_clf.classes_"
   ]
  },
  {
   "cell_type": "code",
   "execution_count": 53,
   "metadata": {},
   "outputs": [],
   "source": [
    "from sklearn.model_selection import cross_val_score\n",
    "scores = cross_val_score(tree_clf,X_train_scaled, y_train,\n",
    "                        scoring = \"accuracy\", cv = 10)"
   ]
  },
  {
   "cell_type": "code",
   "execution_count": 54,
   "metadata": {},
   "outputs": [
    {
     "name": "stdout",
     "output_type": "stream",
     "text": [
      "[0.56605424 0.57142857 0.58369851 0.60035057 0.58106924 0.57318142\n",
      " 0.58194566 0.56967572 0.5687993  0.57318142]\n",
      "0.5769384655138966\n",
      "0.009654064373723114\n"
     ]
    }
   ],
   "source": [
    "print(scores)\n",
    "print(scores.mean())\n",
    "print(scores.std())"
   ]
  },
  {
   "cell_type": "code",
   "execution_count": 55,
   "metadata": {},
   "outputs": [
    {
     "data": {
      "text/plain": [
       "array([[   0,  359,  304],\n",
       "       [   0, 1883,  121],\n",
       "       [   0,  773,  365]])"
      ]
     },
     "execution_count": 55,
     "metadata": {},
     "output_type": "execute_result"
    }
   ],
   "source": [
    "from sklearn.metrics import confusion_matrix\n",
    "confusion_matrix(y_test, predicted_tree)"
   ]
  },
  {
   "cell_type": "code",
   "execution_count": 56,
   "metadata": {},
   "outputs": [],
   "source": [
    "from sklearn.tree import export_graphviz\n",
    "from sklearn import tree"
   ]
  },
  {
   "cell_type": "code",
   "execution_count": 57,
   "metadata": {},
   "outputs": [],
   "source": [
    "from IPython.display import Image  "
   ]
  },
  {
   "cell_type": "code",
   "execution_count": 58,
   "metadata": {},
   "outputs": [],
   "source": [
    "import graphviz\n",
    "import pydotplus"
   ]
  },
  {
   "cell_type": "code",
   "execution_count": 59,
   "metadata": {},
   "outputs": [
    {
     "data": {
      "image/svg+xml": [
       "<?xml version=\"1.0\" encoding=\"UTF-8\" standalone=\"no\"?>\n",
       "<!DOCTYPE svg PUBLIC \"-//W3C//DTD SVG 1.1//EN\"\n",
       " \"http://www.w3.org/Graphics/SVG/1.1/DTD/svg11.dtd\">\n",
       "<!-- Generated by graphviz version 2.40.1 (20161225.0304)\n",
       " -->\n",
       "<!-- Title: Tree Pages: 1 -->\n",
       "<svg width=\"734pt\" height=\"269pt\"\n",
       " viewBox=\"0.00 0.00 734.00 269.00\" xmlns=\"http://www.w3.org/2000/svg\" xmlns:xlink=\"http://www.w3.org/1999/xlink\">\n",
       "<g id=\"graph0\" class=\"graph\" transform=\"scale(1 1) rotate(0) translate(4 265)\">\n",
       "<title>Tree</title>\n",
       "<polygon fill=\"#ffffff\" stroke=\"transparent\" points=\"-4,4 -4,-265 730,-265 730,4 -4,4\"/>\n",
       "<!-- 0 -->\n",
       "<g id=\"node1\" class=\"node\">\n",
       "<title>0</title>\n",
       "<path fill=\"#39e581\" fill-opacity=\"0.282353\" stroke=\"#000000\" d=\"M434,-261C434,-261 275,-261 275,-261 269,-261 263,-255 263,-249 263,-249 263,-205 263,-205 263,-199 269,-193 275,-193 275,-193 434,-193 434,-193 440,-193 446,-199 446,-205 446,-205 446,-249 446,-249 446,-255 440,-261 434,-261\"/>\n",
       "<text text-anchor=\"start\" x=\"278\" y=\"-245.8\" font-family=\"Helvetica,sans-Serif\" font-size=\"14.00\" fill=\"#000000\">out_degree2015 ≤ 0.005</text>\n",
       "<text text-anchor=\"start\" x=\"318\" y=\"-230.8\" font-family=\"Helvetica,sans-Serif\" font-size=\"14.00\" fill=\"#000000\">gini = 0.612</text>\n",
       "<text text-anchor=\"start\" x=\"300.5\" y=\"-215.8\" font-family=\"Helvetica,sans-Serif\" font-size=\"14.00\" fill=\"#000000\">samples = 11412</text>\n",
       "<text text-anchor=\"start\" x=\"271\" y=\"-200.8\" font-family=\"Helvetica,sans-Serif\" font-size=\"14.00\" fill=\"#000000\">value = [2051, 5790, 3571]</text>\n",
       "</g>\n",
       "<!-- 1 -->\n",
       "<g id=\"node2\" class=\"node\">\n",
       "<title>1</title>\n",
       "<path fill=\"#39e581\" fill-opacity=\"0.654902\" stroke=\"#000000\" d=\"M336.5,-157C336.5,-157 162.5,-157 162.5,-157 156.5,-157 150.5,-151 150.5,-145 150.5,-145 150.5,-101 150.5,-101 150.5,-95 156.5,-89 162.5,-89 162.5,-89 336.5,-89 336.5,-89 342.5,-89 348.5,-95 348.5,-101 348.5,-101 348.5,-145 348.5,-145 348.5,-151 342.5,-157 336.5,-157\"/>\n",
       "<text text-anchor=\"start\" x=\"158.5\" y=\"-141.8\" font-family=\"Helvetica,sans-Serif\" font-size=\"14.00\" fill=\"#000000\">betweenness_centrality ≤ 0.0</text>\n",
       "<text text-anchor=\"start\" x=\"213\" y=\"-126.8\" font-family=\"Helvetica,sans-Serif\" font-size=\"14.00\" fill=\"#000000\">gini = 0.413</text>\n",
       "<text text-anchor=\"start\" x=\"199.5\" y=\"-111.8\" font-family=\"Helvetica,sans-Serif\" font-size=\"14.00\" fill=\"#000000\">samples = 5824</text>\n",
       "<text text-anchor=\"start\" x=\"170\" y=\"-96.8\" font-family=\"Helvetica,sans-Serif\" font-size=\"14.00\" fill=\"#000000\">value = [263, 4261, 1300]</text>\n",
       "</g>\n",
       "<!-- 0&#45;&gt;1 -->\n",
       "<g id=\"edge1\" class=\"edge\">\n",
       "<title>0&#45;&gt;1</title>\n",
       "<path fill=\"none\" stroke=\"#000000\" d=\"M320.1191,-192.9465C310.8729,-183.7884 300.7721,-173.7838 291.1757,-164.2788\"/>\n",
       "<polygon fill=\"#000000\" stroke=\"#000000\" points=\"293.526,-161.6805 283.9582,-157.13 288.6,-166.6539 293.526,-161.6805\"/>\n",
       "<text text-anchor=\"middle\" x=\"284.0778\" y=\"-178.4297\" font-family=\"Helvetica,sans-Serif\" font-size=\"14.00\" fill=\"#000000\">True</text>\n",
       "</g>\n",
       "<!-- 4 -->\n",
       "<g id=\"node5\" class=\"node\">\n",
       "<title>4</title>\n",
       "<path fill=\"#8139e5\" fill-opacity=\"0.125490\" stroke=\"#000000\" d=\"M540,-157C540,-157 379,-157 379,-157 373,-157 367,-151 367,-145 367,-145 367,-101 367,-101 367,-95 373,-89 379,-89 379,-89 540,-89 540,-89 546,-89 552,-95 552,-101 552,-101 552,-145 552,-145 552,-151 546,-157 540,-157\"/>\n",
       "<text text-anchor=\"start\" x=\"375\" y=\"-141.8\" font-family=\"Helvetica,sans-Serif\" font-size=\"14.00\" fill=\"#000000\">number_of_cliques ≤ 0.006</text>\n",
       "<text text-anchor=\"start\" x=\"423\" y=\"-126.8\" font-family=\"Helvetica,sans-Serif\" font-size=\"14.00\" fill=\"#000000\">gini = 0.658</text>\n",
       "<text text-anchor=\"start\" x=\"409.5\" y=\"-111.8\" font-family=\"Helvetica,sans-Serif\" font-size=\"14.00\" fill=\"#000000\">samples = 5588</text>\n",
       "<text text-anchor=\"start\" x=\"376\" y=\"-96.8\" font-family=\"Helvetica,sans-Serif\" font-size=\"14.00\" fill=\"#000000\">value = [1788, 1529, 2271]</text>\n",
       "</g>\n",
       "<!-- 0&#45;&gt;4 -->\n",
       "<g id=\"edge4\" class=\"edge\">\n",
       "<title>0&#45;&gt;4</title>\n",
       "<path fill=\"none\" stroke=\"#000000\" d=\"M388.8809,-192.9465C398.1271,-183.7884 408.2279,-173.7838 417.8243,-164.2788\"/>\n",
       "<polygon fill=\"#000000\" stroke=\"#000000\" points=\"420.4,-166.6539 425.0418,-157.13 415.474,-161.6805 420.4,-166.6539\"/>\n",
       "<text text-anchor=\"middle\" x=\"424.9222\" y=\"-178.4297\" font-family=\"Helvetica,sans-Serif\" font-size=\"14.00\" fill=\"#000000\">False</text>\n",
       "</g>\n",
       "<!-- 2 -->\n",
       "<g id=\"node3\" class=\"node\">\n",
       "<title>2</title>\n",
       "<path fill=\"#39e581\" fill-opacity=\"0.713725\" stroke=\"#000000\" d=\"M147,-53C147,-53 12,-53 12,-53 6,-53 0,-47 0,-41 0,-41 0,-12 0,-12 0,-6 6,0 12,0 12,0 147,0 147,0 153,0 159,-6 159,-12 159,-12 159,-41 159,-41 159,-47 153,-53 147,-53\"/>\n",
       "<text text-anchor=\"start\" x=\"47\" y=\"-37.8\" font-family=\"Helvetica,sans-Serif\" font-size=\"14.00\" fill=\"#000000\">gini = 0.36</text>\n",
       "<text text-anchor=\"start\" x=\"29.5\" y=\"-22.8\" font-family=\"Helvetica,sans-Serif\" font-size=\"14.00\" fill=\"#000000\">samples = 4770</text>\n",
       "<text text-anchor=\"start\" x=\"8\" y=\"-7.8\" font-family=\"Helvetica,sans-Serif\" font-size=\"14.00\" fill=\"#000000\">value = [95, 3685, 990]</text>\n",
       "</g>\n",
       "<!-- 1&#45;&gt;2 -->\n",
       "<g id=\"edge2\" class=\"edge\">\n",
       "<title>1&#45;&gt;2</title>\n",
       "<path fill=\"none\" stroke=\"#000000\" d=\"M189.5644,-88.9777C171.8997,-78.9504 152.6489,-68.0228 135.2579,-58.1508\"/>\n",
       "<polygon fill=\"#000000\" stroke=\"#000000\" points=\"136.7757,-54.9879 126.3513,-53.095 133.3201,-61.0755 136.7757,-54.9879\"/>\n",
       "</g>\n",
       "<!-- 3 -->\n",
       "<g id=\"node4\" class=\"node\">\n",
       "<title>3</title>\n",
       "<path fill=\"#39e581\" fill-opacity=\"0.356863\" stroke=\"#000000\" d=\"M324,-53C324,-53 189,-53 189,-53 183,-53 177,-47 177,-41 177,-41 177,-12 177,-12 177,-6 183,0 189,0 189,0 324,0 324,0 330,0 336,-6 336,-12 336,-12 336,-41 336,-41 336,-47 330,-53 324,-53\"/>\n",
       "<text text-anchor=\"start\" x=\"220\" y=\"-37.8\" font-family=\"Helvetica,sans-Serif\" font-size=\"14.00\" fill=\"#000000\">gini = 0.589</text>\n",
       "<text text-anchor=\"start\" x=\"206.5\" y=\"-22.8\" font-family=\"Helvetica,sans-Serif\" font-size=\"14.00\" fill=\"#000000\">samples = 1054</text>\n",
       "<text text-anchor=\"start\" x=\"185\" y=\"-7.8\" font-family=\"Helvetica,sans-Serif\" font-size=\"14.00\" fill=\"#000000\">value = [168, 576, 310]</text>\n",
       "</g>\n",
       "<!-- 1&#45;&gt;3 -->\n",
       "<g id=\"edge3\" class=\"edge\">\n",
       "<title>1&#45;&gt;3</title>\n",
       "<path fill=\"none\" stroke=\"#000000\" d=\"M251.9679,-88.9777C252.5724,-80.6449 253.222,-71.6903 253.8352,-63.2364\"/>\n",
       "<polygon fill=\"#000000\" stroke=\"#000000\" points=\"257.3269,-63.4755 254.5597,-53.2485 250.3453,-62.969 257.3269,-63.4755\"/>\n",
       "</g>\n",
       "<!-- 5 -->\n",
       "<g id=\"node6\" class=\"node\">\n",
       "<title>5</title>\n",
       "<path fill=\"#39e581\" fill-opacity=\"0.027451\" stroke=\"#000000\" d=\"M529,-53C529,-53 378,-53 378,-53 372,-53 366,-47 366,-41 366,-41 366,-12 366,-12 366,-6 372,0 378,0 378,0 529,0 529,0 535,0 541,-6 541,-12 541,-12 541,-41 541,-41 541,-47 535,-53 529,-53\"/>\n",
       "<text text-anchor=\"start\" x=\"417\" y=\"-37.8\" font-family=\"Helvetica,sans-Serif\" font-size=\"14.00\" fill=\"#000000\">gini = 0.663</text>\n",
       "<text text-anchor=\"start\" x=\"403.5\" y=\"-22.8\" font-family=\"Helvetica,sans-Serif\" font-size=\"14.00\" fill=\"#000000\">samples = 3246</text>\n",
       "<text text-anchor=\"start\" x=\"374\" y=\"-7.8\" font-family=\"Helvetica,sans-Serif\" font-size=\"14.00\" fill=\"#000000\">value = [926, 1190, 1130]</text>\n",
       "</g>\n",
       "<!-- 4&#45;&gt;5 -->\n",
       "<g id=\"edge5\" class=\"edge\">\n",
       "<title>4&#45;&gt;5</title>\n",
       "<path fill=\"none\" stroke=\"#000000\" d=\"M457.3846,-88.9777C456.8665,-80.6449 456.3098,-71.6903 455.7841,-63.2364\"/>\n",
       "<polygon fill=\"#000000\" stroke=\"#000000\" points=\"459.277,-63.012 455.1631,-53.2485 452.2905,-63.4464 459.277,-63.012\"/>\n",
       "</g>\n",
       "<!-- 6 -->\n",
       "<g id=\"node7\" class=\"node\">\n",
       "<title>6</title>\n",
       "<path fill=\"#8139e5\" fill-opacity=\"0.188235\" stroke=\"#000000\" d=\"M714,-53C714,-53 571,-53 571,-53 565,-53 559,-47 559,-41 559,-41 559,-12 559,-12 559,-6 565,0 571,0 571,0 714,0 714,0 720,0 726,-6 726,-12 726,-12 726,-41 726,-41 726,-47 720,-53 714,-53\"/>\n",
       "<text text-anchor=\"start\" x=\"606\" y=\"-37.8\" font-family=\"Helvetica,sans-Serif\" font-size=\"14.00\" fill=\"#000000\">gini = 0.606</text>\n",
       "<text text-anchor=\"start\" x=\"592.5\" y=\"-22.8\" font-family=\"Helvetica,sans-Serif\" font-size=\"14.00\" fill=\"#000000\">samples = 2342</text>\n",
       "<text text-anchor=\"start\" x=\"567\" y=\"-7.8\" font-family=\"Helvetica,sans-Serif\" font-size=\"14.00\" fill=\"#000000\">value = [862, 339, 1141]</text>\n",
       "</g>\n",
       "<!-- 4&#45;&gt;6 -->\n",
       "<g id=\"edge6\" class=\"edge\">\n",
       "<title>4&#45;&gt;6</title>\n",
       "<path fill=\"none\" stroke=\"#000000\" d=\"M524.019,-88.9777C543.2089,-78.8584 564.1377,-67.8222 582.993,-57.8794\"/>\n",
       "<polygon fill=\"#000000\" stroke=\"#000000\" points=\"584.853,-60.8554 592.0659,-53.095 581.5878,-54.6636 584.853,-60.8554\"/>\n",
       "</g>\n",
       "</g>\n",
       "</svg>\n"
      ],
      "text/plain": [
       "<graphviz.files.Source at 0x1a1be80860>"
      ]
     },
     "execution_count": 59,
     "metadata": {},
     "output_type": "execute_result"
    }
   ],
   "source": [
    "dot_data = tree.export_graphviz(tree_clf, out_file=None, feature_names=features,filled=True, rounded=True,special_characters=True) \n",
    "graph = graphviz.Source(dot_data) \n",
    "graph"
   ]
  },
  {
   "cell_type": "code",
   "execution_count": 60,
   "metadata": {},
   "outputs": [],
   "source": [
    "# graph = pydotplus.graph_from_dot_data(dot_data)  \n",
    "# img = Image(graph.create_png())  \n",
    "# graph.write_png(\"out.png\")  "
   ]
  },
  {
   "cell_type": "markdown",
   "metadata": {},
   "source": [
    "## RandomForest Classifier"
   ]
  },
  {
   "cell_type": "code",
   "execution_count": 61,
   "metadata": {},
   "outputs": [],
   "source": [
    "from sklearn.ensemble import RandomForestClassifier"
   ]
  },
  {
   "cell_type": "code",
   "execution_count": 62,
   "metadata": {},
   "outputs": [
    {
     "data": {
      "text/plain": [
       "GridSearchCV(cv=5, error_score='raise',\n",
       "       estimator=RandomForestClassifier(bootstrap=True, class_weight=None, criterion='gini',\n",
       "            max_depth=None, max_features='auto', max_leaf_nodes=None,\n",
       "            min_impurity_decrease=0.0, min_impurity_split=None,\n",
       "            min_samples_leaf=1, min_samples_split=2,\n",
       "            min_weight_fraction_leaf=0.0, n_estimators=10, n_jobs=1,\n",
       "            oob_score=False, random_state=None, verbose=0,\n",
       "            warm_start=False),\n",
       "       fit_params=None, iid=True, n_jobs=1,\n",
       "       param_grid=[{'max_features': [2, 4, 6, 8]}],\n",
       "       pre_dispatch='2*n_jobs', refit=True, return_train_score='warn',\n",
       "       scoring='accuracy', verbose=0)"
      ]
     },
     "execution_count": 62,
     "metadata": {},
     "output_type": "execute_result"
    }
   ],
   "source": [
    "from sklearn.model_selection import GridSearchCV\n",
    "from sklearn.ensemble import RandomForestClassifier\n",
    "param_grid = [\n",
    "    {'max_features':[2,4,6,8]}\n",
    "]\n",
    "\n",
    "classifer = RandomForestClassifier()\n",
    "grid_search = GridSearchCV(classifer, param_grid, cv = 5,\n",
    "                          scoring = 'accuracy')\n",
    "grid_search.fit(X_train_scaled, y_train)"
   ]
  },
  {
   "cell_type": "code",
   "execution_count": 63,
   "metadata": {},
   "outputs": [
    {
     "data": {
      "text/plain": [
       "RandomForestClassifier(bootstrap=True, class_weight=None, criterion='gini',\n",
       "            max_depth=None, max_features=4, max_leaf_nodes=None,\n",
       "            min_impurity_decrease=0.0, min_impurity_split=None,\n",
       "            min_samples_leaf=1, min_samples_split=2,\n",
       "            min_weight_fraction_leaf=0.0, n_estimators=10, n_jobs=1,\n",
       "            oob_score=False, random_state=None, verbose=0,\n",
       "            warm_start=False)"
      ]
     },
     "execution_count": 63,
     "metadata": {},
     "output_type": "execute_result"
    }
   ],
   "source": [
    "grid_search.best_estimator_"
   ]
  },
  {
   "cell_type": "code",
   "execution_count": 64,
   "metadata": {},
   "outputs": [],
   "source": [
    "clf_forest = RandomForestClassifier(max_depth=None, max_features= 4, random_state=0)"
   ]
  },
  {
   "cell_type": "code",
   "execution_count": 65,
   "metadata": {},
   "outputs": [
    {
     "data": {
      "text/plain": [
       "RandomForestClassifier(bootstrap=True, class_weight=None, criterion='gini',\n",
       "            max_depth=None, max_features=4, max_leaf_nodes=None,\n",
       "            min_impurity_decrease=0.0, min_impurity_split=None,\n",
       "            min_samples_leaf=1, min_samples_split=2,\n",
       "            min_weight_fraction_leaf=0.0, n_estimators=10, n_jobs=1,\n",
       "            oob_score=False, random_state=0, verbose=0, warm_start=False)"
      ]
     },
     "execution_count": 65,
     "metadata": {},
     "output_type": "execute_result"
    }
   ],
   "source": [
    "clf_forest.fit(X_train_scaled, y_train)"
   ]
  },
  {
   "cell_type": "code",
   "execution_count": 66,
   "metadata": {},
   "outputs": [
    {
     "data": {
      "text/plain": [
       "0.5550591327201051"
      ]
     },
     "execution_count": 66,
     "metadata": {},
     "output_type": "execute_result"
    }
   ],
   "source": [
    "predicted_forest = clf_forest.predict(X_test_scaled)\n",
    "accuracy_score(y_test, predicted_forest)"
   ]
  },
  {
   "cell_type": "code",
   "execution_count": 106,
   "metadata": {},
   "outputs": [],
   "source": [
    "from sklearn.metrics import roc_curve"
   ]
  },
  {
   "cell_type": "code",
   "execution_count": 107,
   "metadata": {},
   "outputs": [],
   "source": [
    "#fpr, tpr, thresholds = roc_curve(y_test, predicted_tree)"
   ]
  },
  {
   "cell_type": "code",
   "execution_count": 108,
   "metadata": {},
   "outputs": [],
   "source": [
    "# fpr, tpr, thresholds = roc_curve(y_test, predicted_forest)\n",
    "# def plot_roc_curve(fpr,tpr, label=None):\n",
    "#     plt.plot(fpr,tpr,linewidth=2, label=label)\n",
    "#     plt.plot([0,1],[0,1], 'k--')\n",
    "#     plt.axis([0,1,0,1])\n",
    "#     plt.xlabel('False Positive Rate')\n",
    "#     plt.ylabel('True Positive Rate')\n",
    "# plot_roc_curve(fpr,tpr)\n",
    "# pylab.rcParams['figure.figsize'] = (8, 8)\n",
    "# pylab.savefig('Roc_dt.png', dpi=400, bbox_inches = 'tight')"
   ]
  },
  {
   "cell_type": "code",
   "execution_count": null,
   "metadata": {},
   "outputs": [],
   "source": []
  }
 ],
 "metadata": {
  "kernelspec": {
   "display_name": "Python 3",
   "language": "python",
   "name": "python3"
  },
  "language_info": {
   "codemirror_mode": {
    "name": "ipython",
    "version": 3
   },
   "file_extension": ".py",
   "mimetype": "text/x-python",
   "name": "python",
   "nbconvert_exporter": "python",
   "pygments_lexer": "ipython3",
   "version": "3.6.6"
  }
 },
 "nbformat": 4,
 "nbformat_minor": 2
}
